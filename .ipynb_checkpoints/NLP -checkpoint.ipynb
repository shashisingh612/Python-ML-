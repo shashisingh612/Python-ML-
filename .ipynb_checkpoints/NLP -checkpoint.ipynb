{
 "cells": [
  {
   "cell_type": "code",
   "execution_count": 1,
   "metadata": {},
   "outputs": [],
   "source": [
    "import pandas as pd\n",
    "import os\n",
    "from nltk.corpus import stopwords\n",
    "import nltk\n",
    "#nltk.download()\n",
    "import math"
   ]
  },
  {
   "cell_type": "code",
   "execution_count": 2,
   "metadata": {},
   "outputs": [
    {
     "name": "stdout",
     "output_type": "stream",
     "text": [
      "2044 Processed 1 week credit. Customer demanded a credit.\r\n",
      "Your Billing Request in the amount of $15.52 CR has been submitted for processing and will appear on next bill. The reference number for this adjustment is 16655818.\n"
     ]
    }
   ],
   "source": [
    "data = pd.read_excel('C:\\\\Users\\\\ac36345\\\\Desktop\\\\DATA\\\\Adjustments.xls')\n",
    "a = list(data.ADDITIONAL_NOTES.unique()) # 2044\n",
    "print(len(a),a[0])"
   ]
  },
  {
   "cell_type": "code",
   "execution_count": 3,
   "metadata": {},
   "outputs": [
    {
     "name": "stdout",
     "output_type": "stream",
     "text": [
      "3951 3288\n",
      "33581 3655\n",
      "no of tagged words 3655\n"
     ]
    }
   ],
   "source": [
    "#Split the comments into sentences and keep unique sentences\n",
    "z=[]\n",
    "w=[]\n",
    "for i in a:\n",
    "    z.extend(i.split('.'))\n",
    "for i in z:\n",
    "    if i not in w:\n",
    "        w.append(i)\n",
    "print(len(z),len(w))\n",
    "\n",
    "# keep unique words with pos tag\n",
    "d=[]\n",
    "unique_words=[]\n",
    "for i in range(len(w)):\n",
    "    nltk_tokens = nltk.word_tokenize(w[i])\n",
    "    d.extend(nltk_tokens)\n",
    "for i in d:\n",
    "    if i.isalpha():\n",
    "        i = i.lower()\n",
    "    if i not in unique_words:\n",
    "        unique_words.append(i)\n",
    "print(len(d),len(unique_words))\n",
    "tagged = nltk.pos_tag(unique_words)\n",
    "print('no of tagged words',len(tagged))"
   ]
  },
  {
   "cell_type": "code",
   "execution_count": null,
   "metadata": {},
   "outputs": [
    {
     "data": {
      "text/plain": [
       "dict_keys(['VBN', 'CD', 'NN', 'VBD', 'DT', 'PRP$', 'IN', '$', 'VBZ', 'CC', 'MD', 'VB', 'JJ', 'NNS', 'RB', 'RP', 'NNP', '(', ')', 'TO', 'VBP', 'VBG', 'PRP', 'RBS', ',', 'WRB', 'FW', ':', \"''\", 'WP', '#', 'POS', 'JJR', 'SYM', '.', 'WDT', 'RBR', 'JJS', '``', 'PDT'])"
      ]
     },
     "execution_count": 4,
     "metadata": {},
     "output_type": "execute_result"
    }
   ],
   "source": [
    "#collect words into a dic based on its type\n",
    "dic = dict()\n",
    "for i in range(len(tagged)):\n",
    "    if tagged[i][1] in dic:\n",
    "        dic[tagged[i][1]].append(tagged[i][0])\n",
    "    else:\n",
    "        dic.update({(tagged[i][1]): [tagged[i][0]]})\n",
    "dic.keys()"
   ]
  },
  {
   "cell_type": "code",
   "execution_count": null,
   "metadata": {},
   "outputs": [
    {
     "name": "stdout",
     "output_type": "stream",
     "text": [
      "['%', '/DES', '04-15-19', '04-26', '05-18', 'aa77032', 'aa86014', 'aabt', 'aacct', 'ab36631', 'ab49626', 'ab71586']\n",
      "['ab98804', 'abdelfatah', 'abl95427', 'abount', 'ac37969', 'ac42741', 'accident', 'accnt', 'acct', 'ach', 'acknowlede', 'acoutla']\n",
      "['acredit', 'act', 'activation', 'actvtn', 'adam', 'addess', 'addition', 'addl', 'address', 'address***', 'addrss', 'adj']\n",
      "['adjd', 'adjst', 'adjstd', 'adjust', 'adjustement', 'adjustment', 'adjustmnet', 'adjustmnt', 'adstj', 'adv', 'advance', 'advcs']\n",
      "['aease', 'affect', 'agen', 'agrd', 'agreement', 'ajd', 'ajst', 'ajstment', 'alan', 'alarm', 'alice', 'alw']\n",
      "['alyce', 'amanda', 'amnt', 'amount', 'amt', 'angel', 'angelo', 'annette', 'anything', 'apartment', 'appease', 'appeasement']\n",
      "['appointment', 'approval', 'apprvd', 'appt', 'apr', 'aprvd', 'apt', 'area', 'ariela', 'arlene', 'arrgment', 'art']\n",
      "['ashlee', 'asker', 'ass', 'assist', 'assistace', 'assistance', 'assistant', 'atone', 'atpy', 'att', 'attempt', 'authorization']\n",
      "['auto', 'avail', 'availability', 'avoid', 'b/c', 'backdate', 'backe', 'backf', 'bailey', 'bak', 'bal', 'balance']\n",
      "['banck', 'bank', 'barsten', 'bc', 'bck', 'bcse', 'bec', 'becasue', 'ben', 'benajamin', 'ber', 'bergman']\n",
      "['bieng', 'bil', 'bill', 'bill/', 'billed/', 'billie', 'billing', 'bit', 'biz', 'bk', 'blatt', 'blk']\n",
      "['bll', 'blld', 'blldte', 'bllng', 'blng', 'bob', 'body', 'borysiewicz', 'box', 'br', 'brand', 'brandenburg']\n",
      "['break', 'brenda', 'brendan', 'bridgette', 'broadband', 'brooke', 'brophy', 'brown', 'bsw', 'btw', 'budget', 'bulk']\n",
      "['bundle', 'bury', 'business', 'button', 'bxelli2', 'c+', 'c05751469', 'c06720004', 'c1100z', 'c1420569019202390100760330030554576', 'c3000', 'c\\\\b']\n",
      "['caalvr', 'cab', 'cabfail', 'cable', 'calc', 'calculation', 'caleb', 'call', 'callback', 'calle', 'caller', 'calvin']\n",
      "['canc', 'cancelation', 'cancellation', 'caprice', 'car', 'card', 'care', 'cart', 'case', 'cassie', 'catch', 'catching']\n",
      "['caughie', 'cause', 'cbb', 'ccg', 'cci', 'ccpo', 'cd', 'cell', 'cent', 'century', 'centurylink', 'cf']\n",
      "['cfs', 'chagre', 'change', 'charg4ed', 'charge', 'chargeback', 'chargegback', 'check', 'cheryl', 'chk', 'chng', 'chrg***']\n",
      "['chrge', 'chrgs', 'christine', 'ci', 'cicanty', 'ciourtesy', 'ciud', 'cl', 'claim', 'cld', 'cleared-Internet', 'clerical']\n",
      "['client', 'clld', 'closer', 'clymer', 'cmc', 'cmplnt', 'cncld', 'cncvncefee', 'cnfmd', 'cnfrsn', 'cnv', 'cnvce']\n",
      "['cnvcefee', 'cnvnce', 'co', 'coach', 'cobbley', 'code', 'colen', 'comfrm', 'commit-Internet', 'commitment', 'company', 'compare']\n",
      "['compensate', 'complaint', 'complaint**', 'completel', 'compnay', 'computer', 'con', 'concession', 'conf', 'confirm', 'confirmation', 'confuse']\n",
      "['conn', 'connection', 'connie', 'consent', 'consideration', 'contact', 'contract', 'contractor', 'conv', 'conven', 'convenience', 'conversion']\n",
      "['convience', 'convin', 'convince', 'convnc', 'copeland', 'cor', 'cord', 'core', 'corey', 'corporation', 'cost', 'costumer']\n",
      "['couertesy', 'couple', 'couretsy', 'coursety', 'courtesy', 'courtesyv', 'courtney', 'courtsy', 'cousrsey', 'coutesy', 'cox', 'cp']\n",
      "['cr', 'cr4edit', 'craig', 'crdit', 'crdt', 'crdtd', 'crdts', 'create', 'credir', 'credit', 'credit44', 'credt']\n",
      "['credtiing', 'cril017', 'cris', 'crt', 'cst', 'cstmr', 'cstr', 'ctl', 'ctsy', 'cu', 'cuid', 'cuistomer']\n",
      "['currentl', 'curtesy', 'curticy', 'curtosy', 'curtsey', 'curtsy', 'cusomr', 'cusomter', 'cust', 'cust/', 'custmer', 'custmrs']\n",
      "['custoemr', 'custom', 'customer', 'cut', 'cuz', 'cvr', 'cx', 'cycle', 'cylce', 'd', 'd/t', 'd03772237']\n",
      "['d10036', 'd1s', 'd2m', 'da', 'dak', 'damaris', 'date', 'dath', 'daughter', 'david', 'day', 'days/']\n",
      "['dba', 'dd', 'ddnt', 'deal', 'debit', 'debra', 'dec', 'december', 'decide', 'deduct', 'delay', 'delcia']\n",
      "['deliver', 'delivery', 'dennis', 'deny', 'deposit', 'dfee', 'diagnose', 'dial', 'diana', 'diane', 'diditn', 'diff']\n",
      "['difference', 'differnce', 'diffrence', 'dimitri', 'din', 'dint', 'dinto', 'dipsute', 'dipuste', 'directory', 'directv', 'dis']\n",
      "['disclosd', 'disco', 'discoed', 'disconect', 'disconnect', 'discount', 'discrep', 'discrepancy', 'disp', 'dispatch-Phone', 'dispute', 'disputing']\n",
      "['distance', 'dn', 'docs', 'dollar', 'dont', 'dosent', 'downtime', 'drop', 'dsate', 'dscvr', 'dsend', 'dsl']\n",
      "['dslam', 'dsltg', 'dt', 'dtv', 'du', 'duew', 'duplicate', 'dupt', 'ease', 'educate', 'elaine', 'ellensbur']\n",
      "['ellensburg', 'elq', 'email', 'emergency', 'emqnt', 'end', 'endpt', 'engineer', 'enroll', 'epp', 'equipment', 'err']\n",
      "['error', 'escalation', 'estab', 'estate', 'estimate', 'etf', 'evalyn', 'event', 'everything', 'ewe', 'exception', 'expectation']\n",
      "['experience', 'explain', 'explanation', 'explnd', 'f', 'fact', 'failer', 'failure', 'family', 'fault', 'faye', 'fb']\n",
      "['fcr', 'fe', 'fear', 'feature', 'februray', 'fee', 'fee=', 'feee', 'feel', 'fiber', 'fif', 'figure']\n",
      "['file', 'finl', 'fire', 'fix', 'flup', 'fo', 'fohb003', 'ford', 'forget', 'fosl252', 'frame', 'fraud']\n",
      "['frm', 'fthr', 'fwrd', 'gabe', 'garcia', 'gbps', 'ge', 'genie', 'george', 'gesture', 'gfrom', 'gibson']\n",
      "['gift', 'gig', 'givin', 'givng', 'goowdiwll', 'grandfather', 'grant', 'ground', 'gt', 'guy', 'h', 'hahne']\n",
      "['half', 'hany', 'hasnt', 'hav', 'hd', 'health', 'hector', 'heddy', 'heller', 'history', 'hit', 'hlp']\n",
      "['hm', 'home', 'honor', 'hospital', 'house', 'howison', 'hs', 'hsiesc', 'hsptl', 'hst', 'hstry', 'hthe']\n",
      "['huycke', 'hv', 'i', 'id', 'im', 'impression', 'inaccurate', 'inc', 'incase', 'incentive', 'income', 'incoming']\n",
      "['inconvenience', 'incorreclty', 'increase', 'incrs', 'info', 'inform', 'information', 'instalink', 'install', 'installation', 'instance', 'instll']\n",
      "['instrad', 'instruct', 'insurance', 'int', 'integrity', 'interruption', 'intl', 'inv', 'investagtion', 'investigatg', 'investigation', 'invoice']\n",
      "['invonvenience', 'iossd', 'ip', 'iput', 'issd', 'issud', 'issue', 'issuign', 'issung', 'issus', 'istall', 'isu']\n",
      "['ivr', 'j', 'jack', 'jackson', 'jaclyn', 'jaime', 'jamie', 'jan', 'janet', 'janice', 'javoy', 'jc']\n",
      "['jck', 'jeffery', 'jenni', 'jennifer', 'jensen', 'jeremy', 'jerry', 'jesse', 'jessica', 'joann', 'job', 'joe']\n",
      "['john', 'jolene', 'jon', 'joseph', 'josh', 'joy', 'joyce', 'juan', 'julianna', 'jump', 'june', 'k']\n",
      "['kandi', 'kenneth', 'knew', 'kpg', 'ks', 'lack', 'landline', 'larry', 'laste', 'latasha', 'laura', 'lauren']\n",
      "['lbs', 'ld', 'leasseng', 'lee', 'lena', 'length', 'let', 'letter', 'lf', 'lideal', 'life', 'limbo']\n",
      "['line', 'link', 'lisa', 'load', 'location', 'lock', 'log', 'longevity', 'lonmgtime', 'lot', 'loyalty', 'lpcs']\n",
      "['lpf', 'lte', 'lynch', 'm', 'mail', 'mailing', 'maintenance', 'maintence', 'maloney', 'mar', 'march', 'mark']\n",
      "['marla', 'marshall', 'marvin', 'master', 'match', 'matt', 'mature', 'maximum', 'maya', 'mb', 'mcferon', 'md']\n",
      "['mde', 'mdm', 'me/', 'meeting', 'mel', 'melissa', 'member', 'menge', 'mess', 'message', 'method', 'mg']\n",
      "['michael', 'miguel', 'miller', 'min', 'minute', 'mishap', 'misinform', 'misinformation', 'mismatch', 'mistake', 'mn', 'mo']\n",
      "['mobil', 'mode', 'model', 'modem//', 'modem/wifi', 'mom', 'money', 'monh', 'month', 'mother', 'motorcycle', 'move']\n",
      "['movie', 'mr', 'mtm', 'mtn', 'mult', 'mv', 'name', 'nancy', 'negotiate', 'nobody', 'nohd', 'noise']\n",
      "['noland', 'none', 'note', 'nothing', 'notice', 'notification', 'nov', 'november', 'npu', 'num', 'number', 'nvr']\n",
      "['nw', 'office', 'offr', 'ogar', 'okay', 'olathe', 'onetime', 'onlne', 'onm', 'ont', 'oone', 'option']\n",
      "['oput', 'ord', 'order', 'orig', 'os', 'oscar', 'outage', 'overage', 'overpaid', 'overpayment', 'owd', 'owner']\n",
      "['p', 'p4life', 'package', 'padilla', 'paper', 'part', 'past', 'pat', 'patricia', 'paul', 'pay', 'payment']\n",
      "['paymnet', 'pbi', 'pd', 'period', 'permission', 'perry', 'peyment', 'pf', 'pgoqt', 'ph', 'phn', 'phone']\n",
      "['pic', 'pif', 'pkg', 'place', 'plan', 'plcd', 'pleaswe', 'plenty', 'plnnd', 'plz', 'pm', 'pmnt']\n",
      "['pmt', 'pmts', 'po', 'policy', 'poll', 'port', 'portd', 'portion', 'post', 'power', 'ppouser', 'ppr']\n",
      "['pprlss', 'pr', 'pratt', 'prco', 'prcsd', 'prepaid', 'prev', 'price', 'print', 'prism', 'prjct', 'prmsd']\n",
      "['problem', 'probs', 'proc', 'proceed', 'process', 'processing', 'profile', 'promise', 'promo', 'promos', 'promotion', 'proper']\n",
      "['proration', 'protection', 'prove', 'provider', 'prv', 'pst', 'pub', 'puc', 'pul', 'pull', 'purchse', 'purtchase']\n",
      "['py', 'pymn', 'pymt', 'qbat', 'qc', 'question', 'quimpo', 'qulm006', 'quotd', 'quote', 'r', 'rack']\n",
      "['raechel', 'raquel', 'rate', 'rcf', 'rcmac', 'rcv', 'rcvd', 'rcvg', 'reactivate', 'rease', 'reason', 'rec']\n",
      "['recd', 'receipt', 'recertify', 'recieve', 'recognize', 'reconnect', 'record', 'recovery', 'recv', 'recvd', 'ref', 'reference']\n",
      "['refund', 'refuse', 'reiview', 'rejct', 'rejection', 'release', 'relocation', 'removal', 'renee', 'renewal', 'rep', 'report']\n",
      "['reporting', 'reprt', 'req', 'reqst', 'request', 'reschdle', 'research', 'resolution', 'resolvd', 'resolve', 'resp', 'respns']\n",
      "['responsibility', 'rest', 'restore', 'restr', 'ret', 'retain', 'retention', 'retntn', 'retrn', 'retrnd', 'reverse', 'review']\n",
      "['reviewes', 'rewird', 'rfnd', 'rhonda', 'rick', 'rie', 'rkc', 'rma', 'rmv', 'rmve', 'robert', 'roberta']\n",
      "['robin', 'rocio', 'roger', 'roll', 'ronald', 'rp', 'rplcd', 'rpr', 'rq', 'rstl', 'rstr', 'rstrl']\n",
      "['rtck', 'rtng', 'rtrn', 'ruben', 'rude', 'ruiz', 'rvcd', 'rvw', 'rvwd', 'saeng', 'sale', 'salesforce']\n",
      "['salesperson', 'salon', 'samora', 'sandra', 'satellite', 'satis', 'satisfaction', 'satisfaction-Phone', 'satsfy', 'saundra', 'save', 'saw']\n",
      "['schedule', 'schow', 'screen', 'sd', 'se', 'secure', 'see', 'sender', 'sergio', 'serrv', 'serv', 'servc']\n",
      "['serve', 'servic', 'service', 'setup', 'severin', 'shanna', 'shaw', 'shesaid', 'shipment', 'shipp', 'shirley', 'shw']\n",
      "['side', 'sign', 'signing', 'sirokman', 'site', 'situation', 'snail', 'snp', 'snpd', 'solution', 'somehow', 'someone']\n",
      "['son', 'sooner', 'soonest', 'sophia', 'sp', 'spcl', 'spd', 'specify', 'spk', 'spot', 'spouse', 'sps']\n",
      "['sro', 'srvc', 'ssn', 'st', 'standing', 'staple', 'start', 'state', 'statement', 'status', 'staus', 'stephen']\n",
      "['steve', 'stmts', 'stop', 'store', 'stouffer', 'stpd', 'stream', 'strout', 'sub', 'submit', 'sum', 'suply']\n",
      "['support', 'susan', 'suspension', 'suspention', 'sutmr', 'svcs', 'switch', 'sync', 'sys', 'syst', 'system', 't']\n",
      "['talk', 'tammy', 'tania', 'tap', 'task', 'tax', 'tckt', 'teD50078', 'techs', 'teet', 'tenure', 'term']\n",
      "['terrence', 'terry', 'thelp', 'thing', 'thn', 'thos', 'threat', 'threw', 'throw', 'thru', 'ti', 'ticket']\n",
      "['ticket/dispatch', 'tiffany', 'till', 'tim', 'time', 'tld', 'tm', 'tn', 'today', 'tom', 'tomorrow', 'tone']\n",
      "['tool', 'tot', 'total', 'totoal', 'town', 'tpv', 'track', 'tracker', 'traffic', 'transfer', 'trbl', 'trbl/error']\n",
      "['treat', 'trf', 'trk', 'trm', 'trmt', 'trouble', 'tru', 'truck', 'try', 'ts', 'tsc', 'tsi']\n",
      "['tt', 'tv', 'type', 'unaware', 'understood', 'union', 'untill', 'usage', 'usd', 'vaca', 'vacation', 'vacay']\n",
      "['valerie', 'value', 'vanesa', 'vee', 'ver', 'verf', 'verieid', 'verify', 'vfee', 'view', 'vikas', 'visit']\n",
      "['voice', 'voicemail', 'vrfy', 'vru', 'vtlmx', 'w/ivr', 'w/tax', 'w/the', 'w/vru', 'w\\\\', 'waice', 'wait']\n",
      "['waived/', 'waiving', 'want', 'ware', 'warranty', 'wasnt', 'watch', 'water', 'wavd', 'waved/', 'way', 'week']\n",
      "['week/', 'weekend', 'weel', 'weg', 'weight', 'whn', 'wife', 'wili', 'winback', 'winn', 'winston', 'wire']\n",
      "['wireless', 'wit', 'wk', 'wl', 'wll', 'word', 'work', 'working/5', 'wouldn', 'wouldnt', 'wr', 'wrng']\n",
      "['ws', 'wsnt', 'wthru', 'wvd', 'wve', 'y', 'year', 'yestday', 'yr', 'yrs', 'zero', 'zyxel']\n",
      "['\\u200bINTERNET']\n",
      "****end of this key*******\n",
      "['ab94124', 'accumulated', 'acr', 'acumulated', 'added', 'advsd', 'advsed', 'allocated', 'anticipated', 'apologized', 'applid', 'applied']\n",
      "['approved', 'arrived', 'asap', 'asked', 'assessed', 'asst', 'assured', 'automated', 'axbanda', 'bbb', 'billied', 'boiled']\n",
      "['bonded', 'bought', 'calculated', 'cald', 'called', 'came', 'canceled', 'cancelled', 'chagred', 'changed', 'chanrged', 'checked']\n",
      "['chged', 'chrg', 'claimed', 'closed', 'comp', 'complained', 'confirmed', 'confused', 'consulted', 'continued', 'converted', 'covn']\n",
      "['crammed', 'crd', 'created', 'cred', 'credit/approved', 'credited', 'creditted', 'crossed', 'csr', 'curt', 'cust/removed', 'd13430']\n",
      "['decided', 'declined', 'delivered', 'demanded', 'denied', 'dialed', 'did', 'died', 'divided', 'divorced', 'downed', 'dropped']\n",
      "['educated', 'eft', 'encountered', 'ended', 'enered', 'enrolled', 'entered', 'errored', 'escalated', 'experienced', 'expired', 'extended']\n",
      "['facilited', 'failed', 'feb', 'fell', 'felt', 'filed', 'forced', 'forgot', 'fosl', 'found', 'francis', 'frustrated']\n",
      "['gave', 'gc', 'generated', 'got', 'gotten', 'graded', 'granted', 'hacked', 'had', 'happen', 'happened', 'harold']\n",
      "['helped', 'hoa', 'included', 'increased', 'indicated', 'irated', 'issued', 'keed', 'kept', 'kgb', 'kirk', 'led']\n",
      "['left', 'lied', 'lined', 'lived', 'locked', 'looked', 'lost', 'lowered', 'lpc', 'lt', 'made', 'mailed']\n",
      "['matched', 'mendizabal', 'mesfin', 'met', 'mis', 'misbilled', 'misquoted', 'missed', 'modemn', 'moth', 'moved', 'neglected']\n",
      "['occurred', 'ordered', 'outed', 'passed', 'pay/transferred', 'pfl', 'placed', 'plugged', 'ported', 'postapaid', 'posted', 'postpaid']\n",
      "['printed', 'promised', 'promissed', 'prorated', 'provided', 'psssed', 'pulled', 'put', 'quoted', 'ralkowski', 'ran', 'receeived']\n",
      "['received', 'recharged', 'recieved', 'recvied', 'referred', 'refunded', 'refurbished', 'refused', 'regraded', 'regulated', 'remov', 'removed']\n",
      "['repeated', 'replaced', 'reported', 'requested', 'rescheduled', 'reset', 'resolution/customer', 'resolved', 'restored', 'retrned', 'returned', 'returnmed']\n",
      "['rev', 'rewired', 'rolled', 'rose', 'rprd', 'rqstd', 'rusty', 'said', 'salazar', 'saved', 'sched', 'scheduled']\n",
      "['searched', 'sent', 'sept', 'sfc', 'shipped', 'shld', 'showed', 'shut', 'singed', 'situated', 'sm', 'span']\n",
      "['speed', 'split', 'srvs', 'sta', 'started', 'stayed', 'stopped', 'supposed', 'susp', 'suspended', 'sweitzer', 'switched']\n",
      "['tacked', 'taked', 'talked', 'thad', 'thnak', 'thought', 'threatened', 'threshold', 'tht', 'thursday', 'told', 'took']\n",
      "['tracked', 'transmitted', 'transposed', 'triggered', 'trired', 'ttl', 'turned', 'unenrolled', 'updated', 'updted', 'upgraded', 'upset']\n",
      "['urchased', 'verified', 'wa', 'waied', 'waited', 'waived', 'wanted', 'was', 'wavied', 'wcb', 'went', 'were']\n",
      "['whiched', 'wks', 'wnted', 'worked', 'wou', 'wrote', 'wv', 'xplned', '\\u200e5/\\u200e21/\\u200e2019']\n",
      "****end of this key*******\n",
      "##########################END of DIC####################################################\n"
     ]
    }
   ],
   "source": [
    "s = ['VNB','NN','VBD']\n",
    "for i in dic.keys():\n",
    "    if i in s:\n",
    "        dic[i].sort()\n",
    "        length = len(dic[i])\n",
    "        for j in range(math.ceil(length/12)):\n",
    "            k = (j+1)*12\n",
    "            if k <= length:\n",
    "                print(dic[i][j*12:k])\n",
    "            else:\n",
    "                print(dic[i][j*12: ])\n",
    "        print('****end of this key*******')\n",
    "print('##########################END of DIC####################################################')\n",
    "    "
   ]
  },
  {
   "cell_type": "code",
   "execution_count": null,
   "metadata": {},
   "outputs": [],
   "source": [
    "#word embedding\n",
    "from gensim.models import Word2Vec\n",
    "from sklearn.decomposition import PCA\n",
    "from matplotlib import pyplot\n",
    "pyplot.rcParams.update({'font.size': 230})"
   ]
  },
  {
   "cell_type": "code",
   "execution_count": null,
   "metadata": {},
   "outputs": [
    {
     "name": "stderr",
     "output_type": "stream",
     "text": [
      "C:\\Users\\ac36345\\AppData\\Local\\Continuum\\anaconda3\\lib\\site-packages\\gensim\\models\\base_any2vec.py:743: UserWarning: C extension not loaded, training will be slow. Install a C compiler and reinstall gensim for fast training.\n",
      "  \"C extension not loaded, training will be slow. \"\n"
     ]
    }
   ],
   "source": [
    "#PLOT DATA FOR EACH KEY ONE BY ONE\n",
    "# define training data\n",
    "sentences = [dic['NN']]\n",
    "# train model\n",
    "model = Word2Vec(sentences,size=3,min_count=1,window=3,sg=1)\n",
    "# fit a 2d PCA model to the vectors\n",
    "X = model[model.wv.vocab]\n",
    "pca = PCA(n_components=2)\n",
    "result = pca.fit_transform(X)\n",
    "# create a scatter plot of the projection\n",
    "fig=pyplot.figure(figsize=(700,300))\n",
    "pyplot.scatter(result[:, 0], result[:, 1])\n",
    "words = list(model.wv.vocab)\n",
    "for i, word in enumerate(words):\n",
    "    pyplot.annotate(word, xy=(result[i, 0], result[i, 1]))\n",
    "pyplot.show()"
   ]
  },
  {
   "cell_type": "code",
   "execution_count": null,
   "metadata": {},
   "outputs": [],
   "source": []
  },
  {
   "cell_type": "code",
   "execution_count": null,
   "metadata": {},
   "outputs": [],
   "source": []
  }
 ],
 "metadata": {
  "kernelspec": {
   "display_name": "Python 3",
   "language": "python",
   "name": "python3"
  },
  "language_info": {
   "codemirror_mode": {
    "name": "ipython",
    "version": 3
   },
   "file_extension": ".py",
   "mimetype": "text/x-python",
   "name": "python",
   "nbconvert_exporter": "python",
   "pygments_lexer": "ipython3",
   "version": "3.7.3"
  }
 },
 "nbformat": 4,
 "nbformat_minor": 2
}
