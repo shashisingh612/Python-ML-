{
 "cells": [
  {
   "cell_type": "code",
   "execution_count": 52,
   "id": "5f6693cd-8451-44e4-a184-6e1c9542d955",
   "metadata": {},
   "outputs": [
    {
     "name": "stdout",
     "output_type": "stream",
     "text": [
      "50th percentile (median): 55.0\n",
      "25th percentile: 32.5\n",
      "75th percentile: 77.5\n"
     ]
    }
   ],
   "source": [
    "def calculate_percentile(data, percentile):\n",
    "    \"\"\"\n",
    "    Calculate the specified percentile of a given data set.\n",
    "    \n",
    "    Args:\n",
    "    - data: List of numeric data points.\n",
    "    - percentile: The percentile value to calculate (e.g., 25 for the 25th percentile).\n",
    "    \n",
    "    Returns:\n",
    "    - The calculated percentile value.\n",
    "    \"\"\"\n",
    "    data_sorted = sorted(data)\n",
    "    n = len(data_sorted)\n",
    "    index = (percentile / 100) * (n - 1)  # Calculate the index for the percentile\n",
    "    \n",
    "    if index.is_integer():  # If the index is an integer, return the corresponding value\n",
    "        return data_sorted[int(index)]\n",
    "    else:  # If the index is not an integer, interpolate between the two closest values\n",
    "        lower_index = int(index)\n",
    "        upper_index = lower_index + 1\n",
    "        lower_value = data_sorted[lower_index]\n",
    "        upper_value = data_sorted[upper_index]\n",
    "        fraction = index - lower_index\n",
    "        return (1 - fraction) * lower_value + fraction * upper_value\n",
    "\n",
    "# Sample data\n",
    "data = [10, 20, 30, 40, 50, 60, 70, 80, 90, 100]\n",
    "\n",
    "# Calculate the 50th percentile (median)\n",
    "percentile_50 = calculate_percentile(data, 50)\n",
    "print(f\"50th percentile (median): {percentile_50}\")\n",
    "\n",
    "# Calculate the 25th percentile\n",
    "percentile_25 = calculate_percentile(data, 25)\n",
    "print(f\"25th percentile: {percentile_25}\")\n",
    "\n",
    "# Calculate the 75th percentile\n",
    "percentile_75 = calculate_percentile(data, 75)\n",
    "print(f\"75th percentile: {percentile_75}\")"
   ]
  },
  {
   "cell_type": "code",
   "execution_count": null,
   "id": "d01459a5-59b4-4493-8a9e-1ad31d699498",
   "metadata": {},
   "outputs": [],
   "source": []
  }
 ],
 "metadata": {
  "kernelspec": {
   "display_name": "Python 3 (ipykernel)",
   "language": "python",
   "name": "python3"
  },
  "language_info": {
   "codemirror_mode": {
    "name": "ipython",
    "version": 3
   },
   "file_extension": ".py",
   "mimetype": "text/x-python",
   "name": "python",
   "nbconvert_exporter": "python",
   "pygments_lexer": "ipython3",
   "version": "3.11.7"
  }
 },
 "nbformat": 4,
 "nbformat_minor": 5
}
