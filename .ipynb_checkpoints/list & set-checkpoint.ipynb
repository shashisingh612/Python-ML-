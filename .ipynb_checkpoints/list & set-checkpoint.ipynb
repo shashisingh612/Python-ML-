{
 "cells": [
  {
   "cell_type": "code",
   "execution_count": 1,
   "metadata": {},
   "outputs": [],
   "source": [
    "#properties of list::--[:] is a different list(easily maskes diff list)\n",
    "#list is ordered,addtion allowed, *,in and not in operator works,starides allowed"
   ]
  },
  {
   "cell_type": "code",
   "execution_count": 2,
   "metadata": {},
   "outputs": [
    {
     "name": "stdout",
     "output_type": "stream",
     "text": [
      "0 1\n",
      "1 2\n",
      "2 3\n",
      "3 4\n",
      "4 15\n"
     ]
    }
   ],
   "source": [
    "a=[1,2,3,4,15]\n",
    "for i,j in enumerate(a):\n",
    "    print(i,j)"
   ]
  },
  {
   "cell_type": "code",
   "execution_count": 3,
   "metadata": {},
   "outputs": [
    {
     "name": "stdout",
     "output_type": "stream",
     "text": [
      "2012342071680 2012342071232\n",
      "2012342072512 2012342067648\n",
      "[11, 12, 13, 14, 15, 16, 5, 6, 7, 8, 5, 6, 7, 8] $$$ [11, 13, 15] %%% [11, 12, 13, 14, 15, 16, 5, 6, 7, 8, 11, 12, 13, 14, 15, 16, 5, 6, 7, 8]\n"
     ]
    }
   ],
   "source": [
    "a =[11,12,13,14,15,16]\n",
    "b=[5,6,7,8]\n",
    "#addition,staride supported '-' not supported\n",
    "print(id(a),id(b))\n",
    "a=a+b\n",
    "print(id(a),id(a+b))\n",
    "print(a+b,\"$$$\",a[0:5:2],\"%%%\",a*2)"
   ]
  },
  {
   "cell_type": "code",
   "execution_count": 4,
   "metadata": {},
   "outputs": [
    {
     "name": "stdout",
     "output_type": "stream",
     "text": [
      "[1, 2, 3, 'a', 's', 'd']\n",
      "[1, 2, 3, 'a', 's', 'd', [11, 12, 13], 14, 15, 16]\n",
      "[1, 2, 3, 3.14159, 'a', 's', 'd', [11, 12, 13], 14, 15, 16]\n"
     ]
    }
   ],
   "source": [
    "#if we concate string in a list::list can concate only list \n",
    "c=[1,2,3]\n",
    "c += 'asd'\n",
    "print(c)\n",
    "c.append([11,12,13]) #----add only 1 element at a time\n",
    "c.extend([14,15,16])#--- add more than onle element\n",
    "print(c)\n",
    "c.insert(3, 3.14159)\n",
    "print(c)"
   ]
  },
  {
   "cell_type": "code",
   "execution_count": 4,
   "metadata": {},
   "outputs": [
    {
     "name": "stdout",
     "output_type": "stream",
     "text": [
      "asdf [1, 2, 3, 4]\n",
      "True False\n",
      "2869818467752 2869818467752 2869818377544 2869816814728\n"
     ]
    }
   ],
   "source": [
    "#s[:] is a referance of same string whereas a[:] is a different list\n",
    "s='asdf'\n",
    "l=[1,2,3,4]\n",
    "print(s[:],l[:])\n",
    "print(s[:]is s , l[:]is l) ---is operator matches both id and location\n",
    "print(id(s),id(s[:]),id(l),id(l[:]))"
   ]
  },
  {
   "cell_type": "code",
   "execution_count": 7,
   "metadata": {},
   "outputs": [
    {
     "name": "stdout",
     "output_type": "stream",
     "text": [
      "a False False True\n"
     ]
    }
   ],
   "source": [
    "#nested list\n",
    "#An individual element in a sublist does not count as an element of the parent list\n",
    "l=[1,2,[3,4,[\"a\",\"b\"],5],6,[7,8],9]\n",
    "print(l[2][2][0], 'a' in l , 'a' in l[2] , 'a' in l[2][2]) "
   ]
  },
  {
   "cell_type": "code",
   "execution_count": 9,
   "metadata": {},
   "outputs": [
    {
     "name": "stdout",
     "output_type": "stream",
     "text": [
      "[1, 2, 5, 6, 7]\n",
      "[1, 2, 5, 6]\n"
     ]
    },
    {
     "data": {
      "text/plain": [
       "0"
      ]
     },
     "execution_count": 9,
     "metadata": {},
     "output_type": "execute_result"
    }
   ],
   "source": [
    "#del l(2) and l.pop(index) method for removing element\n",
    "#a.remove(<obj>)\n",
    "#The number of elements inserted need not be \n",
    "#equal to the number replaced. Python just grows or shrinks the list as needed\n",
    "l=[1,2,3,4,5,6,7]\n",
    "del l[2:4]\n",
    "print(l)\n",
    "l.pop()\n",
    "print(l)\n",
    "l.index(1)"
   ]
  },
  {
   "cell_type": "code",
   "execution_count": 10,
   "metadata": {},
   "outputs": [
    {
     "name": "stdout",
     "output_type": "stream",
     "text": [
      "2869818467752\n"
     ]
    },
    {
     "data": {
      "text/plain": [
       "2869818543720"
      ]
     },
     "execution_count": 10,
     "metadata": {},
     "output_type": "execute_result"
    }
   ],
   "source": [
    "#string object does not support item assignment\n",
    "a='asdf'\n",
    "print(id(a))\n",
    "a='asd'\n",
    "id(a)"
   ]
  },
  {
   "cell_type": "code",
   "execution_count": 1,
   "metadata": {},
   "outputs": [
    {
     "data": {
      "text/plain": [
       "('er', 'qw')"
      ]
     },
     "execution_count": 1,
     "metadata": {},
     "output_type": "execute_result"
    }
   ],
   "source": [
    "#tuple (identical to list except immutable)\n",
    "#swapping possible\n",
    "a=\"qw\"\n",
    "b=\"er\"\n",
    "a, b = b, a\n",
    "a,b"
   ]
  },
  {
   "cell_type": "code",
   "execution_count": 10,
   "metadata": {},
   "outputs": [
    {
     "name": "stdout",
     "output_type": "stream",
     "text": [
      "[2, 4, 6, 8]\n"
     ]
    },
    {
     "data": {
      "text/plain": [
       "[False, True, False, True, False, True, False, True]"
      ]
     },
     "execution_count": 10,
     "metadata": {},
     "output_type": "execute_result"
    }
   ],
   "source": [
    "a=[1,2,3,4,5,6,7,8]\n",
    "#[i for i in a if i%2==0]  #method 1\n",
    "print(list(filter(lambda x:x%2==0,a))) #method 2\n",
    "list(map(lambda x:x%2==0,a))"
   ]
  },
  {
   "cell_type": "code",
   "execution_count": 2,
   "metadata": {},
   "outputs": [
    {
     "name": "stdout",
     "output_type": "stream",
     "text": [
      "[1, 2, 3, 4, 5, 6, 7, 8, 9] [1, 2, 3, 4, 5, 6, 7, 8, 9]\n"
     ]
    }
   ],
   "source": [
    "a=[3,2,1,6,5,7,4,9,8]\n",
    "a.sort() #sort happended in a\n",
    "print(a,sorted(a)) # sorted return a list"
   ]
  },
  {
   "cell_type": "code",
   "execution_count": 15,
   "metadata": {},
   "outputs": [
    {
     "name": "stdout",
     "output_type": "stream",
     "text": [
      "[10, 13, 16] * [[1, 4, 5], [2, 5, 6], [3, 6, 7]]\n"
     ]
    }
   ],
   "source": [
    "#zip can be possible for more than two list\n",
    "a=[1,2,3]\n",
    "b=[4,5,6]\n",
    "c=[5,6,7]\n",
    "d=[x+y+z for x,y,z in zip(a,b,c)]\n",
    "e=[[x,y,z] for x,y,z in zip(a,b,c)]\n",
    "print(d,'*',e)"
   ]
  },
  {
   "cell_type": "code",
   "execution_count": 19,
   "metadata": {},
   "outputs": [
    {
     "data": {
      "text/plain": [
       "6"
      ]
     },
     "execution_count": 19,
     "metadata": {},
     "output_type": "execute_result"
    }
   ],
   "source": [
    "#sum of element of list\n",
    "a=[1,2,3]\n",
    "b=sum(x for x in a)\n",
    "b\n",
    "#sum(a)"
   ]
  },
  {
   "cell_type": "code",
   "execution_count": 2,
   "metadata": {},
   "outputs": [
    {
     "name": "stdout",
     "output_type": "stream",
     "text": [
      "[1, 2, 3, 5] [15] 17 {1, 2, 3, 5}\n"
     ]
    },
    {
     "data": {
      "text/plain": [
       "{4}"
      ]
     },
     "execution_count": 2,
     "metadata": {},
     "output_type": "execute_result"
    }
   ],
   "source": [
    "#common element\n",
    "a=[1,2,3,4,5]\n",
    "b=[1,2,3,5,6]\n",
    "c=[x for x in b if x in a] # method1\n",
    "e=set(a).intersection(set(b)) #method 2\n",
    "d=[sum(x for x in a)]\n",
    "print(c,d,sum(b),e)\n",
    "#uncommon element\n",
    "set(a)-set(b)"
   ]
  },
  {
   "cell_type": "code",
   "execution_count": 3,
   "metadata": {},
   "outputs": [
    {
     "name": "stdout",
     "output_type": "stream",
     "text": [
      "520 ns ± 81.6 ns per loop (mean ± std. dev. of 7 runs, 1000000 loops each)\n"
     ]
    }
   ],
   "source": [
    "%%timeit\n",
    "c=[x for x in b if x in a] # method1"
   ]
  },
  {
   "cell_type": "code",
   "execution_count": 21,
   "metadata": {},
   "outputs": [],
   "source": [
    "a=set([1,2,3,4,5])\n",
    "b=set([1,2,3])"
   ]
  },
  {
   "cell_type": "code",
   "execution_count": 23,
   "metadata": {},
   "outputs": [
    {
     "name": "stdout",
     "output_type": "stream",
     "text": [
      "463 ns ± 33.3 ns per loop (mean ± std. dev. of 7 runs, 1000000 loops each)\n"
     ]
    }
   ],
   "source": [
    "%%timeit\n",
    "#a=[1,2,3,4,5]\n",
    "#b=[1,2,3]\n",
    "e=a.intersection(b) #method2\n",
    "e"
   ]
  },
  {
   "cell_type": "code",
   "execution_count": 4,
   "metadata": {},
   "outputs": [
    {
     "name": "stdout",
     "output_type": "stream",
     "text": [
      "['a', 's', 'd', 'f']\n",
      "asdf\n"
     ]
    }
   ],
   "source": [
    "#list and string conversion\n",
    "a='asdf'\n",
    "b=list(a)\n",
    "print(b)\n",
    "c=\"\".join(b)\n",
    "print(c)"
   ]
  },
  {
   "cell_type": "code",
   "execution_count": 26,
   "metadata": {},
   "outputs": [
    {
     "name": "stdout",
     "output_type": "stream",
     "text": [
      "{1, 2, 3, 4, 6} [1, 2, 3, 4, 6]\n"
     ]
    }
   ],
   "source": [
    "#removing duplicates\n",
    "a=[1,1,2,3,2,4,6,4,3]\n",
    "b=[]\n",
    "for x in a: #method1 \n",
    "    if x not in b:\n",
    "        b.append(x)\n",
    "print(set(a),b) #method 2"
   ]
  },
  {
   "cell_type": "code",
   "execution_count": 39,
   "metadata": {},
   "outputs": [
    {
     "ename": "TypeError",
     "evalue": "unhashable type: 'list'",
     "output_type": "error",
     "traceback": [
      "\u001b[1;31m---------------------------------------------------------------------------\u001b[0m",
      "\u001b[1;31mTypeError\u001b[0m                                 Traceback (most recent call last)",
      "\u001b[1;32m<ipython-input-39-81e3716970cc>\u001b[0m in \u001b[0;36m<module>\u001b[1;34m\u001b[0m\n\u001b[0;32m      7\u001b[0m \u001b[1;31m#it sort the set elements itself\u001b[0m\u001b[1;33m\u001b[0m\u001b[1;33m\u001b[0m\u001b[1;33m\u001b[0m\u001b[0m\n\u001b[0;32m      8\u001b[0m \u001b[0ms1\u001b[0m \u001b[1;33m=\u001b[0m \u001b[1;33m{\u001b[0m\u001b[1;36m2\u001b[0m\u001b[1;33m,\u001b[0m \u001b[1;36m4\u001b[0m\u001b[1;33m,\u001b[0m \u001b[1;36m6\u001b[0m\u001b[1;33m,\u001b[0m \u001b[1;36m8\u001b[0m\u001b[1;33m,\u001b[0m \u001b[1;36m10\u001b[0m\u001b[1;33m}\u001b[0m\u001b[1;33m\u001b[0m\u001b[1;33m\u001b[0m\u001b[0m\n\u001b[1;32m----> 9\u001b[1;33m \u001b[0ms1\u001b[0m \u001b[1;33m=\u001b[0m \u001b[1;33m{\u001b[0m\u001b[1;33m[\u001b[0m\u001b[1;36m1\u001b[0m\u001b[1;33m,\u001b[0m\u001b[1;36m2\u001b[0m\u001b[1;33m,\u001b[0m\u001b[1;36m3\u001b[0m\u001b[1;33m]\u001b[0m\u001b[1;33m,\u001b[0m\u001b[1;36m3\u001b[0m\u001b[1;33m,\u001b[0m\u001b[1;36m4\u001b[0m\u001b[1;33m}\u001b[0m \u001b[1;31m# dict not allowed as set item\u001b[0m\u001b[1;33m\u001b[0m\u001b[1;33m\u001b[0m\u001b[0m\n\u001b[0m",
      "\u001b[1;31mTypeError\u001b[0m: unhashable type: 'list'"
     ]
    }
   ],
   "source": [
    "#Sets -unique and immutable item, no Duplicates are not allowed in sets,it stores the object based on their hash code(32 byte integer)\n",
    "#Just like dictionaries, sets have no order in their collection of items. Not like lists.\n",
    "#Set requires the items contained in it to be hashable(so only int or string no list/dict),\n",
    "#lists store non-hashable items.\n",
    "#The elements of the set are immutable,but the set itself is mutable\n",
    "#Since set items are not indexed, sets don't support any slicing or indexing operations.\n",
    "a= set([1,2,3,4,5])\n",
    "set('asdf')\n",
    "#it sort the set elements itself\n",
    "s1 = {2, 4, 6, 8, 10}\n",
    "s1 = {[1,2,3],3,4} # list not allowed as set item"
   ]
  },
  {
   "cell_type": "code",
   "execution_count": 21,
   "metadata": {},
   "outputs": [
    {
     "name": "stdout",
     "output_type": "stream",
     "text": [
      "{1, 2, 3, 4, 5, 6, 7, 8} {8, 1, 2} {1, 2, 3, 4, 5, 6, 7, 8} {3, 4, 5} {3, 4, 5}\n",
      "{4, 5} {1, 2}\n"
     ]
    }
   ],
   "source": [
    "s1={1,2,3,4,5,8}\n",
    "s2={3,4,5,6,7}\n",
    "s3={4,5,6,8}\n",
    "#s1+s2 not supported for set/dic -set union /| same(union or |)\n",
    "#intersection and & same\n",
    "print(s1|s2,s1-s2,s1.union(s2),s1.intersection(s2),s1 & s2)\n",
    "print(s1.intersection(s2,s3), s1.difference(s2, s3))"
   ]
  },
  {
   "cell_type": "code",
   "execution_count": 3,
   "metadata": {},
   "outputs": [
    {
     "name": "stdout",
     "output_type": "stream",
     "text": [
      "1824898798216\n",
      "[2, 1]\n",
      "1824898798152\n",
      "1824898799944\n",
      "1824898285512 1824898285512\n",
      "1824898798920 1824898798920\n",
      "False True\n"
     ]
    }
   ],
   "source": [
    "a=[1,2]\n",
    "print(id(a))\n",
    "b=a[::-1]\n",
    "print(b)\n",
    "print(id(b))\n",
    "c=b[::-1]\n",
    "e=a[:]\n",
    "print(id(c))\n",
    "print(id(a[:]),id(c[:]))\n",
    "print(id(a[::-1]),id(b[::-1]))\n",
    "print(id(a)==id(b),id(a[:])==id(c[:]))"
   ]
  },
  {
   "cell_type": "code",
   "execution_count": 4,
   "metadata": {},
   "outputs": [
    {
     "name": "stdout",
     "output_type": "stream",
     "text": [
      "1824899006536 1824898801544 1824898798216\n"
     ]
    }
   ],
   "source": [
    "a=[1,2]\n",
    "b=a[::-1]\n",
    "print(id(a),id(b),id(a[::-1]))"
   ]
  },
  {
   "cell_type": "code",
   "execution_count": 30,
   "metadata": {},
   "outputs": [
    {
     "data": {
      "text/plain": [
       "1"
      ]
     },
     "execution_count": 30,
     "metadata": {},
     "output_type": "execute_result"
    }
   ],
   "source": [
    "a=1\n",
    "b=a\n",
    "a=2\n",
    "b"
   ]
  },
  {
   "cell_type": "code",
   "execution_count": 5,
   "metadata": {},
   "outputs": [
    {
     "data": {
      "text/plain": [
       "'shashi'"
      ]
     },
     "execution_count": 5,
     "metadata": {},
     "output_type": "execute_result"
    }
   ],
   "source": [
    "a='shashi'\n",
    "b=a\n",
    "a='nisha'\n",
    "b"
   ]
  },
  {
   "cell_type": "code",
   "execution_count": 36,
   "metadata": {},
   "outputs": [
    {
     "name": "stdout",
     "output_type": "stream",
     "text": [
      "{'baz', 'shayam', 'bar', 'ram', 'foo'}\n",
      "{'baz', 'shayam', 'bar', 'ram', 'foo', 'sss'}\n"
     ]
    }
   ],
   "source": [
    "x1 = {'foo', 'bar', 'baz'}\n",
    "x1.issubset({'foo', 'bar', 'baz', 'qux', 'quux'})\n",
    "x2 = {'foo', 'bar','ram','shayam'}\n",
    "x1>x2 # no of elemnet check\n",
    "x1.update(x2) # update works here #for adding new set\n",
    "print(x1)\n",
    "x1.add('sss') #for adding one element\n",
    "print(x1)"
   ]
  },
  {
   "cell_type": "code",
   "execution_count": 69,
   "metadata": {},
   "outputs": [
    {
     "ename": "KeyError",
     "evalue": "'aaa'",
     "output_type": "error",
     "traceback": [
      "\u001b[1;31m---------------------------------------------------------------------------\u001b[0m",
      "\u001b[1;31mKeyError\u001b[0m                                  Traceback (most recent call last)",
      "\u001b[1;32m<ipython-input-69-1e7e52c7f415>\u001b[0m in \u001b[0;36m<module>\u001b[1;34m\u001b[0m\n\u001b[1;32m----> 1\u001b[1;33m \u001b[0mx1\u001b[0m\u001b[1;33m.\u001b[0m\u001b[0mremove\u001b[0m\u001b[1;33m(\u001b[0m\u001b[1;34m'aaa'\u001b[0m\u001b[1;33m)\u001b[0m \u001b[1;31m#throw exception if element not present\u001b[0m\u001b[1;33m\u001b[0m\u001b[1;33m\u001b[0m\u001b[0m\n\u001b[0m\u001b[0;32m      2\u001b[0m \u001b[0mx1\u001b[0m\u001b[1;33m.\u001b[0m\u001b[0mdiscard\u001b[0m\u001b[1;33m(\u001b[0m\u001b[1;34m'aaa'\u001b[0m\u001b[1;33m)\u001b[0m \u001b[1;31m#but discard not\u001b[0m\u001b[1;33m\u001b[0m\u001b[1;33m\u001b[0m\u001b[0m\n",
      "\u001b[1;31mKeyError\u001b[0m: 'aaa'"
     ]
    }
   ],
   "source": [
    "x1.remove('aaa') #throw exception if element not present\n",
    "x1.discard('aaa') #but discard not"
   ]
  },
  {
   "cell_type": "code",
   "execution_count": 39,
   "metadata": {},
   "outputs": [
    {
     "name": "stdout",
     "output_type": "stream",
     "text": [
      "0\n",
      "1\n"
     ]
    }
   ],
   "source": [
    "globvar = 0\n",
    "def set_globvar_to_one():\n",
    "    global globvar    # Needed to modify global copy of globvar\n",
    "    print(globvar)\n",
    "    globvar = 1\n",
    "def print_globvar():\n",
    "    print(globvar)# No need for global declaration to read value of globvar\n",
    "\n",
    "set_globvar_to_one()\n",
    "print_globvar()"
   ]
  },
  {
   "cell_type": "code",
   "execution_count": 42,
   "metadata": {},
   "outputs": [
    {
     "name": "stdout",
     "output_type": "stream",
     "text": [
      "[(5, 9, 10), (6, 10, 3), (7, 2, 4)] [(1, 2), (2, 3), (3, 4), (4, 5), (5, 6), (6, 7)]\n",
      "Sum of Kth column is : 19\n",
      "19\n"
     ]
    }
   ],
   "source": [
    "##################################important *test_list()\n",
    "#program practice\n",
    "l=[1,2,3,4,5,6,7]  \n",
    "test_list = [[5, 6, 7], \n",
    "            [9, 10, 2],  \n",
    "            [10, 3, 4]] \n",
    "print(list(zip(*test_list)),list(zip(l,l[1:]))) # check this for using zip\n",
    "k=1\n",
    "res = [sum(idx) for idx in zip(*test_list)][k]  \n",
    "print(\"Sum of Kth column is : \" + str(res)) \n"
   ]
  },
  {
   "cell_type": "code",
   "execution_count": 43,
   "metadata": {},
   "outputs": [
    {
     "name": "stdout",
     "output_type": "stream",
     "text": [
      "(1, 2, 3, 4)\n",
      "('a', 'b', 'c', 'd')\n"
     ]
    }
   ],
   "source": [
    "#zip function for unzipping\n",
    "pairs = [(1, 'a'), (2, 'b'), (3, 'c'), (4, 'd')]\n",
    "numbers, letters = zip(*pairs)\n",
    "print(numbers)\n",
    "print(letters)"
   ]
  },
  {
   "cell_type": "code",
   "execution_count": 45,
   "metadata": {},
   "outputs": [
    {
     "data": {
      "text/plain": [
       "3"
      ]
     },
     "execution_count": 45,
     "metadata": {},
     "output_type": "execute_result"
    }
   ],
   "source": [
    "#count of max element\n",
    "import collections\n",
    "l=[1, 2, 8, 5, 8, 7, 8]\n",
    "collections.Counter(l)[max(l)] #counter will return A counter dictionary"
   ]
  },
  {
   "cell_type": "code",
   "execution_count": 52,
   "metadata": {},
   "outputs": [
    {
     "data": {
      "text/plain": [
       "[6, 4, 5, 6]"
      ]
     },
     "execution_count": 52,
     "metadata": {},
     "output_type": "execute_result"
    }
   ],
   "source": [
    "#isdigit()\n",
    "#int() works on '3'/3.5 --int works on integer stye string and  float\n",
    "#float() works on integer or float/integer type string and integer \n",
    "#str() - works on everything\n",
    "import re\n",
    "N = 6.456\n",
    "res = list(map(int, re.findall('\\d', str(N)))) #findall return a list\n",
    "res"
   ]
  },
  {
   "cell_type": "code",
   "execution_count": 35,
   "metadata": {},
   "outputs": [
    {
     "name": "stdout",
     "output_type": "stream",
     "text": [
      "The original list is : ['4.5', '7.8', '9.8', '10.3']\n",
      "The summation of float string list : 32.400000000000006\n"
     ]
    }
   ],
   "source": [
    "test_list = ['4.5', '7.8', '9.8', '10.3'] \n",
    "print(\"The original list is : \" + str(test_list)) # str is used to convcert the list into str in order to concatenate\n",
    "res_sum = sum(float(sub) for sub in test_list) \n",
    "print(\"The summation of float string list : \" + str(res_sum)) "
   ]
  },
  {
   "cell_type": "code",
   "execution_count": 36,
   "metadata": {},
   "outputs": [
    {
     "data": {
      "text/plain": [
       "\"['4.5', '7.8', '9.8', '10.3']\""
      ]
     },
     "execution_count": 36,
     "metadata": {},
     "output_type": "execute_result"
    }
   ],
   "source": [
    "str(test_list)"
   ]
  },
  {
   "cell_type": "code",
   "execution_count": 37,
   "metadata": {},
   "outputs": [
    {
     "data": {
      "text/plain": [
       "['a', 'c', 'v', 'b']"
      ]
     },
     "execution_count": 37,
     "metadata": {},
     "output_type": "execute_result"
    }
   ],
   "source": [
    "a='acvb'\n",
    "list(a)"
   ]
  },
  {
   "cell_type": "code",
   "execution_count": 38,
   "metadata": {},
   "outputs": [
    {
     "name": "stdout",
     "output_type": "stream",
     "text": [
      "The original list : ['a, b, c', 'gfg, is, best', '1, 2, 3']\n",
      "List after performing conversion : [['a', 'b', 'c'], ['gfg', 'is', 'best'], ['1', '2', '3']]\n"
     ]
    }
   ],
   "source": [
    "#split gives a list / join gives a string(provided list should have all str element)\n",
    "test_list = [\"a, b, c\", \"gfg, is, best\", \"1, 2, 3\"] \n",
    "print(\"The original list : \" + str(test_list)) \n",
    "res = [char.split(', ') for char in test_list] \n",
    "print(\"List after performing conversion : \" + str(res)) "
   ]
  },
  {
   "cell_type": "code",
   "execution_count": 5,
   "metadata": {},
   "outputs": [
    {
     "name": "stdout",
     "output_type": "stream",
     "text": [
      "['a', ' ', '1', ' ', 'c']\n"
     ]
    },
    {
     "data": {
      "text/plain": [
       "['a', '1', 'c']"
      ]
     },
     "execution_count": 5,
     "metadata": {},
     "output_type": "execute_result"
    }
   ],
   "source": [
    "a='a 1 c'\n",
    "print(list(a))\n",
    "''.join(list(a))\n",
    "a.split(' ')"
   ]
  },
  {
   "cell_type": "code",
   "execution_count": 39,
   "metadata": {},
   "outputs": [
    {
     "ename": "TypeError",
     "evalue": "sequence item 1: expected str instance, int found",
     "output_type": "error",
     "traceback": [
      "\u001b[1;31m---------------------------------------------------------------------------\u001b[0m",
      "\u001b[1;31mTypeError\u001b[0m                                 Traceback (most recent call last)",
      "\u001b[1;32m<ipython-input-39-d7cbdfa5cfde>\u001b[0m in \u001b[0;36m<module>\u001b[1;34m\u001b[0m\n\u001b[0;32m      1\u001b[0m \u001b[1;31m#join gives a string(provided list should have all str element)\u001b[0m\u001b[1;33m\u001b[0m\u001b[1;33m\u001b[0m\u001b[1;33m\u001b[0m\u001b[0m\n\u001b[0;32m      2\u001b[0m \u001b[0ma\u001b[0m\u001b[1;33m=\u001b[0m\u001b[1;33m[\u001b[0m\u001b[1;34m'1'\u001b[0m\u001b[1;33m,\u001b[0m\u001b[1;36m2\u001b[0m\u001b[1;33m,\u001b[0m\u001b[1;36m3\u001b[0m\u001b[1;33m,\u001b[0m\u001b[1;36m4\u001b[0m\u001b[1;33m]\u001b[0m\u001b[1;33m\u001b[0m\u001b[1;33m\u001b[0m\u001b[0m\n\u001b[1;32m----> 3\u001b[1;33m \u001b[1;34m''\u001b[0m\u001b[1;33m.\u001b[0m\u001b[0mjoin\u001b[0m\u001b[1;33m(\u001b[0m\u001b[0ma\u001b[0m\u001b[1;33m)\u001b[0m\u001b[1;33m\u001b[0m\u001b[1;33m\u001b[0m\u001b[0m\n\u001b[0m",
      "\u001b[1;31mTypeError\u001b[0m: sequence item 1: expected str instance, int found"
     ]
    }
   ],
   "source": [
    "#join gives a string(provided list should have all str element)\n",
    "a=['1',2,3,4]\n",
    "''.join(a)"
   ]
  },
  {
   "cell_type": "code",
   "execution_count": 40,
   "metadata": {},
   "outputs": [
    {
     "data": {
      "text/plain": [
       "'1234'"
      ]
     },
     "execution_count": 40,
     "metadata": {},
     "output_type": "execute_result"
    }
   ],
   "source": [
    "a=['1','2','3','4']\n",
    "''.join(a)"
   ]
  },
  {
   "cell_type": "code",
   "execution_count": 61,
   "metadata": {},
   "outputs": [
    {
     "name": "stdout",
     "output_type": "stream",
     "text": [
      "['best', 'for', 'CS']\n"
     ]
    }
   ],
   "source": [
    "# +/- happens in counter elements work in Counter --\n",
    "test_list1 = [\"gfg\", \"is\", \"best\", \"for\", \"CS\"] \n",
    "test_list2 = [\"preffered\", \"is\", \"gfg\"] \n",
    "res = list((collections.Counter(test_list1)-collections.Counter(test_list2)).elements()) \n",
    "print(res)]\n"
   ]
  },
  {
   "cell_type": "code",
   "execution_count": 49,
   "metadata": {},
   "outputs": [
    {
     "name": "stdout",
     "output_type": "stream",
     "text": [
      "String after Consecutive Swapping : fgigbsseyt\n",
      "String after Consecutive Swapping : fgigbsseyt\n"
     ]
    }
   ],
   "source": [
    "#swapping 2 methods\n",
    "test_str = \"gfgisbesty\"\n",
    "\n",
    "res = ''.join([char[1] + char[0] for char in zip(test_str[::2], test_str[1::2])]) \n",
    "print(\"String after Consecutive Swapping : \" + str(res)) \n",
    "\n",
    "import re\n",
    "res = re.sub(r'(.)(.)', r'\\2\\1', test_str) \n",
    "# printing result \n",
    "print(\"String after Consecutive Swapping : \" + str(res)) "
   ]
  },
  {
   "cell_type": "code",
   "execution_count": 66,
   "metadata": {},
   "outputs": [
    {
     "name": "stdout",
     "output_type": "stream",
     "text": [
      "['gfg', 'best', 'geeks']\n"
     ]
    }
   ],
   "source": [
    "#application for zip to check same consecutive element\n",
    "test_list = ['gfg', 'gfg', 'is', 'best', 'best', 'for', 'geeks', 'geeks'] \n",
    "res = [i for (i, j) in zip(test_list, test_list[1:]) if i == j]\n",
    "print(res)"
   ]
  },
  {
   "cell_type": "code",
   "execution_count": 67,
   "metadata": {},
   "outputs": [
    {
     "name": "stdout",
     "output_type": "stream",
     "text": [
      "String list after filtering floats : ['gfg', 'is', 'best']\n"
     ]
    }
   ],
   "source": [
    "#finding float using regx -------checkit while doing regx\n",
    "import re \n",
    "test_list = ['gfg', '45.45', 'is', '87.5', 'best', '90.34'] \n",
    "temp = re.compile(r'\\d+(?:\\.\\d*)') \n",
    "res = [ele for ele in test_list if not temp.match(ele)] \n",
    "print(\"String list after filtering floats : \" + str(res)) "
   ]
  },
  {
   "cell_type": "code",
   "execution_count": 25,
   "metadata": {},
   "outputs": [
    {
     "data": {
      "text/plain": [
       "<re.Match object; span=(0, 5), match='12.06'>"
      ]
     },
     "execution_count": 25,
     "metadata": {},
     "output_type": "execute_result"
    }
   ],
   "source": [
    "a='12.06'\n",
    "re.match(r'\\d+(?:\\.\\d*)',a)"
   ]
  },
  {
   "cell_type": "code",
   "execution_count": 43,
   "metadata": {},
   "outputs": [
    {
     "name": "stdout",
     "output_type": "stream",
     "text": [
      "The original list is : [1, 1, 1, 2, 2, 5, 5, 5, 5]\n",
      "(2, <itertools._grouper object at 0x0000029C2E9025F8>)\n",
      "Minimum Consecutive identical Occurring number is : 2\n"
     ]
    },
    {
     "data": {
      "text/plain": [
       "[]"
      ]
     },
     "execution_count": 43,
     "metadata": {},
     "output_type": "execute_result"
    }
   ],
   "source": [
    "#groupby using itetool\n",
    "from itertools import groupby \n",
    "test_list = [1, 1, 1, 2, 2, 5, 5, 5, 5] \n",
    "print(\"The original list is : \" + str(test_list)) \n",
    "temp = groupby(test_list) \n",
    "res = min(temp, key = lambda sub: len(list(sub[1]))) \n",
    "print(res)\n",
    "print(\"Minimum Consecutive identical Occurring number is : \" + str(res[0])) "
   ]
  },
  {
   "cell_type": "code",
   "execution_count": 29,
   "metadata": {},
   "outputs": [
    {
     "data": {
      "text/plain": [
       "[2, 3, 4, 'best', 'gfg', 'is']"
      ]
     },
     "execution_count": 29,
     "metadata": {},
     "output_type": "execute_result"
    }
   ],
   "source": [
    "test_list = [4, 'gfg', 2, 'best', 'is', 3] \n",
    "def mixs(num):\n",
    "    try:\n",
    "        ele = int(num)\n",
    "        return (0,ele)\n",
    "    except ValueError:\n",
    "        return (1,num)\n",
    "        \n",
    "sorted(test_list,key=mixs)\n",
    "#print(test_list)"
   ]
  },
  {
   "cell_type": "code",
   "execution_count": 54,
   "metadata": {},
   "outputs": [
    {
     "name": "stdout",
     "output_type": "stream",
     "text": [
      "The original list : [4, 'gfg', 2, 'best', 'is', 3]\n",
      "List after mixed sorting : [2, 3, 4, 'best', 'gfg', 'is']\n"
     ]
    }
   ],
   "source": [
    "#setting of key in sort -assigning 0 for number and 1 for string #######to sort a mix list\n",
    "def mixs(num): \n",
    "    try:\n",
    "        ele = int(num) \n",
    "        return (0, ele, '') \n",
    "    except ValueError: \n",
    "        return (1, num, '') \n",
    "test_list = [4, 'gfg', 2, 'best', 'is', 3] \n",
    "print(\"The original list : \" + str(test_list)) \n",
    "test_list.sort(key = mixs) \n",
    "print(\"List after mixed sorting : \" + str(test_list)) \n"
   ]
  },
  {
   "cell_type": "code",
   "execution_count": 39,
   "metadata": {},
   "outputs": [
    {
     "data": {
      "text/plain": [
       "['a', 'aa', 'bbb', 'zzzz', 'ddddd']"
      ]
     },
     "execution_count": 39,
     "metadata": {},
     "output_type": "execute_result"
    }
   ],
   "source": [
    "a=['aa','bbb','a','ddddd','zzzz']\n",
    "a.sort(key=len)\n",
    "a"
   ]
  },
  {
   "cell_type": "code",
   "execution_count": 11,
   "metadata": {},
   "outputs": [],
   "source": [
    "d = {'a':1,'b':2,'c':2,'d':3}\n",
    "new_dic={}\n",
    "for i,j in zip(d.values(),d.keys()):\n",
    "    if i not in new_dic:\n",
    "        new_dic[i] = j\n",
    "        "
   ]
  },
  {
   "cell_type": "code",
   "execution_count": 10,
   "metadata": {},
   "outputs": [
    {
     "data": {
      "text/plain": [
       "dict_items([('a', 1), ('b', 2), ('c', 2), ('d', 3)])"
      ]
     },
     "execution_count": 10,
     "metadata": {},
     "output_type": "execute_result"
    }
   ],
   "source": [
    "d.items()"
   ]
  },
  {
   "cell_type": "code",
   "execution_count": 12,
   "metadata": {},
   "outputs": [],
   "source": [
    "new ={}\n",
    "for (i,j) in d.items():\n",
    "    if j not in new:\n",
    "        new[j] = i"
   ]
  },
  {
   "cell_type": "code",
   "execution_count": null,
   "metadata": {},
   "outputs": [],
   "source": []
  }
 ],
 "metadata": {
  "kernelspec": {
   "display_name": "Python 3 (ipykernel)",
   "language": "python",
   "name": "python3"
  },
  "language_info": {
   "codemirror_mode": {
    "name": "ipython",
    "version": 3
   },
   "file_extension": ".py",
   "mimetype": "text/x-python",
   "name": "python",
   "nbconvert_exporter": "python",
   "pygments_lexer": "ipython3",
   "version": "3.11.5"
  }
 },
 "nbformat": 4,
 "nbformat_minor": 2
}
