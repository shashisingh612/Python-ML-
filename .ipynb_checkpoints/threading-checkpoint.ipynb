{
 "cells": [
  {
   "cell_type": "code",
   "execution_count": 5,
   "metadata": {},
   "outputs": [
    {
     "name": "stdout",
     "output_type": "stream",
     "text": [
      "child thread Thread-8\n",
      "child thread Thread-8\n",
      "child thread Thread-8\n",
      "child thread Thread-8\n",
      "child thread Thread-8\n",
      "child thread Thread-8\n",
      "bye MainThread\n"
     ]
    }
   ],
   "source": [
    "#difference when not using t1.join\n",
    "#[sleep time ,downloading somehing from internet,reading file]\n",
    "from threading import *\n",
    "def new():\n",
    "    for i in range(6):\n",
    "        print('child thread',current_thread().getName())\n",
    "t1=Thread(target=new)\n",
    "t1.start()\n",
    "#t1.join()\n",
    "print('bye',current_thread().getName())"
   ]
  },
  {
   "cell_type": "code",
   "execution_count": 6,
   "metadata": {},
   "outputs": [
    {
     "name": "stdout",
     "output_type": "stream",
     "text": [
      "child thread Thread-9\n",
      "child thread Thread-9\n",
      "child thread Thread-9\n",
      "child thread Thread-9\n",
      "child thread Thread-9\n",
      "child thread Thread-9\n",
      "bye MainThread\n"
     ]
    }
   ],
   "source": [
    "from threading import *\n",
    "def new():\n",
    "    for i in range(6):\n",
    "        print('child thread',current_thread().getName())\n",
    "t1=Thread(target=new)\n",
    "t1.start()\n",
    "t1.join()\n",
    "print('bye',current_thread().getName())"
   ]
  },
  {
   "cell_type": "code",
   "execution_count": 13,
   "metadata": {},
   "outputs": [
    {
     "name": "stdout",
     "output_type": "stream",
     "text": [
      "Thread-13\n",
      "Thread-13\n",
      "Thread-13\n",
      "Thread-13\n",
      "Thread-13\n",
      "control return to main thread MainThread\n"
     ]
    }
   ],
   "source": [
    "#thread extending thread class\n",
    "#extending the class\n",
    "#run /init can be overloaded only\n",
    "import threading\n",
    "class a(threading.Thread):\n",
    "    def run(self):\n",
    "        for x in range(5):\n",
    "            print(current_thread().getName())\n",
    "            \n",
    "obj=a()\n",
    "obj.start()\n",
    "obj.join()\n",
    "print('control return to main thread',current_thread().getName())"
   ]
  },
  {
   "cell_type": "code",
   "execution_count": 14,
   "metadata": {},
   "outputs": [
    {
     "name": "stdout",
     "output_type": "stream",
     "text": [
      "Thread-14\n",
      "Thread-14\n",
      "Thread-14\n",
      "Thread-14\n",
      "Thread-14\n",
      "control return to main thread MainThread\n"
     ]
    }
   ],
   "source": [
    "#thread without extending thread class\n",
    "\n",
    "class a:\n",
    "    def fu(self):\n",
    "        for x in range(5):\n",
    "            print(current_thread().getName())\n",
    "myobj=a()\n",
    "thread1=Thread(target=myobj.fu)\n",
    "thread1.start()\n",
    "thread1.join()\n",
    "print('control return to main thread',current_thread().getName())\n",
    "\n",
    "            "
   ]
  },
  {
   "cell_type": "code",
   "execution_count": null,
   "metadata": {},
   "outputs": [],
   "source": []
  }
 ],
 "metadata": {
  "kernelspec": {
   "display_name": "Python 3",
   "language": "python",
   "name": "python3"
  },
  "language_info": {
   "codemirror_mode": {
    "name": "ipython",
    "version": 3
   },
   "file_extension": ".py",
   "mimetype": "text/x-python",
   "name": "python",
   "nbconvert_exporter": "python",
   "pygments_lexer": "ipython3",
   "version": "3.7.3"
  }
 },
 "nbformat": 4,
 "nbformat_minor": 2
}
