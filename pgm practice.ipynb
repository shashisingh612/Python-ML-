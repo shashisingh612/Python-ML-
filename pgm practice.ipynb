{
 "cells": [
  {
   "cell_type": "code",
   "execution_count": 1,
   "metadata": {},
   "outputs": [
    {
     "name": "stdout",
     "output_type": "stream",
     "text": [
      "True\n",
      "2.8419999580364674e-06\n"
     ]
    }
   ],
   "source": [
    "import timeit\n",
    "code_to_test = \"\"\"\n",
    "a = ['gfg', 'is', 'best', '', 'for', 'geeks']\n",
    "for i in a:\n",
    "    if i=='':\n",
    "        print('True')\n",
    "\"\"\"\n",
    "elapsed_time = timeit.timeit(code_to_test, number=1)/100\n",
    "print(elapsed_time)"
   ]
  },
  {
   "cell_type": "code",
   "execution_count": 2,
   "metadata": {},
   "outputs": [
    {
     "name": "stdout",
     "output_type": "stream",
     "text": [
      "True\n",
      "1.6130000585690141e-06\n"
     ]
    }
   ],
   "source": [
    "import timeit\n",
    "code_to_test = \"\"\"\n",
    "a = ['gfg', 'is', 'best', '', 'for', 'geeks']\n",
    "try:\n",
    "    a.index('')\n",
    "    print('True')\n",
    "except:\n",
    "    print('False')\n",
    "\"\"\"\n",
    "elapsed_time = timeit.timeit(code_to_test, number=1)/100\n",
    "print(elapsed_time)"
   ]
  },
  {
   "cell_type": "code",
   "execution_count": 3,
   "metadata": {},
   "outputs": [
    {
     "name": "stdout",
     "output_type": "stream",
     "text": [
      "True\n",
      "3.3599993912503126e-07\n"
     ]
    }
   ],
   "source": [
    "import timeit\n",
    "code_to_test = \"\"\"\n",
    "a = ['gfg', 'is', 'best', '', 'for', 'geeks']\n",
    "res = any(len(ele) == 0 for ele in a) \n",
    "print(str(res))\n",
    "\"\"\"\n",
    "elapsed_time = timeit.timeit(code_to_test, number=1)/100\n",
    "print(elapsed_time)"
   ]
  },
  {
   "cell_type": "code",
   "execution_count": 4,
   "metadata": {},
   "outputs": [
    {
     "name": "stdout",
     "output_type": "stream",
     "text": [
      "True\n",
      "1.799000019673258e-06\n"
     ]
    }
   ],
   "source": [
    "import timeit\n",
    "code_to_test = \"\"\"\n",
    "a = ['gfg', 'is', 'best', '', 'for', 'geeks']\n",
    "res = '' in a\n",
    "print(str(res))\n",
    "\"\"\"\n",
    "elapsed_time = timeit.timeit(code_to_test, number=1)/100\n",
    "print(elapsed_time)"
   ]
  },
  {
   "cell_type": "code",
   "execution_count": 6,
   "metadata": {},
   "outputs": [
    {
     "data": {
      "text/plain": [
       "6"
      ]
     },
     "execution_count": 6,
     "metadata": {},
     "output_type": "execute_result"
    }
   ],
   "source": [
    "#total no of string elemetn in a list\n",
    "a = ['gfg', 'is', 'best', '', 'for', 'geeks']\n",
    "res = len([val for val in a if isinstance(val, str)]) \n",
    "sum(isinstance(ele, str) for ele in a) "
   ]
  },
  {
   "cell_type": "code",
   "execution_count": 10,
   "metadata": {},
   "outputs": [
    {
     "ename": "ValueError",
     "evalue": "could not convert string to float: 'a,sd,f,1'",
     "output_type": "error",
     "traceback": [
      "\u001b[1;31m---------------------------------------------------------------------------\u001b[0m",
      "\u001b[1;31mValueError\u001b[0m                                Traceback (most recent call last)",
      "\u001b[1;32m<ipython-input-10-2f897a0028f4>\u001b[0m in \u001b[0;36m<module>\u001b[1;34m\u001b[0m\n\u001b[0;32m      1\u001b[0m \u001b[1;31m#string to float\u001b[0m\u001b[1;33m\u001b[0m\u001b[1;33m\u001b[0m\u001b[1;33m\u001b[0m\u001b[0m\n\u001b[0;32m      2\u001b[0m \u001b[1;31m#test_str = 'a,sd,f,1'\u001b[0m\u001b[1;33m\u001b[0m\u001b[1;33m\u001b[0m\u001b[1;33m\u001b[0m\u001b[0m\n\u001b[1;32m----> 3\u001b[1;33m \u001b[0mres\u001b[0m \u001b[1;33m=\u001b[0m \u001b[0mlist\u001b[0m\u001b[1;33m(\u001b[0m\u001b[0mmap\u001b[0m\u001b[1;33m(\u001b[0m\u001b[0mfloat\u001b[0m\u001b[1;33m,\u001b[0m \u001b[0mtest_str\u001b[0m\u001b[1;33m.\u001b[0m\u001b[0msplit\u001b[0m\u001b[1;33m(\u001b[0m\u001b[1;34m', '\u001b[0m\u001b[1;33m)\u001b[0m\u001b[1;33m)\u001b[0m\u001b[1;33m)\u001b[0m\u001b[1;33m\u001b[0m\u001b[1;33m\u001b[0m\u001b[0m\n\u001b[0m\u001b[0;32m      4\u001b[0m \u001b[0mstr\u001b[0m\u001b[1;33m(\u001b[0m\u001b[0mres\u001b[0m\u001b[1;33m)\u001b[0m\u001b[1;33m\u001b[0m\u001b[1;33m\u001b[0m\u001b[0m\n\u001b[0;32m      5\u001b[0m \u001b[0mres\u001b[0m \u001b[1;33m=\u001b[0m \u001b[1;33m[\u001b[0m\u001b[0mfloat\u001b[0m\u001b[1;33m(\u001b[0m\u001b[0midx\u001b[0m\u001b[1;33m)\u001b[0m \u001b[1;32mfor\u001b[0m \u001b[0midx\u001b[0m \u001b[1;32min\u001b[0m \u001b[0mtest_str\u001b[0m\u001b[1;33m.\u001b[0m\u001b[0msplit\u001b[0m\u001b[1;33m(\u001b[0m\u001b[1;34m', '\u001b[0m\u001b[1;33m)\u001b[0m\u001b[1;33m]\u001b[0m\u001b[1;33m\u001b[0m\u001b[1;33m\u001b[0m\u001b[0m\n",
      "\u001b[1;31mValueError\u001b[0m: could not convert string to float: 'a,sd,f,1'"
     ]
    }
   ],
   "source": [
    "#string to float\n",
    "#test_str = 'a,sd,f,1'\n",
    "res = list(map(float, test_str.split(', '))) \n",
    "str(res)\n",
    "res = [float(idx) for idx in test_str.split(', ')] \n",
    "\n",
    "#sort string\n",
    "res = [''.join(sorted(ele)) for ele in test_list] \n",
    "res = list(map(lambda ele: \"\".join(sorted(ele)), test_list)) \n"
   ]
  },
  {
   "cell_type": "code",
   "execution_count": 12,
   "metadata": {},
   "outputs": [
    {
     "data": {
      "text/plain": [
       "[1, 1, 4, 1, 6]"
      ]
     },
     "execution_count": 12,
     "metadata": {},
     "output_type": "execute_result"
    }
   ],
   "source": [
    "lis1=[2,3,4,5,6]\n",
    "lis2=[1,2,7,4,9]\n",
    "\n",
    "[ i-j if i>j else i for i,j in zip(lis1,lis2)]\n"
   ]
  },
  {
   "cell_type": "code",
   "execution_count": 1,
   "metadata": {},
   "outputs": [],
   "source": [
    "#longest string in a list\n",
    "test_list = ['gfg', 'is', 'best', 'for', 'geeks'] \n",
    "max_len = -1\n",
    "for ele in test_list: \n",
    "    if len(ele) > max_len: \n",
    "        max_len = len(ele) \n",
    "        res = ele \n",
    "        \n",
    "res = max(test_list, key = len) "
   ]
  },
  {
   "cell_type": "code",
   "execution_count": 17,
   "metadata": {},
   "outputs": [
    {
     "name": "stdout",
     "output_type": "stream",
     "text": [
      "is geeks\n"
     ]
    }
   ],
   "source": [
    "test_list = ['gfg', 'is', 'best', 'for', 'geeks'] \n",
    "print(min(test_list,key=len),max(test_list,key=len))"
   ]
  },
  {
   "cell_type": "code",
   "execution_count": 21,
   "metadata": {},
   "outputs": [
    {
     "name": "stdout",
     "output_type": "stream",
     "text": [
      "The original list : ['gf\\ng', 'i\\ns', 'b\\nest', 'fo\\nr', 'geeks\\n']\n"
     ]
    }
   ],
   "source": [
    "test_list = ['gf\\ng', 'i\\ns', 'b\\nest', 'fo\\nr', 'geeks\\n'] \n",
    "  \n",
    "# printing original list  \n",
    "print(\"The original list : \" + str(test_list)) \n",
    "# Removing newline character from string \n",
    "# using loop \n",
    "res = [] \n",
    "for sub in test_list: \n",
    "    res.append(sub.replace(\"\\n\", \"\")) "
   ]
  },
  {
   "cell_type": "code",
   "execution_count": 27,
   "metadata": {},
   "outputs": [
    {
     "name": "stdout",
     "output_type": "stream",
     "text": [
      "The original list 1 : ['gfg', 'is', 'best', 'for', 'CS']\n",
      "The original list 2 : ['preffered', 'is', 'gfg']\n"
     ]
    },
    {
     "data": {
      "text/plain": [
       "['best', 'for', 'CS']"
      ]
     },
     "execution_count": 27,
     "metadata": {},
     "output_type": "execute_result"
    }
   ],
   "source": [
    "import collections\n",
    "test_list1 = [\"gfg\", \"is\", \"best\", \"for\", \"CS\"] \n",
    "test_list2 = [\"preffered\", \"is\", \"gfg\"] \n",
    "  \n",
    "# printing original lists \n",
    "print(\"The original list 1 : \" + str(test_list1)) \n",
    "print(\"The original list 2 : \" + str(test_list2)) \n",
    "  \n",
    "# Subtract String Lists \n",
    "# using Counter() + elements() \n",
    "res = list((collections.Counter(test_list1)-collections.Counter(test_list2)).elements()) \n",
    "res"
   ]
  },
  {
   "cell_type": "code",
   "execution_count": 22,
   "metadata": {},
   "outputs": [
    {
     "data": {
      "text/plain": [
       "['best', 'for', 'CS', 'is', 'gfg', 'preffered']"
      ]
     },
     "execution_count": 22,
     "metadata": {},
     "output_type": "execute_result"
    }
   ],
   "source": [
    "test_list1 = [\"gfg\", \"is\", \"best\", \"for\", \"CS\"] \n",
    "test_list2 = [\"preffered\", \"is\", \"gfg\"] \n",
    "list(set(test_list1).union(set(test_list2)))"
   ]
  },
  {
   "cell_type": "code",
   "execution_count": 12,
   "metadata": {},
   "outputs": [
    {
     "data": {
      "text/plain": [
       "{'a': 1,\n",
       " 'b': 2,\n",
       " 'c': 3,\n",
       " 'd': 4,\n",
       " 'e': 5,\n",
       " 'f': 6,\n",
       " 'g': 7,\n",
       " 'h': 8,\n",
       " 'i': 9,\n",
       " 'j': 10,\n",
       " 'k': 11,\n",
       " 'l': 12,\n",
       " 'm': 13,\n",
       " 'n': 14,\n",
       " 'o': 15,\n",
       " 'p': 16,\n",
       " 'q': 17,\n",
       " 'r': 18,\n",
       " 's': 19,\n",
       " 't': 20,\n",
       " 'u': 21,\n",
       " 'v': 22,\n",
       " 'w': 23,\n",
       " 'x': 24,\n",
       " 'y': 25,\n",
       " 'z': 26}"
      ]
     },
     "execution_count": 12,
     "metadata": {},
     "output_type": "execute_result"
    }
   ],
   "source": [
    "import string\n",
    "letter_count = dict(zip(string.ascii_lowercase,[i for i in range(1,27)]))\n",
    "letter_count"
   ]
  },
  {
   "cell_type": "code",
   "execution_count": 4,
   "metadata": {},
   "outputs": [
    {
     "data": {
      "text/plain": [
       "{'a': 1,\n",
       " 'b': 2,\n",
       " 'c': 3,\n",
       " 'd': 4,\n",
       " 'e': 5,\n",
       " 'f': 6,\n",
       " 'g': 7,\n",
       " 'h': 8,\n",
       " 'i': 9,\n",
       " 'j': 10,\n",
       " 'k': 11,\n",
       " 'l': 12,\n",
       " 'm': 13,\n",
       " 'n': 14,\n",
       " 'o': 15,\n",
       " 'p': 16,\n",
       " 'q': 17,\n",
       " 'r': 18,\n",
       " 's': 19,\n",
       " 't': 20,\n",
       " 'u': 21,\n",
       " 'v': 22,\n",
       " 'w': 23,\n",
       " 'x': 24,\n",
       " 'y': 25,\n",
       " 'z': 26}"
      ]
     },
     "execution_count": 4,
     "metadata": {},
     "output_type": "execute_result"
    }
   ],
   "source": [
    "{chr(i+96):i for i in range(1,27)}"
   ]
  },
  {
   "cell_type": "code",
   "execution_count": 11,
   "metadata": {},
   "outputs": [
    {
     "name": "stdout",
     "output_type": "stream",
     "text": [
      "97 65\n"
     ]
    }
   ],
   "source": [
    "print(ord('a'),ord('A'))"
   ]
  },
  {
   "cell_type": "code",
   "execution_count": null,
   "metadata": {},
   "outputs": [],
   "source": [
    "#write 0 at the end\n",
    "arr = [1,2,3,4,5,0,1,2,9,0,3,2]\n",
    "def move_zeros(arr):\n",
    "    l = [i for i in arr if isinstance(i, bool) or i!=0]\n",
    "    return l+[0]*(len(arr)-len(l))\n",
    "\n",
    "def move_zeros(array):\n",
    "    return sorted(array, key=lambda x: x==0 and type(x) is not bool)\n",
    "\n",
    "move_zeros(arr)"
   ]
  },
  {
   "cell_type": "code",
   "execution_count": null,
   "metadata": {},
   "outputs": [],
   "source": [
    "a = 9\n",
    "l=[0,1]\n",
    "t0,t1=0,1\n",
    "while t0*t1 < a:\n",
    "    term = t0 + t1\n",
    "    l.append(term)\n",
    "    t0= t1\n",
    "    t1= term\n",
    "if t0*t1 == a:\n",
    "    print(t0,t1,True)\n",
    "else:\n",
    "    print(t0,t1,False)\n",
    "print(l)\n",
    "\n",
    "#####check this\n",
    "l=[0,1]\n",
    "t0,t1=0,1\n",
    "while t0*t1 < a:\n",
    "    term = t0 + t1\n",
    "    l.append(term)\n",
    "    t0= t1\n",
    "    t1= term\n",
    "if t0*t1 == a:\n",
    "    print(t0,t1,True)\n",
    "else:\n",
    "    print(t0,t1,False)"
   ]
  },
  {
   "cell_type": "code",
   "execution_count": 12,
   "metadata": {},
   "outputs": [
    {
     "data": {
      "text/plain": [
       "'00:00:00'"
      ]
     },
     "execution_count": 12,
     "metadata": {},
     "output_type": "execute_result"
    }
   ],
   "source": [
    "def make_readable(s):\n",
    "    return '{:02}:{:02}:{:02}'.format(s // 3600, s // 60 % 60, s % 60)\n",
    "\n",
    "make_readable(0)"
   ]
  },
  {
   "cell_type": "code",
   "execution_count": null,
   "metadata": {},
   "outputs": [],
   "source": [
    "def make_readable(seconds):\n",
    "    hours, seconds = divmod(seconds, 60 ** 2)\n",
    "    minutes, seconds = divmod(seconds, 60)\n",
    "    return '{:02}:{:02}:{:02}'.format(hours, minutes, seconds)\n",
    "make_readable(7200)"
   ]
  },
  {
   "cell_type": "code",
   "execution_count": null,
   "metadata": {},
   "outputs": [],
   "source": [
    "def queue_time(customers, n):\n",
    "    if n == 1:\n",
    "        time = sum(customers)\n",
    "    else:\n",
    "        for i,j in zip(customers[:-n:2]customers[n:],)\n",
    "            counter1 = \n",
    "            if  customers[i]"
   ]
  },
  {
   "cell_type": "code",
   "execution_count": null,
   "metadata": {},
   "outputs": [],
   "source": [
    "def alphanumeric(password):\n",
    "    return all(True if i.isalpha() or i.isnumeric() else False for i in password) if len(password)>0 else False\n",
    "\n",
    "def alphanumeric(string):\n",
    "    return string.isalnum()\n",
    "alphanumeric('')"
   ]
  },
  {
   "cell_type": "code",
   "execution_count": 25,
   "metadata": {},
   "outputs": [
    {
     "data": {
      "text/plain": [
       "874706068917"
      ]
     },
     "execution_count": 25,
     "metadata": {},
     "output_type": "execute_result"
    }
   ],
   "source": [
    "def next_bigger(n):\n",
    "    n1= str(n)[::-1]\n",
    "    for i in range(len(n1)-1):\n",
    "        if n1[i] > n1[i+1]:\n",
    "            n = n1[:i]+n1[i+1]+n1[i]+n1[i+2:]\n",
    "            return int(n[::-1])\n",
    "    else:\n",
    "        return -1\n",
    "n=874706068197\n",
    "next_bigger(n)\n",
    "#but it should be 874706068719"
   ]
  },
  {
   "cell_type": "code",
   "execution_count": 37,
   "metadata": {},
   "outputs": [
    {
     "data": {
      "text/plain": [
       "['0', '0', '1', '4', '6', '6', '7', '7', '7', '8', '8', '9']"
      ]
     },
     "execution_count": 37,
     "metadata": {},
     "output_type": "execute_result"
    }
   ],
   "source": [
    "a=sorted([i for i in str(n)])\n",
    "a"
   ]
  },
  {
   "cell_type": "code",
   "execution_count": null,
   "metadata": {},
   "outputs": [],
   "source": [
    "def make_readable(s):\n",
    "    return '{:02}:{:02}:{:02}'.format(s // 3600, s // 60 % 60, s % 60)\n",
    "\n",
    "make_readable(0)"
   ]
  },
  {
   "cell_type": "code",
   "execution_count": null,
   "metadata": {},
   "outputs": [],
   "source": [
    "def make_readable(seconds):\n",
    "    hours, seconds = divmod(seconds, 60 ** 2)\n",
    "    minutes, seconds = divmod(seconds, 60)\n",
    "    return '{:02}:{:02}:{:02}'.format(hours, minutes, seconds)\n",
    "make_readable(7200)"
   ]
  },
  {
   "cell_type": "code",
   "execution_count": null,
   "metadata": {},
   "outputs": [],
   "source": [
    "def queue_time(customers, n):\n",
    "    if n == 1:\n",
    "        time = sum(customers)\n",
    "    else:\n",
    "        for i,j in zip(customers[:-n:2]customers[n:],)\n",
    "            counter1 = \n",
    "            if  customers[i]\n",
    "                       "
   ]
  },
  {
   "cell_type": "code",
   "execution_count": null,
   "metadata": {},
   "outputs": [],
   "source": [
    "optimization/security/integrity\n",
    "readme,variable name check,file path\n",
    "testing - input type validation\n",
    "\n",
    "pip run,presentable\n",
    "submit- read the criteria"
   ]
  },
  {
   "cell_type": "code",
   "execution_count": null,
   "metadata": {},
   "outputs": [],
   "source": [
    "def Tame_Of_Thrones(KINGDOM,KINGDOM_NAME,FILE_PATH):\n",
    "    with open(FILE_PATH) as I:\n",
    "        count = 0\n",
    "        for i in I.readlines():\n",
    "            letters_present = []\n",
    "            kingdom,emblem = i.split(' ',maxsplit=1)\n",
    "            if kingdom not in KINGDOM_NAME:\n",
    "                for j in KINGDOM[kingdom]:\n",
    "                    k = ord(j) + len(KINGDOM[kingdom])\n",
    "                    odn = k if k < 91 else k - 26\n",
    "                    if chr(odn) in emblem:\n",
    "                        emblem = emblem.replace(chr(odn),'',1)\n",
    "                        letters_present.append(True)\n",
    "                if sum(letters_present)== len(KINGDOM[kingdom]):\n",
    "                    count += 1\n",
    "                    KINGDOM_NAME = KINGDOM_NAME + ' ' + kingdom\n",
    "        if count >= 3:\n",
    "            return KINGDOM_NAME\n",
    "        else:\n",
    "            return 'NONE'\n",
    "        \n",
    "#README : 1.Need to provide Input FILE_PATH (and KINGDOM,KINGDOM_NAME are given inside main) to Tame_Of_Thrones function \n",
    "#         2.It will print the o/p to the console\n",
    "#         3.We can test the code by comparing the return o/p and with expected one\n",
    "import sys\n",
    "if __name__== \"__main__\":\n",
    "    KINGDOM = {'LAND':'PANDA' ,'WATER':'OCTOPUS','AIR':'OWL','FIRE':'DRAGON','ICE':'MAMMOTH'}\n",
    "    KINGDOM_NAME ='SPACE'\n",
    "    FILE_PATH = sys.argv[1]\n",
    "    print(Tame_Of_Thrones(KINGDOM,KINGDOM_NAME,FILE_PATH))"
   ]
  },
  {
   "cell_type": "code",
   "execution_count": null,
   "metadata": {},
   "outputs": [],
   "source": [
    "%run geektrust.py 'C:\\\\Users\\\\ac36345'"
   ]
  },
  {
   "cell_type": "code",
   "execution_count": null,
   "metadata": {},
   "outputs": [],
   "source": [
    "%run geektrust.py 'C:\\\\Users\\\\ac36345\\\\Desktop'"
   ]
  },
  {
   "cell_type": "code",
   "execution_count": null,
   "metadata": {},
   "outputs": [],
   "source": [
    "King ='air water'\n",
    "if 'water' in King:\n",
    "    print('$$$')"
   ]
  }
 ],
 "metadata": {
  "kernelspec": {
   "display_name": "Python 3",
   "language": "python",
   "name": "python3"
  },
  "language_info": {
   "codemirror_mode": {
    "name": "ipython",
    "version": 3
   },
   "file_extension": ".py",
   "mimetype": "text/x-python",
   "name": "python",
   "nbconvert_exporter": "python",
   "pygments_lexer": "ipython3",
   "version": "3.7.3"
  }
 },
 "nbformat": 4,
 "nbformat_minor": 2
}
