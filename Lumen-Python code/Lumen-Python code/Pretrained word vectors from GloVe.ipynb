{
 "cells": [
  {
   "cell_type": "code",
   "execution_count": 3,
   "metadata": {},
   "outputs": [],
   "source": [
    "from __future__ import print_function,division\n",
    "from future.utils import iteritems\n",
    "from builtins import range\n",
    "import json\n",
    "import numpy as np\n",
    "import matplotlib.pyplot as plt\n",
    "from scipy.special import expit as sigmoid\n",
    "from sklearn.utils import shuffle\n",
    "from datetime import datetime\n",
    "#from scipy.spatisl.distance import cosine as cos_dist\n",
    "from sklearn.metrics.pairwise import pairwise_distances\n",
    "from glob import glob\n",
    "import os\n",
    "import sys\n",
    "import string"
   ]
  },
  {
   "cell_type": "code",
   "execution_count": 4,
   "metadata": {},
   "outputs": [],
   "source": [
    "def dis1(a,b):\n",
    "    return np.linalg.norm(a- b)\n",
    "def dist2(a,b):\n",
    "    return 1- a.dot(b)/ np.linalg.norm(a)* np.linalg.norm(b)\n",
    "\n",
    "dist,metric = dist2,'cosine'"
   ]
  },
  {
   "cell_type": "code",
   "execution_count": 19,
   "metadata": {},
   "outputs": [
    {
     "name": "stdout",
     "output_type": "stream",
     "text": [
      "loadind word vectors...\n",
      "found 400000 word vectors.\n",
      "king - man = king - woman\n",
      "france - paris = britain - london\n",
      "france - paris = italy - rome\n"
     ]
    }
   ],
   "source": [
    "# def find_analogies(w1,w2,w3):\n",
    "#     for w in (w1,w2,w3):\n",
    "#         if w not in word2vec:\n",
    "#             print(\"%s not in dictionary\" %w)\n",
    "#             return\n",
    "#     king = word2vec[w1]\n",
    "#     man = word2vec[w2]\n",
    "#     woman = word2vec[w3]\n",
    "#     v0 = king - man + woman\n",
    "    \n",
    "#     min_dist = float('inf')\n",
    "#     best_word = ''\n",
    "#     for word,v1 in iterites(word2vec):\n",
    "#         if word not in (w1,w2,w3):\n",
    "#             d = dist(v0,v1)\n",
    "#             if d < min_dist:\n",
    "#                 min_dist = d\n",
    "#                 best_word = word\n",
    "#     print(w1,'-',w2,'=',best_word,'-',w3)\n",
    "##faster\n",
    "def find_analogies(w1,w2,w3):\n",
    "    for w in (w1,w2,w3):\n",
    "        if w not in word2vec:\n",
    "            print(\"%s not in dictionary\" %w)\n",
    "            return\n",
    "    king = word2vec[w1]\n",
    "    man = word2vec[w2]\n",
    "    woman = word2vec[w3]\n",
    "    v0 = king - man + woman\n",
    "    \n",
    "    distances = pairwise_distances(v0.reshape(1,D),embedding,metric=metric).reshape(V)\n",
    "    idx = distances.argmin()\n",
    "    best_word = idx2word[idx]\n",
    "    print(w1,'-',w2,'=',best_word,'-',w3)\n",
    "            \n",
    "def nearest_neighbors(w,n=5):\n",
    "    if w not in word2vec:\n",
    "        print('%s not in dictionary:'%w)\n",
    "        return\n",
    "    v = word2vec[w]\n",
    "    distances = pairwise_distances(v.reshape(1,D),embedding,metric=metric).reshape(V)\n",
    "    idxs = distances.argsort()[1:n+1]\n",
    "    print(\"neighbours of %s\" %w)\n",
    "    for idx in idxs:\n",
    "        print('\\t%s'%idx2word[idx])\n",
    "\n",
    "print('loadind word vectors...')\n",
    "word2vec = {}\n",
    "embedding = []\n",
    "idx2word = []\n",
    "with open('C:\\\\Users\\\\ac36345\\\\Desktop\\\\nlp code\\\\glove.6B\\\\glove.6B.50d.txt',encoding=\"utf8\") as f:\n",
    "    for line in f:\n",
    "        values = line.split()\n",
    "        word = values[0]\n",
    "        vec = np.asarray(values[1:],dtype='float32')\n",
    "        word2vec[word] = vec\n",
    "        embedding.append(vec)\n",
    "        idx2word.append(word)\n",
    "print('found %s word vectors.' %len(word2vec))\n",
    "embedding = np.array(embedding)\n",
    "V,D = embedding.shape\n",
    "\n",
    "find_analogies('king','man','woman')\n",
    "find_analogies('france','paris','london')\n",
    "find_analogies('france','paris','rome')\n"
   ]
  },
  {
   "cell_type": "code",
   "execution_count": null,
   "metadata": {},
   "outputs": [],
   "source": []
  },
  {
   "cell_type": "code",
   "execution_count": null,
   "metadata": {},
   "outputs": [],
   "source": []
  }
 ],
 "metadata": {
  "kernelspec": {
   "display_name": "Python 3",
   "language": "python",
   "name": "python3"
  },
  "language_info": {
   "codemirror_mode": {
    "name": "ipython",
    "version": 3
   },
   "file_extension": ".py",
   "mimetype": "text/x-python",
   "name": "python",
   "nbconvert_exporter": "python",
   "pygments_lexer": "ipython3",
   "version": "3.7.3"
  }
 },
 "nbformat": 4,
 "nbformat_minor": 2
}
