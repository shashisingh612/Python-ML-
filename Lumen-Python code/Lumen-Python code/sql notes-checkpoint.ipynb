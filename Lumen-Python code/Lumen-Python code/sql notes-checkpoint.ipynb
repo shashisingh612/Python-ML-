{
 "cells": [
  {
   "cell_type": "code",
   "execution_count": null,
   "metadata": {},
   "outputs": [],
   "source": [
    "# other than aggreate column rest column should be present in groupby clause\n",
    "#if subquery used as for a table creation then write alias name for each aggregate column and give a name to table as well\n",
    "#ex: (select name,count(id) as 'idcount' from table) t   where t.idcount = ....\n",
    "#order by used at the last statement\n",
    "#wgho order of \n",
    "#union ignores duplicate union all takes all row\n",
    "#where col in (if here returns more than one value)\n",
    "#if we want to write aggreate fun in condition clause use having instead of where"
   ]
  },
  {
   "cell_type": "code",
   "execution_count": null,
   "metadata": {},
   "outputs": [],
   "source": [
    "select ROW_NUMBER() over(partition by  order by )"
   ]
  },
  {
   "cell_type": "code",
   "execution_count": null,
   "metadata": {},
   "outputs": [],
   "source": [
    "select ROW_NUMBER() over(order by prod_id) rownum,cat_name from table_name\n",
    "# over(order by prod means for one the of prod_id rownum remain same for next value of prod_id ronum changes\n",
    "select ROW_NUMBER() over(partition by cate_id order by prod,prod_id) rownum,cat_name from table_name\n",
    "#restart the no when cate_id changes this is the meaning of partition by cate_id\n",
    "\n",
    "select DENSE_RANK() over(order by prod,prod_id) rownum,cat_name from table_name\n",
    "\n",
    "# diff between rank and dense rank\n",
    "v    dense_rank    rank\n",
    "a      1            1\n",
    "b      2            2\n",
    "b      2            2 \n",
    "c      3            4\n",
    "c      3            4\n",
    "d      4            6 \n",
    "e      5            7"
   ]
  },
  {
   "cell_type": "code",
   "execution_count": null,
   "metadata": {},
   "outputs": [],
   "source": [
    "#seceond max salary \n",
    "select distinct salary from employee e1\n",
    "where 2 = (select count(distict salary) from employee e2 where e1.salary <= e2.salary\n",
    "           \n",
    "\n",
    "select min(salary) from (select distinct salary from employee order by salary desc) where rownum <=2\n"
   ]
  },
  {
   "cell_type": "code",
   "execution_count": null,
   "metadata": {},
   "outputs": [],
   "source": [
    "#duplicate rows\n",
    "Select * from Employee a where rowid <>( select max(rowid) from Employee b where a.Employee_num=b.Employee_num);"
   ]
  },
  {
   "cell_type": "code",
   "execution_count": null,
   "metadata": {},
   "outputs": [],
   "source": [
    "#monthly sal\n",
    "select yearlysalary/12 as 'monthly salary' from employee"
   ]
  },
  {
   "cell_type": "code",
   "execution_count": null,
   "metadata": {},
   "outputs": [],
   "source": [
    "ROWNUM can be used to limit the number of rows returned by a query, as shown in the example below:\n",
    "\n",
    "ROWID is representative of the allocation of physical memory."
   ]
  },
  {
   "cell_type": "code",
   "execution_count": null,
   "metadata": {},
   "outputs": [],
   "source": [
    "#union removes duplicate rows whereas union all does not removes\n",
    "intersect -- a inersection b\n",
    "except a-b\n",
    "\n",
    "#How to fetch 3rd highest salary using Rank Function?\n",
    "select * from(selct DENSE_RANK() over (order by salary desc) rank from employee)\n",
    "where rank = 3 \n",
    "\n",
    "#create table using select table\n",
    "Create table Employee_1 as Select * from Employee where 1=2;\n",
    "\n",
    "#50% row\n",
    "select rownum, e.* from emp e where rownum<=(select count(*)/2 from emp);\n",
    "\n",
    "#How to get distinct records from the table without using distinct keyword.\n",
    "select max row id value\n",
    "select * from Employee a where  rowid = (select max(rowid) from Employee b where  a.Employee_no=b.Employee_no);\n",
    "\n",
    "\n",
    "oracle: \n",
    "o\n",
    "r\n",
    "a\n",
    "c\n",
    "l\n",
    "e\n",
    "Select Substr(‘ORACLE’,Level,1) From Dual\n",
    "Connect By Level<= Length(‘ORACLE’);"
   ]
  },
  {
   "cell_type": "code",
   "execution_count": null,
   "metadata": {},
   "outputs": [],
   "source": [
    "#running total\n",
    "select cat.categoryname,productname,totalamoun,\n",
    "sum(totalamount) over(PARTITION by cat categoryid\n",
    "ORDER BY productname) AS RunningTotal\n",
    "from (select prod.categoryid, prod.productname,sum(ord quantity ord unitPrice) [totalamount]\n",
    "from [order details] ord\n",
    "inner join products prod on ord.productid = prod.productid\n",
    "GROUP BY prod.productname,prod.categoryid) t\n",
    "inner join categories on t.categoryid = cat.categoryid"
   ]
  },
  {
   "cell_type": "code",
   "execution_count": null,
   "metadata": {},
   "outputs": [],
   "source": [
    "#lead and lag function--\n",
    "#SQL Complex Queries , Query Optimization and Interview Questions SQLServer 2016\n",
    "\n",
    "A DB trigger is a code or programs that automatically execute with response to some event on a table or view in a database. \n",
    "Mainly, trigger helps to maintain the integrity of the database."
   ]
  },
  {
   "cell_type": "code",
   "execution_count": null,
   "metadata": {},
   "outputs": [],
   "source": [
    "#correlated subquery\n",
    "SELECT last_name, salary, department_id\n",
    " FROM employees outer\n",
    " WHERE salary >\n",
    "                (SELECT AVG(salary)\n",
    "                 FROM employees\n",
    "                 WHERE department_id =\n",
    "                        outer.department_id);"
   ]
  },
  {
   "cell_type": "code",
   "execution_count": null,
   "metadata": {},
   "outputs": [],
   "source": [
    "#second max salary method::\n",
    "find the salary which is less or equal to onlt 2 salaries\n",
    "arrange the salary in desc order and then find the rownum 2 salary\n",
    "find the max(salary) which is less than the max salary of the table\n",
    "selecting top2 salary from decrising salary and then select top 1 salary from asending salary\n",
    "\n",
    "SELECT salary FROM Employee ORDER BY salary DESC LIMIT 1,1;(limit and skip)\n",
    "or salary < max and limit 1.\n",
    "\n",
    "using rownum:\n",
    "SELECT Salary FROM ( SELECT e.Salary, ROW_NUMBER() OVER (ORDER BY salary DESC) rn FROM Employee e ) WHERE rn = 2;"
   ]
  },
  {
   "cell_type": "code",
   "execution_count": null,
   "metadata": {},
   "outputs": [],
   "source": [
    "CREATE TABLE Students ( \t /* Create table with multiple fields as primary key */\n",
    "    ID INT NOT NULL\n",
    "    LastName VARCHAR(255)\n",
    "    FirstName VARCHAR(255) NOT NULL,\n",
    "    CONSTRAINT PK_Student\n",
    "    PRIMARY KEY (ID, FirstName)\n",
    ");\n",
    "\n",
    "ALTER TABLE Students \t /* Set a column as primary key */\n",
    "ADD PRIMARY KEY (ID);\n",
    "\n",
    "ALTER TABLE Students \t /* Set multiple columns as primary key */\n",
    "ADD CONSTRAINT PK_Student \t /*Naming a Primary Key*/\n",
    "PRIMARY KEY (ID, FirstName);"
   ]
  },
  {
   "cell_type": "code",
   "execution_count": null,
   "metadata": {},
   "outputs": [],
   "source": [
    "select first.submission_date,min(second.hacker_id)\n",
    "from (\n",
    "select t.submission_date,max(scount) as 'mscount' from\n",
    " (select submission_date,hacker_id,count(submission_id) as 'scount' from \n",
    " Submissions \n",
    "where hacker_id in (select p.hacker_id from (select submission_date,hacker_id,count(submission_id) as 'col' from Submissions group by submission_date,hacker_id) p\n",
    "group by p.hacker_id\n",
    "having count(p.submission_date) > 14)\n",
    "group by submission_date,hacker_id) t\n",
    "group by t.submission_date \n",
    "where hacker_id in (select p.hacker_id from (select submission_date,hacker_id,count(submission_id) as 'col' from Submissions group by submission_date,hacker_id) p\n",
    "group by p.hacker_id\n",
    "having count(p.submission_date) > 14)\n",
    "group by submission_date,hacker_id) t\n",
    "group by t.submission_date ) first\n",
    "left join \n",
    "(seelct submission_date,hacker_id,count(submission_id) as 'sc' from Submissions\n",
    " group by submission_date,hacker_id) second\n",
    "on first.submission_date = second.submission_date\n",
    "and sc = mscount\n",
    "group by second.submission_date\n"
   ]
  },
  {
   "cell_type": "code",
   "execution_count": null,
   "metadata": {},
   "outputs": [],
   "source": []
  },
  {
   "cell_type": "code",
   "execution_count": null,
   "metadata": {},
   "outputs": [],
   "source": []
  },
  {
   "cell_type": "code",
   "execution_count": null,
   "metadata": {},
   "outputs": [],
   "source": []
  }
 ],
 "metadata": {
  "kernelspec": {
   "display_name": "Python 3",
   "language": "python",
   "name": "python3"
  },
  "language_info": {
   "codemirror_mode": {
    "name": "ipython",
    "version": 3
   },
   "file_extension": ".py",
   "mimetype": "text/x-python",
   "name": "python",
   "nbconvert_exporter": "python",
   "pygments_lexer": "ipython3",
   "version": "3.7.3"
  }
 },
 "nbformat": 4,
 "nbformat_minor": 2
}
