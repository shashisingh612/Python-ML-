{
 "cells": [
  {
   "cell_type": "code",
   "execution_count": null,
   "metadata": {},
   "outputs": [],
   "source": [
    "import os\n",
    "import glob\n",
    "import pandas as pd\n",
    "import numpy as np"
   ]
  },
  {
   "cell_type": "code",
   "execution_count": null,
   "metadata": {},
   "outputs": [],
   "source": [
    "files_path = \"\"\n",
    "read_files = glob.glob(os.path.join(files_Path,\".csv\"))\n",
    "np_array_values = []\n",
    "for files in read_files:\n",
    "    employee_data = pd.read_csv(files,header=0)\n",
    "    np_array.values.append(employee_data)\n",
    "    print(files)"
   ]
  },
  {
   "cell_type": "code",
   "execution_count": null,
   "metadata": {},
   "outputs": [],
   "source": [
    "merge_values = np.stack(np_array_values)\n",
    "employee_data = pd.DataFrame(merge_values)\n",
    "#employee_data.columns = [\"ename\",\"job\"]\n",
    "employee_data"
   ]
  },
  {
   "cell_type": "code",
   "execution_count": null,
   "metadata": {},
   "outputs": [],
   "source": [
    "# importing required modules \n",
    "from zipfile import ZipFile \n",
    "  \n",
    "# specifying the zip file name \n",
    "file_name = \"my_python_files.zip\"\n",
    "  \n",
    "# opening the zip file in READ mode \n",
    "with ZipFile(file_name, 'r') as zip: \n",
    "    # printing all the contents of the zip file \n",
    "    zip.printdir() \n",
    "  \n",
    "    # extracting all the files \n",
    "    print('Extracting all the files now...') \n",
    "    zip.extractall() \n",
    "    print('Done!') "
   ]
  },
  {
   "cell_type": "code",
   "execution_count": null,
   "metadata": {},
   "outputs": [],
   "source": [
    "import MySQLdb,os\n",
    "\n",
    "path='testData'\n",
    "absPath = os.path.abspath(path)\n",
    "print absPath\n",
    "\n",
    "conn = MySQLdb.connect(host='localhost',\n",
    "                          user='root',\n",
    "                          passwd='',\n",
    "                          db='iens')\n",
    "\n",
    "db_cursor = conn.cursor()\n",
    "\n",
    "query = \"LOAD DATA INFILE '\"+ absPath + \"/rec.csv\" +\"' INTO TABLE iens.recensies FIELDS TERMINATED BY ' ' LINES TERMINATED BY '\\n' \"\n",
    "\n",
    "db_cursor.execute(query)\n",
    "connection.commit()"
   ]
  },
  {
   "cell_type": "code",
   "execution_count": null,
   "metadata": {},
   "outputs": [],
   "source": [
    "path = \n",
    "files = os.listdir(path)\n",
    "print(files)\n",
    "AllNames = pd.DataFrame()\n",
    "\n",
    "##if f[-5:] == '.xlsx'\n",
    "for f in files:\n",
    "    info = pd.read_excel(f,\"sheet1\")\n",
    "    AllNames = ALLNames.append(info)\n",
    "print(AllNames)\n",
    "\n",
    "\n",
    "#save result to excel\n",
    "writer = pd.excelWriter(\"nameoutput.xlsx\")\n",
    "AllNames.to_excel(writer,\"sheet1\")\n",
    "writer.save()\n",
    "    "
   ]
  },
  {
   "cell_type": "code",
   "execution_count": null,
   "metadata": {},
   "outputs": [],
   "source": []
  }
 ],
 "metadata": {
  "kernelspec": {
   "display_name": "Python 3",
   "language": "python",
   "name": "python3"
  },
  "language_info": {
   "codemirror_mode": {
    "name": "ipython",
    "version": 3
   },
   "file_extension": ".py",
   "mimetype": "text/x-python",
   "name": "python",
   "nbconvert_exporter": "python",
   "pygments_lexer": "ipython3",
   "version": "3.7.3"
  }
 },
 "nbformat": 4,
 "nbformat_minor": 2
}
