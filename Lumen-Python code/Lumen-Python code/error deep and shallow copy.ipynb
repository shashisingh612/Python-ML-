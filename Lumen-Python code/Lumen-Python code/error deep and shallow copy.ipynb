{
 "cells": [
  {
   "cell_type": "code",
   "execution_count": 1,
   "metadata": {},
   "outputs": [
    {
     "ename": "Exception",
     "evalue": "error",
     "output_type": "error",
     "traceback": [
      "\u001b[1;31m---------------------------------------------------------------------------\u001b[0m",
      "\u001b[1;31mException\u001b[0m                                 Traceback (most recent call last)",
      "\u001b[1;32m<ipython-input-1-da28c6ab49c4>\u001b[0m in \u001b[0;36m<module>\u001b[1;34m\u001b[0m\n\u001b[0;32m      5\u001b[0m \u001b[0mx\u001b[0m\u001b[1;33m=\u001b[0m\u001b[1;36m2\u001b[0m\u001b[1;33m\u001b[0m\u001b[1;33m\u001b[0m\u001b[0m\n\u001b[0;32m      6\u001b[0m \u001b[1;32mif\u001b[0m \u001b[0mx\u001b[0m\u001b[1;33m==\u001b[0m\u001b[1;36m2\u001b[0m\u001b[1;33m:\u001b[0m\u001b[1;33m\u001b[0m\u001b[1;33m\u001b[0m\u001b[0m\n\u001b[1;32m----> 7\u001b[1;33m     \u001b[1;32mraise\u001b[0m \u001b[0mException\u001b[0m\u001b[1;33m(\u001b[0m\u001b[1;34m\"error\"\u001b[0m\u001b[1;33m)\u001b[0m\u001b[1;33m\u001b[0m\u001b[1;33m\u001b[0m\u001b[0m\n\u001b[0m",
      "\u001b[1;31mException\u001b[0m: error"
     ]
    }
   ],
   "source": [
    "#AssertionError , aasert (1==2),syntax error,AttributeError,EOFError,FloatingPointError,ImportError,IndexError,KeyError\n",
    "#OverflowError,typerror,StopIteration,typr error('10'+10),ZeroDivisionError\n",
    "\n",
    "#raise exception\n",
    "x=2\n",
    "if x==2:\n",
    "    raise Exception(\"error\")"
   ]
  },
  {
   "cell_type": "code",
   "execution_count": 13,
   "metadata": {},
   "outputs": [
    {
     "ename": "TypeError",
     "evalue": "unsupported operand type(s) for +: 'int' and 'dict'",
     "output_type": "error",
     "traceback": [
      "\u001b[1;31m---------------------------------------------------------------------------\u001b[0m",
      "\u001b[1;31mTypeError\u001b[0m                                 Traceback (most recent call last)",
      "\u001b[1;32m<ipython-input-13-05cd8fb904c5>\u001b[0m in \u001b[0;36m<module>\u001b[1;34m\u001b[0m\n\u001b[0;32m      1\u001b[0m \u001b[1;31m#type error\u001b[0m\u001b[1;33m\u001b[0m\u001b[1;33m\u001b[0m\u001b[1;33m\u001b[0m\u001b[0m\n\u001b[1;32m----> 2\u001b[1;33m \u001b[1;33m(\u001b[0m\u001b[1;36m1\u001b[0m\u001b[1;33m+\u001b[0m\u001b[0ma\u001b[0m\u001b[1;33m)\u001b[0m\u001b[1;33m\u001b[0m\u001b[1;33m\u001b[0m\u001b[0m\n\u001b[0m",
      "\u001b[1;31mTypeError\u001b[0m: unsupported operand type(s) for +: 'int' and 'dict'"
     ]
    }
   ],
   "source": [
    "#type error\n",
    "(1+a)"
   ]
  },
  {
   "cell_type": "code",
   "execution_count": 12,
   "metadata": {},
   "outputs": [
    {
     "ename": "NameError",
     "evalue": "name 'z' is not defined",
     "output_type": "error",
     "traceback": [
      "\u001b[1;31m---------------------------------------------------------------------------\u001b[0m",
      "\u001b[1;31mNameError\u001b[0m                                 Traceback (most recent call last)",
      "\u001b[1;32m<ipython-input-12-1876cdee6be3>\u001b[0m in \u001b[0;36m<module>\u001b[1;34m\u001b[0m\n\u001b[0;32m      1\u001b[0m \u001b[1;31m#name error\u001b[0m\u001b[1;33m\u001b[0m\u001b[1;33m\u001b[0m\u001b[1;33m\u001b[0m\u001b[0m\n\u001b[1;32m----> 2\u001b[1;33m \u001b[0mprint\u001b[0m\u001b[1;33m(\u001b[0m\u001b[0mz\u001b[0m\u001b[1;33m)\u001b[0m\u001b[1;33m\u001b[0m\u001b[1;33m\u001b[0m\u001b[0m\n\u001b[0m\u001b[0;32m      3\u001b[0m \u001b[1;31m#type error\u001b[0m\u001b[1;33m\u001b[0m\u001b[1;33m\u001b[0m\u001b[1;33m\u001b[0m\u001b[0m\n\u001b[0;32m      4\u001b[0m \u001b[1;33m(\u001b[0m\u001b[1;36m1\u001b[0m\u001b[1;33m+\u001b[0m\u001b[0ma\u001b[0m\u001b[1;33m)\u001b[0m\u001b[1;33m\u001b[0m\u001b[1;33m\u001b[0m\u001b[0m\n",
      "\u001b[1;31mNameError\u001b[0m: name 'z' is not defined"
     ]
    }
   ],
   "source": [
    "#name error\n",
    "print(z)\n",
    "#type error\n",
    "(1+a)"
   ]
  },
  {
   "cell_type": "code",
   "execution_count": 9,
   "metadata": {},
   "outputs": [
    {
     "ename": "KeyError",
     "evalue": "5",
     "output_type": "error",
     "traceback": [
      "\u001b[1;31m---------------------------------------------------------------------------\u001b[0m",
      "\u001b[1;31mKeyError\u001b[0m                                  Traceback (most recent call last)",
      "\u001b[1;32m<ipython-input-9-c367641e5b36>\u001b[0m in \u001b[0;36m<module>\u001b[1;34m\u001b[0m\n\u001b[0;32m      1\u001b[0m \u001b[0ma\u001b[0m\u001b[1;33m=\u001b[0m\u001b[1;33m{\u001b[0m\u001b[1;36m1\u001b[0m\u001b[1;33m:\u001b[0m\u001b[1;34m'a'\u001b[0m\u001b[1;33m,\u001b[0m\u001b[1;36m2\u001b[0m\u001b[1;33m:\u001b[0m\u001b[1;34m'b'\u001b[0m\u001b[1;33m,\u001b[0m\u001b[1;36m3\u001b[0m\u001b[1;33m:\u001b[0m\u001b[1;34m'c'\u001b[0m\u001b[1;33m,\u001b[0m\u001b[1;36m4\u001b[0m\u001b[1;33m:\u001b[0m\u001b[1;34m'd'\u001b[0m\u001b[1;33m}\u001b[0m\u001b[1;33m\u001b[0m\u001b[1;33m\u001b[0m\u001b[0m\n\u001b[1;32m----> 2\u001b[1;33m \u001b[0ma\u001b[0m\u001b[1;33m[\u001b[0m\u001b[1;36m5\u001b[0m\u001b[1;33m]\u001b[0m\u001b[1;33m\u001b[0m\u001b[1;33m\u001b[0m\u001b[0m\n\u001b[0m",
      "\u001b[1;31mKeyError\u001b[0m: 5"
     ]
    }
   ],
   "source": [
    "#key error\n",
    "a={1:'a',2:'b',3:'c',4:'d'}\n",
    "a[5]"
   ]
  },
  {
   "cell_type": "code",
   "execution_count": 4,
   "metadata": {},
   "outputs": [
    {
     "ename": "AssertionError",
     "evalue": "erro msg",
     "output_type": "error",
     "traceback": [
      "\u001b[1;31m---------------------------------------------------------------------------\u001b[0m",
      "\u001b[1;31mAssertionError\u001b[0m                            Traceback (most recent call last)",
      "\u001b[1;32m<ipython-input-4-363ca9598ca2>\u001b[0m in \u001b[0;36m<module>\u001b[1;34m\u001b[0m\n\u001b[0;32m      1\u001b[0m \u001b[1;32mimport\u001b[0m \u001b[0msys\u001b[0m\u001b[1;33m\u001b[0m\u001b[1;33m\u001b[0m\u001b[0m\n\u001b[1;32m----> 2\u001b[1;33m \u001b[1;32massert\u001b[0m\u001b[1;33m(\u001b[0m\u001b[1;34m'linux'\u001b[0m \u001b[1;32min\u001b[0m \u001b[0msys\u001b[0m\u001b[1;33m.\u001b[0m\u001b[0mplatform\u001b[0m\u001b[1;33m)\u001b[0m\u001b[1;33m,\u001b[0m\u001b[1;34m\"erro msg\"\u001b[0m\u001b[1;33m\u001b[0m\u001b[1;33m\u001b[0m\u001b[0m\n\u001b[0m",
      "\u001b[1;31mAssertionError\u001b[0m: erro msg"
     ]
    }
   ],
   "source": [
    "import sys\n",
    "assert('linux' in sys.platform),\"erro msg\""
   ]
  },
  {
   "cell_type": "code",
   "execution_count": 8,
   "metadata": {},
   "outputs": [
    {
     "ename": "AssertionError",
     "evalue": "error",
     "output_type": "error",
     "traceback": [
      "\u001b[1;31m---------------------------------------------------------------------------\u001b[0m",
      "\u001b[1;31mAssertionError\u001b[0m                            Traceback (most recent call last)",
      "\u001b[1;32m<ipython-input-8-45d923da892f>\u001b[0m in \u001b[0;36m<module>\u001b[1;34m\u001b[0m\n\u001b[0;32m      1\u001b[0m \u001b[1;31m#if a==2:\u001b[0m\u001b[1;33m\u001b[0m\u001b[1;33m\u001b[0m\u001b[1;33m\u001b[0m\u001b[0m\n\u001b[0;32m      2\u001b[0m \u001b[0ma\u001b[0m\u001b[1;33m=\u001b[0m\u001b[1;36m2\u001b[0m\u001b[1;33m\u001b[0m\u001b[1;33m\u001b[0m\u001b[0m\n\u001b[1;32m----> 3\u001b[1;33m \u001b[1;32massert\u001b[0m\u001b[1;33m(\u001b[0m\u001b[0ma\u001b[0m\u001b[1;33m==\u001b[0m\u001b[1;36m1\u001b[0m\u001b[1;33m)\u001b[0m\u001b[1;33m,\u001b[0m\u001b[1;34m'error'\u001b[0m\u001b[1;33m\u001b[0m\u001b[1;33m\u001b[0m\u001b[0m\n\u001b[0m",
      "\u001b[1;31mAssertionError\u001b[0m: error"
     ]
    }
   ],
   "source": [
    "#assertion error\n",
    "#if a==2:\n",
    "a=2\n",
    "assert(a==1),'error'"
   ]
  },
  {
   "cell_type": "code",
   "execution_count": null,
   "metadata": {},
   "outputs": [],
   "source": [
    "Magic methods in Python are the special methods that start and end with the double underscores. \n",
    "They are also called dunder methods. Magic methods are not meant to be invoked directly by you, \n",
    "but the invocation happens internally from the class on a certain action. \n",
    "For example, when you add two numbers using the + operator, internally, the __add__() method will be called."
   ]
  },
  {
   "cell_type": "code",
   "execution_count": 6,
   "metadata": {},
   "outputs": [],
   "source": [
    "#we can declare a child class from Exception and raise exception \n",
    "class IterImproveError(Exception):\n",
    "        def __init__(self, last_guess):\n",
    "            self.last_guess = last_guess\n",
    "\n",
    "\n",
    "def improve(update, done, guess=1, max_updates=1000):\n",
    "    k = 0\n",
    "    try:\n",
    "        while not done(guess) and k < max_updates:\n",
    "            guess = update(guess)\n",
    "            k = k + 1\n",
    "            return guess\n",
    "    except ValueError:\n",
    "        raise IterImproveError(guess)\n",
    "\n",
    "        "
   ]
  },
  {
   "cell_type": "code",
   "execution_count": null,
   "metadata": {},
   "outputs": [],
   "source": [
    "#shallow copy and deep copy\n",
    "\n",
    "#With a shallow copy, two collections now share the individual elements.\n",
    "\n",
    "#Deep copies duplicate everything. A deep copy of a collection is two collections with all of the elements in \n",
    "#the original \n",
    "#collection duplicated."
   ]
  },
  {
   "cell_type": "code",
   "execution_count": 6,
   "metadata": {},
   "outputs": [],
   "source": [
    "# importing copy module \n",
    "import copy \n",
    "  \n",
    "# initializing list 1  \n",
    "li1 = [1, 2, [3,5], 4] \n",
    "  \n",
    "  \n",
    "# using copy for shallow copy   (it has taken an image of 0:4 location with li1(and sharing the reference of sublist))\n",
    "li2 = copy.copy(li1)  \n",
    "  \n",
    "# using deepcopy for deepcopy   \n",
    "li3 = copy.deepcopy(li1)  "
   ]
  },
  {
   "cell_type": "code",
   "execution_count": 10,
   "metadata": {},
   "outputs": [
    {
     "name": "stdout",
     "output_type": "stream",
     "text": [
      "[1, 2, [3, 5], 4, 5] [1, 2, [3, 5], 4] [1, 2, [3, 5], 4]\n",
      "[1, 0, [3, 5], 4, 5] [1, 2, [3, 5], 4] [1, 2, [3, 5], 4]\n",
      "[1, 0, [4, 5], 4, 5] [1, 2, [4, 5], 4] [1, 2, [3, 5], 4]\n"
     ]
    }
   ],
   "source": [
    "#for lil1 changes\n",
    "li1 = [1, 2, [3,5], 4] \n",
    "li2 = copy.copy(li1)  \n",
    "li3 = copy.deepcopy(li1)  \n",
    "\n",
    "\n",
    "li1.append(5)  # changes only in li1\n",
    "print(li1,li2,li3)\n",
    "\n",
    "li1[1]=0 # changes only in li1\n",
    "print(li1,li2,li3)\n",
    "\n",
    "li1[2][0]=4 # change reflected in li2 also\n",
    "print(li1,li2,li3)"
   ]
  },
  {
   "cell_type": "code",
   "execution_count": 11,
   "metadata": {},
   "outputs": [
    {
     "name": "stdout",
     "output_type": "stream",
     "text": [
      "[1, 2, [3, 5], 4] [1, 2, [3, 5], 4, 5] [1, 2, [3, 5], 4]\n",
      "[1, 2, [3, 5], 4] [1, 0, [3, 5], 4, 5] [1, 2, [3, 5], 4]\n",
      "[1, 2, [4, 5], 4] [1, 0, [4, 5], 4, 5] [1, 2, [3, 5], 4]\n"
     ]
    }
   ],
   "source": [
    "#for lil2 changes\n",
    "li1 = [1, 2, [3,5], 4] \n",
    "li2 = copy.copy(li1)  \n",
    "li3 = copy.deepcopy(li1)  \n",
    "li2.append(5)  # changes only in li2\n",
    "print(li1,li2,li3)\n",
    "\n",
    "li2[1]=0 # changes only in li2\n",
    "print(li1,li2,li3)\n",
    "\n",
    "li2[2][0]=4 # change reflected in li1 also\n",
    "print(li1,li2,li3)"
   ]
  },
  {
   "cell_type": "code",
   "execution_count": 12,
   "metadata": {},
   "outputs": [
    {
     "name": "stdout",
     "output_type": "stream",
     "text": [
      "[1, 2, [3, 5], 4] [1, 2, [3, 5], 4] [1, 2, [3, 5], 4, 5]\n",
      "[1, 2, [3, 5], 4] [1, 2, [3, 5], 4] [1, 0, [3, 5], 4, 5]\n",
      "[1, 2, [3, 5], 4] [1, 2, [3, 5], 4] [1, 0, [4, 5], 4, 5]\n"
     ]
    }
   ],
   "source": [
    "#for lil3 changes\n",
    "li1 = [1, 2, [3,5], 4] \n",
    "li2 = copy.copy(li1)  \n",
    "li3 = copy.deepcopy(li1)  \n",
    "li3.append(5)  # changes only in li3\n",
    "print(li1,li2,li3)\n",
    "\n",
    "li3[1]=0 # changes only in li3\n",
    "print(li1,li2,li3)\n",
    "\n",
    "li3[2][0]=4 # change reflected in li3  only\n",
    "print(li1,li2,li3)"
   ]
  },
  {
   "cell_type": "code",
   "execution_count": null,
   "metadata": {},
   "outputs": [],
   "source": []
  }
 ],
 "metadata": {
  "kernelspec": {
   "display_name": "Python 3",
   "language": "python",
   "name": "python3"
  },
  "language_info": {
   "codemirror_mode": {
    "name": "ipython",
    "version": 3
   },
   "file_extension": ".py",
   "mimetype": "text/x-python",
   "name": "python",
   "nbconvert_exporter": "python",
   "pygments_lexer": "ipython3",
   "version": "3.7.3"
  }
 },
 "nbformat": 4,
 "nbformat_minor": 2
}
