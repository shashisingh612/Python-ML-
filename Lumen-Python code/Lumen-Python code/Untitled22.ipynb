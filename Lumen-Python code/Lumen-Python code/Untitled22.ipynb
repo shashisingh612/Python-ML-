{
 "cells": [
  {
   "cell_type": "code",
   "execution_count": null,
   "metadata": {},
   "outputs": [],
   "source": [
    "select ROW_NUMBER() over(order by prod_id) rownum,cat_name from table_name\n",
    "# over(order by prod means for one the of prod_id rownum remain same for next value of prod_id ronum changes\n",
    "select ROW_NUMBER() over(partition by cate_id order by prod,prod_id) rownum,cat_name from table_name\n",
    "#restart the no when cate_id changes this is the meaning of partition by cate_id\n",
    "\n",
    "select DENSE_RANK() over(order by prod,prod_id) rownum,cat_name from table_name\n",
    "\n",
    "\n",
    "# diff between rank and dense rank\n",
    "v    dense_rank    rank\n",
    "a      1            1\n",
    "b      2            2\n",
    "b      2            2 \n",
    "c      3            4\n",
    "c      3            4\n",
    "d      5            6 \n",
    "e      6            7\n",
    "\n"
   ]
  },
  {
   "cell_type": "code",
   "execution_count": null,
   "metadata": {},
   "outputs": [],
   "source": [
    "# diff between rank and dense rank\n",
    "v    dense_rank    rank\n",
    "a      1            1\n",
    "b      2            2\n",
    "b      2            2 \n",
    "c      3            4\n",
    "c      3            4\n",
    "d      5            6 \n",
    "e      6            7"
   ]
  }
 ],
 "metadata": {
  "kernelspec": {
   "display_name": "Python 3",
   "language": "python",
   "name": "python3"
  },
  "language_info": {
   "codemirror_mode": {
    "name": "ipython",
    "version": 3
   },
   "file_extension": ".py",
   "mimetype": "text/x-python",
   "name": "python",
   "nbconvert_exporter": "python",
   "pygments_lexer": "ipython3",
   "version": "3.7.3"
  }
 },
 "nbformat": 4,
 "nbformat_minor": 2
}
