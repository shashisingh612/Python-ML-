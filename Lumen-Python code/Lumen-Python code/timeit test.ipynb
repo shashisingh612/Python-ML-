{
 "cells": [
  {
   "cell_type": "code",
   "execution_count": 36,
   "metadata": {},
   "outputs": [
    {
     "name": "stdout",
     "output_type": "stream",
     "text": [
      "2.0700000050055678e-07\n"
     ]
    }
   ],
   "source": [
    "import timeit\n",
    "code_to_test = \"\"\"\n",
    "ar=[1,2,3,3,1,1,2]\n",
    "n=7\n",
    "import collections\n",
    "def sockMerchant(ar,n):\n",
    "    a = collections.Counter(ar)\n",
    "    k=0\n",
    "    for i in a.values():\n",
    "        if i>=2:\n",
    "            k = k + i//2\n",
    "    return k\n",
    "sockMerchant(ar,n)\n",
    "\n",
    "\"\"\"\n",
    "elapsed_time = timeit.timeit(code_to_test, number=1)/100\n",
    "print(elapsed_time)"
   ]
  },
  {
   "cell_type": "code",
   "execution_count": 37,
   "metadata": {},
   "outputs": [
    {
     "name": "stdout",
     "output_type": "stream",
     "text": [
      "1.3299999977789413e-07\n"
     ]
    }
   ],
   "source": [
    "import timeit\n",
    "code_to_test = \"\"\"\n",
    "\n",
    "\"\"\"\n",
    "elapsed_time = timeit.timeit(code_to_test, number=1)/100\n",
    "print(elapsed_time)"
   ]
  },
  {
   "cell_type": "code",
   "execution_count": 38,
   "metadata": {},
   "outputs": [
    {
     "data": {
      "text/plain": [
       "3"
      ]
     },
     "execution_count": 38,
     "metadata": {},
     "output_type": "execute_result"
    }
   ],
   "source": [
    "ar=[1,2,3,3,1,1,2]\n",
    "n=7\n",
    "#import collections\n",
    "def sockMerchant(ar,n):\n",
    "    \n",
    "    a = collections.Counter(ar)\n",
    "    k=0\n",
    "    for i in a.values():\n",
    "        if i>=2:\n",
    "            k = k + i//2\n",
    "    return k\n",
    "sockMerchant(ar,n)\n"
   ]
  },
  {
   "cell_type": "code",
   "execution_count": null,
   "metadata": {},
   "outputs": [],
   "source": [
    "for i in ar:\n",
    "    "
   ]
  }
 ],
 "metadata": {
  "kernelspec": {
   "display_name": "Python 3",
   "language": "python",
   "name": "python3"
  },
  "language_info": {
   "codemirror_mode": {
    "name": "ipython",
    "version": 3
   },
   "file_extension": ".py",
   "mimetype": "text/x-python",
   "name": "python",
   "nbconvert_exporter": "python",
   "pygments_lexer": "ipython3",
   "version": "3.7.3"
  }
 },
 "nbformat": 4,
 "nbformat_minor": 2
}
