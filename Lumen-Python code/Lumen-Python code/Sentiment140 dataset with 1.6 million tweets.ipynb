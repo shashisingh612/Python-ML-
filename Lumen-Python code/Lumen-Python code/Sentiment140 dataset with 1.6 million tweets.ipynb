{
 "cells": [
  {
   "cell_type": "code",
   "execution_count": 1,
   "metadata": {},
   "outputs": [],
   "source": [
    "#!pip install gensim --upgrade\n",
    "#!pip install keras --upgrade\n",
    "#!pip install pandas --upgrade"
   ]
  },
  {
   "cell_type": "code",
   "execution_count": 2,
   "metadata": {},
   "outputs": [
    {
     "name": "stderr",
     "output_type": "stream",
     "text": [
      "Using TensorFlow backend.\n"
     ]
    }
   ],
   "source": [
    "# DataFrame\n",
    "import pandas as pd\n",
    "\n",
    "# Matplot\n",
    "import matplotlib.pyplot as plt\n",
    "%matplotlib inline\n",
    "\n",
    "# Scikit-learn\n",
    "from sklearn.model_selection import train_test_split\n",
    "from sklearn.preprocessing import LabelEncoder\n",
    "from sklearn.metrics import confusion_matrix, classification_report, accuracy_score\n",
    "from sklearn.manifold import TSNE\n",
    "from sklearn.feature_extraction.text import TfidfVectorizer\n",
    "\n",
    "# Keras\n",
    "from keras.preprocessing.text import Tokenizer\n",
    "from keras.preprocessing.sequence import pad_sequences\n",
    "from keras.models import Sequential\n",
    "from keras.layers import Activation, Dense, Dropout, Embedding, Flatten, Conv1D, MaxPooling1D, LSTM\n",
    "from keras import utils\n",
    "from keras.callbacks import ReduceLROnPlateau, EarlyStopping\n",
    "\n",
    "# nltk\n",
    "import nltk\n",
    "from nltk.corpus import stopwords\n",
    "from  nltk.stem import SnowballStemmer\n",
    "\n",
    "# Word2vec\n",
    "import gensim\n",
    "\n",
    "# Utility\n",
    "import re\n",
    "import numpy as np\n",
    "import os\n",
    "from collections import Counter\n",
    "import logging\n",
    "import time\n",
    "import pickle\n",
    "import itertools\n",
    "\n",
    "# Set log\n",
    "logging.basicConfig(format='%(asctime)s : %(levelname)s : %(message)s', level=logging.INFO)"
   ]
  },
  {
   "cell_type": "code",
   "execution_count": 3,
   "metadata": {},
   "outputs": [
    {
     "name": "stderr",
     "output_type": "stream",
     "text": [
      "[nltk_data] Downloading package stopwords to\n",
      "[nltk_data]     C:\\Users\\ac36345\\AppData\\Roaming\\nltk_data...\n",
      "[nltk_data]   Package stopwords is already up-to-date!\n"
     ]
    },
    {
     "data": {
      "text/plain": [
       "True"
      ]
     },
     "execution_count": 3,
     "metadata": {},
     "output_type": "execute_result"
    }
   ],
   "source": [
    "nltk.download('stopwords')"
   ]
  },
  {
   "cell_type": "code",
   "execution_count": 8,
   "metadata": {},
   "outputs": [],
   "source": [
    "# DATASET\n",
    "DATASET_COLUMNS = [\"target\", \"ids\", \"date\", \"flag\", \"user\", \"text\"]\n",
    "DATASET_ENCODING = \"ISO-8859-1\"\n",
    "TRAIN_SIZE = 0.8\n",
    "\n",
    "# TEXT CLENAING\n",
    "TEXT_CLEANING_RE = \"@\\S+|https?:\\S+|http?:\\S|[^A-Za-z0-9]+\"\n",
    "\n",
    "# WORD2VEC \n",
    "W2V_SIZE = 300\n",
    "W2V_WINDOW = 7\n",
    "W2V_EPOCH = 32\n",
    "W2V_MIN_COUNT = 10\n",
    "\n",
    "# KERAS\n",
    "SEQUENCE_LENGTH = 300\n",
    "EPOCHS = 8\n",
    "BATCH_SIZE = 1024\n",
    "\n",
    "# SENTIMENT\n",
    "POSITIVE = \"POSITIVE\"\n",
    "NEGATIVE = \"NEGATIVE\"\n",
    "NEUTRAL = \"NEUTRAL\"\n",
    "SENTIMENT_THRESHOLDS = (0.4, 0.7)\n",
    "# EXPORT\n",
    "KERAS_MODEL = \"model.h5\"\n",
    "WORD2VEC_MODEL = \"model.w2v\"\n",
    "TOKENIZER_MODEL = \"tokenizer.pkl\"\n",
    "ENCODER_MODEL = \"encoder.pkl\""
   ]
  },
  {
   "cell_type": "markdown",
   "metadata": {},
   "source": [
    "Dataset details\n",
    "target: the polarity of the tweet (0 = negative, 2 = neutral, 4 = positive)\n",
    "ids: The id of the tweet ( 2087)\n",
    "date: the date of the tweet (Sat May 16 23:58:44 UTC 2009)\n",
    "flag: The query (lyx). If there is no query, then this value is NO_QUERY.\n",
    "user: the user that tweeted (robotickilldozr)\n",
    "text: the text of the tweet (Lyx is cool)"
   ]
  },
  {
   "cell_type": "code",
   "execution_count": 9,
   "metadata": {},
   "outputs": [],
   "source": [
    "#dataset_filename = os.listdir(\"C:\\\\Users\\\\ac36345\\\\Desktop\\\\Nlp Data\\\\Twitter\")[0]\n",
    "df = pd.read_csv(\"C:\\\\Users\\\\ac36345\\\\Desktop\\\\Nlp Data\\\\Twitter\\\\training.1600000.processed.noemoticon.csv\", encoding =DATASET_ENCODING , names=DATASET_COLUMNS)"
   ]
  },
  {
   "cell_type": "code",
   "execution_count": 10,
   "metadata": {},
   "outputs": [
    {
     "name": "stdout",
     "output_type": "stream",
     "text": [
      "Dataset size: 1600000\n"
     ]
    }
   ],
   "source": [
    "print(\"Dataset size:\", len(df))"
   ]
  },
  {
   "cell_type": "code",
   "execution_count": 11,
   "metadata": {},
   "outputs": [
    {
     "data": {
      "text/html": [
       "<div>\n",
       "<style scoped>\n",
       "    .dataframe tbody tr th:only-of-type {\n",
       "        vertical-align: middle;\n",
       "    }\n",
       "\n",
       "    .dataframe tbody tr th {\n",
       "        vertical-align: top;\n",
       "    }\n",
       "\n",
       "    .dataframe thead th {\n",
       "        text-align: right;\n",
       "    }\n",
       "</style>\n",
       "<table border=\"1\" class=\"dataframe\">\n",
       "  <thead>\n",
       "    <tr style=\"text-align: right;\">\n",
       "      <th></th>\n",
       "      <th>target</th>\n",
       "      <th>ids</th>\n",
       "      <th>date</th>\n",
       "      <th>flag</th>\n",
       "      <th>user</th>\n",
       "      <th>text</th>\n",
       "    </tr>\n",
       "  </thead>\n",
       "  <tbody>\n",
       "    <tr>\n",
       "      <th>0</th>\n",
       "      <td>0</td>\n",
       "      <td>1467810369</td>\n",
       "      <td>Mon Apr 06 22:19:45 PDT 2009</td>\n",
       "      <td>NO_QUERY</td>\n",
       "      <td>_TheSpecialOne_</td>\n",
       "      <td>@switchfoot http://twitpic.com/2y1zl - Awww, t...</td>\n",
       "    </tr>\n",
       "    <tr>\n",
       "      <th>1</th>\n",
       "      <td>0</td>\n",
       "      <td>1467810672</td>\n",
       "      <td>Mon Apr 06 22:19:49 PDT 2009</td>\n",
       "      <td>NO_QUERY</td>\n",
       "      <td>scotthamilton</td>\n",
       "      <td>is upset that he can't update his Facebook by ...</td>\n",
       "    </tr>\n",
       "    <tr>\n",
       "      <th>2</th>\n",
       "      <td>0</td>\n",
       "      <td>1467810917</td>\n",
       "      <td>Mon Apr 06 22:19:53 PDT 2009</td>\n",
       "      <td>NO_QUERY</td>\n",
       "      <td>mattycus</td>\n",
       "      <td>@Kenichan I dived many times for the ball. Man...</td>\n",
       "    </tr>\n",
       "    <tr>\n",
       "      <th>3</th>\n",
       "      <td>0</td>\n",
       "      <td>1467811184</td>\n",
       "      <td>Mon Apr 06 22:19:57 PDT 2009</td>\n",
       "      <td>NO_QUERY</td>\n",
       "      <td>ElleCTF</td>\n",
       "      <td>my whole body feels itchy and like its on fire</td>\n",
       "    </tr>\n",
       "    <tr>\n",
       "      <th>4</th>\n",
       "      <td>0</td>\n",
       "      <td>1467811193</td>\n",
       "      <td>Mon Apr 06 22:19:57 PDT 2009</td>\n",
       "      <td>NO_QUERY</td>\n",
       "      <td>Karoli</td>\n",
       "      <td>@nationwideclass no, it's not behaving at all....</td>\n",
       "    </tr>\n",
       "  </tbody>\n",
       "</table>\n",
       "</div>"
      ],
      "text/plain": [
       "   target         ids                          date      flag  \\\n",
       "0       0  1467810369  Mon Apr 06 22:19:45 PDT 2009  NO_QUERY   \n",
       "1       0  1467810672  Mon Apr 06 22:19:49 PDT 2009  NO_QUERY   \n",
       "2       0  1467810917  Mon Apr 06 22:19:53 PDT 2009  NO_QUERY   \n",
       "3       0  1467811184  Mon Apr 06 22:19:57 PDT 2009  NO_QUERY   \n",
       "4       0  1467811193  Mon Apr 06 22:19:57 PDT 2009  NO_QUERY   \n",
       "\n",
       "              user                                               text  \n",
       "0  _TheSpecialOne_  @switchfoot http://twitpic.com/2y1zl - Awww, t...  \n",
       "1    scotthamilton  is upset that he can't update his Facebook by ...  \n",
       "2         mattycus  @Kenichan I dived many times for the ball. Man...  \n",
       "3          ElleCTF    my whole body feels itchy and like its on fire   \n",
       "4           Karoli  @nationwideclass no, it's not behaving at all....  "
      ]
     },
     "execution_count": 11,
     "metadata": {},
     "output_type": "execute_result"
    }
   ],
   "source": [
    "df.head(5)"
   ]
  },
  {
   "cell_type": "code",
   "execution_count": 12,
   "metadata": {},
   "outputs": [],
   "source": [
    "decode_map = {0: \"NEGATIVE\", 2: \"NEUTRAL\", 4: \"POSITIVE\"}\n",
    "def decode_sentiment(label):\n",
    "    return decode_map[int(label)]"
   ]
  },
  {
   "cell_type": "code",
   "execution_count": 13,
   "metadata": {},
   "outputs": [
    {
     "name": "stdout",
     "output_type": "stream",
     "text": [
      "Wall time: 1.48 s\n"
     ]
    }
   ],
   "source": [
    "%%time\n",
    "df.target = df.target.apply(lambda x: decode_sentiment(x))"
   ]
  },
  {
   "cell_type": "code",
   "execution_count": 14,
   "metadata": {},
   "outputs": [
    {
     "data": {
      "text/html": [
       "<div>\n",
       "<style scoped>\n",
       "    .dataframe tbody tr th:only-of-type {\n",
       "        vertical-align: middle;\n",
       "    }\n",
       "\n",
       "    .dataframe tbody tr th {\n",
       "        vertical-align: top;\n",
       "    }\n",
       "\n",
       "    .dataframe thead th {\n",
       "        text-align: right;\n",
       "    }\n",
       "</style>\n",
       "<table border=\"1\" class=\"dataframe\">\n",
       "  <thead>\n",
       "    <tr style=\"text-align: right;\">\n",
       "      <th></th>\n",
       "      <th>target</th>\n",
       "      <th>ids</th>\n",
       "      <th>date</th>\n",
       "      <th>flag</th>\n",
       "      <th>user</th>\n",
       "      <th>text</th>\n",
       "    </tr>\n",
       "  </thead>\n",
       "  <tbody>\n",
       "    <tr>\n",
       "      <th>0</th>\n",
       "      <td>NEGATIVE</td>\n",
       "      <td>1467810369</td>\n",
       "      <td>Mon Apr 06 22:19:45 PDT 2009</td>\n",
       "      <td>NO_QUERY</td>\n",
       "      <td>_TheSpecialOne_</td>\n",
       "      <td>@switchfoot http://twitpic.com/2y1zl - Awww, t...</td>\n",
       "    </tr>\n",
       "    <tr>\n",
       "      <th>1</th>\n",
       "      <td>NEGATIVE</td>\n",
       "      <td>1467810672</td>\n",
       "      <td>Mon Apr 06 22:19:49 PDT 2009</td>\n",
       "      <td>NO_QUERY</td>\n",
       "      <td>scotthamilton</td>\n",
       "      <td>is upset that he can't update his Facebook by ...</td>\n",
       "    </tr>\n",
       "  </tbody>\n",
       "</table>\n",
       "</div>"
      ],
      "text/plain": [
       "     target         ids                          date      flag  \\\n",
       "0  NEGATIVE  1467810369  Mon Apr 06 22:19:45 PDT 2009  NO_QUERY   \n",
       "1  NEGATIVE  1467810672  Mon Apr 06 22:19:49 PDT 2009  NO_QUERY   \n",
       "\n",
       "              user                                               text  \n",
       "0  _TheSpecialOne_  @switchfoot http://twitpic.com/2y1zl - Awww, t...  \n",
       "1    scotthamilton  is upset that he can't update his Facebook by ...  "
      ]
     },
     "execution_count": 14,
     "metadata": {},
     "output_type": "execute_result"
    }
   ],
   "source": [
    "df.head(2)"
   ]
  },
  {
   "cell_type": "code",
   "execution_count": 15,
   "metadata": {},
   "outputs": [
    {
     "data": {
      "text/plain": [
       "Text(0.5, 1.0, 'Dataset labels distribuition')"
      ]
     },
     "execution_count": 15,
     "metadata": {},
     "output_type": "execute_result"
    },
    {
     "data": {
      "image/png": "[encoded data removed]",
      "text/plain": [
       "<Figure size 1152x576 with 1 Axes>"
      ]
     },
     "metadata": {
      "needs_background": "light"
     },
     "output_type": "display_data"
    }
   ],
   "source": [
    "target_cnt = Counter(df.target)\n",
    "\n",
    "plt.figure(figsize=(16,8))\n",
    "plt.bar(target_cnt.keys(), target_cnt.values())\n",
    "plt.title(\"Dataset labels distribuition\")"
   ]
  },
  {
   "cell_type": "code",
   "execution_count": 16,
   "metadata": {},
   "outputs": [],
   "source": [
    "stop_words = stopwords.words(\"english\")\n",
    "stemmer = SnowballStemmer(\"english\")"
   ]
  },
  {
   "cell_type": "code",
   "execution_count": 17,
   "metadata": {},
   "outputs": [],
   "source": [
    "def preprocess(text, stem=False):\n",
    "    # Remove link,user and special characters\n",
    "    text = re.sub(TEXT_CLEANING_RE, ' ', str(text).lower()).strip()\n",
    "    tokens = []\n",
    "    for token in text.split():\n",
    "        if token not in stop_words:\n",
    "            if stem:\n",
    "                tokens.append(stemmer.stem(token))\n",
    "            else:\n",
    "                tokens.append(token)\n",
    "    return \" \".join(tokens)"
   ]
  },
  {
   "cell_type": "code",
   "execution_count": 18,
   "metadata": {},
   "outputs": [
    {
     "name": "stdout",
     "output_type": "stream",
     "text": [
      "Wall time: 1min 51s\n"
     ]
    }
   ],
   "source": [
    "%%time\n",
    "df.text = df.text.apply(lambda x: preprocess(x))"
   ]
  },
  {
   "cell_type": "code",
   "execution_count": 19,
   "metadata": {},
   "outputs": [
    {
     "name": "stdout",
     "output_type": "stream",
     "text": [
      "TRAIN size: 1280000\n",
      "TEST size: 320000\n"
     ]
    }
   ],
   "source": [
    "df_train, df_test = train_test_split(df, test_size=1-TRAIN_SIZE, random_state=42)\n",
    "print(\"TRAIN size:\", len(df_train))\n",
    "print(\"TEST size:\", len(df_test))"
   ]
  },
  {
   "cell_type": "code",
   "execution_count": 20,
   "metadata": {},
   "outputs": [
    {
     "data": {
      "text/plain": [
       "1374558    ya quot like palm pre touchstone charger ready...\n",
       "1389115            felt earthquake afternoon seems epicenter\n",
       "1137831                            ruffles shirts like likey\n",
       "790714     pretty bad night crappy morning fml buttface d...\n",
       "1117911                                      yeah clear view\n",
       "                                 ...                        \n",
       "259178                  song middle change want born arghhhh\n",
       "1414414                                            good luck\n",
       "131932                                  rather average 32370\n",
       "671155     pickin misstinayao waitin sadittysash 2 hurry ...\n",
       "121958          home studying maths wooot im going fail shit\n",
       "Name: text, Length: 1280000, dtype: object"
      ]
     },
     "execution_count": 20,
     "metadata": {},
     "output_type": "execute_result"
    }
   ],
   "source": [
    "df_train.text"
   ]
  },
  {
   "cell_type": "code",
   "execution_count": 25,
   "metadata": {},
   "outputs": [
    {
     "name": "stderr",
     "output_type": "stream",
     "text": [
      "2020-01-24 08:56:48,654 : INFO : collecting all words and their counts\n",
      "2020-01-24 08:56:48,654 : INFO : PROGRESS: at sentence #0, processed 0 words, keeping 0 word types\n",
      "2020-01-24 08:56:48,690 : INFO : PROGRESS: at sentence #10000, processed 72565 words, keeping 14005 word types\n",
      "2020-01-24 08:56:48,715 : INFO : PROGRESS: at sentence #20000, processed 144393 words, keeping 21587 word types\n",
      "2020-01-24 08:56:48,760 : INFO : PROGRESS: at sentence #30000, processed 215826 words, keeping 27541 word types\n",
      "2020-01-24 08:56:48,800 : INFO : PROGRESS: at sentence #40000, processed 288271 words, keeping 32764 word types\n",
      "2020-01-24 08:56:48,840 : INFO : PROGRESS: at sentence #50000, processed 359772 words, keeping 37587 word types\n",
      "2020-01-24 08:56:48,872 : INFO : PROGRESS: at sentence #60000, processed 431431 words, keeping 42198 word types\n",
      "2020-01-24 08:56:48,924 : INFO : PROGRESS: at sentence #70000, processed 503103 words, keeping 46458 word types\n",
      "2020-01-24 08:56:48,975 : INFO : PROGRESS: at sentence #80000, processed 575709 words, keeping 50476 word types\n",
      "2020-01-24 08:56:49,022 : INFO : PROGRESS: at sentence #90000, processed 647100 words, keeping 54140 word types\n",
      "2020-01-24 08:56:49,074 : INFO : PROGRESS: at sentence #100000, processed 718681 words, keeping 57777 word types\n",
      "2020-01-24 08:56:49,104 : INFO : PROGRESS: at sentence #110000, processed 790696 words, keeping 61207 word types\n",
      "2020-01-24 08:56:49,148 : INFO : PROGRESS: at sentence #120000, processed 863134 words, keeping 64583 word types\n",
      "2020-01-24 08:56:49,192 : INFO : PROGRESS: at sentence #130000, processed 935111 words, keeping 67865 word types\n",
      "2020-01-24 08:56:49,242 : INFO : PROGRESS: at sentence #140000, processed 1006668 words, keeping 70966 word types\n",
      "2020-01-24 08:56:49,305 : INFO : PROGRESS: at sentence #150000, processed 1078512 words, keeping 74119 word types\n",
      "2020-01-24 08:56:49,354 : INFO : PROGRESS: at sentence #160000, processed 1149914 words, keeping 77187 word types\n",
      "2020-01-24 08:56:49,389 : INFO : PROGRESS: at sentence #170000, processed 1222145 words, keeping 80267 word types\n",
      "2020-01-24 08:56:49,422 : INFO : PROGRESS: at sentence #180000, processed 1294708 words, keeping 83393 word types\n",
      "2020-01-24 08:56:49,457 : INFO : PROGRESS: at sentence #190000, processed 1367608 words, keeping 86329 word types\n",
      "2020-01-24 08:56:49,494 : INFO : PROGRESS: at sentence #200000, processed 1439469 words, keeping 89103 word types\n",
      "2020-01-24 08:56:49,539 : INFO : PROGRESS: at sentence #210000, processed 1512099 words, keeping 91840 word types\n",
      "2020-01-24 08:56:49,603 : INFO : PROGRESS: at sentence #220000, processed 1584149 words, keeping 94636 word types\n",
      "2020-01-24 08:56:49,643 : INFO : PROGRESS: at sentence #230000, processed 1656354 words, keeping 97353 word types\n",
      "2020-01-24 08:56:49,696 : INFO : PROGRESS: at sentence #240000, processed 1728573 words, keeping 99975 word types\n",
      "2020-01-24 08:56:49,780 : INFO : PROGRESS: at sentence #250000, processed 1801102 words, keeping 102594 word types\n",
      "2020-01-24 08:56:49,860 : INFO : PROGRESS: at sentence #260000, processed 1873103 words, keeping 105162 word types\n",
      "2020-01-24 08:56:49,912 : INFO : PROGRESS: at sentence #270000, processed 1945245 words, keeping 107626 word types\n",
      "2020-01-24 08:56:49,977 : INFO : PROGRESS: at sentence #280000, processed 2017163 words, keeping 110141 word types\n",
      "2020-01-24 08:56:50,016 : INFO : PROGRESS: at sentence #290000, processed 2089574 words, keeping 112539 word types\n",
      "2020-01-24 08:56:50,038 : INFO : PROGRESS: at sentence #300000, processed 2160996 words, keeping 114893 word types\n",
      "2020-01-24 08:56:50,070 : INFO : PROGRESS: at sentence #310000, processed 2232913 words, keeping 117298 word types\n",
      "2020-01-24 08:56:50,095 : INFO : PROGRESS: at sentence #320000, processed 2305039 words, keeping 119693 word types\n",
      "2020-01-24 08:56:50,123 : INFO : PROGRESS: at sentence #330000, processed 2377119 words, keeping 122131 word types\n",
      "2020-01-24 08:56:50,149 : INFO : PROGRESS: at sentence #340000, processed 2449370 words, keeping 124416 word types\n",
      "2020-01-24 08:56:50,177 : INFO : PROGRESS: at sentence #350000, processed 2521564 words, keeping 126669 word types\n",
      "2020-01-24 08:56:50,213 : INFO : PROGRESS: at sentence #360000, processed 2593681 words, keeping 128912 word types\n",
      "2020-01-24 08:56:50,237 : INFO : PROGRESS: at sentence #370000, processed 2665692 words, keeping 131135 word types\n",
      "2020-01-24 08:56:50,268 : INFO : PROGRESS: at sentence #380000, processed 2737859 words, keeping 133403 word types\n",
      "2020-01-24 08:56:50,300 : INFO : PROGRESS: at sentence #390000, processed 2809848 words, keeping 135551 word types\n",
      "2020-01-24 08:56:50,342 : INFO : PROGRESS: at sentence #400000, processed 2882438 words, keeping 137742 word types\n",
      "2020-01-24 08:56:50,398 : INFO : PROGRESS: at sentence #410000, processed 2954075 words, keeping 139909 word types\n",
      "2020-01-24 08:56:50,465 : INFO : PROGRESS: at sentence #420000, processed 3026247 words, keeping 142144 word types\n",
      "2020-01-24 08:56:50,528 : INFO : PROGRESS: at sentence #430000, processed 3098659 words, keeping 144364 word types\n",
      "2020-01-24 08:56:50,576 : INFO : PROGRESS: at sentence #440000, processed 3170663 words, keeping 146439 word types\n",
      "2020-01-24 08:56:50,608 : INFO : PROGRESS: at sentence #450000, processed 3243344 words, keeping 148526 word types\n",
      "2020-01-24 08:56:50,640 : INFO : PROGRESS: at sentence #460000, processed 3315466 words, keeping 150610 word types\n",
      "2020-01-24 08:56:50,677 : INFO : PROGRESS: at sentence #470000, processed 3388295 words, keeping 152737 word types\n",
      "2020-01-24 08:56:50,733 : INFO : PROGRESS: at sentence #480000, processed 3460120 words, keeping 154757 word types\n",
      "2020-01-24 08:56:50,761 : INFO : PROGRESS: at sentence #490000, processed 3531883 words, keeping 156825 word types\n",
      "2020-01-24 08:56:50,788 : INFO : PROGRESS: at sentence #500000, processed 3604217 words, keeping 158859 word types\n",
      "2020-01-24 08:56:50,818 : INFO : PROGRESS: at sentence #510000, processed 3676427 words, keeping 160852 word types\n",
      "2020-01-24 08:56:50,842 : INFO : PROGRESS: at sentence #520000, processed 3749045 words, keeping 162863 word types\n",
      "2020-01-24 08:56:50,874 : INFO : PROGRESS: at sentence #530000, processed 3821622 words, keeping 164929 word types\n",
      "2020-01-24 08:56:50,922 : INFO : PROGRESS: at sentence #540000, processed 3893627 words, keeping 166840 word types\n",
      "2020-01-24 08:56:50,987 : INFO : PROGRESS: at sentence #550000, processed 3965477 words, keeping 168799 word types\n",
      "2020-01-24 08:56:51,018 : INFO : PROGRESS: at sentence #560000, processed 4038050 words, keeping 170802 word types\n",
      "2020-01-24 08:56:51,049 : INFO : PROGRESS: at sentence #570000, processed 4110296 words, keeping 172760 word types\n",
      "2020-01-24 08:56:51,072 : INFO : PROGRESS: at sentence #580000, processed 4182385 words, keeping 174635 word types\n",
      "2020-01-24 08:56:51,104 : INFO : PROGRESS: at sentence #590000, processed 4254632 words, keeping 176470 word types\n",
      "2020-01-24 08:56:51,138 : INFO : PROGRESS: at sentence #600000, processed 4326859 words, keeping 178350 word types\n",
      "2020-01-24 08:56:51,168 : INFO : PROGRESS: at sentence #610000, processed 4399183 words, keeping 180290 word types\n",
      "2020-01-24 08:56:51,204 : INFO : PROGRESS: at sentence #620000, processed 4471343 words, keeping 182129 word types\n",
      "2020-01-24 08:56:51,227 : INFO : PROGRESS: at sentence #630000, processed 4543286 words, keeping 184005 word types\n",
      "2020-01-24 08:56:51,257 : INFO : PROGRESS: at sentence #640000, processed 4615780 words, keeping 185835 word types\n",
      "2020-01-24 08:56:51,288 : INFO : PROGRESS: at sentence #650000, processed 4688481 words, keeping 187705 word types\n",
      "2020-01-24 08:56:51,321 : INFO : PROGRESS: at sentence #660000, processed 4760481 words, keeping 189439 word types\n",
      "2020-01-24 08:56:51,345 : INFO : PROGRESS: at sentence #670000, processed 4833024 words, keeping 191232 word types\n",
      "2020-01-24 08:56:51,369 : INFO : PROGRESS: at sentence #680000, processed 4904516 words, keeping 193177 word types\n",
      "2020-01-24 08:56:51,399 : INFO : PROGRESS: at sentence #690000, processed 4976968 words, keeping 194960 word types\n",
      "2020-01-24 08:56:51,424 : INFO : PROGRESS: at sentence #700000, processed 5049412 words, keeping 196725 word types\n",
      "2020-01-24 08:56:51,449 : INFO : PROGRESS: at sentence #710000, processed 5121976 words, keeping 198516 word types\n"
     ]
    },
    {
     "name": "stderr",
     "output_type": "stream",
     "text": [
      "2020-01-24 08:56:51,482 : INFO : PROGRESS: at sentence #720000, processed 5193881 words, keeping 200325 word types\n",
      "2020-01-24 08:56:51,508 : INFO : PROGRESS: at sentence #730000, processed 5265467 words, keeping 202133 word types\n",
      "2020-01-24 08:56:51,535 : INFO : PROGRESS: at sentence #740000, processed 5337518 words, keeping 203818 word types\n",
      "2020-01-24 08:56:51,577 : INFO : PROGRESS: at sentence #750000, processed 5409321 words, keeping 205535 word types\n",
      "2020-01-24 08:56:51,622 : INFO : PROGRESS: at sentence #760000, processed 5481512 words, keeping 207282 word types\n",
      "2020-01-24 08:56:51,691 : INFO : PROGRESS: at sentence #770000, processed 5554093 words, keeping 209076 word types\n",
      "2020-01-24 08:56:51,742 : INFO : PROGRESS: at sentence #780000, processed 5625382 words, keeping 210805 word types\n",
      "2020-01-24 08:56:51,793 : INFO : PROGRESS: at sentence #790000, processed 5698066 words, keeping 212618 word types\n",
      "2020-01-24 08:56:51,872 : INFO : PROGRESS: at sentence #800000, processed 5770880 words, keeping 214374 word types\n",
      "2020-01-24 08:56:51,916 : INFO : PROGRESS: at sentence #810000, processed 5843418 words, keeping 216009 word types\n",
      "2020-01-24 08:56:51,959 : INFO : PROGRESS: at sentence #820000, processed 5915628 words, keeping 217804 word types\n",
      "2020-01-24 08:56:52,027 : INFO : PROGRESS: at sentence #830000, processed 5987499 words, keeping 219585 word types\n",
      "2020-01-24 08:56:52,074 : INFO : PROGRESS: at sentence #840000, processed 6058973 words, keeping 221344 word types\n",
      "2020-01-24 08:56:52,121 : INFO : PROGRESS: at sentence #850000, processed 6131125 words, keeping 223002 word types\n",
      "2020-01-24 08:56:52,173 : INFO : PROGRESS: at sentence #860000, processed 6202951 words, keeping 224643 word types\n",
      "2020-01-24 08:56:52,227 : INFO : PROGRESS: at sentence #870000, processed 6275461 words, keeping 226362 word types\n",
      "2020-01-24 08:56:52,282 : INFO : PROGRESS: at sentence #880000, processed 6347661 words, keeping 227986 word types\n",
      "2020-01-24 08:56:52,336 : INFO : PROGRESS: at sentence #890000, processed 6419806 words, keeping 229634 word types\n",
      "2020-01-24 08:56:52,387 : INFO : PROGRESS: at sentence #900000, processed 6491644 words, keeping 231389 word types\n",
      "2020-01-24 08:56:52,439 : INFO : PROGRESS: at sentence #910000, processed 6564022 words, keeping 233050 word types\n",
      "2020-01-24 08:56:52,487 : INFO : PROGRESS: at sentence #920000, processed 6636228 words, keeping 234686 word types\n",
      "2020-01-24 08:56:52,545 : INFO : PROGRESS: at sentence #930000, processed 6708573 words, keeping 236393 word types\n",
      "2020-01-24 08:56:52,601 : INFO : PROGRESS: at sentence #940000, processed 6779956 words, keeping 238052 word types\n",
      "2020-01-24 08:56:52,665 : INFO : PROGRESS: at sentence #950000, processed 6852599 words, keeping 239716 word types\n",
      "2020-01-24 08:56:52,716 : INFO : PROGRESS: at sentence #960000, processed 6924717 words, keeping 241354 word types\n",
      "2020-01-24 08:56:52,794 : INFO : PROGRESS: at sentence #970000, processed 6996992 words, keeping 242980 word types\n",
      "2020-01-24 08:56:52,827 : INFO : PROGRESS: at sentence #980000, processed 7068402 words, keeping 244646 word types\n",
      "2020-01-24 08:56:52,869 : INFO : PROGRESS: at sentence #990000, processed 7140346 words, keeping 246186 word types\n",
      "2020-01-24 08:56:52,916 : INFO : PROGRESS: at sentence #1000000, processed 7211757 words, keeping 247726 word types\n",
      "2020-01-24 08:56:52,954 : INFO : PROGRESS: at sentence #1010000, processed 7283267 words, keeping 249288 word types\n",
      "2020-01-24 08:56:52,989 : INFO : PROGRESS: at sentence #1020000, processed 7355299 words, keeping 250860 word types\n",
      "2020-01-24 08:56:53,053 : INFO : PROGRESS: at sentence #1030000, processed 7426918 words, keeping 252366 word types\n",
      "2020-01-24 08:56:53,089 : INFO : PROGRESS: at sentence #1040000, processed 7498815 words, keeping 253930 word types\n",
      "2020-01-24 08:56:53,123 : INFO : PROGRESS: at sentence #1050000, processed 7570499 words, keeping 255471 word types\n",
      "2020-01-24 08:56:53,154 : INFO : PROGRESS: at sentence #1060000, processed 7643251 words, keeping 257035 word types\n",
      "2020-01-24 08:56:53,192 : INFO : PROGRESS: at sentence #1070000, processed 7714721 words, keeping 258509 word types\n",
      "2020-01-24 08:56:53,230 : INFO : PROGRESS: at sentence #1080000, processed 7787371 words, keeping 260071 word types\n",
      "2020-01-24 08:56:53,280 : INFO : PROGRESS: at sentence #1090000, processed 7859336 words, keeping 261683 word types\n",
      "2020-01-24 08:56:53,317 : INFO : PROGRESS: at sentence #1100000, processed 7932029 words, keeping 263278 word types\n",
      "2020-01-24 08:56:53,345 : INFO : PROGRESS: at sentence #1110000, processed 8004146 words, keeping 264800 word types\n",
      "2020-01-24 08:56:53,370 : INFO : PROGRESS: at sentence #1120000, processed 8075880 words, keeping 266309 word types\n",
      "2020-01-24 08:56:53,407 : INFO : PROGRESS: at sentence #1130000, processed 8148163 words, keeping 267826 word types\n",
      "2020-01-24 08:56:53,439 : INFO : PROGRESS: at sentence #1140000, processed 8220487 words, keeping 269391 word types\n",
      "2020-01-24 08:56:53,497 : INFO : PROGRESS: at sentence #1150000, processed 8292498 words, keeping 270894 word types\n",
      "2020-01-24 08:56:53,558 : INFO : PROGRESS: at sentence #1160000, processed 8363838 words, keeping 272400 word types\n",
      "2020-01-24 08:56:53,592 : INFO : PROGRESS: at sentence #1170000, processed 8435510 words, keeping 273970 word types\n",
      "2020-01-24 08:56:53,637 : INFO : PROGRESS: at sentence #1180000, processed 8507795 words, keeping 275521 word types\n",
      "2020-01-24 08:56:53,691 : INFO : PROGRESS: at sentence #1190000, processed 8579080 words, keeping 277007 word types\n",
      "2020-01-24 08:56:53,737 : INFO : PROGRESS: at sentence #1200000, processed 8650606 words, keeping 278457 word types\n",
      "2020-01-24 08:56:53,767 : INFO : PROGRESS: at sentence #1210000, processed 8721893 words, keeping 279959 word types\n",
      "2020-01-24 08:56:53,811 : INFO : PROGRESS: at sentence #1220000, processed 8793795 words, keeping 281427 word types\n",
      "2020-01-24 08:56:53,862 : INFO : PROGRESS: at sentence #1230000, processed 8865726 words, keeping 282981 word types\n",
      "2020-01-24 08:56:53,934 : INFO : PROGRESS: at sentence #1240000, processed 8938173 words, keeping 284542 word types\n",
      "2020-01-24 08:56:53,982 : INFO : PROGRESS: at sentence #1250000, processed 9010842 words, keeping 286064 word types\n",
      "2020-01-24 08:56:54,018 : INFO : PROGRESS: at sentence #1260000, processed 9083261 words, keeping 287521 word types\n",
      "2020-01-24 08:56:54,050 : INFO : PROGRESS: at sentence #1270000, processed 9155616 words, keeping 288987 word types\n",
      "2020-01-24 08:56:54,101 : INFO : collected 290418 word types from a corpus of 9227204 raw words and 1280000 sentences\n",
      "2020-01-24 08:56:54,104 : INFO : Loading a fresh vocabulary\n",
      "2020-01-24 08:56:54,476 : INFO : effective_min_count=10 retains 30369 unique words (10% of original 290418, drops 260049)\n",
      "2020-01-24 08:56:54,476 : INFO : effective_min_count=10 leaves 8780739 word corpus (95% of original 9227204, drops 446465)\n",
      "2020-01-24 08:56:54,734 : INFO : deleting the raw counts dictionary of 290418 items\n",
      "2020-01-24 08:56:54,748 : INFO : sample=0.001 downsamples 45 most-common words\n",
      "2020-01-24 08:56:54,752 : INFO : downsampling leaves estimated 8222658 word corpus (93.6% of prior 8780739)\n",
      "2020-01-24 08:56:54,905 : INFO : estimated required memory for 30369 words and 300 dimensions: 88070100 bytes\n",
      "2020-01-24 08:56:54,909 : INFO : resetting layer weights\n"
     ]
    }
   ],
   "source": [
    "#%%time\n",
    "documents = [_text.split() for _text in df_train.text] \n",
    "w2v_model = gensim.models.word2vec.Word2Vec(size=W2V_SIZE, \n",
    "                                            window=W2V_WINDOW, \n",
    "                                            min_count=W2V_MIN_COUNT, \n",
    "                                            workers=8)\n",
    "w2v_model.build_vocab(documents)"
   ]
  },
  {
   "cell_type": "code",
   "execution_count": 26,
   "metadata": {},
   "outputs": [
    {
     "name": "stdout",
     "output_type": "stream",
     "text": [
      "Vocab size 30369\n"
     ]
    }
   ],
   "source": [
    "words = w2v_model.wv.vocab.keys()\n",
    "vocab_size = len(words)\n",
    "print(\"Vocab size\", vocab_size)"
   ]
  },
  {
   "cell_type": "code",
   "execution_count": 27,
   "metadata": {},
   "outputs": [
    {
     "name": "stderr",
     "output_type": "stream",
     "text": [
      "2020-01-24 08:57:22,784 : INFO : training model with 8 workers on 30369 vocabulary and 300 features, using sg=0 hs=0 sample=0.001 negative=5 window=7\n",
      "2020-01-24 08:57:23,812 : INFO : EPOCH 1 - PROGRESS: at 5.54% examples, 451077 words/s, in_qsize 14, out_qsize 1\n",
      "2020-01-24 08:57:24,814 : INFO : EPOCH 1 - PROGRESS: at 12.06% examples, 492677 words/s, in_qsize 15, out_qsize 0\n",
      "2020-01-24 08:57:25,830 : INFO : EPOCH 1 - PROGRESS: at 18.65% examples, 507029 words/s, in_qsize 16, out_qsize 0\n",
      "2020-01-24 08:57:26,835 : INFO : EPOCH 1 - PROGRESS: at 25.59% examples, 522207 words/s, in_qsize 14, out_qsize 1\n",
      "2020-01-24 08:57:27,868 : INFO : EPOCH 1 - PROGRESS: at 32.41% examples, 526803 words/s, in_qsize 15, out_qsize 0\n",
      "2020-01-24 08:57:28,899 : INFO : EPOCH 1 - PROGRESS: at 38.14% examples, 515232 words/s, in_qsize 16, out_qsize 1\n",
      "2020-01-24 08:57:29,923 : INFO : EPOCH 1 - PROGRESS: at 44.29% examples, 512589 words/s, in_qsize 16, out_qsize 0\n",
      "2020-01-24 08:57:30,932 : INFO : EPOCH 1 - PROGRESS: at 50.57% examples, 512560 words/s, in_qsize 16, out_qsize 1\n",
      "2020-01-24 08:57:31,943 : INFO : EPOCH 1 - PROGRESS: at 57.38% examples, 517433 words/s, in_qsize 14, out_qsize 1\n",
      "2020-01-24 08:57:32,960 : INFO : EPOCH 1 - PROGRESS: at 63.76% examples, 517440 words/s, in_qsize 11, out_qsize 4\n",
      "2020-01-24 08:57:34,015 : INFO : EPOCH 1 - PROGRESS: at 70.16% examples, 515660 words/s, in_qsize 16, out_qsize 0\n",
      "2020-01-24 08:57:35,034 : INFO : EPOCH 1 - PROGRESS: at 77.31% examples, 520812 words/s, in_qsize 14, out_qsize 1\n",
      "2020-01-24 08:57:36,045 : INFO : EPOCH 1 - PROGRESS: at 83.83% examples, 521480 words/s, in_qsize 15, out_qsize 0\n",
      "2020-01-24 08:57:37,066 : INFO : EPOCH 1 - PROGRESS: at 91.09% examples, 526015 words/s, in_qsize 15, out_qsize 0\n",
      "2020-01-24 08:57:38,075 : INFO : EPOCH 1 - PROGRESS: at 97.82% examples, 527404 words/s, in_qsize 15, out_qsize 0\n",
      "2020-01-24 08:57:38,306 : INFO : worker thread finished; awaiting finish of 7 more threads\n",
      "2020-01-24 08:57:38,317 : INFO : worker thread finished; awaiting finish of 6 more threads\n",
      "2020-01-24 08:57:38,334 : INFO : worker thread finished; awaiting finish of 5 more threads\n",
      "2020-01-24 08:57:38,336 : INFO : worker thread finished; awaiting finish of 4 more threads\n",
      "2020-01-24 08:57:38,339 : INFO : worker thread finished; awaiting finish of 3 more threads\n",
      "2020-01-24 08:57:38,340 : INFO : worker thread finished; awaiting finish of 2 more threads\n",
      "2020-01-24 08:57:38,350 : INFO : worker thread finished; awaiting finish of 1 more threads\n",
      "2020-01-24 08:57:38,359 : INFO : worker thread finished; awaiting finish of 0 more threads\n",
      "2020-01-24 08:57:38,360 : INFO : EPOCH - 1 : training on 9227204 raw words (8223260 effective words) took 15.5s, 529318 effective words/s\n",
      "2020-01-24 08:57:39,391 : INFO : EPOCH 2 - PROGRESS: at 6.40% examples, 519901 words/s, in_qsize 15, out_qsize 0\n",
      "2020-01-24 08:57:40,400 : INFO : EPOCH 2 - PROGRESS: at 12.71% examples, 515757 words/s, in_qsize 13, out_qsize 2\n",
      "2020-01-24 08:57:41,413 : INFO : EPOCH 2 - PROGRESS: at 19.51% examples, 528686 words/s, in_qsize 14, out_qsize 1\n",
      "2020-01-24 08:57:42,426 : INFO : EPOCH 2 - PROGRESS: at 25.80% examples, 524269 words/s, in_qsize 15, out_qsize 0\n",
      "2020-01-24 08:57:43,428 : INFO : EPOCH 2 - PROGRESS: at 32.62% examples, 531254 words/s, in_qsize 15, out_qsize 0\n",
      "2020-01-24 08:57:44,442 : INFO : EPOCH 2 - PROGRESS: at 38.78% examples, 526218 words/s, in_qsize 15, out_qsize 1\n",
      "2020-01-24 08:57:45,453 : INFO : EPOCH 2 - PROGRESS: at 44.83% examples, 521514 words/s, in_qsize 14, out_qsize 1\n",
      "2020-01-24 08:57:46,463 : INFO : EPOCH 2 - PROGRESS: at 51.32% examples, 522353 words/s, in_qsize 15, out_qsize 0\n",
      "2020-01-24 08:57:47,499 : INFO : EPOCH 2 - PROGRESS: at 57.93% examples, 522810 words/s, in_qsize 15, out_qsize 2\n",
      "2020-01-24 08:57:48,527 : INFO : EPOCH 2 - PROGRESS: at 64.62% examples, 524167 words/s, in_qsize 15, out_qsize 1\n",
      "2020-01-24 08:57:49,552 : INFO : EPOCH 2 - PROGRESS: at 71.13% examples, 523988 words/s, in_qsize 15, out_qsize 0\n",
      "2020-01-24 08:57:50,589 : INFO : EPOCH 2 - PROGRESS: at 77.20% examples, 520289 words/s, in_qsize 15, out_qsize 0\n",
      "2020-01-24 08:57:51,593 : INFO : EPOCH 2 - PROGRESS: at 83.94% examples, 522527 words/s, in_qsize 16, out_qsize 0\n",
      "2020-01-24 08:57:52,596 : INFO : EPOCH 2 - PROGRESS: at 90.54% examples, 523873 words/s, in_qsize 16, out_qsize 0\n",
      "2020-01-24 08:57:53,596 : INFO : EPOCH 2 - PROGRESS: at 96.85% examples, 523349 words/s, in_qsize 15, out_qsize 0\n",
      "2020-01-24 08:57:53,928 : INFO : worker thread finished; awaiting finish of 7 more threads\n",
      "2020-01-24 08:57:53,933 : INFO : worker thread finished; awaiting finish of 6 more threads\n",
      "2020-01-24 08:57:53,936 : INFO : worker thread finished; awaiting finish of 5 more threads\n",
      "2020-01-24 08:57:53,940 : INFO : worker thread finished; awaiting finish of 4 more threads\n",
      "2020-01-24 08:57:53,955 : INFO : worker thread finished; awaiting finish of 3 more threads\n",
      "2020-01-24 08:57:53,958 : INFO : worker thread finished; awaiting finish of 2 more threads\n",
      "2020-01-24 08:57:53,963 : INFO : worker thread finished; awaiting finish of 1 more threads\n",
      "2020-01-24 08:57:53,968 : INFO : worker thread finished; awaiting finish of 0 more threads\n",
      "2020-01-24 08:57:53,970 : INFO : EPOCH - 2 : training on 9227204 raw words (8222436 effective words) took 15.6s, 527485 effective words/s\n",
      "2020-01-24 08:57:55,070 : INFO : EPOCH 3 - PROGRESS: at 6.08% examples, 459533 words/s, in_qsize 15, out_qsize 0\n",
      "2020-01-24 08:57:56,096 : INFO : EPOCH 3 - PROGRESS: at 12.50% examples, 485395 words/s, in_qsize 15, out_qsize 0\n",
      "2020-01-24 08:57:57,138 : INFO : EPOCH 3 - PROGRESS: at 19.51% examples, 508537 words/s, in_qsize 14, out_qsize 1\n",
      "2020-01-24 08:57:58,142 : INFO : EPOCH 3 - PROGRESS: at 25.80% examples, 509945 words/s, in_qsize 14, out_qsize 1\n",
      "2020-01-24 08:57:59,146 : INFO : EPOCH 3 - PROGRESS: at 31.86% examples, 507459 words/s, in_qsize 15, out_qsize 0\n",
      "2020-01-24 08:58:00,160 : INFO : EPOCH 3 - PROGRESS: at 38.68% examples, 515023 words/s, in_qsize 15, out_qsize 1\n",
      "2020-01-24 08:58:01,184 : INFO : EPOCH 3 - PROGRESS: at 44.83% examples, 512122 words/s, in_qsize 14, out_qsize 1\n",
      "2020-01-24 08:58:02,193 : INFO : EPOCH 3 - PROGRESS: at 51.86% examples, 519886 words/s, in_qsize 15, out_qsize 0\n",
      "2020-01-24 08:58:03,206 : INFO : EPOCH 3 - PROGRESS: at 58.04% examples, 517877 words/s, in_qsize 16, out_qsize 1\n",
      "2020-01-24 08:58:04,208 : INFO : EPOCH 3 - PROGRESS: at 64.51% examples, 519400 words/s, in_qsize 15, out_qsize 0\n",
      "2020-01-24 08:58:05,208 : INFO : EPOCH 3 - PROGRESS: at 71.02% examples, 520721 words/s, in_qsize 15, out_qsize 0\n",
      "2020-01-24 08:58:06,222 : INFO : EPOCH 3 - PROGRESS: at 77.74% examples, 522671 words/s, in_qsize 15, out_qsize 0\n",
      "2020-01-24 08:58:07,227 : INFO : EPOCH 3 - PROGRESS: at 85.55% examples, 531485 words/s, in_qsize 15, out_qsize 0\n",
      "2020-01-24 08:58:08,236 : INFO : EPOCH 3 - PROGRESS: at 92.94% examples, 536290 words/s, in_qsize 14, out_qsize 1\n",
      "2020-01-24 08:58:09,204 : INFO : worker thread finished; awaiting finish of 7 more threads\n",
      "2020-01-24 08:58:09,212 : INFO : worker thread finished; awaiting finish of 6 more threads\n",
      "2020-01-24 08:58:09,213 : INFO : worker thread finished; awaiting finish of 5 more threads\n",
      "2020-01-24 08:58:09,214 : INFO : worker thread finished; awaiting finish of 4 more threads\n",
      "2020-01-24 08:58:09,221 : INFO : worker thread finished; awaiting finish of 3 more threads\n",
      "2020-01-24 08:58:09,224 : INFO : worker thread finished; awaiting finish of 2 more threads\n",
      "2020-01-24 08:58:09,236 : INFO : EPOCH 3 - PROGRESS: at 99.89% examples, 538542 words/s, in_qsize 1, out_qsize 1\n",
      "2020-01-24 08:58:09,239 : INFO : worker thread finished; awaiting finish of 1 more threads\n",
      "2020-01-24 08:58:09,244 : INFO : worker thread finished; awaiting finish of 0 more threads\n",
      "2020-01-24 08:58:09,248 : INFO : EPOCH - 3 : training on 9227204 raw words (8223105 effective words) took 15.3s, 538757 effective words/s\n",
      "2020-01-24 08:58:10,267 : INFO : EPOCH 4 - PROGRESS: at 6.51% examples, 532172 words/s, in_qsize 13, out_qsize 2\n",
      "2020-01-24 08:58:11,291 : INFO : EPOCH 4 - PROGRESS: at 13.25% examples, 535701 words/s, in_qsize 14, out_qsize 1\n",
      "2020-01-24 08:58:12,302 : INFO : EPOCH 4 - PROGRESS: at 19.73% examples, 533334 words/s, in_qsize 16, out_qsize 0\n"
     ]
    },
    {
     "name": "stderr",
     "output_type": "stream",
     "text": [
      "2020-01-24 08:58:13,330 : INFO : EPOCH 4 - PROGRESS: at 26.99% examples, 545267 words/s, in_qsize 16, out_qsize 0\n",
      "2020-01-24 08:58:14,356 : INFO : EPOCH 4 - PROGRESS: at 33.38% examples, 538666 words/s, in_qsize 14, out_qsize 1\n",
      "2020-01-24 08:58:15,365 : INFO : EPOCH 4 - PROGRESS: at 39.86% examples, 537229 words/s, in_qsize 15, out_qsize 0\n",
      "2020-01-24 08:58:16,384 : INFO : EPOCH 4 - PROGRESS: at 46.78% examples, 540376 words/s, in_qsize 14, out_qsize 1\n",
      "2020-01-24 08:58:17,479 : INFO : EPOCH 4 - PROGRESS: at 53.38% examples, 534585 words/s, in_qsize 16, out_qsize 1\n",
      "2020-01-24 08:58:18,529 : INFO : EPOCH 4 - PROGRESS: at 59.98% examples, 532643 words/s, in_qsize 13, out_qsize 2\n",
      "2020-01-24 08:58:19,561 : INFO : EPOCH 4 - PROGRESS: at 67.02% examples, 535508 words/s, in_qsize 13, out_qsize 2\n",
      "2020-01-24 08:58:20,595 : INFO : EPOCH 4 - PROGRESS: at 74.70% examples, 542418 words/s, in_qsize 14, out_qsize 1\n",
      "2020-01-24 08:58:21,612 : INFO : EPOCH 4 - PROGRESS: at 81.23% examples, 540961 words/s, in_qsize 14, out_qsize 1\n",
      "2020-01-24 08:58:22,630 : INFO : EPOCH 4 - PROGRESS: at 87.40% examples, 537776 words/s, in_qsize 14, out_qsize 1\n",
      "2020-01-24 08:58:23,653 : INFO : EPOCH 4 - PROGRESS: at 93.81% examples, 536027 words/s, in_qsize 13, out_qsize 2\n",
      "2020-01-24 08:58:24,430 : INFO : worker thread finished; awaiting finish of 7 more threads\n",
      "2020-01-24 08:58:24,452 : INFO : worker thread finished; awaiting finish of 6 more threads\n",
      "2020-01-24 08:58:24,454 : INFO : worker thread finished; awaiting finish of 5 more threads\n",
      "2020-01-24 08:58:24,458 : INFO : worker thread finished; awaiting finish of 4 more threads\n",
      "2020-01-24 08:58:24,474 : INFO : worker thread finished; awaiting finish of 3 more threads\n",
      "2020-01-24 08:58:24,478 : INFO : worker thread finished; awaiting finish of 2 more threads\n",
      "2020-01-24 08:58:24,480 : INFO : worker thread finished; awaiting finish of 1 more threads\n",
      "2020-01-24 08:58:24,496 : INFO : worker thread finished; awaiting finish of 0 more threads\n",
      "2020-01-24 08:58:24,498 : INFO : EPOCH - 4 : training on 9227204 raw words (8222571 effective words) took 15.2s, 539735 effective words/s\n",
      "2020-01-24 08:58:25,518 : INFO : EPOCH 5 - PROGRESS: at 6.29% examples, 515559 words/s, in_qsize 15, out_qsize 0\n",
      "2020-01-24 08:58:26,523 : INFO : EPOCH 5 - PROGRESS: at 13.47% examples, 549542 words/s, in_qsize 15, out_qsize 0\n",
      "2020-01-24 08:58:27,531 : INFO : EPOCH 5 - PROGRESS: at 19.30% examples, 525923 words/s, in_qsize 16, out_qsize 1\n",
      "2020-01-24 08:58:28,568 : INFO : EPOCH 5 - PROGRESS: at 26.34% examples, 534121 words/s, in_qsize 15, out_qsize 0\n",
      "2020-01-24 08:58:29,600 : INFO : EPOCH 5 - PROGRESS: at 32.52% examples, 525668 words/s, in_qsize 14, out_qsize 2\n",
      "2020-01-24 08:58:30,610 : INFO : EPOCH 5 - PROGRESS: at 39.97% examples, 539400 words/s, in_qsize 16, out_qsize 0\n",
      "2020-01-24 08:58:31,658 : INFO : EPOCH 5 - PROGRESS: at 47.10% examples, 542615 words/s, in_qsize 15, out_qsize 0\n",
      "2020-01-24 08:58:32,658 : INFO : EPOCH 5 - PROGRESS: at 53.81% examples, 543788 words/s, in_qsize 15, out_qsize 0\n",
      "2020-01-24 08:58:33,664 : INFO : EPOCH 5 - PROGRESS: at 61.07% examples, 549318 words/s, in_qsize 14, out_qsize 1\n",
      "2020-01-24 08:58:34,679 : INFO : EPOCH 5 - PROGRESS: at 68.21% examples, 552275 words/s, in_qsize 15, out_qsize 2\n",
      "2020-01-24 08:58:35,681 : INFO : EPOCH 5 - PROGRESS: at 75.14% examples, 553726 words/s, in_qsize 15, out_qsize 0\n",
      "2020-01-24 08:58:36,706 : INFO : EPOCH 5 - PROGRESS: at 82.64% examples, 557607 words/s, in_qsize 15, out_qsize 0\n",
      "2020-01-24 08:58:37,725 : INFO : EPOCH 5 - PROGRESS: at 89.45% examples, 557051 words/s, in_qsize 14, out_qsize 1\n",
      "2020-01-24 08:58:38,732 : INFO : EPOCH 5 - PROGRESS: at 95.77% examples, 553900 words/s, in_qsize 13, out_qsize 2\n",
      "2020-01-24 08:58:39,235 : INFO : worker thread finished; awaiting finish of 7 more threads\n",
      "2020-01-24 08:58:39,243 : INFO : worker thread finished; awaiting finish of 6 more threads\n",
      "2020-01-24 08:58:39,244 : INFO : worker thread finished; awaiting finish of 5 more threads\n",
      "2020-01-24 08:58:39,247 : INFO : worker thread finished; awaiting finish of 4 more threads\n",
      "2020-01-24 08:58:39,278 : INFO : worker thread finished; awaiting finish of 3 more threads\n",
      "2020-01-24 08:58:39,282 : INFO : worker thread finished; awaiting finish of 2 more threads\n",
      "2020-01-24 08:58:39,287 : INFO : worker thread finished; awaiting finish of 1 more threads\n",
      "2020-01-24 08:58:39,299 : INFO : worker thread finished; awaiting finish of 0 more threads\n",
      "2020-01-24 08:58:39,300 : INFO : EPOCH - 5 : training on 9227204 raw words (8223174 effective words) took 14.8s, 556176 effective words/s\n",
      "2020-01-24 08:58:40,331 : INFO : EPOCH 6 - PROGRESS: at 6.73% examples, 548015 words/s, in_qsize 15, out_qsize 0\n",
      "2020-01-24 08:58:41,336 : INFO : EPOCH 6 - PROGRESS: at 13.47% examples, 548792 words/s, in_qsize 15, out_qsize 0\n",
      "2020-01-24 08:58:42,340 : INFO : EPOCH 6 - PROGRESS: at 20.27% examples, 552100 words/s, in_qsize 16, out_qsize 1\n",
      "2020-01-24 08:58:43,361 : INFO : EPOCH 6 - PROGRESS: at 27.32% examples, 555400 words/s, in_qsize 14, out_qsize 1\n",
      "2020-01-24 08:58:44,401 : INFO : EPOCH 6 - PROGRESS: at 34.13% examples, 552529 words/s, in_qsize 16, out_qsize 1\n",
      "2020-01-24 08:58:45,403 : INFO : EPOCH 6 - PROGRESS: at 40.94% examples, 553582 words/s, in_qsize 16, out_qsize 0\n",
      "2020-01-24 08:58:46,416 : INFO : EPOCH 6 - PROGRESS: at 47.32% examples, 548741 words/s, in_qsize 15, out_qsize 0\n",
      "2020-01-24 08:58:47,425 : INFO : EPOCH 6 - PROGRESS: at 53.92% examples, 547459 words/s, in_qsize 14, out_qsize 1\n",
      "2020-01-24 08:58:48,442 : INFO : EPOCH 6 - PROGRESS: at 60.74% examples, 548010 words/s, in_qsize 15, out_qsize 1\n",
      "2020-01-24 08:58:49,472 : INFO : EPOCH 6 - PROGRESS: at 67.23% examples, 545034 words/s, in_qsize 14, out_qsize 1\n",
      "2020-01-24 08:58:50,513 : INFO : EPOCH 6 - PROGRESS: at 74.26% examples, 546110 words/s, in_qsize 15, out_qsize 0\n",
      "2020-01-24 08:58:51,585 : INFO : EPOCH 6 - PROGRESS: at 81.01% examples, 543287 words/s, in_qsize 15, out_qsize 0\n",
      "2020-01-24 08:58:52,592 : INFO : EPOCH 6 - PROGRESS: at 88.59% examples, 549117 words/s, in_qsize 15, out_qsize 0\n",
      "2020-01-24 08:58:53,598 : INFO : EPOCH 6 - PROGRESS: at 95.23% examples, 548400 words/s, in_qsize 15, out_qsize 0\n",
      "2020-01-24 08:58:54,160 : INFO : worker thread finished; awaiting finish of 7 more threads\n",
      "2020-01-24 08:58:54,192 : INFO : worker thread finished; awaiting finish of 6 more threads\n",
      "2020-01-24 08:58:54,198 : INFO : worker thread finished; awaiting finish of 5 more threads\n",
      "2020-01-24 08:58:54,200 : INFO : worker thread finished; awaiting finish of 4 more threads\n",
      "2020-01-24 08:58:54,204 : INFO : worker thread finished; awaiting finish of 3 more threads\n",
      "2020-01-24 08:58:54,215 : INFO : worker thread finished; awaiting finish of 2 more threads\n",
      "2020-01-24 08:58:54,219 : INFO : worker thread finished; awaiting finish of 1 more threads\n",
      "2020-01-24 08:58:54,236 : INFO : worker thread finished; awaiting finish of 0 more threads\n",
      "2020-01-24 08:58:54,237 : INFO : EPOCH - 6 : training on 9227204 raw words (8221917 effective words) took 14.9s, 551276 effective words/s\n",
      "2020-01-24 08:58:55,267 : INFO : EPOCH 7 - PROGRESS: at 6.29% examples, 509989 words/s, in_qsize 13, out_qsize 2\n",
      "2020-01-24 08:58:56,280 : INFO : EPOCH 7 - PROGRESS: at 13.14% examples, 532069 words/s, in_qsize 14, out_qsize 1\n",
      "2020-01-24 08:58:57,310 : INFO : EPOCH 7 - PROGRESS: at 19.84% examples, 533641 words/s, in_qsize 14, out_qsize 1\n",
      "2020-01-24 08:58:58,321 : INFO : EPOCH 7 - PROGRESS: at 26.78% examples, 541021 words/s, in_qsize 15, out_qsize 0\n",
      "2020-01-24 08:58:59,330 : INFO : EPOCH 7 - PROGRESS: at 33.49% examples, 542392 words/s, in_qsize 14, out_qsize 1\n",
      "2020-01-24 08:59:00,331 : INFO : EPOCH 7 - PROGRESS: at 39.86% examples, 539452 words/s, in_qsize 14, out_qsize 3\n",
      "2020-01-24 08:59:01,344 : INFO : EPOCH 7 - PROGRESS: at 46.67% examples, 541568 words/s, in_qsize 15, out_qsize 0\n",
      "2020-01-24 08:59:02,362 : INFO : EPOCH 7 - PROGRESS: at 53.70% examples, 544966 words/s, in_qsize 15, out_qsize 0\n",
      "2020-01-24 08:59:03,373 : INFO : EPOCH 7 - PROGRESS: at 60.63% examples, 547169 words/s, in_qsize 16, out_qsize 1\n",
      "2020-01-24 08:59:04,389 : INFO : EPOCH 7 - PROGRESS: at 67.77% examples, 550292 words/s, in_qsize 15, out_qsize 0\n",
      "2020-01-24 08:59:05,445 : INFO : EPOCH 7 - PROGRESS: at 75.13% examples, 552482 words/s, in_qsize 15, out_qsize 0\n"
     ]
    },
    {
     "name": "stderr",
     "output_type": "stream",
     "text": [
      "2020-01-24 08:59:06,451 : INFO : EPOCH 7 - PROGRESS: at 82.21% examples, 554258 words/s, in_qsize 15, out_qsize 0\n",
      "2020-01-24 08:59:07,476 : INFO : EPOCH 7 - PROGRESS: at 88.91% examples, 553174 words/s, in_qsize 16, out_qsize 2\n",
      "2020-01-24 08:59:08,482 : INFO : EPOCH 7 - PROGRESS: at 96.21% examples, 555942 words/s, in_qsize 15, out_qsize 0\n",
      "2020-01-24 08:59:08,899 : INFO : worker thread finished; awaiting finish of 7 more threads\n",
      "2020-01-24 08:59:08,902 : INFO : worker thread finished; awaiting finish of 6 more threads\n",
      "2020-01-24 08:59:08,904 : INFO : worker thread finished; awaiting finish of 5 more threads\n",
      "2020-01-24 08:59:08,907 : INFO : worker thread finished; awaiting finish of 4 more threads\n",
      "2020-01-24 08:59:08,911 : INFO : worker thread finished; awaiting finish of 3 more threads\n",
      "2020-01-24 08:59:08,931 : INFO : worker thread finished; awaiting finish of 2 more threads\n",
      "2020-01-24 08:59:08,934 : INFO : worker thread finished; awaiting finish of 1 more threads\n",
      "2020-01-24 08:59:08,942 : INFO : worker thread finished; awaiting finish of 0 more threads\n",
      "2020-01-24 08:59:08,944 : INFO : EPOCH - 7 : training on 9227204 raw words (8221835 effective words) took 14.7s, 559765 effective words/s\n",
      "2020-01-24 08:59:10,002 : INFO : EPOCH 8 - PROGRESS: at 6.30% examples, 496446 words/s, in_qsize 14, out_qsize 1\n",
      "2020-01-24 08:59:11,025 : INFO : EPOCH 8 - PROGRESS: at 12.93% examples, 513757 words/s, in_qsize 14, out_qsize 1\n",
      "2020-01-24 08:59:12,034 : INFO : EPOCH 8 - PROGRESS: at 19.94% examples, 533223 words/s, in_qsize 14, out_qsize 1\n",
      "2020-01-24 08:59:13,043 : INFO : EPOCH 8 - PROGRESS: at 27.32% examples, 549993 words/s, in_qsize 15, out_qsize 0\n",
      "2020-01-24 08:59:14,056 : INFO : EPOCH 8 - PROGRESS: at 34.13% examples, 550840 words/s, in_qsize 15, out_qsize 0\n",
      "2020-01-24 08:59:15,083 : INFO : EPOCH 8 - PROGRESS: at 41.16% examples, 553068 words/s, in_qsize 16, out_qsize 1\n",
      "2020-01-24 08:59:16,090 : INFO : EPOCH 8 - PROGRESS: at 47.97% examples, 553555 words/s, in_qsize 16, out_qsize 0\n",
      "2020-01-24 08:59:17,126 : INFO : EPOCH 8 - PROGRESS: at 54.56% examples, 550010 words/s, in_qsize 15, out_qsize 0\n",
      "2020-01-24 08:59:18,124 : INFO : EPOCH 8 - PROGRESS: at 61.50% examples, 552228 words/s, in_qsize 14, out_qsize 1\n",
      "2020-01-24 08:59:19,147 : INFO : EPOCH 8 - PROGRESS: at 68.85% examples, 556338 words/s, in_qsize 15, out_qsize 1\n",
      "2020-01-24 08:59:20,167 : INFO : EPOCH 8 - PROGRESS: at 75.78% examples, 556528 words/s, in_qsize 15, out_qsize 0\n",
      "2020-01-24 08:59:21,172 : INFO : EPOCH 8 - PROGRESS: at 82.96% examples, 558892 words/s, in_qsize 15, out_qsize 0\n",
      "2020-01-24 08:59:22,189 : INFO : EPOCH 8 - PROGRESS: at 89.56% examples, 556985 words/s, in_qsize 14, out_qsize 1\n",
      "2020-01-24 08:59:23,199 : INFO : EPOCH 8 - PROGRESS: at 96.96% examples, 559970 words/s, in_qsize 14, out_qsize 1\n",
      "2020-01-24 08:59:23,495 : INFO : worker thread finished; awaiting finish of 7 more threads\n",
      "2020-01-24 08:59:23,511 : INFO : worker thread finished; awaiting finish of 6 more threads\n",
      "2020-01-24 08:59:23,522 : INFO : worker thread finished; awaiting finish of 5 more threads\n",
      "2020-01-24 08:59:23,525 : INFO : worker thread finished; awaiting finish of 4 more threads\n",
      "2020-01-24 08:59:23,536 : INFO : worker thread finished; awaiting finish of 3 more threads\n",
      "2020-01-24 08:59:23,545 : INFO : worker thread finished; awaiting finish of 2 more threads\n",
      "2020-01-24 08:59:23,548 : INFO : worker thread finished; awaiting finish of 1 more threads\n",
      "2020-01-24 08:59:23,557 : INFO : worker thread finished; awaiting finish of 0 more threads\n",
      "2020-01-24 08:59:23,558 : INFO : EPOCH - 8 : training on 9227204 raw words (8223299 effective words) took 14.6s, 563386 effective words/s\n",
      "2020-01-24 08:59:24,639 : INFO : EPOCH 9 - PROGRESS: at 6.08% examples, 467296 words/s, in_qsize 16, out_qsize 0\n",
      "2020-01-24 08:59:25,686 : INFO : EPOCH 9 - PROGRESS: at 13.15% examples, 509989 words/s, in_qsize 14, out_qsize 1\n",
      "2020-01-24 08:59:26,743 : INFO : EPOCH 9 - PROGRESS: at 20.16% examples, 522620 words/s, in_qsize 15, out_qsize 1\n",
      "2020-01-24 08:59:27,741 : INFO : EPOCH 9 - PROGRESS: at 27.10% examples, 533888 words/s, in_qsize 13, out_qsize 2\n",
      "2020-01-24 08:59:28,749 : INFO : EPOCH 9 - PROGRESS: at 34.02% examples, 540335 words/s, in_qsize 15, out_qsize 0\n",
      "2020-01-24 08:59:29,766 : INFO : EPOCH 9 - PROGRESS: at 40.83% examples, 542128 words/s, in_qsize 13, out_qsize 2\n",
      "2020-01-24 08:59:30,771 : INFO : EPOCH 9 - PROGRESS: at 47.21% examples, 539548 words/s, in_qsize 15, out_qsize 0\n",
      "2020-01-24 08:59:31,785 : INFO : EPOCH 9 - PROGRESS: at 54.03% examples, 541294 words/s, in_qsize 15, out_qsize 0\n",
      "2020-01-24 08:59:32,804 : INFO : EPOCH 9 - PROGRESS: at 60.74% examples, 541418 words/s, in_qsize 14, out_qsize 1\n",
      "2020-01-24 08:59:33,806 : INFO : EPOCH 9 - PROGRESS: at 67.34% examples, 541477 words/s, in_qsize 13, out_qsize 2\n",
      "2020-01-24 08:59:34,818 : INFO : EPOCH 9 - PROGRESS: at 73.83% examples, 540263 words/s, in_qsize 16, out_qsize 0\n",
      "2020-01-24 08:59:35,821 : INFO : EPOCH 9 - PROGRESS: at 80.68% examples, 541821 words/s, in_qsize 15, out_qsize 0\n",
      "2020-01-24 08:59:36,833 : INFO : EPOCH 9 - PROGRESS: at 87.61% examples, 543505 words/s, in_qsize 15, out_qsize 0\n",
      "2020-01-24 08:59:37,847 : INFO : EPOCH 9 - PROGRESS: at 94.79% examples, 545984 words/s, in_qsize 15, out_qsize 0\n",
      "2020-01-24 08:59:38,449 : INFO : worker thread finished; awaiting finish of 7 more threads\n",
      "2020-01-24 08:59:38,456 : INFO : worker thread finished; awaiting finish of 6 more threads\n",
      "2020-01-24 08:59:38,463 : INFO : worker thread finished; awaiting finish of 5 more threads\n",
      "2020-01-24 08:59:38,465 : INFO : worker thread finished; awaiting finish of 4 more threads\n",
      "2020-01-24 08:59:38,481 : INFO : worker thread finished; awaiting finish of 3 more threads\n",
      "2020-01-24 08:59:38,484 : INFO : worker thread finished; awaiting finish of 2 more threads\n",
      "2020-01-24 08:59:38,496 : INFO : worker thread finished; awaiting finish of 1 more threads\n",
      "2020-01-24 08:59:38,499 : INFO : worker thread finished; awaiting finish of 0 more threads\n",
      "2020-01-24 08:59:38,501 : INFO : EPOCH - 9 : training on 9227204 raw words (8223302 effective words) took 14.9s, 550803 effective words/s\n",
      "2020-01-24 08:59:39,523 : INFO : EPOCH 10 - PROGRESS: at 6.84% examples, 558306 words/s, in_qsize 15, out_qsize 0\n",
      "2020-01-24 08:59:40,527 : INFO : EPOCH 10 - PROGRESS: at 13.79% examples, 563694 words/s, in_qsize 14, out_qsize 1\n",
      "2020-01-24 08:59:41,571 : INFO : EPOCH 10 - PROGRESS: at 21.03% examples, 566051 words/s, in_qsize 15, out_qsize 0\n",
      "2020-01-24 08:59:42,606 : INFO : EPOCH 10 - PROGRESS: at 28.07% examples, 564743 words/s, in_qsize 14, out_qsize 1\n",
      "2020-01-24 08:59:43,644 : INFO : EPOCH 10 - PROGRESS: at 34.68% examples, 556273 words/s, in_qsize 13, out_qsize 2\n",
      "2020-01-24 08:59:44,645 : INFO : EPOCH 10 - PROGRESS: at 41.70% examples, 559949 words/s, in_qsize 13, out_qsize 2\n",
      "2020-01-24 08:59:45,657 : INFO : EPOCH 10 - PROGRESS: at 48.30% examples, 556722 words/s, in_qsize 15, out_qsize 0\n",
      "2020-01-24 08:59:46,682 : INFO : EPOCH 10 - PROGRESS: at 55.64% examples, 561096 words/s, in_qsize 16, out_qsize 1\n",
      "2020-01-24 08:59:47,695 : INFO : EPOCH 10 - PROGRESS: at 63.00% examples, 565129 words/s, in_qsize 15, out_qsize 0\n",
      "2020-01-24 08:59:48,713 : INFO : EPOCH 10 - PROGRESS: at 70.27% examples, 567244 words/s, in_qsize 15, out_qsize 0\n",
      "2020-01-24 08:59:49,787 : INFO : EPOCH 10 - PROGRESS: at 77.20% examples, 563738 words/s, in_qsize 16, out_qsize 0\n",
      "2020-01-24 08:59:50,813 : INFO : EPOCH 10 - PROGRESS: at 84.70% examples, 566725 words/s, in_qsize 14, out_qsize 1\n",
      "2020-01-24 08:59:51,821 : INFO : EPOCH 10 - PROGRESS: at 91.52% examples, 565908 words/s, in_qsize 15, out_qsize 0\n",
      "2020-01-24 08:59:52,850 : INFO : EPOCH 10 - PROGRESS: at 98.69% examples, 566304 words/s, in_qsize 13, out_qsize 0\n",
      "2020-01-24 08:59:52,910 : INFO : worker thread finished; awaiting finish of 7 more threads\n",
      "2020-01-24 08:59:52,918 : INFO : worker thread finished; awaiting finish of 6 more threads\n",
      "2020-01-24 08:59:52,919 : INFO : worker thread finished; awaiting finish of 5 more threads\n",
      "2020-01-24 08:59:52,921 : INFO : worker thread finished; awaiting finish of 4 more threads\n",
      "2020-01-24 08:59:52,936 : INFO : worker thread finished; awaiting finish of 3 more threads\n"
     ]
    },
    {
     "name": "stderr",
     "output_type": "stream",
     "text": [
      "2020-01-24 08:59:52,939 : INFO : worker thread finished; awaiting finish of 2 more threads\n",
      "2020-01-24 08:59:52,949 : INFO : worker thread finished; awaiting finish of 1 more threads\n",
      "2020-01-24 08:59:52,959 : INFO : worker thread finished; awaiting finish of 0 more threads\n",
      "2020-01-24 08:59:52,961 : INFO : EPOCH - 10 : training on 9227204 raw words (8223978 effective words) took 14.4s, 569411 effective words/s\n",
      "2020-01-24 08:59:54,015 : INFO : EPOCH 11 - PROGRESS: at 6.19% examples, 496594 words/s, in_qsize 16, out_qsize 0\n",
      "2020-01-24 08:59:55,031 : INFO : EPOCH 11 - PROGRESS: at 13.14% examples, 528860 words/s, in_qsize 15, out_qsize 0\n",
      "2020-01-24 08:59:56,088 : INFO : EPOCH 11 - PROGRESS: at 20.27% examples, 538043 words/s, in_qsize 15, out_qsize 0\n",
      "2020-01-24 08:59:57,118 : INFO : EPOCH 11 - PROGRESS: at 27.10% examples, 539733 words/s, in_qsize 14, out_qsize 1\n",
      "2020-01-24 08:59:58,157 : INFO : EPOCH 11 - PROGRESS: at 33.81% examples, 538161 words/s, in_qsize 15, out_qsize 0\n",
      "2020-01-24 08:59:59,168 : INFO : EPOCH 11 - PROGRESS: at 40.51% examples, 539517 words/s, in_qsize 15, out_qsize 0\n",
      "2020-01-24 09:00:00,169 : INFO : EPOCH 11 - PROGRESS: at 47.32% examples, 542485 words/s, in_qsize 15, out_qsize 2\n",
      "2020-01-24 09:00:01,187 : INFO : EPOCH 11 - PROGRESS: at 54.14% examples, 543579 words/s, in_qsize 16, out_qsize 0\n",
      "2020-01-24 09:00:02,197 : INFO : EPOCH 11 - PROGRESS: at 61.28% examples, 547813 words/s, in_qsize 15, out_qsize 0\n",
      "2020-01-24 09:00:03,232 : INFO : EPOCH 11 - PROGRESS: at 67.66% examples, 543742 words/s, in_qsize 16, out_qsize 0\n",
      "2020-01-24 09:00:04,260 : INFO : EPOCH 11 - PROGRESS: at 74.37% examples, 543011 words/s, in_qsize 15, out_qsize 0\n",
      "2020-01-24 09:00:05,280 : INFO : EPOCH 11 - PROGRESS: at 81.45% examples, 545209 words/s, in_qsize 13, out_qsize 2\n",
      "2020-01-24 09:00:06,290 : INFO : EPOCH 11 - PROGRESS: at 87.72% examples, 542590 words/s, in_qsize 15, out_qsize 0\n",
      "2020-01-24 09:00:07,290 : INFO : EPOCH 11 - PROGRESS: at 93.49% examples, 537499 words/s, in_qsize 15, out_qsize 1\n",
      "2020-01-24 09:00:08,242 : INFO : worker thread finished; awaiting finish of 7 more threads\n",
      "2020-01-24 09:00:08,272 : INFO : worker thread finished; awaiting finish of 6 more threads\n",
      "2020-01-24 09:00:08,274 : INFO : worker thread finished; awaiting finish of 5 more threads\n",
      "2020-01-24 09:00:08,279 : INFO : worker thread finished; awaiting finish of 4 more threads\n",
      "2020-01-24 09:00:08,296 : INFO : EPOCH 11 - PROGRESS: at 99.67% examples, 535555 words/s, in_qsize 3, out_qsize 1\n",
      "2020-01-24 09:00:08,298 : INFO : worker thread finished; awaiting finish of 3 more threads\n",
      "2020-01-24 09:00:08,311 : INFO : worker thread finished; awaiting finish of 2 more threads\n",
      "2020-01-24 09:00:08,325 : INFO : worker thread finished; awaiting finish of 1 more threads\n",
      "2020-01-24 09:00:08,327 : INFO : worker thread finished; awaiting finish of 0 more threads\n",
      "2020-01-24 09:00:08,329 : INFO : EPOCH - 11 : training on 9227204 raw words (8222124 effective words) took 15.3s, 536131 effective words/s\n",
      "2020-01-24 09:00:09,378 : INFO : EPOCH 12 - PROGRESS: at 4.78% examples, 382429 words/s, in_qsize 14, out_qsize 1\n",
      "2020-01-24 09:00:10,392 : INFO : EPOCH 12 - PROGRESS: at 10.86% examples, 437327 words/s, in_qsize 16, out_qsize 0\n",
      "2020-01-24 09:00:11,420 : INFO : EPOCH 12 - PROGRESS: at 17.13% examples, 459087 words/s, in_qsize 15, out_qsize 0\n",
      "2020-01-24 09:00:12,441 : INFO : EPOCH 12 - PROGRESS: at 22.98% examples, 462072 words/s, in_qsize 14, out_qsize 1\n",
      "2020-01-24 09:00:13,452 : INFO : EPOCH 12 - PROGRESS: at 29.48% examples, 475008 words/s, in_qsize 14, out_qsize 3\n",
      "2020-01-24 09:00:14,495 : INFO : EPOCH 12 - PROGRESS: at 36.07% examples, 483071 words/s, in_qsize 16, out_qsize 0\n",
      "2020-01-24 09:00:15,533 : INFO : EPOCH 12 - PROGRESS: at 42.68% examples, 488837 words/s, in_qsize 15, out_qsize 0\n",
      "2020-01-24 09:00:16,603 : INFO : EPOCH 12 - PROGRESS: at 47.75% examples, 476224 words/s, in_qsize 14, out_qsize 1\n",
      "2020-01-24 09:00:17,670 : INFO : EPOCH 12 - PROGRESS: at 53.38% examples, 471434 words/s, in_qsize 15, out_qsize 1\n",
      "2020-01-24 09:00:18,673 : INFO : EPOCH 12 - PROGRESS: at 58.47% examples, 466201 words/s, in_qsize 13, out_qsize 2\n",
      "2020-01-24 09:00:19,685 : INFO : EPOCH 12 - PROGRESS: at 63.86% examples, 463830 words/s, in_qsize 13, out_qsize 2\n",
      "2020-01-24 09:00:20,688 : INFO : EPOCH 12 - PROGRESS: at 69.83% examples, 465836 words/s, in_qsize 14, out_qsize 1\n",
      "2020-01-24 09:00:21,712 : INFO : EPOCH 12 - PROGRESS: at 74.81% examples, 460823 words/s, in_qsize 14, out_qsize 1\n",
      "2020-01-24 09:00:22,730 : INFO : EPOCH 12 - PROGRESS: at 80.57% examples, 461006 words/s, in_qsize 15, out_qsize 0\n",
      "2020-01-24 09:00:23,771 : INFO : EPOCH 12 - PROGRESS: at 86.75% examples, 462827 words/s, in_qsize 13, out_qsize 2\n",
      "2020-01-24 09:00:24,790 : INFO : EPOCH 12 - PROGRESS: at 93.05% examples, 465531 words/s, in_qsize 14, out_qsize 1\n",
      "2020-01-24 09:00:25,756 : INFO : worker thread finished; awaiting finish of 7 more threads\n",
      "2020-01-24 09:00:25,783 : INFO : worker thread finished; awaiting finish of 6 more threads\n",
      "2020-01-24 09:00:25,788 : INFO : worker thread finished; awaiting finish of 5 more threads\n",
      "2020-01-24 09:00:25,790 : INFO : worker thread finished; awaiting finish of 4 more threads\n",
      "2020-01-24 09:00:25,792 : INFO : EPOCH 12 - PROGRESS: at 99.67% examples, 470006 words/s, in_qsize 3, out_qsize 1\n",
      "2020-01-24 09:00:25,793 : INFO : worker thread finished; awaiting finish of 3 more threads\n",
      "2020-01-24 09:00:25,814 : INFO : worker thread finished; awaiting finish of 2 more threads\n",
      "2020-01-24 09:00:25,824 : INFO : worker thread finished; awaiting finish of 1 more threads\n",
      "2020-01-24 09:00:25,838 : INFO : worker thread finished; awaiting finish of 0 more threads\n",
      "2020-01-24 09:00:25,839 : INFO : EPOCH - 12 : training on 9227204 raw words (8222661 effective words) took 17.5s, 470227 effective words/s\n",
      "2020-01-24 09:00:26,888 : INFO : EPOCH 13 - PROGRESS: at 5.76% examples, 457912 words/s, in_qsize 16, out_qsize 0\n",
      "2020-01-24 09:00:27,891 : INFO : EPOCH 13 - PROGRESS: at 11.95% examples, 481940 words/s, in_qsize 16, out_qsize 1\n",
      "2020-01-24 09:00:28,892 : INFO : EPOCH 13 - PROGRESS: at 17.89% examples, 484182 words/s, in_qsize 15, out_qsize 0\n",
      "2020-01-24 09:00:29,896 : INFO : EPOCH 13 - PROGRESS: at 23.74% examples, 483011 words/s, in_qsize 15, out_qsize 0\n",
      "2020-01-24 09:00:30,905 : INFO : EPOCH 13 - PROGRESS: at 29.48% examples, 479869 words/s, in_qsize 15, out_qsize 0\n",
      "2020-01-24 09:00:31,923 : INFO : EPOCH 13 - PROGRESS: at 34.78% examples, 471334 words/s, in_qsize 15, out_qsize 0\n",
      "2020-01-24 09:00:32,939 : INFO : EPOCH 13 - PROGRESS: at 40.73% examples, 472662 words/s, in_qsize 15, out_qsize 2\n",
      "2020-01-24 09:00:33,960 : INFO : EPOCH 13 - PROGRESS: at 47.21% examples, 479280 words/s, in_qsize 15, out_qsize 0\n",
      "2020-01-24 09:00:34,989 : INFO : EPOCH 13 - PROGRESS: at 53.16% examples, 478956 words/s, in_qsize 15, out_qsize 0\n",
      "2020-01-24 09:00:36,002 : INFO : EPOCH 13 - PROGRESS: at 59.34% examples, 481219 words/s, in_qsize 15, out_qsize 0\n",
      "2020-01-24 09:00:37,002 : INFO : EPOCH 13 - PROGRESS: at 65.38% examples, 482777 words/s, in_qsize 13, out_qsize 2\n",
      "2020-01-24 09:00:38,031 : INFO : EPOCH 13 - PROGRESS: at 71.57% examples, 483695 words/s, in_qsize 16, out_qsize 0\n",
      "2020-01-24 09:00:39,066 : INFO : EPOCH 13 - PROGRESS: at 77.85% examples, 484895 words/s, in_qsize 15, out_qsize 0\n",
      "2020-01-24 09:00:40,082 : INFO : EPOCH 13 - PROGRESS: at 84.26% examples, 487199 words/s, in_qsize 15, out_qsize 0\n",
      "2020-01-24 09:00:41,084 : INFO : EPOCH 13 - PROGRESS: at 90.11% examples, 486688 words/s, in_qsize 15, out_qsize 0\n",
      "2020-01-24 09:00:42,091 : INFO : EPOCH 13 - PROGRESS: at 96.31% examples, 487743 words/s, in_qsize 15, out_qsize 0\n",
      "2020-01-24 09:00:42,551 : INFO : worker thread finished; awaiting finish of 7 more threads\n",
      "2020-01-24 09:00:42,564 : INFO : worker thread finished; awaiting finish of 6 more threads\n",
      "2020-01-24 09:00:42,575 : INFO : worker thread finished; awaiting finish of 5 more threads\n",
      "2020-01-24 09:00:42,580 : INFO : worker thread finished; awaiting finish of 4 more threads\n",
      "2020-01-24 09:00:42,583 : INFO : worker thread finished; awaiting finish of 3 more threads\n",
      "2020-01-24 09:00:42,610 : INFO : worker thread finished; awaiting finish of 2 more threads\n"
     ]
    },
    {
     "name": "stderr",
     "output_type": "stream",
     "text": [
      "2020-01-24 09:00:42,612 : INFO : worker thread finished; awaiting finish of 1 more threads\n",
      "2020-01-24 09:00:42,614 : INFO : worker thread finished; awaiting finish of 0 more threads\n",
      "2020-01-24 09:00:42,615 : INFO : EPOCH - 13 : training on 9227204 raw words (8221465 effective words) took 16.8s, 490629 effective words/s\n",
      "2020-01-24 09:00:43,639 : INFO : EPOCH 14 - PROGRESS: at 5.75% examples, 468980 words/s, in_qsize 15, out_qsize 0\n",
      "2020-01-24 09:00:44,646 : INFO : EPOCH 14 - PROGRESS: at 11.95% examples, 486688 words/s, in_qsize 14, out_qsize 1\n",
      "2020-01-24 09:00:45,694 : INFO : EPOCH 14 - PROGRESS: at 18.32% examples, 491658 words/s, in_qsize 15, out_qsize 0\n",
      "2020-01-24 09:00:46,693 : INFO : EPOCH 14 - PROGRESS: at 24.39% examples, 493485 words/s, in_qsize 15, out_qsize 0\n",
      "2020-01-24 09:00:47,696 : INFO : EPOCH 14 - PROGRESS: at 30.35% examples, 492546 words/s, in_qsize 15, out_qsize 0\n",
      "2020-01-24 09:00:48,757 : INFO : EPOCH 14 - PROGRESS: at 35.64% examples, 478568 words/s, in_qsize 15, out_qsize 0\n",
      "2020-01-24 09:00:49,791 : INFO : EPOCH 14 - PROGRESS: at 41.70% examples, 479032 words/s, in_qsize 13, out_qsize 2\n",
      "2020-01-24 09:00:50,811 : INFO : EPOCH 14 - PROGRESS: at 47.86% examples, 481414 words/s, in_qsize 14, out_qsize 1\n",
      "2020-01-24 09:00:51,863 : INFO : EPOCH 14 - PROGRESS: at 54.46% examples, 485429 words/s, in_qsize 15, out_qsize 0\n",
      "2020-01-24 09:00:52,868 : INFO : EPOCH 14 - PROGRESS: at 60.74% examples, 488220 words/s, in_qsize 16, out_qsize 0\n",
      "2020-01-24 09:00:53,897 : INFO : EPOCH 14 - PROGRESS: at 66.58% examples, 486318 words/s, in_qsize 16, out_qsize 0\n",
      "2020-01-24 09:00:54,898 : INFO : EPOCH 14 - PROGRESS: at 73.08% examples, 490166 words/s, in_qsize 15, out_qsize 0\n",
      "2020-01-24 09:00:55,913 : INFO : EPOCH 14 - PROGRESS: at 79.27% examples, 490944 words/s, in_qsize 14, out_qsize 1\n",
      "2020-01-24 09:00:56,915 : INFO : EPOCH 14 - PROGRESS: at 85.88% examples, 494550 words/s, in_qsize 15, out_qsize 0\n",
      "2020-01-24 09:00:57,962 : INFO : EPOCH 14 - PROGRESS: at 91.74% examples, 492158 words/s, in_qsize 14, out_qsize 1\n",
      "2020-01-24 09:00:58,971 : INFO : EPOCH 14 - PROGRESS: at 97.93% examples, 492770 words/s, in_qsize 15, out_qsize 0\n",
      "2020-01-24 09:00:59,213 : INFO : worker thread finished; awaiting finish of 7 more threads\n",
      "2020-01-24 09:00:59,223 : INFO : worker thread finished; awaiting finish of 6 more threads\n",
      "2020-01-24 09:00:59,231 : INFO : worker thread finished; awaiting finish of 5 more threads\n",
      "2020-01-24 09:00:59,243 : INFO : worker thread finished; awaiting finish of 4 more threads\n",
      "2020-01-24 09:00:59,247 : INFO : worker thread finished; awaiting finish of 3 more threads\n",
      "2020-01-24 09:00:59,251 : INFO : worker thread finished; awaiting finish of 2 more threads\n",
      "2020-01-24 09:00:59,256 : INFO : worker thread finished; awaiting finish of 1 more threads\n",
      "2020-01-24 09:00:59,268 : INFO : worker thread finished; awaiting finish of 0 more threads\n",
      "2020-01-24 09:00:59,270 : INFO : EPOCH - 14 : training on 9227204 raw words (8221804 effective words) took 16.6s, 494177 effective words/s\n",
      "2020-01-24 09:01:00,296 : INFO : EPOCH 15 - PROGRESS: at 5.54% examples, 450526 words/s, in_qsize 16, out_qsize 1\n",
      "2020-01-24 09:01:01,305 : INFO : EPOCH 15 - PROGRESS: at 11.51% examples, 468469 words/s, in_qsize 14, out_qsize 1\n",
      "2020-01-24 09:01:02,317 : INFO : EPOCH 15 - PROGRESS: at 17.68% examples, 479370 words/s, in_qsize 16, out_qsize 0\n",
      "2020-01-24 09:01:03,328 : INFO : EPOCH 15 - PROGRESS: at 23.85% examples, 485172 words/s, in_qsize 16, out_qsize 0\n",
      "2020-01-24 09:01:04,355 : INFO : EPOCH 15 - PROGRESS: at 29.91% examples, 485301 words/s, in_qsize 15, out_qsize 0\n",
      "2020-01-24 09:01:05,392 : INFO : EPOCH 15 - PROGRESS: at 35.43% examples, 477239 words/s, in_qsize 14, out_qsize 1\n",
      "2020-01-24 09:01:06,441 : INFO : EPOCH 15 - PROGRESS: at 41.37% examples, 475785 words/s, in_qsize 13, out_qsize 2\n",
      "2020-01-24 09:01:07,471 : INFO : EPOCH 15 - PROGRESS: at 47.21% examples, 474652 words/s, in_qsize 16, out_qsize 0\n",
      "2020-01-24 09:01:08,478 : INFO : EPOCH 15 - PROGRESS: at 52.95% examples, 474104 words/s, in_qsize 14, out_qsize 1\n",
      "2020-01-24 09:01:09,490 : INFO : EPOCH 15 - PROGRESS: at 59.34% examples, 478578 words/s, in_qsize 15, out_qsize 0\n",
      "2020-01-24 09:01:10,500 : INFO : EPOCH 15 - PROGRESS: at 65.17% examples, 478304 words/s, in_qsize 15, out_qsize 0\n",
      "2020-01-24 09:01:11,536 : INFO : EPOCH 15 - PROGRESS: at 71.45% examples, 480055 words/s, in_qsize 15, out_qsize 0\n",
      "2020-01-24 09:01:12,539 : INFO : EPOCH 15 - PROGRESS: at 77.31% examples, 480013 words/s, in_qsize 15, out_qsize 0\n",
      "2020-01-24 09:01:13,548 : INFO : EPOCH 15 - PROGRESS: at 82.75% examples, 477276 words/s, in_qsize 16, out_qsize 3\n",
      "2020-01-24 09:01:14,587 : INFO : EPOCH 15 - PROGRESS: at 89.34% examples, 480369 words/s, in_qsize 15, out_qsize 0\n",
      "2020-01-24 09:01:15,616 : INFO : EPOCH 15 - PROGRESS: at 95.45% examples, 480587 words/s, in_qsize 15, out_qsize 0\n",
      "2020-01-24 09:01:16,191 : INFO : worker thread finished; awaiting finish of 7 more threads\n",
      "2020-01-24 09:01:16,215 : INFO : worker thread finished; awaiting finish of 6 more threads\n",
      "2020-01-24 09:01:16,223 : INFO : worker thread finished; awaiting finish of 5 more threads\n",
      "2020-01-24 09:01:16,227 : INFO : worker thread finished; awaiting finish of 4 more threads\n",
      "2020-01-24 09:01:16,231 : INFO : worker thread finished; awaiting finish of 3 more threads\n",
      "2020-01-24 09:01:16,254 : INFO : worker thread finished; awaiting finish of 2 more threads\n",
      "2020-01-24 09:01:16,260 : INFO : worker thread finished; awaiting finish of 1 more threads\n",
      "2020-01-24 09:01:16,272 : INFO : worker thread finished; awaiting finish of 0 more threads\n",
      "2020-01-24 09:01:16,274 : INFO : EPOCH - 15 : training on 9227204 raw words (8222619 effective words) took 17.0s, 484117 effective words/s\n",
      "2020-01-24 09:01:17,311 : INFO : EPOCH 16 - PROGRESS: at 5.65% examples, 454121 words/s, in_qsize 15, out_qsize 0\n",
      "2020-01-24 09:01:18,342 : INFO : EPOCH 16 - PROGRESS: at 12.71% examples, 508448 words/s, in_qsize 13, out_qsize 2\n",
      "2020-01-24 09:01:19,343 : INFO : EPOCH 16 - PROGRESS: at 19.73% examples, 531199 words/s, in_qsize 16, out_qsize 0\n",
      "2020-01-24 09:01:20,355 : INFO : EPOCH 16 - PROGRESS: at 26.99% examples, 545907 words/s, in_qsize 16, out_qsize 0\n",
      "2020-01-24 09:01:21,377 : INFO : EPOCH 16 - PROGRESS: at 33.48% examples, 541295 words/s, in_qsize 14, out_qsize 1\n",
      "2020-01-24 09:01:22,381 : INFO : EPOCH 16 - PROGRESS: at 40.73% examples, 550098 words/s, in_qsize 15, out_qsize 0\n",
      "2020-01-24 09:01:23,408 : INFO : EPOCH 16 - PROGRESS: at 47.86% examples, 553358 words/s, in_qsize 15, out_qsize 0\n",
      "2020-01-24 09:01:24,440 : INFO : EPOCH 16 - PROGRESS: at 55.21% examples, 557595 words/s, in_qsize 13, out_qsize 2\n",
      "2020-01-24 09:01:25,448 : INFO : EPOCH 16 - PROGRESS: at 62.36% examples, 560403 words/s, in_qsize 15, out_qsize 1\n",
      "2020-01-24 09:01:26,468 : INFO : EPOCH 16 - PROGRESS: at 69.29% examples, 560298 words/s, in_qsize 14, out_qsize 1\n",
      "2020-01-24 09:01:27,506 : INFO : EPOCH 16 - PROGRESS: at 76.66% examples, 562482 words/s, in_qsize 16, out_qsize 1\n",
      "2020-01-24 09:01:28,550 : INFO : EPOCH 16 - PROGRESS: at 83.61% examples, 561082 words/s, in_qsize 14, out_qsize 1\n",
      "2020-01-24 09:01:29,560 : INFO : EPOCH 16 - PROGRESS: at 90.43% examples, 560611 words/s, in_qsize 15, out_qsize 0\n",
      "2020-01-24 09:01:30,561 : INFO : EPOCH 16 - PROGRESS: at 97.61% examples, 562493 words/s, in_qsize 15, out_qsize 0\n",
      "2020-01-24 09:01:30,803 : INFO : worker thread finished; awaiting finish of 7 more threads\n",
      "2020-01-24 09:01:30,825 : INFO : worker thread finished; awaiting finish of 6 more threads\n",
      "2020-01-24 09:01:30,827 : INFO : worker thread finished; awaiting finish of 5 more threads\n",
      "2020-01-24 09:01:30,829 : INFO : worker thread finished; awaiting finish of 4 more threads\n",
      "2020-01-24 09:01:30,830 : INFO : worker thread finished; awaiting finish of 3 more threads\n",
      "2020-01-24 09:01:30,858 : INFO : worker thread finished; awaiting finish of 2 more threads\n",
      "2020-01-24 09:01:30,870 : INFO : worker thread finished; awaiting finish of 1 more threads\n",
      "2020-01-24 09:01:30,873 : INFO : worker thread finished; awaiting finish of 0 more threads\n",
      "2020-01-24 09:01:30,874 : INFO : EPOCH - 16 : training on 9227204 raw words (8223281 effective words) took 14.6s, 563887 effective words/s\n"
     ]
    },
    {
     "name": "stderr",
     "output_type": "stream",
     "text": [
      "2020-01-24 09:01:31,894 : INFO : EPOCH 17 - PROGRESS: at 6.51% examples, 533819 words/s, in_qsize 15, out_qsize 0\n",
      "2020-01-24 09:01:32,905 : INFO : EPOCH 17 - PROGRESS: at 12.93% examples, 526720 words/s, in_qsize 14, out_qsize 1\n",
      "2020-01-24 09:01:33,926 : INFO : EPOCH 17 - PROGRESS: at 19.84% examples, 537529 words/s, in_qsize 14, out_qsize 1\n",
      "2020-01-24 09:01:34,930 : INFO : EPOCH 17 - PROGRESS: at 26.45% examples, 538597 words/s, in_qsize 16, out_qsize 0\n",
      "2020-01-24 09:01:35,932 : INFO : EPOCH 17 - PROGRESS: at 33.48% examples, 546301 words/s, in_qsize 14, out_qsize 1\n",
      "2020-01-24 09:01:36,974 : INFO : EPOCH 17 - PROGRESS: at 40.40% examples, 546382 words/s, in_qsize 15, out_qsize 0\n",
      "2020-01-24 09:01:37,985 : INFO : EPOCH 17 - PROGRESS: at 46.89% examples, 543737 words/s, in_qsize 16, out_qsize 0\n",
      "2020-01-24 09:01:38,986 : INFO : EPOCH 17 - PROGRESS: at 53.70% examples, 545795 words/s, in_qsize 15, out_qsize 0\n",
      "2020-01-24 09:01:39,998 : INFO : EPOCH 17 - PROGRESS: at 60.09% examples, 543064 words/s, in_qsize 15, out_qsize 0\n",
      "2020-01-24 09:01:41,001 : INFO : EPOCH 17 - PROGRESS: at 67.02% examples, 545561 words/s, in_qsize 14, out_qsize 1\n",
      "2020-01-24 09:01:42,015 : INFO : EPOCH 17 - PROGRESS: at 74.27% examples, 549329 words/s, in_qsize 14, out_qsize 1\n",
      "2020-01-24 09:01:43,019 : INFO : EPOCH 17 - PROGRESS: at 81.23% examples, 550965 words/s, in_qsize 15, out_qsize 0\n",
      "2020-01-24 09:01:44,035 : INFO : EPOCH 17 - PROGRESS: at 88.05% examples, 551084 words/s, in_qsize 16, out_qsize 1\n",
      "2020-01-24 09:01:45,038 : INFO : EPOCH 17 - PROGRESS: at 95.55% examples, 555373 words/s, in_qsize 15, out_qsize 0\n",
      "2020-01-24 09:01:45,514 : INFO : worker thread finished; awaiting finish of 7 more threads\n",
      "2020-01-24 09:01:45,536 : INFO : worker thread finished; awaiting finish of 6 more threads\n",
      "2020-01-24 09:01:45,545 : INFO : worker thread finished; awaiting finish of 5 more threads\n",
      "2020-01-24 09:01:45,551 : INFO : worker thread finished; awaiting finish of 4 more threads\n",
      "2020-01-24 09:01:45,568 : INFO : worker thread finished; awaiting finish of 3 more threads\n",
      "2020-01-24 09:01:45,576 : INFO : worker thread finished; awaiting finish of 2 more threads\n",
      "2020-01-24 09:01:45,578 : INFO : worker thread finished; awaiting finish of 1 more threads\n",
      "2020-01-24 09:01:45,588 : INFO : worker thread finished; awaiting finish of 0 more threads\n",
      "2020-01-24 09:01:45,590 : INFO : EPOCH - 17 : training on 9227204 raw words (8222301 effective words) took 14.7s, 559418 effective words/s\n",
      "2020-01-24 09:01:46,611 : INFO : EPOCH 18 - PROGRESS: at 6.73% examples, 549899 words/s, in_qsize 15, out_qsize 0\n",
      "2020-01-24 09:01:47,622 : INFO : EPOCH 18 - PROGRESS: at 14.00% examples, 570334 words/s, in_qsize 15, out_qsize 0\n",
      "2020-01-24 09:01:48,636 : INFO : EPOCH 18 - PROGRESS: at 20.70% examples, 561740 words/s, in_qsize 13, out_qsize 4\n",
      "2020-01-24 09:01:49,643 : INFO : EPOCH 18 - PROGRESS: at 27.86% examples, 567378 words/s, in_qsize 15, out_qsize 0\n",
      "2020-01-24 09:01:50,643 : INFO : EPOCH 18 - PROGRESS: at 34.57% examples, 564106 words/s, in_qsize 15, out_qsize 0\n",
      "2020-01-24 09:01:51,671 : INFO : EPOCH 18 - PROGRESS: at 41.37% examples, 561223 words/s, in_qsize 15, out_qsize 0\n",
      "2020-01-24 09:01:52,691 : INFO : EPOCH 18 - PROGRESS: at 48.62% examples, 564650 words/s, in_qsize 15, out_qsize 0\n",
      "2020-01-24 09:01:53,715 : INFO : EPOCH 18 - PROGRESS: at 54.78% examples, 556058 words/s, in_qsize 16, out_qsize 0\n",
      "2020-01-24 09:01:54,715 : INFO : EPOCH 18 - PROGRESS: at 61.82% examples, 558453 words/s, in_qsize 15, out_qsize 0\n",
      "2020-01-24 09:01:55,719 : INFO : EPOCH 18 - PROGRESS: at 68.75% examples, 559525 words/s, in_qsize 15, out_qsize 0\n",
      "2020-01-24 09:01:56,749 : INFO : EPOCH 18 - PROGRESS: at 75.89% examples, 560519 words/s, in_qsize 15, out_qsize 0\n",
      "2020-01-24 09:01:57,771 : INFO : EPOCH 18 - PROGRESS: at 82.85% examples, 560265 words/s, in_qsize 15, out_qsize 0\n",
      "2020-01-24 09:01:58,793 : INFO : EPOCH 18 - PROGRESS: at 89.45% examples, 558041 words/s, in_qsize 14, out_qsize 1\n",
      "2020-01-24 09:01:59,796 : INFO : EPOCH 18 - PROGRESS: at 95.99% examples, 556268 words/s, in_qsize 15, out_qsize 0\n",
      "2020-01-24 09:02:00,272 : INFO : worker thread finished; awaiting finish of 7 more threads\n",
      "2020-01-24 09:02:00,284 : INFO : worker thread finished; awaiting finish of 6 more threads\n",
      "2020-01-24 09:02:00,287 : INFO : worker thread finished; awaiting finish of 5 more threads\n",
      "2020-01-24 09:02:00,290 : INFO : worker thread finished; awaiting finish of 4 more threads\n",
      "2020-01-24 09:02:00,325 : INFO : worker thread finished; awaiting finish of 3 more threads\n",
      "2020-01-24 09:02:00,334 : INFO : worker thread finished; awaiting finish of 2 more threads\n",
      "2020-01-24 09:02:00,336 : INFO : worker thread finished; awaiting finish of 1 more threads\n",
      "2020-01-24 09:02:00,342 : INFO : worker thread finished; awaiting finish of 0 more threads\n",
      "2020-01-24 09:02:00,344 : INFO : EPOCH - 18 : training on 9227204 raw words (8223203 effective words) took 14.7s, 557976 effective words/s\n",
      "2020-01-24 09:02:01,383 : INFO : EPOCH 19 - PROGRESS: at 6.40% examples, 516914 words/s, in_qsize 15, out_qsize 0\n",
      "2020-01-24 09:02:02,397 : INFO : EPOCH 19 - PROGRESS: at 13.36% examples, 539627 words/s, in_qsize 15, out_qsize 0\n",
      "2020-01-24 09:02:03,397 : INFO : EPOCH 19 - PROGRESS: at 20.81% examples, 564211 words/s, in_qsize 15, out_qsize 0\n",
      "2020-01-24 09:02:04,400 : INFO : EPOCH 19 - PROGRESS: at 27.20% examples, 554316 words/s, in_qsize 15, out_qsize 0\n",
      "2020-01-24 09:02:05,415 : INFO : EPOCH 19 - PROGRESS: at 33.70% examples, 548612 words/s, in_qsize 16, out_qsize 1\n",
      "2020-01-24 09:02:06,449 : INFO : EPOCH 19 - PROGRESS: at 41.26% examples, 557901 words/s, in_qsize 15, out_qsize 0\n",
      "2020-01-24 09:02:07,453 : INFO : EPOCH 19 - PROGRESS: at 48.62% examples, 564336 words/s, in_qsize 15, out_qsize 0\n",
      "2020-01-24 09:02:08,474 : INFO : EPOCH 19 - PROGRESS: at 55.75% examples, 565641 words/s, in_qsize 13, out_qsize 2\n",
      "2020-01-24 09:02:09,503 : INFO : EPOCH 19 - PROGRESS: at 62.68% examples, 564394 words/s, in_qsize 15, out_qsize 0\n",
      "2020-01-24 09:02:10,507 : INFO : EPOCH 19 - PROGRESS: at 69.61% examples, 564859 words/s, in_qsize 14, out_qsize 1\n",
      "2020-01-24 09:02:11,510 : INFO : EPOCH 19 - PROGRESS: at 76.98% examples, 568303 words/s, in_qsize 14, out_qsize 1\n",
      "2020-01-24 09:02:12,579 : INFO : EPOCH 19 - PROGRESS: at 84.15% examples, 566727 words/s, in_qsize 16, out_qsize 1\n",
      "2020-01-24 09:02:13,604 : INFO : EPOCH 19 - PROGRESS: at 92.07% examples, 571926 words/s, in_qsize 16, out_qsize 0\n",
      "2020-01-24 09:02:14,559 : INFO : worker thread finished; awaiting finish of 7 more threads\n",
      "2020-01-24 09:02:14,577 : INFO : worker thread finished; awaiting finish of 6 more threads\n",
      "2020-01-24 09:02:14,585 : INFO : worker thread finished; awaiting finish of 5 more threads\n",
      "2020-01-24 09:02:14,594 : INFO : worker thread finished; awaiting finish of 4 more threads\n",
      "2020-01-24 09:02:14,607 : INFO : EPOCH 19 - PROGRESS: at 99.67% examples, 575503 words/s, in_qsize 3, out_qsize 1\n",
      "2020-01-24 09:02:14,610 : INFO : worker thread finished; awaiting finish of 3 more threads\n",
      "2020-01-24 09:02:14,623 : INFO : worker thread finished; awaiting finish of 2 more threads\n",
      "2020-01-24 09:02:14,626 : INFO : worker thread finished; awaiting finish of 1 more threads\n",
      "2020-01-24 09:02:14,635 : INFO : worker thread finished; awaiting finish of 0 more threads\n",
      "2020-01-24 09:02:14,637 : INFO : EPOCH - 19 : training on 9227204 raw words (8223057 effective words) took 14.3s, 576178 effective words/s\n",
      "2020-01-24 09:02:15,681 : INFO : EPOCH 20 - PROGRESS: at 5.97% examples, 475584 words/s, in_qsize 15, out_qsize 0\n",
      "2020-01-24 09:02:16,731 : INFO : EPOCH 20 - PROGRESS: at 13.79% examples, 543642 words/s, in_qsize 15, out_qsize 3\n",
      "2020-01-24 09:02:17,755 : INFO : EPOCH 20 - PROGRESS: at 20.38% examples, 539893 words/s, in_qsize 15, out_qsize 0\n",
      "2020-01-24 09:02:18,787 : INFO : EPOCH 20 - PROGRESS: at 26.99% examples, 536633 words/s, in_qsize 16, out_qsize 0\n",
      "2020-01-24 09:02:19,799 : INFO : EPOCH 20 - PROGRESS: at 33.81% examples, 540072 words/s, in_qsize 16, out_qsize 0\n",
      "2020-01-24 09:02:20,810 : INFO : EPOCH 20 - PROGRESS: at 40.51% examples, 541111 words/s, in_qsize 15, out_qsize 0\n",
      "2020-01-24 09:02:21,844 : INFO : EPOCH 20 - PROGRESS: at 47.65% examples, 545024 words/s, in_qsize 15, out_qsize 0\n"
     ]
    },
    {
     "name": "stderr",
     "output_type": "stream",
     "text": [
      "2020-01-24 09:02:22,866 : INFO : EPOCH 20 - PROGRESS: at 54.13% examples, 542379 words/s, in_qsize 16, out_qsize 0\n",
      "2020-01-24 09:02:23,889 : INFO : EPOCH 20 - PROGRESS: at 61.50% examples, 547972 words/s, in_qsize 15, out_qsize 0\n",
      "2020-01-24 09:02:24,891 : INFO : EPOCH 20 - PROGRESS: at 68.10% examples, 547240 words/s, in_qsize 15, out_qsize 0\n",
      "2020-01-24 09:02:25,896 : INFO : EPOCH 20 - PROGRESS: at 74.48% examples, 545157 words/s, in_qsize 15, out_qsize 0\n",
      "2020-01-24 09:02:26,910 : INFO : EPOCH 20 - PROGRESS: at 81.12% examples, 544427 words/s, in_qsize 15, out_qsize 0\n",
      "2020-01-24 09:02:27,946 : INFO : EPOCH 20 - PROGRESS: at 88.48% examples, 547510 words/s, in_qsize 14, out_qsize 1\n",
      "2020-01-24 09:02:28,955 : INFO : EPOCH 20 - PROGRESS: at 95.55% examples, 549300 words/s, in_qsize 16, out_qsize 0\n",
      "2020-01-24 09:02:29,429 : INFO : worker thread finished; awaiting finish of 7 more threads\n",
      "2020-01-24 09:02:29,446 : INFO : worker thread finished; awaiting finish of 6 more threads\n",
      "2020-01-24 09:02:29,465 : INFO : worker thread finished; awaiting finish of 5 more threads\n",
      "2020-01-24 09:02:29,470 : INFO : worker thread finished; awaiting finish of 4 more threads\n",
      "2020-01-24 09:02:29,493 : INFO : worker thread finished; awaiting finish of 3 more threads\n",
      "2020-01-24 09:02:29,496 : INFO : worker thread finished; awaiting finish of 2 more threads\n",
      "2020-01-24 09:02:29,503 : INFO : worker thread finished; awaiting finish of 1 more threads\n",
      "2020-01-24 09:02:29,512 : INFO : worker thread finished; awaiting finish of 0 more threads\n",
      "2020-01-24 09:02:29,514 : INFO : EPOCH - 20 : training on 9227204 raw words (8221988 effective words) took 14.9s, 553293 effective words/s\n",
      "2020-01-24 09:02:30,547 : INFO : EPOCH 21 - PROGRESS: at 6.08% examples, 491363 words/s, in_qsize 16, out_qsize 0\n",
      "2020-01-24 09:02:31,563 : INFO : EPOCH 21 - PROGRESS: at 13.03% examples, 526422 words/s, in_qsize 15, out_qsize 0\n",
      "2020-01-24 09:02:32,580 : INFO : EPOCH 21 - PROGRESS: at 19.73% examples, 531563 words/s, in_qsize 14, out_qsize 1\n",
      "2020-01-24 09:02:33,603 : INFO : EPOCH 21 - PROGRESS: at 25.59% examples, 516334 words/s, in_qsize 14, out_qsize 1\n",
      "2020-01-24 09:02:34,614 : INFO : EPOCH 21 - PROGRESS: at 33.16% examples, 536286 words/s, in_qsize 15, out_qsize 0\n",
      "2020-01-24 09:02:35,622 : INFO : EPOCH 21 - PROGRESS: at 39.43% examples, 532463 words/s, in_qsize 14, out_qsize 1\n",
      "2020-01-24 09:02:36,638 : INFO : EPOCH 21 - PROGRESS: at 46.57% examples, 538917 words/s, in_qsize 15, out_qsize 0\n",
      "2020-01-24 09:02:37,658 : INFO : EPOCH 21 - PROGRESS: at 53.59% examples, 542522 words/s, in_qsize 15, out_qsize 0\n",
      "2020-01-24 09:02:38,668 : INFO : EPOCH 21 - PROGRESS: at 60.63% examples, 546060 words/s, in_qsize 15, out_qsize 0\n",
      "2020-01-24 09:02:39,668 : INFO : EPOCH 21 - PROGRESS: at 67.88% examples, 551035 words/s, in_qsize 14, out_qsize 1\n",
      "2020-01-24 09:02:40,673 : INFO : EPOCH 21 - PROGRESS: at 74.81% examples, 552357 words/s, in_qsize 15, out_qsize 0\n",
      "2020-01-24 09:02:41,694 : INFO : EPOCH 21 - PROGRESS: at 81.66% examples, 552246 words/s, in_qsize 13, out_qsize 2\n",
      "2020-01-24 09:02:42,712 : INFO : EPOCH 21 - PROGRESS: at 88.70% examples, 553444 words/s, in_qsize 14, out_qsize 1\n",
      "2020-01-24 09:02:43,733 : INFO : EPOCH 21 - PROGRESS: at 95.66% examples, 553778 words/s, in_qsize 15, out_qsize 0\n",
      "2020-01-24 09:02:44,215 : INFO : worker thread finished; awaiting finish of 7 more threads\n",
      "2020-01-24 09:02:44,244 : INFO : worker thread finished; awaiting finish of 6 more threads\n",
      "2020-01-24 09:02:44,248 : INFO : worker thread finished; awaiting finish of 5 more threads\n",
      "2020-01-24 09:02:44,252 : INFO : worker thread finished; awaiting finish of 4 more threads\n",
      "2020-01-24 09:02:44,255 : INFO : worker thread finished; awaiting finish of 3 more threads\n",
      "2020-01-24 09:02:44,279 : INFO : worker thread finished; awaiting finish of 2 more threads\n",
      "2020-01-24 09:02:44,284 : INFO : worker thread finished; awaiting finish of 1 more threads\n",
      "2020-01-24 09:02:44,292 : INFO : worker thread finished; awaiting finish of 0 more threads\n",
      "2020-01-24 09:02:44,293 : INFO : EPOCH - 21 : training on 9227204 raw words (8222738 effective words) took 14.8s, 557027 effective words/s\n",
      "2020-01-24 09:02:45,398 : INFO : EPOCH 22 - PROGRESS: at 6.51% examples, 492247 words/s, in_qsize 16, out_qsize 0\n",
      "2020-01-24 09:02:46,410 : INFO : EPOCH 22 - PROGRESS: at 13.68% examples, 535182 words/s, in_qsize 15, out_qsize 0\n",
      "2020-01-24 09:02:47,433 : INFO : EPOCH 22 - PROGRESS: at 21.14% examples, 556678 words/s, in_qsize 14, out_qsize 1\n",
      "2020-01-24 09:02:48,441 : INFO : EPOCH 22 - PROGRESS: at 27.96% examples, 556741 words/s, in_qsize 15, out_qsize 0\n",
      "2020-01-24 09:02:49,442 : INFO : EPOCH 22 - PROGRESS: at 34.89% examples, 559286 words/s, in_qsize 15, out_qsize 0\n",
      "2020-01-24 09:02:50,449 : INFO : EPOCH 22 - PROGRESS: at 42.02% examples, 562857 words/s, in_qsize 15, out_qsize 0\n",
      "2020-01-24 09:02:51,471 : INFO : EPOCH 22 - PROGRESS: at 48.84% examples, 561142 words/s, in_qsize 15, out_qsize 0\n",
      "2020-01-24 09:02:52,498 : INFO : EPOCH 22 - PROGRESS: at 56.29% examples, 565919 words/s, in_qsize 15, out_qsize 0\n",
      "2020-01-24 09:02:53,514 : INFO : EPOCH 22 - PROGRESS: at 63.43% examples, 567414 words/s, in_qsize 13, out_qsize 2\n",
      "2020-01-24 09:02:54,541 : INFO : EPOCH 22 - PROGRESS: at 70.48% examples, 567089 words/s, in_qsize 15, out_qsize 0\n",
      "2020-01-24 09:02:55,551 : INFO : EPOCH 22 - PROGRESS: at 77.52% examples, 567570 words/s, in_qsize 15, out_qsize 1\n",
      "2020-01-24 09:02:56,555 : INFO : EPOCH 22 - PROGRESS: at 84.48% examples, 567634 words/s, in_qsize 15, out_qsize 0\n",
      "2020-01-24 09:02:57,569 : INFO : EPOCH 22 - PROGRESS: at 91.42% examples, 567070 words/s, in_qsize 16, out_qsize 1\n",
      "2020-01-24 09:02:58,584 : INFO : EPOCH 22 - PROGRESS: at 98.58% examples, 568019 words/s, in_qsize 14, out_qsize 0\n",
      "2020-01-24 09:02:58,699 : INFO : worker thread finished; awaiting finish of 7 more threads\n",
      "2020-01-24 09:02:58,703 : INFO : worker thread finished; awaiting finish of 6 more threads\n",
      "2020-01-24 09:02:58,720 : INFO : worker thread finished; awaiting finish of 5 more threads\n",
      "2020-01-24 09:02:58,725 : INFO : worker thread finished; awaiting finish of 4 more threads\n",
      "2020-01-24 09:02:58,728 : INFO : worker thread finished; awaiting finish of 3 more threads\n",
      "2020-01-24 09:02:58,739 : INFO : worker thread finished; awaiting finish of 2 more threads\n",
      "2020-01-24 09:02:58,748 : INFO : worker thread finished; awaiting finish of 1 more threads\n",
      "2020-01-24 09:02:58,755 : INFO : worker thread finished; awaiting finish of 0 more threads\n",
      "2020-01-24 09:02:58,757 : INFO : EPOCH - 22 : training on 9227204 raw words (8223220 effective words) took 14.4s, 569306 effective words/s\n",
      "2020-01-24 09:02:59,794 : INFO : EPOCH 23 - PROGRESS: at 6.62% examples, 534242 words/s, in_qsize 16, out_qsize 1\n",
      "2020-01-24 09:03:00,802 : INFO : EPOCH 23 - PROGRESS: at 13.15% examples, 531946 words/s, in_qsize 16, out_qsize 2\n",
      "2020-01-24 09:03:01,838 : INFO : EPOCH 23 - PROGRESS: at 20.27% examples, 544108 words/s, in_qsize 15, out_qsize 0\n",
      "2020-01-24 09:03:02,852 : INFO : EPOCH 23 - PROGRESS: at 27.10% examples, 546169 words/s, in_qsize 14, out_qsize 1\n",
      "2020-01-24 09:03:03,892 : INFO : EPOCH 23 - PROGRESS: at 34.24% examples, 550335 words/s, in_qsize 15, out_qsize 5\n",
      "2020-01-24 09:03:04,916 : INFO : EPOCH 23 - PROGRESS: at 41.59% examples, 557150 words/s, in_qsize 13, out_qsize 2\n",
      "2020-01-24 09:03:05,929 : INFO : EPOCH 23 - PROGRESS: at 48.62% examples, 559237 words/s, in_qsize 15, out_qsize 1\n",
      "2020-01-24 09:03:06,941 : INFO : EPOCH 23 - PROGRESS: at 55.64% examples, 560943 words/s, in_qsize 14, out_qsize 1\n",
      "2020-01-24 09:03:07,941 : INFO : EPOCH 23 - PROGRESS: at 62.68% examples, 562753 words/s, in_qsize 15, out_qsize 0\n",
      "2020-01-24 09:03:08,950 : INFO : EPOCH 23 - PROGRESS: at 69.50% examples, 562204 words/s, in_qsize 16, out_qsize 1\n",
      "2020-01-24 09:03:09,954 : INFO : EPOCH 23 - PROGRESS: at 76.44% examples, 562679 words/s, in_qsize 14, out_qsize 1\n",
      "2020-01-24 09:03:10,996 : INFO : EPOCH 23 - PROGRESS: at 83.50% examples, 562058 words/s, in_qsize 15, out_qsize 0\n",
      "2020-01-24 09:03:12,012 : INFO : EPOCH 23 - PROGRESS: at 90.43% examples, 561981 words/s, in_qsize 13, out_qsize 2\n",
      "2020-01-24 09:03:13,033 : INFO : EPOCH 23 - PROGRESS: at 97.50% examples, 562305 words/s, in_qsize 15, out_qsize 0\n"
     ]
    },
    {
     "name": "stderr",
     "output_type": "stream",
     "text": [
      "2020-01-24 09:03:13,255 : INFO : worker thread finished; awaiting finish of 7 more threads\n",
      "2020-01-24 09:03:13,280 : INFO : worker thread finished; awaiting finish of 6 more threads\n",
      "2020-01-24 09:03:13,285 : INFO : worker thread finished; awaiting finish of 5 more threads\n",
      "2020-01-24 09:03:13,292 : INFO : worker thread finished; awaiting finish of 4 more threads\n",
      "2020-01-24 09:03:13,295 : INFO : worker thread finished; awaiting finish of 3 more threads\n",
      "2020-01-24 09:03:13,312 : INFO : worker thread finished; awaiting finish of 2 more threads\n",
      "2020-01-24 09:03:13,315 : INFO : worker thread finished; awaiting finish of 1 more threads\n",
      "2020-01-24 09:03:13,324 : INFO : worker thread finished; awaiting finish of 0 more threads\n",
      "2020-01-24 09:03:13,327 : INFO : EPOCH - 23 : training on 9227204 raw words (8222534 effective words) took 14.6s, 565080 effective words/s\n",
      "2020-01-24 09:03:14,362 : INFO : EPOCH 24 - PROGRESS: at 5.97% examples, 486709 words/s, in_qsize 15, out_qsize 0\n",
      "2020-01-24 09:03:15,367 : INFO : EPOCH 24 - PROGRESS: at 12.82% examples, 523501 words/s, in_qsize 16, out_qsize 0\n",
      "2020-01-24 09:03:16,376 : INFO : EPOCH 24 - PROGRESS: at 19.73% examples, 537358 words/s, in_qsize 15, out_qsize 0\n",
      "2020-01-24 09:03:17,390 : INFO : EPOCH 24 - PROGRESS: at 26.45% examples, 539281 words/s, in_qsize 16, out_qsize 0\n",
      "2020-01-24 09:03:18,391 : INFO : EPOCH 24 - PROGRESS: at 33.38% examples, 545027 words/s, in_qsize 15, out_qsize 0\n",
      "2020-01-24 09:03:19,420 : INFO : EPOCH 24 - PROGRESS: at 40.62% examples, 551112 words/s, in_qsize 13, out_qsize 2\n",
      "2020-01-24 09:03:20,424 : INFO : EPOCH 24 - PROGRESS: at 47.32% examples, 550804 words/s, in_qsize 15, out_qsize 0\n",
      "2020-01-24 09:03:21,440 : INFO : EPOCH 24 - PROGRESS: at 53.92% examples, 549018 words/s, in_qsize 16, out_qsize 0\n",
      "2020-01-24 09:03:22,451 : INFO : EPOCH 24 - PROGRESS: at 61.07% examples, 552594 words/s, in_qsize 16, out_qsize 0\n",
      "2020-01-24 09:03:23,468 : INFO : EPOCH 24 - PROGRESS: at 67.99% examples, 553406 words/s, in_qsize 15, out_qsize 0\n",
      "2020-01-24 09:03:24,492 : INFO : EPOCH 24 - PROGRESS: at 75.03% examples, 554504 words/s, in_qsize 12, out_qsize 3\n",
      "2020-01-24 09:03:25,497 : INFO : EPOCH 24 - PROGRESS: at 81.55% examples, 552608 words/s, in_qsize 12, out_qsize 3\n",
      "2020-01-24 09:03:26,513 : INFO : EPOCH 24 - PROGRESS: at 88.59% examples, 553924 words/s, in_qsize 15, out_qsize 0\n",
      "2020-01-24 09:03:27,547 : INFO : EPOCH 24 - PROGRESS: at 95.66% examples, 554333 words/s, in_qsize 16, out_qsize 1\n",
      "2020-01-24 09:03:28,012 : INFO : worker thread finished; awaiting finish of 7 more threads\n",
      "2020-01-24 09:03:28,035 : INFO : worker thread finished; awaiting finish of 6 more threads\n",
      "2020-01-24 09:03:28,039 : INFO : worker thread finished; awaiting finish of 5 more threads\n",
      "2020-01-24 09:03:28,041 : INFO : worker thread finished; awaiting finish of 4 more threads\n",
      "2020-01-24 09:03:28,056 : INFO : worker thread finished; awaiting finish of 3 more threads\n",
      "2020-01-24 09:03:28,062 : INFO : worker thread finished; awaiting finish of 2 more threads\n",
      "2020-01-24 09:03:28,078 : INFO : worker thread finished; awaiting finish of 1 more threads\n",
      "2020-01-24 09:03:28,091 : INFO : worker thread finished; awaiting finish of 0 more threads\n",
      "2020-01-24 09:03:28,094 : INFO : EPOCH - 24 : training on 9227204 raw words (8222064 effective words) took 14.7s, 558022 effective words/s\n",
      "2020-01-24 09:03:29,141 : INFO : EPOCH 25 - PROGRESS: at 6.51% examples, 520741 words/s, in_qsize 13, out_qsize 2\n",
      "2020-01-24 09:03:30,176 : INFO : EPOCH 25 - PROGRESS: at 13.25% examples, 526848 words/s, in_qsize 15, out_qsize 0\n",
      "2020-01-24 09:03:31,217 : INFO : EPOCH 25 - PROGRESS: at 20.16% examples, 534126 words/s, in_qsize 15, out_qsize 4\n",
      "2020-01-24 09:03:32,223 : INFO : EPOCH 25 - PROGRESS: at 27.31% examples, 546247 words/s, in_qsize 15, out_qsize 0\n",
      "2020-01-24 09:03:33,230 : INFO : EPOCH 25 - PROGRESS: at 34.24% examples, 550513 words/s, in_qsize 15, out_qsize 0\n",
      "2020-01-24 09:03:34,247 : INFO : EPOCH 25 - PROGRESS: at 40.51% examples, 543355 words/s, in_qsize 15, out_qsize 0\n",
      "2020-01-24 09:03:35,250 : INFO : EPOCH 25 - PROGRESS: at 47.65% examples, 549366 words/s, in_qsize 15, out_qsize 0\n",
      "2020-01-24 09:03:36,255 : INFO : EPOCH 25 - PROGRESS: at 54.67% examples, 552658 words/s, in_qsize 15, out_qsize 0\n",
      "2020-01-24 09:03:37,279 : INFO : EPOCH 25 - PROGRESS: at 61.71% examples, 553972 words/s, in_qsize 15, out_qsize 0\n",
      "2020-01-24 09:03:38,296 : INFO : EPOCH 25 - PROGRESS: at 69.18% examples, 559138 words/s, in_qsize 15, out_qsize 1\n",
      "2020-01-24 09:03:39,298 : INFO : EPOCH 25 - PROGRESS: at 76.33% examples, 561501 words/s, in_qsize 16, out_qsize 0\n",
      "2020-01-24 09:03:40,302 : INFO : EPOCH 25 - PROGRESS: at 82.85% examples, 559174 words/s, in_qsize 14, out_qsize 1\n",
      "2020-01-24 09:03:41,384 : INFO : EPOCH 25 - PROGRESS: at 90.10% examples, 558589 words/s, in_qsize 14, out_qsize 1\n",
      "2020-01-24 09:03:42,385 : INFO : EPOCH 25 - PROGRESS: at 97.18% examples, 559956 words/s, in_qsize 14, out_qsize 1\n",
      "2020-01-24 09:03:42,633 : INFO : worker thread finished; awaiting finish of 7 more threads\n",
      "2020-01-24 09:03:42,638 : INFO : worker thread finished; awaiting finish of 6 more threads\n",
      "2020-01-24 09:03:42,639 : INFO : worker thread finished; awaiting finish of 5 more threads\n",
      "2020-01-24 09:03:42,644 : INFO : worker thread finished; awaiting finish of 4 more threads\n",
      "2020-01-24 09:03:42,678 : INFO : worker thread finished; awaiting finish of 3 more threads\n",
      "2020-01-24 09:03:42,681 : INFO : worker thread finished; awaiting finish of 2 more threads\n",
      "2020-01-24 09:03:42,686 : INFO : worker thread finished; awaiting finish of 1 more threads\n",
      "2020-01-24 09:03:42,690 : INFO : worker thread finished; awaiting finish of 0 more threads\n",
      "2020-01-24 09:03:42,692 : INFO : EPOCH - 25 : training on 9227204 raw words (8222823 effective words) took 14.6s, 564101 effective words/s\n",
      "2020-01-24 09:03:43,716 : INFO : EPOCH 26 - PROGRESS: at 6.19% examples, 506525 words/s, in_qsize 15, out_qsize 0\n",
      "2020-01-24 09:03:44,733 : INFO : EPOCH 26 - PROGRESS: at 13.25% examples, 537638 words/s, in_qsize 16, out_qsize 1\n",
      "2020-01-24 09:03:45,739 : INFO : EPOCH 26 - PROGRESS: at 20.70% examples, 562306 words/s, in_qsize 14, out_qsize 1\n",
      "2020-01-24 09:03:46,745 : INFO : EPOCH 26 - PROGRESS: at 26.77% examples, 545799 words/s, in_qsize 15, out_qsize 0\n",
      "2020-01-24 09:03:47,763 : INFO : EPOCH 26 - PROGRESS: at 33.81% examples, 550433 words/s, in_qsize 15, out_qsize 0\n",
      "2020-01-24 09:03:48,770 : INFO : EPOCH 26 - PROGRESS: at 40.73% examples, 553096 words/s, in_qsize 16, out_qsize 0\n",
      "2020-01-24 09:03:49,799 : INFO : EPOCH 26 - PROGRESS: at 47.97% examples, 556729 words/s, in_qsize 15, out_qsize 0\n",
      "2020-01-24 09:03:50,825 : INFO : EPOCH 26 - PROGRESS: at 54.56% examples, 553540 words/s, in_qsize 13, out_qsize 2\n",
      "2020-01-24 09:03:51,839 : INFO : EPOCH 26 - PROGRESS: at 61.93% examples, 558462 words/s, in_qsize 14, out_qsize 1\n",
      "2020-01-24 09:03:52,862 : INFO : EPOCH 26 - PROGRESS: at 68.64% examples, 556592 words/s, in_qsize 13, out_qsize 2\n",
      "2020-01-24 09:03:53,862 : INFO : EPOCH 26 - PROGRESS: at 75.57% examples, 557733 words/s, in_qsize 15, out_qsize 0\n",
      "2020-01-24 09:03:54,864 : INFO : EPOCH 26 - PROGRESS: at 82.21% examples, 556481 words/s, in_qsize 15, out_qsize 0\n",
      "2020-01-24 09:03:55,871 : INFO : EPOCH 26 - PROGRESS: at 88.16% examples, 551118 words/s, in_qsize 15, out_qsize 1\n",
      "2020-01-24 09:03:56,885 : INFO : EPOCH 26 - PROGRESS: at 94.36% examples, 547371 words/s, in_qsize 16, out_qsize 0\n",
      "2020-01-24 09:03:57,649 : INFO : worker thread finished; awaiting finish of 7 more threads\n",
      "2020-01-24 09:03:57,655 : INFO : worker thread finished; awaiting finish of 6 more threads\n",
      "2020-01-24 09:03:57,659 : INFO : worker thread finished; awaiting finish of 5 more threads\n",
      "2020-01-24 09:03:57,669 : INFO : worker thread finished; awaiting finish of 4 more threads\n",
      "2020-01-24 09:03:57,674 : INFO : worker thread finished; awaiting finish of 3 more threads\n",
      "2020-01-24 09:03:57,685 : INFO : worker thread finished; awaiting finish of 2 more threads\n",
      "2020-01-24 09:03:57,688 : INFO : worker thread finished; awaiting finish of 1 more threads\n",
      "2020-01-24 09:03:57,701 : INFO : worker thread finished; awaiting finish of 0 more threads\n",
      "2020-01-24 09:03:57,703 : INFO : EPOCH - 26 : training on 9227204 raw words (8222169 effective words) took 15.0s, 548544 effective words/s\n"
     ]
    },
    {
     "name": "stderr",
     "output_type": "stream",
     "text": [
      "2020-01-24 09:03:58,746 : INFO : EPOCH 27 - PROGRESS: at 5.97% examples, 478887 words/s, in_qsize 15, out_qsize 0\n",
      "2020-01-24 09:03:59,756 : INFO : EPOCH 27 - PROGRESS: at 12.28% examples, 495502 words/s, in_qsize 14, out_qsize 1\n",
      "2020-01-24 09:04:00,758 : INFO : EPOCH 27 - PROGRESS: at 18.54% examples, 502103 words/s, in_qsize 14, out_qsize 1\n",
      "2020-01-24 09:04:01,773 : INFO : EPOCH 27 - PROGRESS: at 24.83% examples, 503980 words/s, in_qsize 15, out_qsize 0\n",
      "2020-01-24 09:04:02,782 : INFO : EPOCH 27 - PROGRESS: at 31.10% examples, 505509 words/s, in_qsize 14, out_qsize 1\n",
      "2020-01-24 09:04:03,785 : INFO : EPOCH 27 - PROGRESS: at 38.35% examples, 520233 words/s, in_qsize 15, out_qsize 0\n",
      "2020-01-24 09:04:04,800 : INFO : EPOCH 27 - PROGRESS: at 44.83% examples, 521161 words/s, in_qsize 16, out_qsize 0\n",
      "2020-01-24 09:04:05,804 : INFO : EPOCH 27 - PROGRESS: at 51.53% examples, 524893 words/s, in_qsize 15, out_qsize 0\n",
      "2020-01-24 09:04:06,805 : INFO : EPOCH 27 - PROGRESS: at 58.14% examples, 526757 words/s, in_qsize 14, out_qsize 1\n",
      "2020-01-24 09:04:07,823 : INFO : EPOCH 27 - PROGRESS: at 65.28% examples, 531958 words/s, in_qsize 14, out_qsize 1\n",
      "2020-01-24 09:04:08,894 : INFO : EPOCH 27 - PROGRESS: at 72.32% examples, 532739 words/s, in_qsize 16, out_qsize 0\n",
      "2020-01-24 09:04:09,907 : INFO : EPOCH 27 - PROGRESS: at 79.49% examples, 536729 words/s, in_qsize 15, out_qsize 0\n",
      "2020-01-24 09:04:10,927 : INFO : EPOCH 27 - PROGRESS: at 86.10% examples, 536378 words/s, in_qsize 15, out_qsize 0\n",
      "2020-01-24 09:04:11,937 : INFO : EPOCH 27 - PROGRESS: at 93.05% examples, 538328 words/s, in_qsize 16, out_qsize 0\n",
      "2020-01-24 09:04:12,834 : INFO : worker thread finished; awaiting finish of 7 more threads\n",
      "2020-01-24 09:04:12,846 : INFO : worker thread finished; awaiting finish of 6 more threads\n",
      "2020-01-24 09:04:12,849 : INFO : worker thread finished; awaiting finish of 5 more threads\n",
      "2020-01-24 09:04:12,853 : INFO : worker thread finished; awaiting finish of 4 more threads\n",
      "2020-01-24 09:04:12,888 : INFO : worker thread finished; awaiting finish of 3 more threads\n",
      "2020-01-24 09:04:12,897 : INFO : worker thread finished; awaiting finish of 2 more threads\n",
      "2020-01-24 09:04:12,903 : INFO : worker thread finished; awaiting finish of 1 more threads\n",
      "2020-01-24 09:04:12,911 : INFO : worker thread finished; awaiting finish of 0 more threads\n",
      "2020-01-24 09:04:12,911 : INFO : EPOCH - 27 : training on 9227204 raw words (8222527 effective words) took 15.2s, 541348 effective words/s\n",
      "2020-01-24 09:04:13,925 : INFO : EPOCH 28 - PROGRESS: at 6.18% examples, 505068 words/s, in_qsize 15, out_qsize 0\n",
      "2020-01-24 09:04:15,004 : INFO : EPOCH 28 - PROGRESS: at 13.36% examples, 528617 words/s, in_qsize 15, out_qsize 1\n",
      "2020-01-24 09:04:16,009 : INFO : EPOCH 28 - PROGRESS: at 20.16% examples, 538816 words/s, in_qsize 15, out_qsize 0\n",
      "2020-01-24 09:04:17,030 : INFO : EPOCH 28 - PROGRESS: at 26.99% examples, 541648 words/s, in_qsize 16, out_qsize 1\n",
      "2020-01-24 09:04:18,063 : INFO : EPOCH 28 - PROGRESS: at 33.92% examples, 543565 words/s, in_qsize 15, out_qsize 0\n",
      "2020-01-24 09:04:19,089 : INFO : EPOCH 28 - PROGRESS: at 40.30% examples, 538461 words/s, in_qsize 15, out_qsize 0\n",
      "2020-01-24 09:04:20,099 : INFO : EPOCH 28 - PROGRESS: at 46.89% examples, 538438 words/s, in_qsize 14, out_qsize 1\n",
      "2020-01-24 09:04:21,116 : INFO : EPOCH 28 - PROGRESS: at 53.92% examples, 542241 words/s, in_qsize 14, out_qsize 1\n",
      "2020-01-24 09:04:22,119 : INFO : EPOCH 28 - PROGRESS: at 61.28% examples, 549044 words/s, in_qsize 15, out_qsize 0\n",
      "2020-01-24 09:04:23,134 : INFO : EPOCH 28 - PROGRESS: at 68.21% examples, 550302 words/s, in_qsize 15, out_qsize 0\n",
      "2020-01-24 09:04:24,148 : INFO : EPOCH 28 - PROGRESS: at 75.35% examples, 552835 words/s, in_qsize 14, out_qsize 1\n",
      "2020-01-24 09:04:25,160 : INFO : EPOCH 28 - PROGRESS: at 82.20% examples, 553124 words/s, in_qsize 12, out_qsize 3\n",
      "2020-01-24 09:04:26,169 : INFO : EPOCH 28 - PROGRESS: at 89.02% examples, 553259 words/s, in_qsize 15, out_qsize 0\n",
      "2020-01-24 09:04:27,176 : INFO : EPOCH 28 - PROGRESS: at 95.55% examples, 551715 words/s, in_qsize 16, out_qsize 2\n",
      "2020-01-24 09:04:27,689 : INFO : worker thread finished; awaiting finish of 7 more threads\n",
      "2020-01-24 09:04:27,692 : INFO : worker thread finished; awaiting finish of 6 more threads\n",
      "2020-01-24 09:04:27,693 : INFO : worker thread finished; awaiting finish of 5 more threads\n",
      "2020-01-24 09:04:27,695 : INFO : worker thread finished; awaiting finish of 4 more threads\n",
      "2020-01-24 09:04:27,720 : INFO : worker thread finished; awaiting finish of 3 more threads\n",
      "2020-01-24 09:04:27,724 : INFO : worker thread finished; awaiting finish of 2 more threads\n",
      "2020-01-24 09:04:27,727 : INFO : worker thread finished; awaiting finish of 1 more threads\n",
      "2020-01-24 09:04:27,742 : INFO : worker thread finished; awaiting finish of 0 more threads\n",
      "2020-01-24 09:04:27,743 : INFO : EPOCH - 28 : training on 9227204 raw words (8223969 effective words) took 14.8s, 555306 effective words/s\n",
      "2020-01-24 09:04:28,772 : INFO : EPOCH 29 - PROGRESS: at 6.08% examples, 498615 words/s, in_qsize 16, out_qsize 0\n",
      "2020-01-24 09:04:29,784 : INFO : EPOCH 29 - PROGRESS: at 12.82% examples, 522172 words/s, in_qsize 13, out_qsize 2\n",
      "2020-01-24 09:04:30,792 : INFO : EPOCH 29 - PROGRESS: at 19.30% examples, 524851 words/s, in_qsize 13, out_qsize 2\n",
      "2020-01-24 09:04:31,805 : INFO : EPOCH 29 - PROGRESS: at 26.45% examples, 538884 words/s, in_qsize 16, out_qsize 0\n",
      "2020-01-24 09:04:32,818 : INFO : EPOCH 29 - PROGRESS: at 33.70% examples, 548901 words/s, in_qsize 14, out_qsize 1\n",
      "2020-01-24 09:04:33,821 : INFO : EPOCH 29 - PROGRESS: at 40.40% examples, 548664 words/s, in_qsize 15, out_qsize 0\n",
      "2020-01-24 09:04:34,841 : INFO : EPOCH 29 - PROGRESS: at 46.67% examples, 543032 words/s, in_qsize 15, out_qsize 0\n",
      "2020-01-24 09:04:35,866 : INFO : EPOCH 29 - PROGRESS: at 52.84% examples, 537065 words/s, in_qsize 15, out_qsize 0\n",
      "2020-01-24 09:04:36,874 : INFO : EPOCH 29 - PROGRESS: at 59.76% examples, 539724 words/s, in_qsize 16, out_qsize 0\n",
      "2020-01-24 09:04:37,903 : INFO : EPOCH 29 - PROGRESS: at 66.69% examples, 541589 words/s, in_qsize 16, out_qsize 1\n",
      "2020-01-24 09:04:38,996 : INFO : EPOCH 29 - PROGRESS: at 73.62% examples, 539653 words/s, in_qsize 16, out_qsize 3\n",
      "2020-01-24 09:04:40,019 : INFO : EPOCH 29 - PROGRESS: at 78.62% examples, 527876 words/s, in_qsize 13, out_qsize 2\n",
      "2020-01-24 09:04:41,031 : INFO : EPOCH 29 - PROGRESS: at 84.48% examples, 524006 words/s, in_qsize 16, out_qsize 0\n",
      "2020-01-24 09:04:42,079 : INFO : EPOCH 29 - PROGRESS: at 91.09% examples, 523440 words/s, in_qsize 14, out_qsize 1\n",
      "2020-01-24 09:04:43,083 : INFO : EPOCH 29 - PROGRESS: at 98.15% examples, 527021 words/s, in_qsize 15, out_qsize 0\n",
      "2020-01-24 09:04:43,264 : INFO : worker thread finished; awaiting finish of 7 more threads\n",
      "2020-01-24 09:04:43,265 : INFO : worker thread finished; awaiting finish of 6 more threads\n",
      "2020-01-24 09:04:43,271 : INFO : worker thread finished; awaiting finish of 5 more threads\n",
      "2020-01-24 09:04:43,275 : INFO : worker thread finished; awaiting finish of 4 more threads\n",
      "2020-01-24 09:04:43,293 : INFO : worker thread finished; awaiting finish of 3 more threads\n",
      "2020-01-24 09:04:43,306 : INFO : worker thread finished; awaiting finish of 2 more threads\n",
      "2020-01-24 09:04:43,317 : INFO : worker thread finished; awaiting finish of 1 more threads\n",
      "2020-01-24 09:04:43,326 : INFO : worker thread finished; awaiting finish of 0 more threads\n",
      "2020-01-24 09:04:43,326 : INFO : EPOCH - 29 : training on 9227204 raw words (8221806 effective words) took 15.6s, 528515 effective words/s\n",
      "2020-01-24 09:04:44,367 : INFO : EPOCH 30 - PROGRESS: at 6.40% examples, 517356 words/s, in_qsize 14, out_qsize 1\n",
      "2020-01-24 09:04:45,393 : INFO : EPOCH 30 - PROGRESS: at 13.25% examples, 532387 words/s, in_qsize 12, out_qsize 3\n",
      "2020-01-24 09:04:46,405 : INFO : EPOCH 30 - PROGRESS: at 20.48% examples, 551526 words/s, in_qsize 15, out_qsize 0\n",
      "2020-01-24 09:04:47,411 : INFO : EPOCH 30 - PROGRESS: at 27.32% examples, 553158 words/s, in_qsize 16, out_qsize 0\n",
      "2020-01-24 09:04:48,417 : INFO : EPOCH 30 - PROGRESS: at 34.13% examples, 554084 words/s, in_qsize 15, out_qsize 0\n",
      "2020-01-24 09:04:49,433 : INFO : EPOCH 30 - PROGRESS: at 40.73% examples, 550924 words/s, in_qsize 16, out_qsize 0\n"
     ]
    },
    {
     "name": "stderr",
     "output_type": "stream",
     "text": [
      "2020-01-24 09:04:50,484 : INFO : EPOCH 30 - PROGRESS: at 47.65% examples, 549565 words/s, in_qsize 15, out_qsize 0\n",
      "2020-01-24 09:04:51,489 : INFO : EPOCH 30 - PROGRESS: at 54.56% examples, 551839 words/s, in_qsize 15, out_qsize 0\n",
      "2020-01-24 09:04:52,501 : INFO : EPOCH 30 - PROGRESS: at 61.50% examples, 553114 words/s, in_qsize 15, out_qsize 0\n",
      "2020-01-24 09:04:53,503 : INFO : EPOCH 30 - PROGRESS: at 68.21% examples, 552954 words/s, in_qsize 15, out_qsize 0\n",
      "2020-01-24 09:04:54,512 : INFO : EPOCH 30 - PROGRESS: at 74.92% examples, 552406 words/s, in_qsize 14, out_qsize 1\n",
      "2020-01-24 09:04:55,508 : INFO : EPOCH 30 - PROGRESS: at 81.77% examples, 553009 words/s, in_qsize 15, out_qsize 0\n",
      "2020-01-24 09:04:56,541 : INFO : EPOCH 30 - PROGRESS: at 88.70% examples, 553192 words/s, in_qsize 16, out_qsize 0\n",
      "2020-01-24 09:04:57,557 : INFO : EPOCH 30 - PROGRESS: at 95.55% examples, 553044 words/s, in_qsize 16, out_qsize 0\n",
      "2020-01-24 09:04:58,048 : INFO : worker thread finished; awaiting finish of 7 more threads\n",
      "2020-01-24 09:04:58,055 : INFO : worker thread finished; awaiting finish of 6 more threads\n",
      "2020-01-24 09:04:58,057 : INFO : worker thread finished; awaiting finish of 5 more threads\n",
      "2020-01-24 09:04:58,058 : INFO : worker thread finished; awaiting finish of 4 more threads\n",
      "2020-01-24 09:04:58,079 : INFO : worker thread finished; awaiting finish of 3 more threads\n",
      "2020-01-24 09:04:58,083 : INFO : worker thread finished; awaiting finish of 2 more threads\n",
      "2020-01-24 09:04:58,093 : INFO : worker thread finished; awaiting finish of 1 more threads\n",
      "2020-01-24 09:04:58,109 : INFO : worker thread finished; awaiting finish of 0 more threads\n",
      "2020-01-24 09:04:58,111 : INFO : EPOCH - 30 : training on 9227204 raw words (8222680 effective words) took 14.8s, 557112 effective words/s\n",
      "2020-01-24 09:04:59,146 : INFO : EPOCH 31 - PROGRESS: at 5.65% examples, 458017 words/s, in_qsize 16, out_qsize 0\n",
      "2020-01-24 09:05:00,183 : INFO : EPOCH 31 - PROGRESS: at 12.60% examples, 505045 words/s, in_qsize 15, out_qsize 0\n",
      "2020-01-24 09:05:01,233 : INFO : EPOCH 31 - PROGRESS: at 19.51% examples, 517911 words/s, in_qsize 14, out_qsize 1\n",
      "2020-01-24 09:05:02,242 : INFO : EPOCH 31 - PROGRESS: at 26.45% examples, 529231 words/s, in_qsize 15, out_qsize 0\n",
      "2020-01-24 09:05:03,277 : INFO : EPOCH 31 - PROGRESS: at 32.73% examples, 523493 words/s, in_qsize 13, out_qsize 3\n",
      "2020-01-24 09:05:04,294 : INFO : EPOCH 31 - PROGRESS: at 39.76% examples, 530633 words/s, in_qsize 15, out_qsize 0\n",
      "2020-01-24 09:05:05,325 : INFO : EPOCH 31 - PROGRESS: at 46.89% examples, 536708 words/s, in_qsize 15, out_qsize 0\n",
      "2020-01-24 09:05:06,333 : INFO : EPOCH 31 - PROGRESS: at 53.92% examples, 541273 words/s, in_qsize 15, out_qsize 0\n",
      "2020-01-24 09:05:07,364 : INFO : EPOCH 31 - PROGRESS: at 60.74% examples, 541590 words/s, in_qsize 15, out_qsize 0\n",
      "2020-01-24 09:05:08,373 : INFO : EPOCH 31 - PROGRESS: at 67.34% examples, 541313 words/s, in_qsize 15, out_qsize 0\n",
      "2020-01-24 09:05:09,402 : INFO : EPOCH 31 - PROGRESS: at 73.94% examples, 540005 words/s, in_qsize 15, out_qsize 0\n",
      "2020-01-24 09:05:10,438 : INFO : EPOCH 31 - PROGRESS: at 80.79% examples, 540237 words/s, in_qsize 15, out_qsize 0\n",
      "2020-01-24 09:05:11,446 : INFO : EPOCH 31 - PROGRESS: at 87.51% examples, 540743 words/s, in_qsize 13, out_qsize 2\n",
      "2020-01-24 09:05:12,467 : INFO : EPOCH 31 - PROGRESS: at 94.36% examples, 541382 words/s, in_qsize 15, out_qsize 0\n",
      "2020-01-24 09:05:13,180 : INFO : worker thread finished; awaiting finish of 7 more threads\n",
      "2020-01-24 09:05:13,189 : INFO : worker thread finished; awaiting finish of 6 more threads\n",
      "2020-01-24 09:05:13,191 : INFO : worker thread finished; awaiting finish of 5 more threads\n",
      "2020-01-24 09:05:13,193 : INFO : worker thread finished; awaiting finish of 4 more threads\n",
      "2020-01-24 09:05:13,207 : INFO : worker thread finished; awaiting finish of 3 more threads\n",
      "2020-01-24 09:05:13,214 : INFO : worker thread finished; awaiting finish of 2 more threads\n",
      "2020-01-24 09:05:13,240 : INFO : worker thread finished; awaiting finish of 1 more threads\n",
      "2020-01-24 09:05:13,243 : INFO : worker thread finished; awaiting finish of 0 more threads\n",
      "2020-01-24 09:05:13,244 : INFO : EPOCH - 31 : training on 9227204 raw words (8222023 effective words) took 15.1s, 544236 effective words/s\n",
      "2020-01-24 09:05:14,284 : INFO : EPOCH 32 - PROGRESS: at 6.08% examples, 490711 words/s, in_qsize 15, out_qsize 0\n",
      "2020-01-24 09:05:15,289 : INFO : EPOCH 32 - PROGRESS: at 13.14% examples, 533928 words/s, in_qsize 15, out_qsize 0\n",
      "2020-01-24 09:05:16,297 : INFO : EPOCH 32 - PROGRESS: at 19.51% examples, 529540 words/s, in_qsize 16, out_qsize 0\n",
      "2020-01-24 09:05:17,310 : INFO : EPOCH 32 - PROGRESS: at 26.67% examples, 542117 words/s, in_qsize 15, out_qsize 0\n",
      "2020-01-24 09:05:18,334 : INFO : EPOCH 32 - PROGRESS: at 33.49% examples, 543517 words/s, in_qsize 15, out_qsize 0\n",
      "2020-01-24 09:05:19,372 : INFO : EPOCH 32 - PROGRESS: at 40.94% examples, 551857 words/s, in_qsize 15, out_qsize 0\n",
      "2020-01-24 09:05:20,377 : INFO : EPOCH 32 - PROGRESS: at 47.86% examples, 554141 words/s, in_qsize 15, out_qsize 0\n",
      "2020-01-24 09:05:21,438 : INFO : EPOCH 32 - PROGRESS: at 54.35% examples, 547183 words/s, in_qsize 15, out_qsize 0\n",
      "2020-01-24 09:05:22,457 : INFO : EPOCH 32 - PROGRESS: at 60.85% examples, 545068 words/s, in_qsize 16, out_qsize 0\n",
      "2020-01-24 09:05:23,456 : INFO : EPOCH 32 - PROGRESS: at 66.80% examples, 539583 words/s, in_qsize 15, out_qsize 0\n",
      "2020-01-24 09:05:24,476 : INFO : EPOCH 32 - PROGRESS: at 73.51% examples, 539853 words/s, in_qsize 15, out_qsize 0\n",
      "2020-01-24 09:05:25,489 : INFO : EPOCH 32 - PROGRESS: at 80.46% examples, 541746 words/s, in_qsize 14, out_qsize 1\n",
      "2020-01-24 09:05:26,525 : INFO : EPOCH 32 - PROGRESS: at 87.29% examples, 541763 words/s, in_qsize 14, out_qsize 1\n",
      "2020-01-24 09:05:27,572 : INFO : EPOCH 32 - PROGRESS: at 94.36% examples, 542525 words/s, in_qsize 15, out_qsize 0\n",
      "2020-01-24 09:05:28,246 : INFO : worker thread finished; awaiting finish of 7 more threads\n",
      "2020-01-24 09:05:28,269 : INFO : worker thread finished; awaiting finish of 6 more threads\n",
      "2020-01-24 09:05:28,273 : INFO : worker thread finished; awaiting finish of 5 more threads\n",
      "2020-01-24 09:05:28,275 : INFO : worker thread finished; awaiting finish of 4 more threads\n",
      "2020-01-24 09:05:28,276 : INFO : worker thread finished; awaiting finish of 3 more threads\n",
      "2020-01-24 09:05:28,285 : INFO : worker thread finished; awaiting finish of 2 more threads\n",
      "2020-01-24 09:05:28,302 : INFO : worker thread finished; awaiting finish of 1 more threads\n",
      "2020-01-24 09:05:28,317 : INFO : worker thread finished; awaiting finish of 0 more threads\n",
      "2020-01-24 09:05:28,321 : INFO : EPOCH - 32 : training on 9227204 raw words (8223362 effective words) took 15.0s, 546411 effective words/s\n",
      "2020-01-24 09:05:28,322 : INFO : training on a 295270528 raw words (263125295 effective words) took 485.5s, 541950 effective words/s\n"
     ]
    },
    {
     "name": "stdout",
     "output_type": "stream",
     "text": [
      "Wall time: 8min 5s\n"
     ]
    },
    {
     "data": {
      "text/plain": [
       "(263125295, 295270528)"
      ]
     },
     "execution_count": 27,
     "metadata": {},
     "output_type": "execute_result"
    }
   ],
   "source": [
    "%%time\n",
    "w2v_model.train(documents, total_examples=len(documents), epochs=W2V_EPOCH)"
   ]
  },
  {
   "cell_type": "code",
   "execution_count": 30,
   "metadata": {},
   "outputs": [
    {
     "name": "stdout",
     "output_type": "stream",
     "text": [
      "Total words 290419\n"
     ]
    }
   ],
   "source": [
    "#%%time\n",
    "tokenizer = Tokenizer()\n",
    "tokenizer.fit_on_texts(df_train.text)\n",
    "\n",
    "vocab_size = len(tokenizer.word_index) + 1\n",
    "print(\"Total words\", vocab_size)"
   ]
  },
  {
   "cell_type": "code",
   "execution_count": null,
   "metadata": {},
   "outputs": [],
   "source": [
    "w2v_model.most_similar(\"love\")"
   ]
  },
  {
   "cell_type": "code",
   "execution_count": 31,
   "metadata": {},
   "outputs": [],
   "source": [
    "#%%time\n",
    "x_train = pad_sequences(tokenizer.texts_to_sequences(df_train.text), maxlen=SEQUENCE_LENGTH)\n",
    "x_test = pad_sequences(tokenizer.texts_to_sequences(df_test.text), maxlen=SEQUENCE_LENGTH)"
   ]
  },
  {
   "cell_type": "code",
   "execution_count": 32,
   "metadata": {},
   "outputs": [
    {
     "data": {
      "text/plain": [
       "['POSITIVE', 'NEGATIVE', 'NEUTRAL']"
      ]
     },
     "execution_count": 32,
     "metadata": {},
     "output_type": "execute_result"
    }
   ],
   "source": [
    "labels = df_train.target.unique().tolist()\n",
    "labels.append(NEUTRAL)\n",
    "labels"
   ]
  },
  {
   "cell_type": "code",
   "execution_count": 33,
   "metadata": {},
   "outputs": [
    {
     "name": "stdout",
     "output_type": "stream",
     "text": [
      "y_train (1280000, 1)\n",
      "y_test (320000, 1)\n"
     ]
    }
   ],
   "source": [
    "encoder = LabelEncoder()\n",
    "encoder.fit(df_train.target.tolist())\n",
    "\n",
    "y_train = encoder.transform(df_train.target.tolist())\n",
    "y_test = encoder.transform(df_test.target.tolist())\n",
    "\n",
    "y_train = y_train.reshape(-1,1)\n",
    "y_test = y_test.reshape(-1,1)\n",
    "\n",
    "print(\"y_train\",y_train.shape)\n",
    "print(\"y_test\",y_test.shape)"
   ]
  },
  {
   "cell_type": "code",
   "execution_count": 34,
   "metadata": {},
   "outputs": [
    {
     "name": "stdout",
     "output_type": "stream",
     "text": [
      "x_train (1280000, 300)\n",
      "y_train (1280000, 1)\n",
      "\n",
      "x_test (320000, 300)\n",
      "y_test (320000, 1)\n"
     ]
    }
   ],
   "source": [
    "print(\"x_train\", x_train.shape)\n",
    "print(\"y_train\", y_train.shape)\n",
    "print()\n",
    "print(\"x_test\", x_test.shape)\n",
    "print(\"y_test\", y_test.shape)"
   ]
  },
  {
   "cell_type": "code",
   "execution_count": 35,
   "metadata": {},
   "outputs": [
    {
     "data": {
      "text/plain": [
       "array([[1],\n",
       "       [1],\n",
       "       [1],\n",
       "       [0],\n",
       "       [1],\n",
       "       [1],\n",
       "       [1],\n",
       "       [1],\n",
       "       [1],\n",
       "       [1]], dtype=int64)"
      ]
     },
     "execution_count": 35,
     "metadata": {},
     "output_type": "execute_result"
    }
   ],
   "source": [
    "y_train[:10]"
   ]
  },
  {
   "cell_type": "code",
   "execution_count": 36,
   "metadata": {},
   "outputs": [
    {
     "name": "stdout",
     "output_type": "stream",
     "text": [
      "(290419, 300)\n"
     ]
    }
   ],
   "source": [
    "embedding_matrix = np.zeros((vocab_size, W2V_SIZE))\n",
    "for word, i in tokenizer.word_index.items():\n",
    "  if word in w2v_model.wv:\n",
    "    embedding_matrix[i] = w2v_model.wv[word]\n",
    "print(embedding_matrix.shape)"
   ]
  },
  {
   "cell_type": "code",
   "execution_count": 37,
   "metadata": {},
   "outputs": [],
   "source": [
    "embedding_layer = Embedding(vocab_size, W2V_SIZE, weights=[embedding_matrix], input_length=SEQUENCE_LENGTH, trainable=False)"
   ]
  },
  {
   "cell_type": "code",
   "execution_count": 38,
   "metadata": {},
   "outputs": [
    {
     "name": "stdout",
     "output_type": "stream",
     "text": [
      "WARNING:tensorflow:From C:\\Users\\ac36345\\AppData\\Local\\Continuum\\anaconda3\\lib\\site-packages\\tensorflow\\python\\ops\\resource_variable_ops.py:435: colocate_with (from tensorflow.python.framework.ops) is deprecated and will be removed in a future version.\n",
      "Instructions for updating:\n",
      "Colocations handled automatically by placer.\n"
     ]
    },
    {
     "name": "stderr",
     "output_type": "stream",
     "text": [
      "2020-01-24 09:20:08,234 : WARNING : From C:\\Users\\ac36345\\AppData\\Local\\Continuum\\anaconda3\\lib\\site-packages\\tensorflow\\python\\ops\\resource_variable_ops.py:435: colocate_with (from tensorflow.python.framework.ops) is deprecated and will be removed in a future version.\n",
      "Instructions for updating:\n",
      "Colocations handled automatically by placer.\n"
     ]
    },
    {
     "name": "stdout",
     "output_type": "stream",
     "text": [
      "Model: \"sequential_1\"\n",
      "_________________________________________________________________\n",
      "Layer (type)                 Output Shape              Param #   \n",
      "=================================================================\n",
      "embedding_1 (Embedding)      (None, 300, 300)          87125700  \n",
      "_________________________________________________________________\n",
      "dropout_1 (Dropout)          (None, 300, 300)          0         \n",
      "_________________________________________________________________\n",
      "lstm_1 (LSTM)                (None, 100)               160400    \n",
      "_________________________________________________________________\n",
      "dense_1 (Dense)              (None, 1)                 101       \n",
      "=================================================================\n",
      "Total params: 87,286,201\n",
      "Trainable params: 160,501\n",
      "Non-trainable params: 87,125,700\n",
      "_________________________________________________________________\n"
     ]
    }
   ],
   "source": [
    "model = Sequential()\n",
    "model.add(embedding_layer)\n",
    "model.add(Dropout(0.5))\n",
    "model.add(LSTM(100, dropout=0.2, recurrent_dropout=0.2))\n",
    "model.add(Dense(1, activation='sigmoid'))\n",
    "\n",
    "model.summary()"
   ]
  },
  {
   "cell_type": "code",
   "execution_count": 39,
   "metadata": {},
   "outputs": [],
   "source": [
    "model.compile(loss='binary_crossentropy',\n",
    "              optimizer=\"adam\",\n",
    "              metrics=['accuracy'])"
   ]
  },
  {
   "cell_type": "code",
   "execution_count": 40,
   "metadata": {},
   "outputs": [],
   "source": [
    "callbacks = [ ReduceLROnPlateau(monitor='val_loss', patience=5, cooldown=0),\n",
    "              EarlyStopping(monitor='val_acc', min_delta=1e-4, patience=5)]"
   ]
  },
  {
   "cell_type": "code",
   "execution_count": null,
   "metadata": {},
   "outputs": [
    {
     "name": "stdout",
     "output_type": "stream",
     "text": [
      "WARNING:tensorflow:From C:\\Users\\ac36345\\AppData\\Local\\Continuum\\anaconda3\\lib\\site-packages\\tensorflow\\python\\ops\\math_ops.py:3066: to_int32 (from tensorflow.python.ops.math_ops) is deprecated and will be removed in a future version.\n",
      "Instructions for updating:\n",
      "Use tf.cast instead.\n"
     ]
    },
    {
     "name": "stderr",
     "output_type": "stream",
     "text": [
      "2020-01-24 09:20:51,279 : WARNING : From C:\\Users\\ac36345\\AppData\\Local\\Continuum\\anaconda3\\lib\\site-packages\\tensorflow\\python\\ops\\math_ops.py:3066: to_int32 (from tensorflow.python.ops.math_ops) is deprecated and will be removed in a future version.\n",
      "Instructions for updating:\n",
      "Use tf.cast instead.\n"
     ]
    },
    {
     "name": "stdout",
     "output_type": "stream",
     "text": [
      "Train on 1152000 samples, validate on 128000 samples\n",
      "Epoch 1/8\n",
      "1152000/1152000 [==============================] - 7620s 7ms/step - loss: 0.5052 - accuracy: 0.7496 - val_loss: 0.4624 - val_accuracy: 0.7798\n"
     ]
    },
    {
     "name": "stderr",
     "output_type": "stream",
     "text": [
      "C:\\Users\\ac36345\\AppData\\Local\\Continuum\\anaconda3\\lib\\site-packages\\keras\\callbacks\\callbacks.py:846: RuntimeWarning: Early stopping conditioned on metric `val_acc` which is not available. Available metrics are: val_loss,val_accuracy,loss,accuracy,lr\n",
      "  (self.monitor, ','.join(list(logs.keys()))), RuntimeWarning\n"
     ]
    },
    {
     "name": "stdout",
     "output_type": "stream",
     "text": [
      "Epoch 2/8\n",
      "1152000/1152000 [==============================] - 7164s 6ms/step - loss: 0.4820 - accuracy: 0.7650 - val_loss: 0.4562 - val_accuracy: 0.7837\n",
      "Epoch 3/8\n",
      " 790528/1152000 [===================>..........] - ETA: 1:08:41 - loss: 0.4750 - accuracy: 0.7697"
     ]
    }
   ],
   "source": [
    "#%%time\n",
    "history = model.fit(x_train, y_train,\n",
    "                    batch_size=BATCH_SIZE,\n",
    "                    epochs=EPOCHS,\n",
    "                    validation_split=0.1,\n",
    "                    verbose=1,\n",
    "                    callbacks=callbacks)"
   ]
  },
  {
   "cell_type": "code",
   "execution_count": null,
   "metadata": {},
   "outputs": [],
   "source": [
    "#evaluate\n",
    "#%%time\n",
    "score = model.evaluate(x_test, y_test, batch_size=BATCH_SIZE)\n",
    "print()\n",
    "print(\"ACCURACY:\",score[1])\n",
    "print(\"LOSS:\",score[0])"
   ]
  },
  {
   "cell_type": "code",
   "execution_count": null,
   "metadata": {},
   "outputs": [],
   "source": [
    "acc = history.history['acc']\n",
    "val_acc = history.history['val_acc']\n",
    "loss = history.history['loss']\n",
    "val_loss = history.history['val_loss']\n",
    " \n",
    "epochs = range(len(acc))\n",
    " \n",
    "plt.plot(epochs, acc, 'b', label='Training acc')\n",
    "plt.plot(epochs, val_acc, 'r', label='Validation acc')\n",
    "plt.title('Training and validation accuracy')\n",
    "plt.legend()\n",
    " \n",
    "plt.figure()\n",
    " \n",
    "plt.plot(epochs, loss, 'b', label='Training loss')\n",
    "plt.plot(epochs, val_loss, 'r', label='Validation loss')\n",
    "plt.title('Training and validation loss')\n",
    "plt.legend()\n",
    " \n",
    "plt.show()"
   ]
  },
  {
   "cell_type": "code",
   "execution_count": null,
   "metadata": {},
   "outputs": [],
   "source": [
    "#Predict\n",
    "def decode_sentiment(score, include_neutral=True):\n",
    "    if include_neutral:        \n",
    "        label = NEUTRAL\n",
    "        if score <= SENTIMENT_THRESHOLDS[0]:\n",
    "            label = NEGATIVE\n",
    "        elif score >= SENTIMENT_THRESHOLDS[1]:\n",
    "            label = POSITIVE\n",
    "\n",
    "        return label\n",
    "    else:\n",
    "        return NEGATIVE if score < 0.5 else POSITIVE"
   ]
  },
  {
   "cell_type": "code",
   "execution_count": null,
   "metadata": {},
   "outputs": [],
   "source": [
    "def predict(text, include_neutral=True):\n",
    "    start_at = time.time()\n",
    "    # Tokenize text\n",
    "    x_test = pad_sequences(tokenizer.texts_to_sequences([text]), maxlen=SEQUENCE_LENGTH)\n",
    "    # Predict\n",
    "    score = model.predict([x_test])[0]\n",
    "    # Decode sentiment\n",
    "    label = decode_sentiment(score, include_neutral=include_neutral)\n",
    "\n",
    "    return {\"label\": label, \"score\": float(score),\n",
    "       \"elapsed_time\": time.time()-start_at}  "
   ]
  },
  {
   "cell_type": "code",
   "execution_count": null,
   "metadata": {},
   "outputs": [],
   "source": [
    "predict(\"I love the music\")"
   ]
  },
  {
   "cell_type": "code",
   "execution_count": null,
   "metadata": {},
   "outputs": [],
   "source": [
    "predict(\"I hate the rain\")"
   ]
  },
  {
   "cell_type": "code",
   "execution_count": null,
   "metadata": {},
   "outputs": [],
   "source": [
    "predict(\"i don't know what i'm doing\")"
   ]
  },
  {
   "cell_type": "code",
   "execution_count": null,
   "metadata": {},
   "outputs": [],
   "source": [
    "#%%time\n",
    "y_pred_1d = []\n",
    "y_test_1d = list(df_test.target)\n",
    "scores = model.predict(x_test, verbose=1, batch_size=8000)\n",
    "y_pred_1d = [decode_sentiment(score, include_neutral=False) for score in scores]"
   ]
  },
  {
   "cell_type": "code",
   "execution_count": null,
   "metadata": {},
   "outputs": [],
   "source": [
    "def plot_confusion_matrix(cm, classes,\n",
    "                          title='Confusion matrix',\n",
    "                          cmap=plt.cm.Blues):\n",
    "    \"\"\"\n",
    "    This function prints and plots the confusion matrix.\n",
    "    Normalization can be applied by setting `normalize=True`.\n",
    "    \"\"\"\n",
    "\n",
    "    cm = cm.astype('float') / cm.sum(axis=1)[:, np.newaxis]\n",
    "\n",
    "    plt.imshow(cm, interpolation='nearest', cmap=cmap)\n",
    "    plt.title(title, fontsize=30)\n",
    "    plt.colorbar()\n",
    "    tick_marks = np.arange(len(classes))\n",
    "    plt.xticks(tick_marks, classes, rotation=90, fontsize=22)\n",
    "    plt.yticks(tick_marks, classes, fontsize=22)\n",
    "\n",
    "    fmt = '.2f'\n",
    "    thresh = cm.max() / 2.\n",
    "    for i, j in itertools.product(range(cm.shape[0]), range(cm.shape[1])):\n",
    "        plt.text(j, i, format(cm[i, j], fmt),\n",
    "                 horizontalalignment=\"center\",\n",
    "                 color=\"white\" if cm[i, j] > thresh else \"black\")\n",
    "\n",
    "    plt.ylabel('True label', fontsize=25)\n",
    "    plt.xlabel('Predicted label', fontsize=25)"
   ]
  },
  {
   "cell_type": "code",
   "execution_count": null,
   "metadata": {},
   "outputs": [],
   "source": [
    "#%%time\n",
    "\n",
    "cnf_matrix = confusion_matrix(y_test_1d, y_pred_1d)\n",
    "plt.figure(figsize=(12,12))\n",
    "plot_confusion_matrix(cnf_matrix, classes=df_train.target.unique(), title=\"Confusion matrix\")\n",
    "plt.show()"
   ]
  },
  {
   "cell_type": "code",
   "execution_count": null,
   "metadata": {},
   "outputs": [],
   "source": [
    "#clasification report\n",
    "print(classification_report(y_test_1d, y_pred_1d))"
   ]
  },
  {
   "cell_type": "code",
   "execution_count": null,
   "metadata": {},
   "outputs": [],
   "source": [
    "#accuracy score\n",
    "accuracy_score(y_test_1d, y_pred_1d)"
   ]
  },
  {
   "cell_type": "code",
   "execution_count": null,
   "metadata": {},
   "outputs": [],
   "source": [
    "#save model\n",
    "model.save(KERAS_MODEL)\n",
    "w2v_model.save(WORD2VEC_MODEL)\n",
    "pickle.dump(tokenizer, open(TOKENIZER_MODEL, \"wb\"), protocol=0)\n",
    "pickle.dump(encoder, open(ENCODER_MODEL, \"wb\"), protocol=0)"
   ]
  }
 ],
 "metadata": {
  "kernelspec": {
   "display_name": "Python 3",
   "language": "python",
   "name": "python3"
  },
  "language_info": {
   "codemirror_mode": {
    "name": "ipython",
    "version": 3
   },
   "file_extension": ".py",
   "mimetype": "text/x-python",
   "name": "python",
   "nbconvert_exporter": "python",
   "pygments_lexer": "ipython3",
   "version": "3.7.3"
  }
 },
 "nbformat": 4,
 "nbformat_minor": 2
}
