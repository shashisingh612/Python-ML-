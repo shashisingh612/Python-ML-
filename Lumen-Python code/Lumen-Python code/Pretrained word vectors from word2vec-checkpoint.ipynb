{
 "cells": [
  {
   "cell_type": "code",
   "execution_count": 10,
   "metadata": {},
   "outputs": [],
   "source": [
    "from __future__ import print_function,division\n",
    "from future.utils import iteritems\n",
    "from builtins import range\n",
    "from gensim.models import KeyedVectors"
   ]
  },
  {
   "cell_type": "code",
   "execution_count": 16,
   "metadata": {},
   "outputs": [],
   "source": [
    "word_vectors = KeyedVectors.load_word2vec_format('C:\\\\Users\\\\ac36345\\\\Desktop\\\\GoogleNews-vectors-negative300.bin.gz',binary=True)"
   ]
  },
  {
   "cell_type": "code",
   "execution_count": 20,
   "metadata": {},
   "outputs": [
    {
     "name": "stdout",
     "output_type": "stream",
     "text": [
      "king - man = queen - woman\n",
      "france - paris = england - london\n",
      "france - paris = italy - rome\n"
     ]
    }
   ],
   "source": [
    "def find_analogies(w1,w2,w3):\n",
    "    r = word_vectors.most_similar(positive=[w1,w3],negative=[w2])\n",
    "    print('%s - %s = %s - %s' %(w1,w2,r[0][0],w3))\n",
    "    \n",
    "    def nearest_neighbors(w):\n",
    "          r = word_vectors.most_similar(position=[w])\n",
    "          print('neighbours of: %s' %w)\n",
    "          for word, score in r:\n",
    "                print('%s'%word)\n",
    "\n",
    "find_analogies('king','man','woman')\n",
    "find_analogies('france','paris','london')\n",
    "find_analogies('france','paris','rome')\n"
   ]
  },
  {
   "cell_type": "code",
   "execution_count": null,
   "metadata": {},
   "outputs": [],
   "source": []
  }
 ],
 "metadata": {
  "kernelspec": {
   "display_name": "Python 3",
   "language": "python",
   "name": "python3"
  },
  "language_info": {
   "codemirror_mode": {
    "name": "ipython",
    "version": 3
   },
   "file_extension": ".py",
   "mimetype": "text/x-python",
   "name": "python",
   "nbconvert_exporter": "python",
   "pygments_lexer": "ipython3",
   "version": "3.7.3"
  }
 },
 "nbformat": 4,
 "nbformat_minor": 2
}
