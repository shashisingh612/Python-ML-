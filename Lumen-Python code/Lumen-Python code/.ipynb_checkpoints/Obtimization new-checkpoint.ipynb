{
 "cells": [
  {
   "cell_type": "code",
   "execution_count": null,
   "metadata": {},
   "outputs": [],
   "source": [
    "Rule number one: \n",
    "only optimize when there is a proven speed bottleneck. Only optimize the innermost loop. \n",
    "(This rule is independent of Python, but it doesn't hurt repeating it, since it can save a lot of work. :-)\n",
    "Small is beautiful. Given Python's hefty charges for bytecode instructions and variable look-up, \n",
    "it rarely pays off to add extra tests to save a little bit of work.\n",
    " \n",
    "Use intrinsic operations ====\n",
    "An implied loop in map() is faster than an explicit for loop;a while loop with an explicit loop counter is even slower.\n",
    "Avoid calling functions written in Python in your inner loop. This includes lambdas. \n",
    "In-lining the inner loop can save a lot of time.\n",
    "Local variables are faster than globals; if you use a global constant in a loop, copy it to a local variable\n",
    "before the loop. And in Python, function names (global or built-in) are also global constants!\n",
    "Try to use map(), filter() or reduce() to replace an explicit for loop, but only if you can use a built-in \n",
    "function: map with a built-in function beats for loop, but a for loop with in-line code beats map \n",
    "with a lambda function!\n",
    "Check your algorithms for quadratic behavior. But notice that a more complex algorithm only pays off \n",
    "for large N - for small N, the complexity doesn't pay off. In our case, 256 turned out to be small \n",
    "enough that the simpler version was still a tad faster. Your mileage may vary - this is worth investigating.\n",
    "And last but not least: collect data. Python's excellent profile module can quickly show the \n",
    "bottleneck in your code. if you're considering different versions of an algorithm, test it in a \n",
    "tight loop using the time.clock() function.\n",
    " \n",
    "fun call\n",
    "lookup\n",
    "loop"
   ]
  },
  {
   "cell_type": "code",
   "execution_count": 4,
   "metadata": {},
   "outputs": [],
   "source": [
    "#obtimization from f2 to f7(f7 is best way of writing the code)\n",
    "def f2(list):\n",
    "        return reduce(lambda string, item: string + chr(item), list, \"\")\n",
    "    \n",
    "def f1(list):\n",
    "        string = \"\"\n",
    "        for item in list:\n",
    "            string = string + chr(item)\n",
    "        return string\n",
    "    \n",
    "def f4(list):                           #local variable lookup is faster\n",
    "        string = \"\"\n",
    "        lchr = chr\n",
    "        for item in list:\n",
    "            string = string + lchr(item)\n",
    "        return string\n",
    "    \n",
    "def f5(list):\n",
    "        string = \"\"\n",
    "        for i in range(0, 256, 16): # 0, 16, 32, 48, 64, ...\n",
    "            s = \"\"\n",
    "            for character in map(chr, list[i:i+16]):\n",
    "                s = s + character\n",
    "            string = string + s\n",
    "        return string\n",
    "    \n",
    "def f3(list):\n",
    "        string = \"\"\n",
    "        for character in map(chr, list):\n",
    "            string = string + character\n",
    "        return string\n",
    "import string\n",
    "def f6(list):\n",
    "    return string.joinfields(map(chr, list), \"\")\n",
    "\n",
    "import array\n",
    "def f7(list):\n",
    "    return array.array('B', list).tostring()"
   ]
  },
  {
   "cell_type": "code",
   "execution_count": null,
   "metadata": {},
   "outputs": [],
   "source": [
    "Time taken by For Loop: 2.56907987595 >Time taken by List Comprehension: 2.01556396484(time less but space more)\n",
    "        \n",
    "A list comprehension would require more memory to remove items in a list than a normal loop. A list comprehension \n",
    "always creates a new list in memory upon completion, so for deletion of items off a list, a new list \n",
    "would be created. \n",
    "\n",
    "Whereas, for a normal for loop, \n",
    "we can use the list.remove() or list.pop() to modify the original list instead \n",
    "of creating a new one in memory."
   ]
  },
  {
   "cell_type": "code",
   "execution_count": null,
   "metadata": {},
   "outputs": [],
   "source": [
    "A linked list will allow you to allocate memory as needed. This is possible because the nodes in the linked list can be \n",
    "stored in different places in memory \n",
    "but come together in the linked list through pointers. This makes linked lists a lot more flexible \n",
    "compared to arrays."
   ]
  },
  {
   "cell_type": "code",
   "execution_count": null,
   "metadata": {},
   "outputs": [],
   "source": [
    "If we need to generate a large number of integers for use, xrange should be our go-to option for \n",
    "this purpose since it uses less memory. If we use the range function instead, the entire list of \n",
    "integers will need to be created and this will get memory intensive.\n",
    "\n",
    "xrange may consume less memory but takes more time to find an item in it. Given the situation and \n",
    "the available resources,we can choose either of range or xrange depending on the aspect we are going for"
   ]
  },
  {
   "cell_type": "code",
   "execution_count": null,
   "metadata": {},
   "outputs": [],
   "source": [
    "This is where Python Sets come in. They are like Lists but they do not allow any duplicates to be stored in them. \n",
    "\n",
    "Sets are also used to efficiently remove duplicates from Lists and are faster than creating a \n",
    "new list and populating it from the one with duplicates."
   ]
  },
  {
   "cell_type": "code",
   "execution_count": null,
   "metadata": {},
   "outputs": [],
   "source": [
    "It is evident that the .join() method is not only neater and more readable, \n",
    "but \n",
    "\n",
    "it is also significantly faster than the concatenation operator when joining Strings in an iterator."
   ]
  },
  {
   "cell_type": "code",
   "execution_count": null,
   "metadata": {},
   "outputs": [],
   "source": [
    "Pandas.apply(),Pandas.DataFrame.loc,Vectorize your Functions in Python,Multiprocessing in Python"
   ]
  },
  {
   "cell_type": "code",
   "execution_count": null,
   "metadata": {},
   "outputs": [],
   "source": [
    "Profile and optimize your existing code\n",
    "Use a C module (or write your own)\n",
    "Try a JIT-enabled interpreter like Jython or PyPy\n",
    "Parallelize your workload"
   ]
  },
  {
   "cell_type": "code",
   "execution_count": null,
   "metadata": {},
   "outputs": [],
   "source": [
    "CPU cache size, network buffer size, kernel version, \n",
    "operating system, dependency versions, and more can all skew your numbers."
   ]
  },
  {
   "cell_type": "code",
   "execution_count": null,
   "metadata": {},
   "outputs": [],
   "source": [
    "#https://people.duke.edu/~ccc14/sta-663/MakingCodeFast.html\n",
    "Cost in programmer time\n",
    "Optimized code is often more complex\n",
    "Optimized code is oftne less generic\n",
    "\n",
    "CPU-bound - CPU is working flat out\n",
    "Memory-bound - Out of RAM - swapping to hard disk\n",
    "IO-bound - Lots of data transfer to and from hard disk\n",
    "Network-bound - CPU is waiting for data to come over network or from memory (“starvation”)\n",
    "\n",
    "Use a better machine (e.g. if RAM is limititg is - buy more RAM)\n",
    "Solve a simpler problem (e.g. will a subsample of the data suffice?)\n",
    "Solve a diffrent problem (perhaps solving a toy problem will suffice for your JASA paper? \n",
    "If your method is so useful, maybe someone else will optimize it for you)\n",
    "\n",
    "Using timeit\n",
    "Using time\n",
    "Usign cProfile\n",
    "Using line_profiler\n",
    "Using memory_profiler\n",
    "\n",
    "Use better algorithms and data structures\n",
    "Using compiled code written in another language\n",
    "\n",
    "Converting Python code to compiled code\n",
    "Using numexpr\n",
    "Using numba\n",
    "Using cython\n",
    "\n",
    "Parallel programs\n",
    "Ahmdahl and Gustafsson’s laws\n",
    "Embarassinlgy parallel problems\n",
    "Problems requiring communiccation and syncrhonization\n",
    "Race conditions\n",
    "Deadlock\n",
    "Task granularity\n",
    "Parallel programming idioms\n",
    "\n",
    "Execute in parallel\n",
    "On multi-core machines\n",
    "On multiple machines\n",
    "Using IPython\n",
    "Using MPI4py\n",
    "Using Hadoop/SPARK\n",
    "On GPUs"
   ]
  },
  {
   "cell_type": "code",
   "execution_count": null,
   "metadata": {},
   "outputs": [],
   "source": [
    "#generator\n",
    "Please keep in mind that you should use this construct only when you don’t have any absolute need to keep all \n",
    "the generated values because then you will lose the advantage of having a generator construct.\n",
    "\n",
    "Use builtin functions and libraries\n",
    "Use keys for sorts\n",
    "Optimizing loops\n",
    "Try multiple coding approaches\n",
    "Use xrange instead of range:range()  \n",
    "Use Python multiple assignment to swap variables\n",
    "Use local variable if possible"
   ]
  },
  {
   "cell_type": "code",
   "execution_count": null,
   "metadata": {},
   "outputs": [],
   "source": [
    "#techbeamers.com/python-code-optimization-tips-tricks/\n",
    "1. Interning Strings for Efficiency.\n",
    "2. Peephole Optimization.\n",
    "3. Profile your Code.\n",
    "3.1. Use Stopwatch Profiling with <timeit>.\n",
    "3.2. Use Advanced Profiling with <cProfile>.\n",
    "4. Use Generators and Keys for Sorting.\n",
    "5. Optimizing Loops.\n",
    "5.1. Illustrations for Optimizing a for Loop in Python.\n",
    "5.2. Let’s Decode What have We Optimized?\n",
    "6. Use Set Operations.\n",
    "7. Avoid Using Globals.\n",
    "8. Use External Libraries/Packages.\n",
    "9. Use Built-in Operators.\n",
    "10. Limit Method Lookup in a Loop.\n",
    "11. Optimizing with Strings.\n",
    "12. Optimizing with If Statement.\n",
    "\n",
    "RegEx operations in Python are fast as they get pushed back to C code. However, in some cases, \n",
    "basic string methods like <isalpha()/isdigit()/startswith()/endswith()> works better.\n",
    "Also, you can test different methods using the <timeit> module. It’ll help you determine which \n",
    "method is truly the fastest.\n"
   ]
  },
  {
   "cell_type": "code",
   "execution_count": 42,
   "metadata": {},
   "outputs": [],
   "source": [
    "set(l1)|set(l2) Union\t     Set with all l1 and l2 items.\n",
    "set(l1)&set(l2) Intersection Set with commmon l1 and l2 items.\n",
    "set(l1)-set(l2) Difference   Set with l1 items not in l2."
   ]
  },
  {
   "cell_type": "code",
   "execution_count": null,
   "metadata": {},
   "outputs": [],
   "source": [
    "1. You can adjust your code to utilize this behavior of Python. For example, \n",
    "if you are searching for a fixed pattern in a list, then you can reduce the scope by \n",
    "adding the following condition.\n",
    "\n",
    "Add an ‘AND’ condition which becomes false if the size of the target string is less \n",
    "than the length of the pattern.\n",
    "Also, you can first test a fast condition (if any) like “string should start \n",
    "with an @” or “string should end with a dot.”.\n",
    "\n",
    "2. You can test a condition <like if done is not None> \n",
    "which is faster than using <if done != None>"
   ]
  },
  {
   "cell_type": "code",
   "execution_count": null,
   "metadata": {},
   "outputs": [],
   "source": [
    "#import should be added  outside the funtion\n",
    "#exchanging a Python for loop for a C for loop as well as removing most of the function calls"
   ]
  },
  {
   "cell_type": "code",
   "execution_count": null,
   "metadata": {},
   "outputs": [],
   "source": [
    "#zip,inumerate,dict"
   ]
  }
 ],
 "metadata": {
  "kernelspec": {
   "display_name": "Python 3",
   "language": "python",
   "name": "python3"
  },
  "language_info": {
   "codemirror_mode": {
    "name": "ipython",
    "version": 3
   },
   "file_extension": ".py",
   "mimetype": "text/x-python",
   "name": "python",
   "nbconvert_exporter": "python",
   "pygments_lexer": "ipython3",
   "version": "3.7.3"
  }
 },
 "nbformat": 4,
 "nbformat_minor": 2
}
