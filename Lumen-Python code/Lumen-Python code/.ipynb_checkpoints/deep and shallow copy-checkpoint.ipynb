{
 "cells": [
  {
   "cell_type": "code",
   "execution_count": 2,
   "metadata": {},
   "outputs": [
    {
     "data": {
      "text/plain": [
       "False"
      ]
     },
     "execution_count": 2,
     "metadata": {},
     "output_type": "execute_result"
    }
   ],
   "source": [
    "a1=[1,2]\n",
    "a2=[1,2]\n",
    "id(a1)==id(a2)"
   ]
  },
  {
   "cell_type": "code",
   "execution_count": 4,
   "metadata": {},
   "outputs": [
    {
     "name": "stdout",
     "output_type": "stream",
     "text": [
      "True\n",
      "False\n"
     ]
    }
   ],
   "source": [
    "a=2\n",
    "b=2\n",
    "print(id(a)==id(b))\n",
    "a=3\n",
    "print(id(a)==id(b))"
   ]
  },
  {
   "cell_type": "code",
   "execution_count": 10,
   "metadata": {},
   "outputs": [
    {
     "name": "stdout",
     "output_type": "stream",
     "text": [
      "True\n",
      "[1, 2, 1] [1, 2, 1]\n",
      "[1, 2, 1, 5] [1, 2, 1, 5]\n"
     ]
    }
   ],
   "source": [
    "a1=[1,2]\n",
    "b1=a1\n",
    "print(id(a1)==id(b1))\n",
    "a1.append(1)\n",
    "print(a1,b1)\n",
    "b1.append(5)\n",
    "print(a1,b1)"
   ]
  },
  {
   "cell_type": "code",
   "execution_count": 5,
   "metadata": {},
   "outputs": [
    {
     "name": "stdout",
     "output_type": "stream",
     "text": [
      "[1, 2]\n"
     ]
    },
    {
     "data": {
      "text/plain": [
       "False"
      ]
     },
     "execution_count": 5,
     "metadata": {},
     "output_type": "execute_result"
    }
   ],
   "source": [
    "a=[1,2]\n",
    "def fun(a):\n",
    "    b=[]\n",
    "    b.append(a[0])\n",
    "    b.append(a[1])\n",
    "    return b\n",
    "b=fun(a)\n",
    "print(b)\n",
    "id(b)==id(a)"
   ]
  },
  {
   "cell_type": "code",
   "execution_count": 6,
   "metadata": {},
   "outputs": [
    {
     "name": "stdout",
     "output_type": "stream",
     "text": [
      "{1: 'A', 2: 'B', 3: 'C', 4: 'D', 5: 'E'}\n",
      "{1: 'A', 2: 'f', 3: 'C', 4: 'D', 5: 'E', 7: 'e'}\n"
     ]
    }
   ],
   "source": [
    "# merging two dic and updating key value\n",
    "a={1:\"A\",2:\"B\",3:\"C\"}\n",
    "b={4:\"D\",5:\"E\"}\n",
    "c={7:'e',2:'f'}\n",
    "a.update(b)\n",
    "print(a)\n",
    "a.update(c)\n",
    "print(a)"
   ]
  },
  {
   "cell_type": "code",
   "execution_count": 5,
   "metadata": {},
   "outputs": [
    {
     "name": "stdout",
     "output_type": "stream",
     "text": [
      "{1: 's', 2: 'B', 3: 'C'} {1: 'A', 2: 'D', 3: 'C'}\n"
     ]
    }
   ],
   "source": [
    "#copy() means coping the value only\n",
    "a={1:\"A\",2:\"B\",3:\"C\"}\n",
    "b=a.copy()# change in any dic won't reflect on other in copy()\n",
    "b[2]=\"D\"\n",
    "a[1]='s'\n",
    "print(a,b)"
   ]
  },
  {
   "cell_type": "code",
   "execution_count": 11,
   "metadata": {},
   "outputs": [
    {
     "name": "stdout",
     "output_type": "stream",
     "text": [
      "[1, 14, 3] [10, 2, 3]\n"
     ]
    }
   ],
   "source": [
    "a=[1,2,3]\n",
    "b=a.copy()# change in any list won't reflect on other in copy()\n",
    "b[0]=10\n",
    "a[1]=14\n",
    "print(a,b)"
   ]
  },
  {
   "cell_type": "code",
   "execution_count": 14,
   "metadata": {},
   "outputs": [
    {
     "name": "stdout",
     "output_type": "stream",
     "text": [
      "id1: 1877409543816 id:2 1877409543816\n",
      "first: [100, 2, [3, 5], 4] [100, 2, [3, 5], 4]\n",
      "second: [200, 2, [3, 5], 4] [200, 2, [3, 5], 4]\n",
      "third: [200, 2, [3, 5], 4, 300] [200, 2, [3, 5], 4, 300]\n",
      "fourth: [200, 2, [3, 5], 4, 300, 400] [200, 2, [3, 5], 4, 300, 400]\n"
     ]
    }
   ],
   "source": [
    "l1 = [1, 2, [3,5], 4] \n",
    "l4=l1 #change/append in any list will reflect in case of assignment operator same id\n",
    "print('id1:',id(l1),'id:2',id(l4))\n",
    "l1[0]=100\n",
    "print('first:',l1,l4)\n",
    "l4[0]=200\n",
    "print('second:',l1,l4)\n",
    "l1.append(300)\n",
    "print('third:',l1,l4)\n",
    "l4.append(400)\n",
    "print('fourth:',l1,l4)\n"
   ]
  },
  {
   "cell_type": "code",
   "execution_count": 4,
   "metadata": {},
   "outputs": [
    {
     "name": "stdout",
     "output_type": "stream",
     "text": [
      "1937991584328 1937992158408 1937991627592\n"
     ]
    }
   ],
   "source": [
    "#id for all three are different main list ,deep copy and shallow copy \n",
    "#shallow copy took the image of main list and point the sublist by id -change in sublist reflect append or any other change \n",
    "#don't reflect\n",
    "import copy \n",
    "l1 = [1, 2, [3,5], 4] \n",
    "l2 = copy.copy(l1)  \n",
    "l3 = copy.deepcopy(l1)    #only value copy for sublist too\n",
    "print(id(l1),id(l2),id(l3))"
   ]
  },
  {
   "cell_type": "code",
   "execution_count": 5,
   "metadata": {},
   "outputs": [
    {
     "name": "stdout",
     "output_type": "stream",
     "text": [
      "[20, 2, [3, 5], 4] [1, 2, [3, 5], 4] [1, 2, [3, 5], 4]\n"
     ]
    }
   ],
   "source": [
    "l1[0]=20\n",
    "print(l1,l2,l3)"
   ]
  },
  {
   "cell_type": "code",
   "execution_count": 6,
   "metadata": {},
   "outputs": [
    {
     "name": "stdout",
     "output_type": "stream",
     "text": [
      "[20, 2, [20, 5], 4] [1, 2, [20, 5], 4] [1, 2, [3, 5], 4]\n",
      "[20, 2, [20, 200], 4] [1, 2, [20, 200], 4] [1, 2, [3, 5], 4]\n"
     ]
    }
   ],
   "source": [
    "l1[2][0]=20\n",
    "print(l1,l2,l3)\n",
    "l2[2][1]=200 ############sublist can be changed from l1 as well as l2 as it point sublist id\n",
    "print(l1,l2,l3)"
   ]
  },
  {
   "cell_type": "code",
   "execution_count": 7,
   "metadata": {},
   "outputs": [
    {
     "name": "stdout",
     "output_type": "stream",
     "text": [
      "[20, 2, [20, 200, 1000], 4] [1, 2, [20, 200, 1000], 4] [1, 2, [3, 5], 4]\n"
     ]
    }
   ],
   "source": [
    "l2[2].append(1000)\n",
    "print(l1,l2,l3)"
   ]
  },
  {
   "cell_type": "code",
   "execution_count": 25,
   "metadata": {},
   "outputs": [
    {
     "name": "stdout",
     "output_type": "stream",
     "text": [
      "[20, 2, [20, 200, 1000], 4, 500] [1, 2, [20, 200, 1000], 4] [1, 2, [3, 5], 4]\n"
     ]
    }
   ],
   "source": [
    "l1.append(500)\n",
    "print(l1,l2,l3)# append not happened in l2 as it is an image"
   ]
  },
  {
   "cell_type": "code",
   "execution_count": null,
   "metadata": {},
   "outputs": [],
   "source": []
  }
 ],
 "metadata": {
  "kernelspec": {
   "display_name": "Python 3",
   "language": "python",
   "name": "python3"
  },
  "language_info": {
   "codemirror_mode": {
    "name": "ipython",
    "version": 3
   },
   "file_extension": ".py",
   "mimetype": "text/x-python",
   "name": "python",
   "nbconvert_exporter": "python",
   "pygments_lexer": "ipython3",
   "version": "3.7.3"
  }
 },
 "nbformat": 4,
 "nbformat_minor": 2
}
