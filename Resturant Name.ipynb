{
 "cells": [
  {
   "cell_type": "code",
   "execution_count": null,
   "id": "a997db71-9dbc-49a5-a977-ea3497620161",
   "metadata": {},
   "outputs": [],
   "source": [
    "import secret_key\n",
    "import streamlit as st\n",
    "import os\n",
    "from langchain.llms import OpenAI\n",
    "\n",
    "from langchain.prompts import PromptTemplate\n",
    "from langchain.chains import LLMChain\n",
    "\n",
    "def generate_restaurant_name_and_items(cuisine):\n",
    "\n",
    "    os.environ['OPENAI_API_KEY']= st.secrets[\"api_key\"]\n",
    "    llm = OpenAI(temperature=0.9)\n",
    "\n",
    "    prompt_template_name = PromptTemplate(\n",
    "        input_variables = ['cuisine'],\n",
    "        template = \"I want to open a restaurant for {cuisine} food. Please suggest only one fancy name \"\n",
    "    )\n",
    "\n",
    "    name_chain = LLMChain(llm=llm, prompt=prompt_template_name, output_key=\"restaurant_name\")\n",
    "\n",
    "    prompt_template_items = PromptTemplate(\n",
    "        input_variables = ['restaurant_name'],\n",
    "        template = \"Suggest some menu items for {restaurant_name}. Return it in tabular form with 10 rows and 2 columns, name and description\"\n",
    "    )\n",
    "    food_item_chain = LLMChain(llm=llm, prompt=prompt_template_items, output_key = \"menu_items\")\n",
    "\n",
    "    from langchain.chains import SequentialChain\n",
    "\n",
    "    chain = SequentialChain(\n",
    "        chains= [name_chain, food_item_chain],\n",
    "        input_variables = ['cuisine'],\n",
    "        output_variables = ['restaurant_name','menu_items']\n",
    "    )\n",
    "\n",
    "    return(chain({'cuisine' :cuisine}))"
   ]
  },
  {
   "cell_type": "code",
   "execution_count": null,
   "id": "8cb5ae60-2e7b-4897-8a2d-e412f2abe066",
   "metadata": {},
   "outputs": [],
   "source": [
    "import os\n",
    "import streamlit as st\n",
    "import langchain_helper\n",
    "\n",
    "st.title(\"Restaurant Name Generator\")\n",
    "\n",
    "st.caption(\"This is a simple website created by Manish Sinha. Based on the cuisine selected, it generates name of restaurants and respective menus. This is implemented in Langchain and uses OpenAI Large Language Models (LLMs)\",\n",
    "           unsafe_allow_html=False, help=None)\n",
    "\n",
    "\n",
    "## cuisine = st.sidebar.selectbox(\"Pick a cuisine\", (\"Indian\",\"Italian\",\"American\",\"Chinese\",\"Japanese\", \"Korean\",\"Thai\",\"Mexican\"))\n",
    "\n",
    "cuisine = st.text_input(\"Pick a Cuisine\", value=\"\", max_chars=None, key=None, type=\"default\")\n",
    "\n",
    "image_name = cuisine.lower()+\".png\"\n",
    "\n",
    "\n",
    "if cuisine:\n",
    "    response = langchain_helper.generate_restaurant_name_and_items(cuisine)\n",
    "    st.header(str(response['restaurant_name']))\n",
    "    if os.path.exists(image_name):\n",
    "        st.image(str(image_name), caption='Bob Apetit', width=300)\n",
    "    else:\n",
    "        st.image(str(\"bon-appetit.png\"), width=300)\n",
    "    menu_items = response['menu_items'].strip().split(',')\n",
    "    st.write(\"**Menu Items**\")\n",
    "    for item in menu_items:\n",
    "        st.write(item)"
   ]
  }
 ],
 "metadata": {
  "kernelspec": {
   "display_name": "Python 3 (ipykernel)",
   "language": "python",
   "name": "python3"
  },
  "language_info": {
   "codemirror_mode": {
    "name": "ipython",
    "version": 3
   },
   "file_extension": ".py",
   "mimetype": "text/x-python",
   "name": "python",
   "nbconvert_exporter": "python",
   "pygments_lexer": "ipython3",
   "version": "3.11.7"
  }
 },
 "nbformat": 4,
 "nbformat_minor": 5
}
