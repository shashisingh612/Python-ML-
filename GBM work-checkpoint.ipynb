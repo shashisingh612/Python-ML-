{
 "cells": [
  {
   "cell_type": "code",
   "execution_count": 85,
   "metadata": {},
   "outputs": [],
   "source": [
    "#Importing Libraries\n",
    "import pandas as pd\n",
    "import numpy as np\n",
    "%matplotlib inline\n",
    "\n",
    "\n",
    "#Load Train & Test data:\n",
    "train = pd.read_csv(\"C:\\\\Users\\\\ac36345\\\\Desktop\\\\nlp code\\\\Train_nyOWmfK.csv\",encoding='latin-1')\n",
    "test = pd.read_csv(\"C:\\\\Users\\\\ac36345\\\\Desktop\\\\nlp code\\\\Test_bCtAN1w.csv\",encoding='latin-1')\n",
    "#Quickly checking the values of the column\n",
    "#train.head(2)"
   ]
  },
  {
   "cell_type": "code",
   "execution_count": 86,
   "metadata": {},
   "outputs": [],
   "source": [
    "#Data Exploration\n",
    "#train.info()"
   ]
  },
  {
   "cell_type": "code",
   "execution_count": 87,
   "metadata": {},
   "outputs": [],
   "source": [
    "#test.info()"
   ]
  },
  {
   "cell_type": "markdown",
   "metadata": {},
   "source": [
    "#Null values present in Train columns(total 68066 entries):\n",
    "Interest_Rate            21930 non-null float64\n",
    "Processing_Fee           21632 non-null float64\n",
    "EMI_Loan_Submitted       21930 non-null float64\n",
    "Loan_Amount_Submitted    41782 non-null float64\n",
    "Loan_Tenure_Submitted    41782 non-null float64\n",
    "Salary_Account           59836 non-null object\n",
    "City                     68018 non-null object\n",
    "Loan_Amount_Applied      68054 non-null float64\n",
    "Loan_Tenure_Applied      68054 non-null float64\n",
    "Existing_EMI             68054 non-null float64\n",
    "Employer_Name            68054 non-null object\n",
    "Var2                     68065 non-null object\n",
    "Source                   68065 non-null object\n",
    "Var4                     68065 non-null float64\n",
    "LoggedIn                 68065 non-null float64\n",
    "Disbursed                68065 non-null float64\n",
    "\n",
    "#Null values present in Test columns(total 37717 entries)\n",
    "Interest_Rate            12110 non-null float64\n",
    "Processing_Fee           11971 non-null float64\n",
    "EMI_Loan_Submitted       12110 non-null float64\n",
    "Loan_Amount_Submitted    22795 non-null float64\n",
    "Loan_Tenure_Submitted    22795 non-null float64\n",
    "City                     37319 non-null object\n",
    "Employer_Name            37675 non-null object\n",
    "Employer_Name            37675 non-null object\n",
    "Loan_Amount_Applied      37677 non-null float64\n",
    "Loan_Tenure_Applied      37677 non-null float64\n",
    "Existing_EMI             37677 non-null float64\n",
    "Salary_Account           32680 non-null object\n",
    "Salary_Account           32680 non-null object\n",
    "\n",
    "#Need to decide which column has less intuitive impact on outcome.\n",
    "#Will drop/replace those columns to reduce the no of features so that our model can perform efficiently.\n",
    "#Then we will remove null values.\n",
    "#Catagrical to Numeric conversion as Machine learning model involes with lots of Mathematical calculations."
   ]
  },
  {
   "cell_type": "code",
   "execution_count": 88,
   "metadata": {},
   "outputs": [
    {
     "data": {
      "text/plain": [
       "Index(['ID', 'Gender', 'City', 'Monthly_Income', 'DOB', 'Lead_Creation_Date',\n",
       "       'Loan_Amount_Applied', 'Loan_Tenure_Applied', 'Existing_EMI',\n",
       "       'Employer_Name', 'Salary_Account', 'Mobile_Verified', 'Var5', 'Var1',\n",
       "       'Loan_Amount_Submitted', 'Loan_Tenure_Submitted', 'Interest_Rate',\n",
       "       'Processing_Fee', 'EMI_Loan_Submitted', 'Filled_Form', 'Device_Type',\n",
       "       'Var2', 'Source', 'Var4', 'LoggedIn', 'Disbursed'],\n",
       "      dtype='object')"
      ]
     },
     "execution_count": 88,
     "metadata": {},
     "output_type": "execute_result"
    }
   ],
   "source": [
    "train.columns"
   ]
  },
  {
   "cell_type": "code",
   "execution_count": 89,
   "metadata": {},
   "outputs": [
    {
     "name": "stdout",
     "output_type": "stream",
     "text": [
      "Male      39358\n",
      "Female    28708\n",
      "Name: Gender, dtype: int64 \n",
      "\n",
      "0.0     25462\n",
      "5.0     15195\n",
      "3.0     10430\n",
      "2.0      7620\n",
      "4.0      5376\n",
      "1.0      3935\n",
      "10.0       34\n",
      "7.0         1\n",
      "9.0         1\n",
      "Name: Loan_Tenure_Applied, dtype: int64 \n",
      "\n",
      "0.0         45372\n",
      "5000.0       2131\n",
      "10000.0      1365\n",
      "3000.0       1298\n",
      "4000.0       1019\n",
      "2000.0        895\n",
      "6000.0        667\n",
      "15000.0       612\n",
      "8000.0        604\n",
      "2500.0        575\n",
      "7000.0        559\n",
      "3500.0        471\n",
      "20000.0       403\n",
      "12000.0       381\n",
      "9000.0        274\n",
      "1000.0        261\n",
      "4500.0        257\n",
      "1500.0        255\n",
      "25000.0       221\n",
      "11000.0       215\n",
      "7500.0        209\n",
      "30000.0       193\n",
      "5500.0        164\n",
      "13000.0       161\n",
      "14000.0       158\n",
      "8500.0        152\n",
      "18000.0       141\n",
      "6500.0        140\n",
      "16000.0       133\n",
      "17000.0       118\n",
      "            ...  \n",
      "4613.0          1\n",
      "3330.0          1\n",
      "6965.0          1\n",
      "11270.0         1\n",
      "7687.0          1\n",
      "18441.0         1\n",
      "1508.0          1\n",
      "6608.0          1\n",
      "11267.0         1\n",
      "147500.0        1\n",
      "2532.0          1\n",
      "6662.0          1\n",
      "123000.0        1\n",
      "2311.0          1\n",
      "4774.0          1\n",
      "2189.0          1\n",
      "5645.0          1\n",
      "22578.0         1\n",
      "2310.0          1\n",
      "3518.0          1\n",
      "5643.0          1\n",
      "22570.0         1\n",
      "1666.0          1\n",
      "16750.0         1\n",
      "3574.0          1\n",
      "4211.0          1\n",
      "16388.0         1\n",
      "13330.0         1\n",
      "5668.0          1\n",
      "1543.0          1\n",
      "Name: Existing_EMI, Length: 3125, dtype: int64 \n",
      "\n",
      "HDFC Bank                         13954\n",
      "ICICI Bank                        10789\n",
      "State Bank of India                9700\n",
      "Axis Bank                          6911\n",
      "Citibank                           1861\n",
      "Kotak Bank                         1616\n",
      "IDBI Bank                          1262\n",
      "Punjab National Bank                992\n",
      "Bank of India                       916\n",
      "Bank of Baroda                      898\n",
      "Standard Chartered Bank             788\n",
      "Canara Bank                         775\n",
      "Union Bank of India                 750\n",
      "Yes Bank                            593\n",
      "Corporation bank                    545\n",
      "ING Vysya                           545\n",
      "State Bank of Hyderabad             469\n",
      "Indian Bank                         448\n",
      "Indian Overseas Bank                444\n",
      "Oriental Bank of Commerce           426\n",
      "Andhra Bank                         407\n",
      "IndusInd Bank                       402\n",
      "Central Bank of India               346\n",
      "Syndicate Bank                      328\n",
      "Bank of Maharasthra                 320\n",
      "State Bank of Bikaner & Jaipur      277\n",
      "HSBC                                252\n",
      "Karur Vysya Bank                    244\n",
      "State Bank of Mysore                207\n",
      "Allahabad Bank                      200\n",
      "UCO Bank                            198\n",
      "Federal Bank                        197\n",
      "Vijaya Bank                         194\n",
      "State Bank of Travancore            174\n",
      "Saraswat Bank                       163\n",
      "Karnataka Bank                      159\n",
      "Dena Bank                           151\n",
      "United Bank of India                145\n",
      "State Bank of Patiala               141\n",
      "South Indian Bank                   131\n",
      "Abhyuday Co-op Bank Ltd              98\n",
      "Deutsche Bank                        95\n",
      "The Ratnakar Bank Ltd                66\n",
      "Tamil Nadu Mercantile Bank           54\n",
      "Punjab & Sind bank                   54\n",
      "J&K Bank                             50\n",
      "Lakshmi Vilas bank                   39\n",
      "Dhanalakshmi Bank Ltd                32\n",
      "State Bank of Indore                 17\n",
      "Catholic Syrian Bank                  8\n",
      "Bank of Rajasthan                     4\n",
      "India Bulls                           1\n",
      "Name: Salary_Account, dtype: int64 \n",
      "\n",
      "Y    44504\n",
      "N    23562\n",
      "Name: Mobile_Verified, dtype: int64 \n",
      "\n",
      "0     21993\n",
      "1      8874\n",
      "3      6174\n",
      "11     4734\n",
      "14     3287\n",
      "2      3239\n",
      "15     3164\n",
      "12     2172\n",
      "10     1993\n",
      "13     1874\n",
      "16     1794\n",
      "4      1607\n",
      "8      1558\n",
      "9      1509\n",
      "17     1399\n",
      "7      1161\n",
      "6       801\n",
      "5       733\n",
      "Name: Var5, dtype: int64 \n",
      "\n",
      "HBXX    46136\n",
      "HBXC     7982\n",
      "HBXB     2628\n",
      "HAXA     2553\n",
      "HBXD     1739\n",
      "HAXB     1727\n",
      "HAXC     1161\n",
      "HBXA     1151\n",
      "HBXH      785\n",
      "HCXF      618\n",
      "HAYT      409\n",
      "HAVC      345\n",
      "HAXM      228\n",
      "HCXD      182\n",
      "HCYS      161\n",
      "HVYS      132\n",
      "HAZD       77\n",
      "HCXG       52\n",
      "Name: Var1, dtype: int64 \n",
      "\n",
      "5.0    18538\n",
      "4.0    10040\n",
      "3.0     7092\n",
      "2.0     4240\n",
      "1.0     1871\n",
      "6.0        1\n",
      "Name: Loan_Tenure_Submitted, dtype: int64 \n",
      "\n",
      "20.00    4707\n",
      "14.85    1732\n",
      "16.75    1213\n",
      "15.25    1176\n",
      "15.50    1075\n",
      "18.25     979\n",
      "31.50     920\n",
      "18.40     800\n",
      "13.99     717\n",
      "24.00     649\n",
      "19.00     625\n",
      "13.00     487\n",
      "28.50     482\n",
      "13.50     467\n",
      "15.75     451\n",
      "18.00     443\n",
      "17.00     333\n",
      "18.50     303\n",
      "17.50     289\n",
      "16.25     283\n",
      "35.50     283\n",
      "13.49     261\n",
      "18.15     238\n",
      "14.49     227\n",
      "14.25     219\n",
      "32.50     212\n",
      "14.50     190\n",
      "16.00     189\n",
      "12.99     179\n",
      "15.00     178\n",
      "         ... \n",
      "22.00      56\n",
      "31.00      56\n",
      "13.25      55\n",
      "25.50      38\n",
      "14.80      37\n",
      "29.50      26\n",
      "29.00      25\n",
      "11.99      25\n",
      "16.20      24\n",
      "27.50      23\n",
      "14.99      22\n",
      "21.50      21\n",
      "16.15      19\n",
      "19.05      14\n",
      "26.50      12\n",
      "15.10      12\n",
      "30.50      11\n",
      "23.00       9\n",
      "15.70       6\n",
      "14.30       6\n",
      "28.00       5\n",
      "24.50       5\n",
      "15.99       5\n",
      "14.00       4\n",
      "15.49       3\n",
      "15.80       2\n",
      "14.55       2\n",
      "15.60       1\n",
      "15.15       1\n",
      "14.29       1\n",
      "Name: Interest_Rate, Length: 71, dtype: int64 \n",
      "\n",
      "2000.0     2464\n",
      "1000.0     1729\n",
      "4000.0     1581\n",
      "3000.0     1100\n",
      "6000.0      909\n",
      "10000.0     898\n",
      "1500.0      488\n",
      "5000.0      483\n",
      "4500.0      418\n",
      "2500.0      374\n",
      "2900.0      282\n",
      "3300.0      256\n",
      "3500.0      227\n",
      "3600.0      219\n",
      "3800.0      215\n",
      "4200.0      213\n",
      "3200.0      205\n",
      "4400.0      198\n",
      "8000.0      185\n",
      "1600.0      180\n",
      "7500.0      180\n",
      "6750.0      167\n",
      "2250.0      167\n",
      "9000.0      166\n",
      "5800.0      164\n",
      "2400.0      162\n",
      "20000.0     157\n",
      "6800.0      140\n",
      "4800.0      139\n",
      "999.0       139\n",
      "           ... \n",
      "9702.0        1\n",
      "4450.0        1\n",
      "2107.0        1\n",
      "325.0         1\n",
      "11550.0       1\n",
      "5120.0        1\n",
      "17820.0       1\n",
      "2025.0        1\n",
      "2560.0        1\n",
      "2871.0        1\n",
      "37600.0       1\n",
      "28400.0       1\n",
      "9120.0        1\n",
      "3825.0        1\n",
      "5440.0        1\n",
      "1683.0        1\n",
      "5450.0        1\n",
      "15500.0       1\n",
      "10700.0       1\n",
      "45400.0       1\n",
      "7326.0        1\n",
      "8900.0        1\n",
      "13464.0       1\n",
      "13350.0       1\n",
      "5650.0        1\n",
      "14100.0       1\n",
      "4606.0        1\n",
      "7524.0        1\n",
      "6320.0        1\n",
      "2160.0        1\n",
      "Name: Processing_Fee, Length: 538, dtype: int64 \n",
      "\n",
      "N    52441\n",
      "Y    15625\n",
      "Name: Filled_Form, dtype: int64 \n",
      "\n",
      "Web-browser    50159\n",
      "Mobile         17906\n",
      "Web-br             1\n",
      "Name: Device_Type, dtype: int64 \n",
      "\n",
      "B    37280\n",
      "C    14210\n",
      "G    14077\n",
      "E     1315\n",
      "D      634\n",
      "F      544\n",
      "A        5\n",
      "Name: Var2, dtype: int64 \n",
      "\n",
      "S133    29885\n",
      "S122    19612\n",
      "S159     5599\n",
      "S143     4332\n",
      "S127     1931\n",
      "S137     1724\n",
      "S134     1301\n",
      "S161      769\n",
      "S151      720\n",
      "S157      650\n",
      "S153      494\n",
      "S156      308\n",
      "S144      299\n",
      "S158      208\n",
      "S123       73\n",
      "S141       57\n",
      "S162       36\n",
      "S124       24\n",
      "S160       11\n",
      "S150       10\n",
      "S155        4\n",
      "S129        3\n",
      "S139        3\n",
      "S138        3\n",
      "S136        3\n",
      "S135        2\n",
      "S125        1\n",
      "S154        1\n",
      "S130        1\n",
      "S140        1\n",
      "Name: Source, dtype: int64 \n",
      "\n",
      "1.0    19229\n",
      "3.0    18741\n",
      "5.0    16228\n",
      "2.0     5931\n",
      "4.0     5308\n",
      "0.0     1548\n",
      "7.0      913\n",
      "6.0      167\n",
      "Name: Var4, dtype: int64 \n",
      "\n",
      "0.0    65958\n",
      "1.0     2107\n",
      "Name: LoggedIn, dtype: int64 \n",
      "\n",
      "0.0    67002\n",
      "1.0     1063\n",
      "Name: Disbursed, dtype: int64 \n",
      "\n"
     ]
    }
   ],
   "source": [
    "#Exploring the values in the new_column_list of train set:\n",
    "new_column_list = list(['Gender','Loan_Tenure_Applied','Existing_EMI','Salary_Account',\n",
    " 'Mobile_Verified','Var5','Var1','Loan_Tenure_Submitted','Interest_Rate','Processing_Fee','Filled_Form','Device_Type',\n",
    " 'Var2','Source','Var4','LoggedIn','Disbursed'])\n",
    "for i in new_column_list:\n",
    "    print(train[i].value_counts(),'\\n')"
   ]
  },
  {
   "cell_type": "code",
   "execution_count": 90,
   "metadata": {},
   "outputs": [
    {
     "name": "stdout",
     "output_type": "stream",
     "text": [
      "City Delhi                  9999\n",
      "Mumbai                 8496\n",
      "Bengaluru              8312\n",
      "Hyderabad              5656\n",
      "Chennai                5287\n",
      "Pune                   4085\n",
      "Kolkata                2262\n",
      "Ahmedabad              1428\n",
      "Jaipur                 1104\n",
      "Gurgaon                 967\n",
      "Coimbatore              893\n",
      "Thane                   718\n",
      "Chandigarh              695\n",
      "Surat                   662\n",
      "Visakhapatnam           604\n",
      "Indore                  598\n",
      "Vadodara                497\n",
      "Nagpur                  495\n",
      "Lucknow                 452\n",
      "Ghaziabad               440\n",
      "Bhopal                  424\n",
      "Kochi                   386\n",
      "Faridabad               382\n",
      "Patna                   371\n",
      "Madurai                 296\n",
      "Noida                   295\n",
      "Gautam Buddha Nagar     265\n",
      "Dehradun                252\n",
      "Raipur                  245\n",
      "Bhubaneswar             224\n",
      "                       ... \n",
      "Giridih                   1\n",
      "Umaria                    1\n",
      "Beawar                    1\n",
      "Kargil                    1\n",
      "Nabha                     1\n",
      "Chapra                    1\n",
      "Mokokchung                1\n",
      "Chandel                   1\n",
      "Churachandpur             1\n",
      "Mainpuri                  1\n",
      "Poonch                    1\n",
      "KAMREJ                    1\n",
      "Kabri Anglong             1\n",
      "BILIMORA                  1\n",
      "LUNAWADA                  1\n",
      "Mandla                    1\n",
      "Lakhisarai                1\n",
      "Surguja                   1\n",
      "Lalitpur                  1\n",
      "Upper Subansiri           1\n",
      "Magadh                    1\n",
      "Seoni                     1\n",
      "SILVASA                   1\n",
      "North Cachar Hills        1\n",
      "Koderma                   1\n",
      "Hazaribagh                1\n",
      "Narsinghpur               1\n",
      "Reasi                     1\n",
      "Khagaria                  1\n",
      "KHAMBHAT                  1\n",
      "Name: City, Length: 677, dtype: int64 \n",
      "\n",
      "Monthly_Income 25000     4667\n",
      "20000     3566\n",
      "15000     3365\n",
      "30000     2505\n",
      "50000     1818\n",
      "10000     1768\n",
      "18000     1708\n",
      "12000     1523\n",
      "40000     1469\n",
      "35000     1393\n",
      "22000     1263\n",
      "16000     1217\n",
      "17000     1063\n",
      "23000      892\n",
      "21000      844\n",
      "14000      801\n",
      "45000      800\n",
      "13000      772\n",
      "100000     768\n",
      "32000      765\n",
      "60000      758\n",
      "28000      747\n",
      "24000      713\n",
      "27000      666\n",
      "26000      644\n",
      "19000      597\n",
      "11000      519\n",
      "33000      457\n",
      "70000      451\n",
      "55000      451\n",
      "          ... \n",
      "31599        1\n",
      "54842        1\n",
      "18088        1\n",
      "16553        1\n",
      "20457        1\n",
      "20978        1\n",
      "10404        1\n",
      "2208         1\n",
      "166000       1\n",
      "28783        1\n",
      "22634        1\n",
      "10340        1\n",
      "2144         1\n",
      "18472        1\n",
      "10276        1\n",
      "23027        1\n",
      "38834        1\n",
      "24235        1\n",
      "26540        1\n",
      "16295        1\n",
      "18280        1\n",
      "10084        1\n",
      "31223        1\n",
      "16167        1\n",
      "26348        1\n",
      "18152        1\n",
      "9956         1\n",
      "34480        1\n",
      "28333        1\n",
      "10235        1\n",
      "Name: Monthly_Income, Length: 4882, dtype: int64 \n",
      "\n",
      "Lead_Creation_Date 03-Jul-15    2315\n",
      "22-Jun-15    1201\n",
      "26-May-15    1190\n",
      "23-Jun-15    1187\n",
      "17-Jun-15    1154\n",
      "04-Jun-15    1132\n",
      "05-May-15    1128\n",
      "06-Jul-15    1126\n",
      "04-May-15    1088\n",
      "29-Jun-15    1088\n",
      "13-May-15    1081\n",
      "18-May-15    1078\n",
      "03-Jun-15    1066\n",
      "27-May-15    1064\n",
      "07-Jul-15    1055\n",
      "18-Jun-15    1049\n",
      "26-Jun-15    1047\n",
      "25-May-15    1045\n",
      "27-Jun-15    1044\n",
      "09-Jun-15    1044\n",
      "15-May-15    1042\n",
      "11-May-15    1037\n",
      "12-May-15    1025\n",
      "08-Jul-15    1021\n",
      "06-May-15    1016\n",
      "20-May-15     998\n",
      "02-Jul-15     972\n",
      "08-Jun-15     970\n",
      "14-Jul-15     967\n",
      "12-Jun-15     965\n",
      "             ... \n",
      "25-Jun-15     709\n",
      "21-Jun-15     691\n",
      "23-May-15     686\n",
      "05-Jul-15     630\n",
      "28-Jun-15     629\n",
      "01-May-15     608\n",
      "11-Jul-15     598\n",
      "17-May-15     571\n",
      "07-Jun-15     559\n",
      "03-May-15     527\n",
      "24-May-15     502\n",
      "31-May-15     498\n",
      "12-Jul-15     475\n",
      "10-May-15     459\n",
      "15-Jul-15     428\n",
      "14-Jun-15     373\n",
      "16-Jul-15      12\n",
      "21-Jul-15       9\n",
      "17-Jul-15       8\n",
      "20-Jul-15       5\n",
      "19-Jul-15       4\n",
      "22-Jul-15       4\n",
      "30-Jul-15       3\n",
      "27-Jul-15       2\n",
      "26-Jul-15       2\n",
      "28-Jul-15       2\n",
      "25-Jul-15       1\n",
      "18-Jul-15       1\n",
      "23-Jul-15       1\n",
      "29-Jul-15       1\n",
      "Name: Lead_Creation_Date, Length: 90, dtype: int64 \n",
      "\n",
      "Loan_Amount_Submitted 100000.0     5545\n",
      "200000.0     5324\n",
      "300000.0     4435\n",
      "500000.0     3958\n",
      "1000000.0    1340\n",
      "400000.0     1020\n",
      "290000.0      881\n",
      "360000.0      764\n",
      "450000.0      686\n",
      "330000.0      679\n",
      "350000.0      661\n",
      "150000.0      600\n",
      "420000.0      583\n",
      "320000.0      518\n",
      "390000.0      510\n",
      "1500000.0     506\n",
      "340000.0      506\n",
      "1200000.0     413\n",
      "380000.0      383\n",
      "250000.0      374\n",
      "240000.0      358\n",
      "430000.0      355\n",
      "490000.0      332\n",
      "220000.0      331\n",
      "370000.0      320\n",
      "310000.0      312\n",
      "540000.0      309\n",
      "190000.0      305\n",
      "260000.0      283\n",
      "50000.0       281\n",
      "             ... \n",
      "1740000.0       2\n",
      "1380000.0       2\n",
      "1810000.0       2\n",
      "1730000.0       2\n",
      "1590000.0       1\n",
      "1640000.0       1\n",
      "1970000.0       1\n",
      "2570000.0       1\n",
      "2110000.0       1\n",
      "1990000.0       1\n",
      "2080000.0       1\n",
      "1530000.0       1\n",
      "2410000.0       1\n",
      "1930000.0       1\n",
      "2290000.0       1\n",
      "2270000.0       1\n",
      "1650000.0       1\n",
      "2250000.0       1\n",
      "1520000.0       1\n",
      "1820000.0       1\n",
      "1750000.0       1\n",
      "2400000.0       1\n",
      "1230000.0       1\n",
      "2470000.0       1\n",
      "1660000.0       1\n",
      "2140000.0       1\n",
      "1630000.0       1\n",
      "1900000.0       1\n",
      "1890000.0       1\n",
      "2030000.0       1\n",
      "Name: Loan_Amount_Submitted, Length: 192, dtype: int64 \n",
      "\n"
     ]
    }
   ],
   "source": [
    "#Exploring some other columns\n",
    "other_columns = list(['City','Monthly_Income','Lead_Creation_Date','Loan_Amount_Submitted'])\n",
    "for i in other_columns:\n",
    "    print(i,train[i].value_counts(),'\\n')"
   ]
  },
  {
   "cell_type": "code",
   "execution_count": 91,
   "metadata": {},
   "outputs": [
    {
     "name": "stderr",
     "output_type": "stream",
     "text": [
      "C:\\Users\\ac36345\\AppData\\Local\\Continuum\\anaconda3\\lib\\site-packages\\ipykernel_launcher.py:4: FutureWarning: Sorting because non-concatenation axis is not aligned. A future version\n",
      "of pandas will change to not sort by default.\n",
      "\n",
      "To accept the future behavior, pass 'sort=False'.\n",
      "\n",
      "To retain the current behavior and silence the warning, pass 'sort=True'.\n",
      "\n",
      "  after removing the cwd from sys.path.\n"
     ]
    },
    {
     "data": {
      "text/plain": [
       "(105783, 26)"
      ]
     },
     "execution_count": 91,
     "metadata": {},
     "output_type": "execute_result"
    }
   ],
   "source": [
    "#Combine into data:\n",
    "#train['source']= 'train'\n",
    "#test['source'] = 'test'\n",
    "data=pd.concat([train, test],ignore_index=True)\n",
    "data.shape"
   ]
  },
  {
   "cell_type": "code",
   "execution_count": 92,
   "metadata": {},
   "outputs": [],
   "source": [
    "#data.head()"
   ]
  },
  {
   "cell_type": "code",
   "execution_count": 93,
   "metadata": {},
   "outputs": [
    {
     "data": {
      "text/plain": [
       "Processing_Fee           72180\n",
       "EMI_Loan_Submitted       71743\n",
       "Interest_Rate            71743\n",
       "Loan_Amount_Submitted    41206\n",
       "Loan_Tenure_Submitted    41206\n",
       "Disbursed                37718\n",
       "LoggedIn                 37718\n",
       "Salary_Account           13267\n",
       "City                       446\n",
       "Employer_Name               54\n",
       "Existing_EMI                52\n",
       "Loan_Amount_Applied         52\n",
       "Loan_Tenure_Applied         52\n",
       "Var4                         1\n",
       "Source                       1\n",
       "Var2                         1\n",
       "Lead_Creation_Date           0\n",
       "Mobile_Verified              0\n",
       "ID                           0\n",
       "Gender                       0\n",
       "Filled_Form                  0\n",
       "Monthly_Income               0\n",
       "Var1                         0\n",
       "Device_Type                  0\n",
       "DOB                          0\n",
       "Var5                         0\n",
       "dtype: int64"
      ]
     },
     "execution_count": 93,
     "metadata": {},
     "output_type": "execute_result"
    }
   ],
   "source": [
    "#check Missing\n",
    "data.apply(lambda x: sum(x.isnull())).sort_values(ascending=False)"
   ]
  },
  {
   "cell_type": "code",
   "execution_count": 94,
   "metadata": {},
   "outputs": [
    {
     "name": "stdout",
     "output_type": "stream",
     "text": [
      "\n",
      "Frequency count for variable Gender\n",
      "Male      60908\n",
      "Female    44875\n",
      "Name: Gender, dtype: int64\n",
      "\n",
      "Frequency count for variable Salary_Account\n",
      "HDFC Bank                                          21439\n",
      "ICICI Bank                                         16700\n",
      "State Bank of India                                14967\n",
      "Axis Bank                                          10718\n",
      "Citibank                                            2883\n",
      "Kotak Bank                                          2504\n",
      "IDBI Bank                                           1925\n",
      "Punjab National Bank                                1538\n",
      "Bank of India                                       1459\n",
      "Bank of Baroda                                      1447\n",
      "Standard Chartered Bank                             1227\n",
      "Canara Bank                                         1170\n",
      "Union Bank of India                                 1129\n",
      "Yes Bank                                             934\n",
      "ING Vysya                                            863\n",
      "Corporation bank                                     844\n",
      "Indian Overseas Bank                                 733\n",
      "State Bank of Hyderabad                              726\n",
      "Indian Bank                                          666\n",
      "Oriental Bank of Commerce                            663\n",
      "Andhra Bank                                          628\n",
      "IndusInd Bank                                        610\n",
      "Central Bank of India                                549\n",
      "Syndicate Bank                                       527\n",
      "Bank of Maharasthra                                  490\n",
      "HSBC                                                 398\n",
      "State Bank of Bikaner & Jaipur                       394\n",
      "Karur Vysya Bank                                     353\n",
      "State Bank of Mysore                                 337\n",
      "Federal Bank                                         321\n",
      "Allahabad Bank                                       307\n",
      "UCO Bank                                             305\n",
      "Vijaya Bank                                          296\n",
      "State Bank of Travancore                             280\n",
      "Karnataka Bank                                       238\n",
      "United Bank of India                                 238\n",
      "Dena Bank                                            237\n",
      "Saraswat Bank                                        233\n",
      "State Bank of Patiala                                227\n",
      "South Indian Bank                                    194\n",
      "Abhyuday Co-op Bank Ltd                              151\n",
      "Deutsche Bank                                        146\n",
      "The Ratnakar Bank Ltd                                 96\n",
      "Tamil Nadu Mercantile Bank                            86\n",
      "Punjab & Sind bank                                    72\n",
      "J&K Bank                                              69\n",
      "Lakshmi Vilas bank                                    58\n",
      "Dhanalakshmi Bank Ltd                                 56\n",
      "State Bank of Indore                                  31\n",
      "Catholic Syrian Bank                                  21\n",
      "India Bulls                                           11\n",
      "B N P Paribas                                          7\n",
      "Bank of Rajasthan                                      7\n",
      "Firstrand Bank Limited                                 4\n",
      "GIC Housing Finance Ltd                                2\n",
      "Industrial And Commercial Bank Of China Limited        1\n",
      "Ahmedabad Mercantile Cooperative Bank                  1\n",
      "Name: Salary_Account, dtype: int64\n",
      "\n",
      "Frequency count for variable Mobile_Verified\n",
      "Y    68951\n",
      "N    36832\n",
      "Name: Mobile_Verified, dtype: int64\n",
      "\n",
      "Frequency count for variable Var1\n",
      "HBXX    71743\n",
      "HBXC    11924\n",
      "HBXB     4651\n",
      "HAXA     3858\n",
      "HAXB     2595\n",
      "HBXD     2593\n",
      "HBXA     2070\n",
      "HAXC     1796\n",
      "HBXH     1202\n",
      "HCXF      886\n",
      "HAYT      611\n",
      "HAVC      531\n",
      "HAXM      346\n",
      "HCXD      293\n",
      "HCYS      262\n",
      "HVYS      198\n",
      "HAZD      129\n",
      "HCXG       88\n",
      "HAXF        7\n",
      "Name: Var1, dtype: int64\n",
      "\n",
      "Frequency count for variable Filled_Form\n",
      "N    81651\n",
      "Y    24132\n",
      "Name: Filled_Form, dtype: int64\n",
      "\n",
      "Frequency count for variable Device_Type\n",
      "Web-browser    77948\n",
      "Mobile         27834\n",
      "Web-br             1\n",
      "Name: Device_Type, dtype: int64\n",
      "\n",
      "Frequency count for variable Var2\n",
      "B    53481\n",
      "G    28383\n",
      "C    20366\n",
      "E     1855\n",
      "D      918\n",
      "F      770\n",
      "A        9\n",
      "Name: Var2, dtype: int64\n",
      "\n",
      "Frequency count for variable Source\n",
      "S133    42900\n",
      "S122    36294\n",
      "S159     7999\n",
      "S143     6140\n",
      "S127     2804\n",
      "S137     2450\n",
      "S134     1900\n",
      "S161     1109\n",
      "S151     1018\n",
      "S157      929\n",
      "S153      705\n",
      "S144      447\n",
      "S156      432\n",
      "S158      294\n",
      "S123      112\n",
      "S141       83\n",
      "S162       60\n",
      "S124       43\n",
      "S150       19\n",
      "S160       11\n",
      "S138        5\n",
      "S155        5\n",
      "S136        5\n",
      "S129        4\n",
      "S139        4\n",
      "S135        2\n",
      "S131        1\n",
      "S130        1\n",
      "S125        1\n",
      "S132        1\n",
      "S154        1\n",
      "S142        1\n",
      "S140        1\n",
      "S126        1\n",
      "Name: Source, dtype: int64\n"
     ]
    }
   ],
   "source": [
    "#Categories of all variable\n",
    "var = ['Gender','Salary_Account','Mobile_Verified','Var1','Filled_Form','Device_Type','Var2','Source']\n",
    "for v in var:\n",
    "    print('\\nFrequency count for variable %s'%v)\n",
    "    print(data[v].value_counts())"
   ]
  },
  {
   "cell_type": "code",
   "execution_count": 95,
   "metadata": {},
   "outputs": [
    {
     "data": {
      "text/plain": [
       "Disbursed                1.000000\n",
       "LoggedIn                 0.688997\n",
       "Var5                     0.116742\n",
       "EMI_Loan_Submitted       0.048263\n",
       "Var4                     0.041634\n",
       "Loan_Amount_Submitted    0.040868\n",
       "Processing_Fee           0.038599\n",
       "Loan_Tenure_Applied      0.035198\n",
       "Loan_Amount_Applied      0.031938\n",
       "Existing_EMI             0.026598\n",
       "Monthly_Income          -0.000053\n",
       "Loan_Tenure_Submitted   -0.006710\n",
       "Interest_Rate           -0.094373\n",
       "Name: Disbursed, dtype: float64"
      ]
     },
     "execution_count": 95,
     "metadata": {},
     "output_type": "execute_result"
    }
   ],
   "source": [
    "data.corr().Disbursed.sort_values(ascending = False)\n",
    "#LoggedIn & Var5 columns,EMI_Loan_Submitted,Var4,Loan_Amount_Submitted,Processing_Fee,Loan_Tenure_Applied,\n",
    "#Loan_Amount_Applied are important correlated features with Disbursed"
   ]
  },
  {
   "cell_type": "code",
   "execution_count": 96,
   "metadata": {},
   "outputs": [
    {
     "data": {
      "image/png": "[encoded data removed]",
      "text/plain": [
       "<Figure size 1080x864 with 2 Axes>"
      ]
     },
     "metadata": {
      "needs_background": "light"
     },
     "output_type": "display_data"
    }
   ],
   "source": [
    "#Handle Individual Variables:\n",
    "import matplotlib.pyplot as plt\n",
    "import seaborn as sns\n",
    "import numpy as np\n",
    "mask = np.zeros_like(train.corr(), dtype=np.bool)\n",
    "\n",
    "plt.subplots(figsize = (15,12))\n",
    "sns.heatmap(data.corr(), \n",
    "            annot=True,\n",
    "            #mask = mask,\n",
    "            cmap = 'RdBu_r',\n",
    "            linewidths=0.1, \n",
    "            linecolor='white',\n",
    "            vmax = .9,\n",
    "            square=True)\n",
    "plt.title(\"Correlations Among Features\", y = 1.03,fontsize = 20);\n"
   ]
  },
  {
   "cell_type": "code",
   "execution_count": 97,
   "metadata": {},
   "outputs": [],
   "source": [
    "#Positive Correlation Features\n",
    "#Disbursed vs LoggedIn: 0.69\n",
    "#EMI_Loan_Submitted vs Loan_Amount_Submitted: 0.92\n",
    "#EMI_Loan_Submitted vs Processing_Fee: 0.73\n",
    "#Loan_Amount_Submitted vs processing fee: 0.77\n",
    "\n",
    "#Negative Correlation Features\n",
    "#Interest_Rate vs Var5: -0.52\n",
    "#Loan_Amount_Submitted vs Interest_Rate: -0.3\n",
    "#EMI_Submitted vs Interest_Rate: -0.23"
   ]
  },
  {
   "cell_type": "code",
   "execution_count": 98,
   "metadata": {},
   "outputs": [
    {
     "name": "stdout",
     "output_type": "stream",
     "text": [
      "no of unique values in City: 712\n"
     ]
    }
   ],
   "source": [
    "#Handle Individual Variables:\n",
    "#City\n",
    "print('no of unique values in City:',len(data['City'].unique()))\n",
    "#drop city because too many unique\n",
    "data.drop('City',axis=1,inplace=True)"
   ]
  },
  {
   "cell_type": "code",
   "execution_count": 99,
   "metadata": {},
   "outputs": [],
   "source": [
    "#Drop ID\n",
    "data.drop('ID',axis=1,inplace=True)"
   ]
  },
  {
   "cell_type": "code",
   "execution_count": 100,
   "metadata": {},
   "outputs": [],
   "source": [
    "def percent_value_counts(df, feature):\n",
    "    \"\"\"This function takes in a dataframe and a column and finds the percentage of the value_counts\"\"\"\n",
    "    percent = pd.DataFrame(round(df.loc[:,feature].value_counts(dropna=False, normalize=True)*100,2))\n",
    "    ## creating a df with th\n",
    "    total = pd.DataFrame(df.loc[:,feature].value_counts(dropna=False))\n",
    "    ## concating percent and total dataframe\n",
    "\n",
    "    total.columns = [\"Total\"]\n",
    "    percent.columns = ['Percent']\n",
    "    return pd.concat([total, percent], axis = 1)"
   ]
  },
  {
   "cell_type": "code",
   "execution_count": 101,
   "metadata": {},
   "outputs": [
    {
     "data": {
      "text/plain": [
       "0    23-May-78\n",
       "1    07-Oct-85\n",
       "2    10-Oct-81\n",
       "3    30-Nov-87\n",
       "4    17-Feb-84\n",
       "Name: DOB, dtype: object"
      ]
     },
     "execution_count": 101,
     "metadata": {},
     "output_type": "execute_result"
    }
   ],
   "source": [
    "#Determine Age from DOB\n",
    "data['DOB'].head()"
   ]
  },
  {
   "cell_type": "code",
   "execution_count": 102,
   "metadata": {},
   "outputs": [
    {
     "data": {
      "text/plain": [
       "0    41\n",
       "1    34\n",
       "2    38\n",
       "3    32\n",
       "4    35\n",
       "Name: Age, dtype: int64"
      ]
     },
     "execution_count": 102,
     "metadata": {},
     "output_type": "execute_result"
    }
   ],
   "source": [
    "#Create age variable:\n",
    "data['Age'] = data['DOB'].apply(lambda x: 119 - int(x[-2:]))\n",
    "data['Age'].head()"
   ]
  },
  {
   "cell_type": "code",
   "execution_count": 103,
   "metadata": {},
   "outputs": [],
   "source": [
    "#drop DOB:\n",
    "data.drop('DOB',axis=1,inplace=True)"
   ]
  },
  {
   "cell_type": "code",
   "execution_count": 104,
   "metadata": {},
   "outputs": [
    {
     "data": {
      "text/plain": [
       "count    4.178200e+04\n",
       "mean     3.939950e+05\n",
       "std      3.033619e+05\n",
       "min      5.000000e+04\n",
       "25%      2.000000e+05\n",
       "50%      3.000000e+05\n",
       "75%      5.000000e+05\n",
       "max      3.000000e+06\n",
       "Name: Loan_Amount_Submitted, dtype: float64"
      ]
     },
     "execution_count": 104,
     "metadata": {},
     "output_type": "execute_result"
    }
   ],
   "source": [
    "train['Loan_Amount_Submitted'].describe()"
   ]
  },
  {
   "cell_type": "code",
   "execution_count": 105,
   "metadata": {},
   "outputs": [
    {
     "name": "stderr",
     "output_type": "stream",
     "text": [
      "C:\\Users\\ac36345\\AppData\\Local\\Continuum\\anaconda3\\lib\\site-packages\\statsmodels\\nonparametric\\kde.py:448: RuntimeWarning: invalid value encountered in greater\n",
      "  X = X[np.logical_and(X > clip[0], X < clip[1])] # won't work for two columns.\n",
      "C:\\Users\\ac36345\\AppData\\Local\\Continuum\\anaconda3\\lib\\site-packages\\statsmodels\\nonparametric\\kde.py:448: RuntimeWarning: invalid value encountered in less\n",
      "  X = X[np.logical_and(X > clip[0], X < clip[1])] # won't work for two columns.\n"
     ]
    },
    {
     "data": {
      "text/plain": [
       "Text(0.5, 0, 'Loan_Amount_Submitted')"
      ]
     },
     "execution_count": 105,
     "metadata": {},
     "output_type": "execute_result"
    },
    {
     "data": {
      "image/png": "[encoded data removed]",
      "text/plain": [
       "<Figure size 1080x576 with 1 Axes>"
      ]
     },
     "metadata": {
      "needs_background": "light"
     },
     "output_type": "display_data"
    }
   ],
   "source": [
    "#Loan_Amount_Submitted\n",
    "data['Loan_Amount_Submitted']\n",
    "fig = plt.figure(figsize=(15,8),)\n",
    "ax=sns.kdeplot(train.loc[(train['Disbursed'] == 0),'Loan_Amount_Submitted'] , color='gray',shade=True,label='not disbursed')\n",
    "ax=sns.kdeplot(train.loc[(train['Disbursed'] == 1),'Loan_Amount_Submitted'] , color='g',shade=True, label='disbursed')\n",
    "plt.title('Loan_Amount_Submitted Disbursed vs Non Disbursed', fontsize = 25)\n",
    "plt.ylabel(\"frequency of Disbursed\", fontsize = 15)\n",
    "plt.xlabel(\"Loan_Amount_Submitted\", fontsize = 15)"
   ]
  },
  {
   "cell_type": "code",
   "execution_count": 106,
   "metadata": {},
   "outputs": [],
   "source": [
    "train['Loan_Amount_Submitted_for_dis'] = train[train['Disbursed'] == 1]['Loan_Amount_Submitted']\n",
    "train_new1 = train[train['Loan_Amount_Submitted_for_dis'].isnull()== False]\n",
    "train.drop('Loan_Amount_Submitted_for_dis',axis=1,inplace=True)\n",
    "#percent_value_counts(train_new1, 'Loan_Amount_Submitted_for_dis')  \n",
    "\n",
    "#-1,1,100000,150000,200000,300000,400000,500000,600000,700000,1000000,1200000,3000001"
   ]
  },
  {
   "cell_type": "code",
   "execution_count": 107,
   "metadata": {},
   "outputs": [
    {
     "data": {
      "text/html": [
       "<div>\n",
       "<style scoped>\n",
       "    .dataframe tbody tr th:only-of-type {\n",
       "        vertical-align: middle;\n",
       "    }\n",
       "\n",
       "    .dataframe tbody tr th {\n",
       "        vertical-align: top;\n",
       "    }\n",
       "\n",
       "    .dataframe thead th {\n",
       "        text-align: right;\n",
       "    }\n",
       "</style>\n",
       "<table border=\"1\" class=\"dataframe\">\n",
       "  <thead>\n",
       "    <tr style=\"text-align: right;\">\n",
       "      <th></th>\n",
       "      <th>Total</th>\n",
       "      <th>Percent</th>\n",
       "    </tr>\n",
       "  </thead>\n",
       "  <tbody>\n",
       "    <tr>\n",
       "      <th>4</th>\n",
       "      <td>52971</td>\n",
       "      <td>50.08</td>\n",
       "    </tr>\n",
       "    <tr>\n",
       "      <th>6</th>\n",
       "      <td>10698</td>\n",
       "      <td>10.11</td>\n",
       "    </tr>\n",
       "    <tr>\n",
       "      <th>1</th>\n",
       "      <td>9825</td>\n",
       "      <td>9.29</td>\n",
       "    </tr>\n",
       "    <tr>\n",
       "      <th>3</th>\n",
       "      <td>9667</td>\n",
       "      <td>9.14</td>\n",
       "    </tr>\n",
       "    <tr>\n",
       "      <th>5</th>\n",
       "      <td>8636</td>\n",
       "      <td>8.16</td>\n",
       "    </tr>\n",
       "    <tr>\n",
       "      <th>9</th>\n",
       "      <td>5028</td>\n",
       "      <td>4.75</td>\n",
       "    </tr>\n",
       "    <tr>\n",
       "      <th>7</th>\n",
       "      <td>2644</td>\n",
       "      <td>2.50</td>\n",
       "    </tr>\n",
       "    <tr>\n",
       "      <th>8</th>\n",
       "      <td>1849</td>\n",
       "      <td>1.75</td>\n",
       "    </tr>\n",
       "    <tr>\n",
       "      <th>2</th>\n",
       "      <td>1789</td>\n",
       "      <td>1.69</td>\n",
       "    </tr>\n",
       "    <tr>\n",
       "      <th>11</th>\n",
       "      <td>1456</td>\n",
       "      <td>1.38</td>\n",
       "    </tr>\n",
       "    <tr>\n",
       "      <th>10</th>\n",
       "      <td>1220</td>\n",
       "      <td>1.15</td>\n",
       "    </tr>\n",
       "    <tr>\n",
       "      <th>0</th>\n",
       "      <td>0</td>\n",
       "      <td>0.00</td>\n",
       "    </tr>\n",
       "  </tbody>\n",
       "</table>\n",
       "</div>"
      ],
      "text/plain": [
       "    Total  Percent\n",
       "4   52971    50.08\n",
       "6   10698    10.11\n",
       "1    9825     9.29\n",
       "3    9667     9.14\n",
       "5    8636     8.16\n",
       "9    5028     4.75\n",
       "7    2644     2.50\n",
       "8    1849     1.75\n",
       "2    1789     1.69\n",
       "11   1456     1.38\n",
       "10   1220     1.15\n",
       "0       0     0.00"
      ]
     },
     "execution_count": 107,
     "metadata": {},
     "output_type": "execute_result"
    }
   ],
   "source": [
    "data['Loan_Amount_Submitted'].fillna(data['Loan_Amount_Submitted'].median(),inplace=True)\n",
    "data['Loan_Amount_Submitted']= data['Loan_Amount_Submitted'].apply(lambda x: 0 if pd.isnull(x) else x)\n",
    "bins = [-1,1,100000,150000,200000,300000,400000,500000,600000,700000,1000000,1200000,3000001]\n",
    "labels = [0,1,2,3,4,5,6,7,8,9,10,11]\n",
    "data['Loan_Amount_Submitted_BINNED'] = pd.cut(data['Loan_Amount_Submitted'], bins=bins, labels=labels) \n",
    "data.drop('Loan_Amount_Submitted',axis=1,inplace=True)\n",
    "percent_value_counts(data, 'Loan_Amount_Submitted_BINNED')"
   ]
  },
  {
   "cell_type": "code",
   "execution_count": 108,
   "metadata": {},
   "outputs": [
    {
     "data": {
      "text/plain": [
       "count    41782.000000\n",
       "mean         3.936695\n",
       "std          1.191000\n",
       "min          1.000000\n",
       "25%          3.000000\n",
       "50%          4.000000\n",
       "75%          5.000000\n",
       "max          6.000000\n",
       "Name: Loan_Tenure_Submitted, dtype: float64"
      ]
     },
     "execution_count": 108,
     "metadata": {},
     "output_type": "execute_result"
    }
   ],
   "source": [
    "train['Loan_Tenure_Submitted'].describe()"
   ]
  },
  {
   "cell_type": "code",
   "execution_count": 109,
   "metadata": {},
   "outputs": [
    {
     "data": {
      "text/plain": [
       "Text(0.5, 0, 'Loan_Tenure_Submitted')"
      ]
     },
     "execution_count": 109,
     "metadata": {},
     "output_type": "execute_result"
    },
    {
     "data": {
      "image/png": "[encoded data removed]",
      "text/plain": [
       "<Figure size 1080x576 with 1 Axes>"
      ]
     },
     "metadata": {
      "needs_background": "light"
     },
     "output_type": "display_data"
    }
   ],
   "source": [
    "#Loan_Tenure_Submitted\n",
    "fig = plt.figure(figsize=(15,8),)\n",
    "ax=sns.kdeplot(train.loc[(train['Disbursed'] == 0),'Loan_Tenure_Submitted'] , color='gray',shade=True,label='not disbursed')\n",
    "ax=sns.kdeplot(train.loc[(train['Disbursed'] == 1),'Loan_Tenure_Submitted'] , color='g',shade=True, label='disbursed')\n",
    "plt.title('Loan_Tenure_Submitted Disbursed vs Non Disbursed', fontsize = 25)\n",
    "plt.ylabel(\"frequency of Disbursed\", fontsize = 15)\n",
    "plt.xlabel(\"Loan_Tenure_Submitted\", fontsize = 15)"
   ]
  },
  {
   "cell_type": "code",
   "execution_count": 110,
   "metadata": {},
   "outputs": [
    {
     "data": {
      "text/html": [
       "<div>\n",
       "<style scoped>\n",
       "    .dataframe tbody tr th:only-of-type {\n",
       "        vertical-align: middle;\n",
       "    }\n",
       "\n",
       "    .dataframe tbody tr th {\n",
       "        vertical-align: top;\n",
       "    }\n",
       "\n",
       "    .dataframe thead th {\n",
       "        text-align: right;\n",
       "    }\n",
       "</style>\n",
       "<table border=\"1\" class=\"dataframe\">\n",
       "  <thead>\n",
       "    <tr style=\"text-align: right;\">\n",
       "      <th></th>\n",
       "      <th>Total</th>\n",
       "      <th>Percent</th>\n",
       "    </tr>\n",
       "  </thead>\n",
       "  <tbody>\n",
       "    <tr>\n",
       "      <th>5.0</th>\n",
       "      <td>18179</td>\n",
       "      <td>44.44</td>\n",
       "    </tr>\n",
       "    <tr>\n",
       "      <th>4.0</th>\n",
       "      <td>9815</td>\n",
       "      <td>23.99</td>\n",
       "    </tr>\n",
       "    <tr>\n",
       "      <th>3.0</th>\n",
       "      <td>6933</td>\n",
       "      <td>16.95</td>\n",
       "    </tr>\n",
       "    <tr>\n",
       "      <th>2.0</th>\n",
       "      <td>4151</td>\n",
       "      <td>10.15</td>\n",
       "    </tr>\n",
       "    <tr>\n",
       "      <th>1.0</th>\n",
       "      <td>1829</td>\n",
       "      <td>4.47</td>\n",
       "    </tr>\n",
       "    <tr>\n",
       "      <th>6.0</th>\n",
       "      <td>1</td>\n",
       "      <td>0.00</td>\n",
       "    </tr>\n",
       "  </tbody>\n",
       "</table>\n",
       "</div>"
      ],
      "text/plain": [
       "     Total  Percent\n",
       "5.0  18179    44.44\n",
       "4.0   9815    23.99\n",
       "3.0   6933    16.95\n",
       "2.0   4151    10.15\n",
       "1.0   1829     4.47\n",
       "6.0      1     0.00"
      ]
     },
     "execution_count": 110,
     "metadata": {},
     "output_type": "execute_result"
    }
   ],
   "source": [
    "train['Loan_Tenure_Submitted_for_dis'] = train[train['Disbursed'] == 0]['Loan_Tenure_Submitted']\n",
    "train_new1 = train[train['Loan_Tenure_Submitted_for_dis'].isnull()== False]\n",
    "train.drop('Loan_Tenure_Submitted_for_dis',axis=1,inplace=True)\n",
    "percent_value_counts(train_new1, 'Loan_Tenure_Submitted_for_dis')  \n",
    "#for 5,6,3,2,1 disbursed=1"
   ]
  },
  {
   "cell_type": "code",
   "execution_count": 111,
   "metadata": {},
   "outputs": [
    {
     "data": {
      "text/plain": [
       "0     0.0\n",
       "6     0.0\n",
       "11    0.0\n",
       "12    0.0\n",
       "14    0.0\n",
       "Name: Disbursed, dtype: float64"
      ]
     },
     "execution_count": 111,
     "metadata": {},
     "output_type": "execute_result"
    }
   ],
   "source": [
    "train[train['Loan_Tenure_Submitted'].isnull()]['Disbursed'].head()\n",
    "#as for null values disbursed is 0 so we will replace the Loan_Tenure_Submitted null value with\n",
    "#mode of Loan_Tenure_Submitted where disbursed is 0 i.e 5 years."
   ]
  },
  {
   "cell_type": "code",
   "execution_count": 112,
   "metadata": {},
   "outputs": [
    {
     "data": {
      "text/plain": [
       "True"
      ]
     },
     "execution_count": 112,
     "metadata": {},
     "output_type": "execute_result"
    }
   ],
   "source": [
    "data['Loan_Tenure_Submitted'].isnull().any()"
   ]
  },
  {
   "cell_type": "code",
   "execution_count": 113,
   "metadata": {},
   "outputs": [],
   "source": [
    "data['Loan_Tenure_Submitted'].fillna(data['Loan_Tenure_Submitted'].median(),inplace=True)\n",
    "#data['Loan_Tenure_Submitted']= data['Loan_Tenure_Submitted'].apply(lambda x: 0 if pd.isnull(x) else x)"
   ]
  },
  {
   "cell_type": "code",
   "execution_count": 114,
   "metadata": {},
   "outputs": [
    {
     "data": {
      "text/plain": [
       "0    0.0\n",
       "2    0.0\n",
       "3    0.0\n",
       "4    0.0\n",
       "6    0.0\n",
       "Name: Disbursed, dtype: float64"
      ]
     },
     "execution_count": 114,
     "metadata": {},
     "output_type": "execute_result"
    }
   ],
   "source": [
    "train[train['EMI_Loan_Submitted'].isnull()]['Disbursed'].head()\n",
    "#for all the null EMI_Loan_Submitted Disbursed value is 0."
   ]
  },
  {
   "cell_type": "code",
   "execution_count": 115,
   "metadata": {},
   "outputs": [
    {
     "data": {
      "text/plain": [
       "<matplotlib.axes._subplots.AxesSubplot at 0x2182d8d4ef0>"
      ]
     },
     "execution_count": 115,
     "metadata": {},
     "output_type": "execute_result"
    },
    {
     "data": {
      "image/png": "[encoded data removed]",
      "text/plain": [
       "<Figure size 432x288 with 1 Axes>"
      ]
     },
     "metadata": {
      "needs_background": "light"
     },
     "output_type": "display_data"
    }
   ],
   "source": [
    "#EMI Loan Submitted\n",
    "data.boxplot(column=['EMI_Loan_Submitted'],return_type='axes')"
   ]
  },
  {
   "cell_type": "code",
   "execution_count": 116,
   "metadata": {},
   "outputs": [],
   "source": [
    "#Majority values missing so I'll create a new variable stating whether this is missing or note:\n",
    "#data['EMI_Loan_Submitted_Missing'] = data['EMI_Loan_Submitted'].apply(lambda x: 1 if pd.isnull(x) else 0)\n",
    "#data[['EMI_Loan_Submitted','EMI_Loan_Submitted_Missing']].head(10)"
   ]
  },
  {
   "cell_type": "code",
   "execution_count": 117,
   "metadata": {},
   "outputs": [
    {
     "data": {
      "text/plain": [
       "count     34040.000000\n",
       "mean      10858.111644\n",
       "std        7321.768681\n",
       "min        1176.410000\n",
       "25%        6235.660000\n",
       "50%        9275.525000\n",
       "75%       12696.710000\n",
       "max      135564.480000\n",
       "Name: EMI_Loan_Submitted, dtype: float64"
      ]
     },
     "execution_count": 117,
     "metadata": {},
     "output_type": "execute_result"
    }
   ],
   "source": [
    "data['EMI_Loan_Submitted'].describe()"
   ]
  },
  {
   "cell_type": "code",
   "execution_count": 118,
   "metadata": {},
   "outputs": [
    {
     "data": {
      "text/html": [
       "<div>\n",
       "<style scoped>\n",
       "    .dataframe tbody tr th:only-of-type {\n",
       "        vertical-align: middle;\n",
       "    }\n",
       "\n",
       "    .dataframe tbody tr th {\n",
       "        vertical-align: top;\n",
       "    }\n",
       "\n",
       "    .dataframe thead th {\n",
       "        text-align: right;\n",
       "    }\n",
       "</style>\n",
       "<table border=\"1\" class=\"dataframe\">\n",
       "  <thead>\n",
       "    <tr style=\"text-align: right;\">\n",
       "      <th></th>\n",
       "      <th>Total</th>\n",
       "      <th>Percent</th>\n",
       "    </tr>\n",
       "  </thead>\n",
       "  <tbody>\n",
       "    <tr>\n",
       "      <th>0</th>\n",
       "      <td>71743</td>\n",
       "      <td>67.82</td>\n",
       "    </tr>\n",
       "    <tr>\n",
       "      <th>1</th>\n",
       "      <td>19100</td>\n",
       "      <td>18.06</td>\n",
       "    </tr>\n",
       "    <tr>\n",
       "      <th>2</th>\n",
       "      <td>11996</td>\n",
       "      <td>11.34</td>\n",
       "    </tr>\n",
       "    <tr>\n",
       "      <th>3</th>\n",
       "      <td>1951</td>\n",
       "      <td>1.84</td>\n",
       "    </tr>\n",
       "    <tr>\n",
       "      <th>4</th>\n",
       "      <td>624</td>\n",
       "      <td>0.59</td>\n",
       "    </tr>\n",
       "    <tr>\n",
       "      <th>5</th>\n",
       "      <td>291</td>\n",
       "      <td>0.28</td>\n",
       "    </tr>\n",
       "    <tr>\n",
       "      <th>6</th>\n",
       "      <td>52</td>\n",
       "      <td>0.05</td>\n",
       "    </tr>\n",
       "    <tr>\n",
       "      <th>7</th>\n",
       "      <td>26</td>\n",
       "      <td>0.02</td>\n",
       "    </tr>\n",
       "  </tbody>\n",
       "</table>\n",
       "</div>"
      ],
      "text/plain": [
       "   Total  Percent\n",
       "0  71743    67.82\n",
       "1  19100    18.06\n",
       "2  11996    11.34\n",
       "3   1951     1.84\n",
       "4    624     0.59\n",
       "5    291     0.28\n",
       "6     52     0.05\n",
       "7     26     0.02"
      ]
     },
     "execution_count": 118,
     "metadata": {},
     "output_type": "execute_result"
    }
   ],
   "source": [
    "data['EMI_Loan_Submitted_new']= data['EMI_Loan_Submitted'].apply(lambda x: 0 if pd.isnull(x) else x)\n",
    "bins = [-1,1,10000,20000,30000,40000,50000,60000,135565]\n",
    "labels = [0,1,2,3,4,5,6,7]\n",
    "data['EMI_Loan_Submitted_BINNED'] = pd.cut(data['EMI_Loan_Submitted_new'], bins=bins, labels=labels) \n",
    "data.drop(['EMI_Loan_Submitted','EMI_Loan_Submitted_new'],axis=1,inplace=True)\n",
    "percent_value_counts(data, 'EMI_Loan_Submitted_BINNED')"
   ]
  },
  {
   "cell_type": "code",
   "execution_count": 119,
   "metadata": {},
   "outputs": [
    {
     "data": {
      "text/plain": [
       "50721"
      ]
     },
     "execution_count": 119,
     "metadata": {},
     "output_type": "execute_result"
    }
   ],
   "source": [
    "#Employeee name\n",
    "len(data['Employer_Name'].value_counts())"
   ]
  },
  {
   "cell_type": "code",
   "execution_count": 120,
   "metadata": {},
   "outputs": [],
   "source": [
    "#I'll drop the variable because too many unique values. Another option could be to categorize them manually\n",
    "data.drop('Employer_Name',axis=1,inplace=True)"
   ]
  },
  {
   "cell_type": "code",
   "execution_count": 121,
   "metadata": {},
   "outputs": [
    {
     "data": {
      "text/plain": [
       "<matplotlib.axes._subplots.AxesSubplot at 0x2182d8f3d30>"
      ]
     },
     "execution_count": 121,
     "metadata": {},
     "output_type": "execute_result"
    },
    {
     "data": {
      "image/png": "[encoded data removed]",
      "text/plain": [
       "<Figure size 432x288 with 1 Axes>"
      ]
     },
     "metadata": {
      "needs_background": "light"
     },
     "output_type": "display_data"
    }
   ],
   "source": [
    "#Existing EMI\n",
    "data.boxplot(column='Existing_EMI',return_type='axes')"
   ]
  },
  {
   "cell_type": "code",
   "execution_count": 122,
   "metadata": {},
   "outputs": [
    {
     "data": {
      "text/plain": [
       "count    1.057310e+05\n",
       "mean     3.578294e+03\n",
       "std      1.943492e+04\n",
       "min      0.000000e+00\n",
       "25%      0.000000e+00\n",
       "50%      0.000000e+00\n",
       "75%      3.500000e+03\n",
       "max      5.454365e+06\n",
       "Name: Existing_EMI, dtype: float64"
      ]
     },
     "execution_count": 122,
     "metadata": {},
     "output_type": "execute_result"
    }
   ],
   "source": [
    "data['Existing_EMI'].describe()"
   ]
  },
  {
   "cell_type": "code",
   "execution_count": 123,
   "metadata": {},
   "outputs": [
    {
     "data": {
      "text/html": [
       "<div>\n",
       "<style scoped>\n",
       "    .dataframe tbody tr th:only-of-type {\n",
       "        vertical-align: middle;\n",
       "    }\n",
       "\n",
       "    .dataframe tbody tr th {\n",
       "        vertical-align: top;\n",
       "    }\n",
       "\n",
       "    .dataframe thead th {\n",
       "        text-align: right;\n",
       "    }\n",
       "</style>\n",
       "<table border=\"1\" class=\"dataframe\">\n",
       "  <thead>\n",
       "    <tr style=\"text-align: right;\">\n",
       "      <th></th>\n",
       "      <th>Existing_EMI</th>\n",
       "      <th>Existing_EMI_BINNED</th>\n",
       "    </tr>\n",
       "  </thead>\n",
       "  <tbody>\n",
       "    <tr>\n",
       "      <th>0</th>\n",
       "      <td>0.0</td>\n",
       "      <td>0</td>\n",
       "    </tr>\n",
       "    <tr>\n",
       "      <th>1</th>\n",
       "      <td>0.0</td>\n",
       "      <td>0</td>\n",
       "    </tr>\n",
       "    <tr>\n",
       "      <th>2</th>\n",
       "      <td>0.0</td>\n",
       "      <td>0</td>\n",
       "    </tr>\n",
       "    <tr>\n",
       "      <th>3</th>\n",
       "      <td>0.0</td>\n",
       "      <td>0</td>\n",
       "    </tr>\n",
       "    <tr>\n",
       "      <th>4</th>\n",
       "      <td>25000.0</td>\n",
       "      <td>5</td>\n",
       "    </tr>\n",
       "  </tbody>\n",
       "</table>\n",
       "</div>"
      ],
      "text/plain": [
       "   Existing_EMI Existing_EMI_BINNED\n",
       "0           0.0                   0\n",
       "1           0.0                   0\n",
       "2           0.0                   0\n",
       "3           0.0                   0\n",
       "4       25000.0                   5"
      ]
     },
     "execution_count": 123,
     "metadata": {},
     "output_type": "execute_result"
    }
   ],
   "source": [
    "#Impute by median (0) because just 111 missing:\n",
    "data['Existing_EMI'].fillna(0, inplace=True)\n",
    "data['Existing_EMI'] = data['Existing_EMI'].apply(lambda x: 0 if pd.isnull(x) else x)\n",
    "labels = [0,1,2,3,4,5,6,7,8,9,10]\n",
    "bins = [-1,1,3500,7000,10000,17000,31000,53000,85000,100000,147500,5454367]\n",
    "data['Existing_EMI_BINNED'] = pd.cut(data['Existing_EMI'], bins=bins, labels=labels) \n",
    "data[['Existing_EMI','Existing_EMI_BINNED']].head(5)   "
   ]
  },
  {
   "cell_type": "code",
   "execution_count": 124,
   "metadata": {},
   "outputs": [
    {
     "data": {
      "text/html": [
       "<div>\n",
       "<style scoped>\n",
       "    .dataframe tbody tr th:only-of-type {\n",
       "        vertical-align: middle;\n",
       "    }\n",
       "\n",
       "    .dataframe tbody tr th {\n",
       "        vertical-align: top;\n",
       "    }\n",
       "\n",
       "    .dataframe thead th {\n",
       "        text-align: right;\n",
       "    }\n",
       "</style>\n",
       "<table border=\"1\" class=\"dataframe\">\n",
       "  <thead>\n",
       "    <tr style=\"text-align: right;\">\n",
       "      <th></th>\n",
       "      <th>Total</th>\n",
       "      <th>Percent</th>\n",
       "    </tr>\n",
       "  </thead>\n",
       "  <tbody>\n",
       "    <tr>\n",
       "      <th>0</th>\n",
       "      <td>70686</td>\n",
       "      <td>66.82</td>\n",
       "    </tr>\n",
       "    <tr>\n",
       "      <th>2</th>\n",
       "      <td>10368</td>\n",
       "      <td>9.80</td>\n",
       "    </tr>\n",
       "    <tr>\n",
       "      <th>1</th>\n",
       "      <td>8974</td>\n",
       "      <td>8.48</td>\n",
       "    </tr>\n",
       "    <tr>\n",
       "      <th>3</th>\n",
       "      <td>5600</td>\n",
       "      <td>5.29</td>\n",
       "    </tr>\n",
       "    <tr>\n",
       "      <th>4</th>\n",
       "      <td>4610</td>\n",
       "      <td>4.36</td>\n",
       "    </tr>\n",
       "    <tr>\n",
       "      <th>5</th>\n",
       "      <td>3497</td>\n",
       "      <td>3.31</td>\n",
       "    </tr>\n",
       "    <tr>\n",
       "      <th>6</th>\n",
       "      <td>1524</td>\n",
       "      <td>1.44</td>\n",
       "    </tr>\n",
       "    <tr>\n",
       "      <th>7</th>\n",
       "      <td>369</td>\n",
       "      <td>0.35</td>\n",
       "    </tr>\n",
       "    <tr>\n",
       "      <th>10</th>\n",
       "      <td>58</td>\n",
       "      <td>0.05</td>\n",
       "    </tr>\n",
       "    <tr>\n",
       "      <th>8</th>\n",
       "      <td>55</td>\n",
       "      <td>0.05</td>\n",
       "    </tr>\n",
       "    <tr>\n",
       "      <th>9</th>\n",
       "      <td>42</td>\n",
       "      <td>0.04</td>\n",
       "    </tr>\n",
       "  </tbody>\n",
       "</table>\n",
       "</div>"
      ],
      "text/plain": [
       "    Total  Percent\n",
       "0   70686    66.82\n",
       "2   10368     9.80\n",
       "1    8974     8.48\n",
       "3    5600     5.29\n",
       "4    4610     4.36\n",
       "5    3497     3.31\n",
       "6    1524     1.44\n",
       "7     369     0.35\n",
       "10     58     0.05\n",
       "8      55     0.05\n",
       "9      42     0.04"
      ]
     },
     "execution_count": 124,
     "metadata": {},
     "output_type": "execute_result"
    }
   ],
   "source": [
    "percent_value_counts(data, 'Existing_EMI_BINNED') "
   ]
  },
  {
   "cell_type": "code",
   "execution_count": 125,
   "metadata": {},
   "outputs": [],
   "source": [
    "data.drop('Existing_EMI',axis=1,inplace=True)"
   ]
  },
  {
   "cell_type": "code",
   "execution_count": 126,
   "metadata": {},
   "outputs": [
    {
     "name": "stderr",
     "output_type": "stream",
     "text": [
      "C:\\Users\\ac36345\\AppData\\Local\\Continuum\\anaconda3\\lib\\site-packages\\statsmodels\\nonparametric\\kde.py:448: RuntimeWarning: invalid value encountered in greater\n",
      "  X = X[np.logical_and(X > clip[0], X < clip[1])] # won't work for two columns.\n",
      "C:\\Users\\ac36345\\AppData\\Local\\Continuum\\anaconda3\\lib\\site-packages\\statsmodels\\nonparametric\\kde.py:448: RuntimeWarning: invalid value encountered in less\n",
      "  X = X[np.logical_and(X > clip[0], X < clip[1])] # won't work for two columns.\n"
     ]
    },
    {
     "data": {
      "text/plain": [
       "Text(0.5, 0, 'EMI_Loan_Submitted')"
      ]
     },
     "execution_count": 126,
     "metadata": {},
     "output_type": "execute_result"
    },
    {
     "data": {
      "image/png": "[encoded data removed]",
      "text/plain": [
       "<Figure size 1080x576 with 1 Axes>"
      ]
     },
     "metadata": {
      "needs_background": "light"
     },
     "output_type": "display_data"
    }
   ],
   "source": [
    "#EMI_Loan_Submitted\n",
    "fig = plt.figure(figsize=(15,8),)\n",
    "ax=sns.kdeplot(train.loc[(train['Disbursed'] == 0),'EMI_Loan_Submitted'] , color='gray',shade=True,label='not disbursed')\n",
    "ax=sns.kdeplot(train.loc[(train['Disbursed'] == 1),'EMI_Loan_Submitted'] , color='g',shade=True, label='disbursed')\n",
    "plt.title('EMI_Loan_Submitted Disbursed vs Non Disbursed', fontsize = 25)\n",
    "plt.ylabel(\"Frequency of Disbursed\", fontsize = 15)\n",
    "plt.xlabel(\"EMI_Loan_Submitted\", fontsize = 15)"
   ]
  },
  {
   "cell_type": "code",
   "execution_count": 127,
   "metadata": {},
   "outputs": [
    {
     "data": {
      "text/plain": [
       "Text(0.5, 0, 'Existing_EMI')"
      ]
     },
     "execution_count": 127,
     "metadata": {},
     "output_type": "execute_result"
    },
    {
     "data": {
      "image/png": "[encoded data removed]",
      "text/plain": [
       "<Figure size 576x576 with 1 Axes>"
      ]
     },
     "metadata": {
      "needs_background": "light"
     },
     "output_type": "display_data"
    }
   ],
   "source": [
    "#Existing_EMI\n",
    "fig = plt.figure(figsize=(8,8),)\n",
    "ax=sns.kdeplot(train.loc[(train['Disbursed'] == 0),'Existing_EMI'] , color='gray',shade=True,label='not disbursed')\n",
    "ax=sns.kdeplot(train.loc[(train['Disbursed'] == 1),'Existing_EMI'] , color='g',shade=True, label='disbursed')\n",
    "plt.title('Existing_EMI Disbursed vs Non Disbursed', fontsize = 25)\n",
    "plt.ylabel(\"Frequency of Disbursed\", fontsize = 15)\n",
    "plt.xlabel(\"Existing_EMI\", fontsize = 15)"
   ]
  },
  {
   "cell_type": "code",
   "execution_count": 128,
   "metadata": {},
   "outputs": [
    {
     "data": {
      "text/plain": [
       "Text(0.5, 0, 'Interest rate')"
      ]
     },
     "execution_count": 128,
     "metadata": {},
     "output_type": "execute_result"
    },
    {
     "data": {
      "image/png": "[encoded data removed]",
      "text/plain": [
       "<Figure size 1080x576 with 1 Axes>"
      ]
     },
     "metadata": {
      "needs_background": "light"
     },
     "output_type": "display_data"
    }
   ],
   "source": [
    "#Interest rate\n",
    "fig = plt.figure(figsize=(15,8),)\n",
    "ax=sns.kdeplot(train.loc[(train['Disbursed'] == 0),'Interest_Rate'] , color='gray',shade=True,label='not disbursed')\n",
    "ax=sns.kdeplot(train.loc[(train['Disbursed'] == 1),'Interest_Rate'] , color='g',shade=True, label='disbursed')\n",
    "plt.title('Interest rate Disbursed vs Non Disbursed', fontsize = 25)\n",
    "plt.ylabel(\"Frequency of Disbursed\", fontsize = 15)\n",
    "plt.xlabel(\"Interest rate\", fontsize = 15)"
   ]
  },
  {
   "cell_type": "code",
   "execution_count": 129,
   "metadata": {},
   "outputs": [
    {
     "data": {
      "text/html": [
       "<div>\n",
       "<style scoped>\n",
       "    .dataframe tbody tr th:only-of-type {\n",
       "        vertical-align: middle;\n",
       "    }\n",
       "\n",
       "    .dataframe tbody tr th {\n",
       "        vertical-align: top;\n",
       "    }\n",
       "\n",
       "    .dataframe thead th {\n",
       "        text-align: right;\n",
       "    }\n",
       "</style>\n",
       "<table border=\"1\" class=\"dataframe\">\n",
       "  <thead>\n",
       "    <tr style=\"text-align: right;\">\n",
       "      <th></th>\n",
       "      <th>Interest_Rate</th>\n",
       "      <th>Interest_Rate_BINNED</th>\n",
       "    </tr>\n",
       "  </thead>\n",
       "  <tbody>\n",
       "    <tr>\n",
       "      <th>0</th>\n",
       "      <td>0.00</td>\n",
       "      <td>0</td>\n",
       "    </tr>\n",
       "    <tr>\n",
       "      <th>1</th>\n",
       "      <td>13.25</td>\n",
       "      <td>3</td>\n",
       "    </tr>\n",
       "    <tr>\n",
       "      <th>2</th>\n",
       "      <td>0.00</td>\n",
       "      <td>0</td>\n",
       "    </tr>\n",
       "    <tr>\n",
       "      <th>3</th>\n",
       "      <td>0.00</td>\n",
       "      <td>0</td>\n",
       "    </tr>\n",
       "    <tr>\n",
       "      <th>4</th>\n",
       "      <td>0.00</td>\n",
       "      <td>0</td>\n",
       "    </tr>\n",
       "  </tbody>\n",
       "</table>\n",
       "</div>"
      ],
      "text/plain": [
       "   Interest_Rate Interest_Rate_BINNED\n",
       "0           0.00                    0\n",
       "1          13.25                    3\n",
       "2           0.00                    0\n",
       "3           0.00                    0\n",
       "4           0.00                    0"
      ]
     },
     "execution_count": 129,
     "metadata": {},
     "output_type": "execute_result"
    }
   ],
   "source": [
    "data['Interest_Rate'].fillna(0, inplace=True)\n",
    "data['Interest_Rate'] = data['Interest_Rate'].apply(lambda x: 0 if pd.isnull(x) else x)\n",
    "labels = [0,1,2,3,4,5,6,7,8,9,10,11,12,13]\n",
    "bins = [-1,1,10,12.5,16,17.5,19,21,23,25,28,30,32,34,38]\n",
    "data['Interest_Rate_BINNED'] = pd.cut(data['Interest_Rate'], bins=bins, labels=labels) \n",
    "data[['Interest_Rate','Interest_Rate_BINNED']].head(5)   \n"
   ]
  },
  {
   "cell_type": "code",
   "execution_count": 130,
   "metadata": {},
   "outputs": [],
   "source": [
    "data.drop('Interest_Rate',axis=1,inplace=True)"
   ]
  },
  {
   "cell_type": "code",
   "execution_count": 131,
   "metadata": {},
   "outputs": [],
   "source": [
    "#Lead Creation Date\n",
    "#Drop this variable because doesn't appear to affect much intuitively\n",
    "data.drop('Lead_Creation_Date',axis=1,inplace=True)"
   ]
  },
  {
   "cell_type": "code",
   "execution_count": 132,
   "metadata": {},
   "outputs": [
    {
     "data": {
      "text/plain": [
       "count    1.057310e+05\n",
       "mean     2.298196e+05\n",
       "std      3.518965e+05\n",
       "min      0.000000e+00\n",
       "25%      0.000000e+00\n",
       "50%      1.000000e+05\n",
       "75%      3.000000e+05\n",
       "max      1.500000e+07\n",
       "Name: Loan_Amount_Applied, dtype: float64"
      ]
     },
     "execution_count": 132,
     "metadata": {},
     "output_type": "execute_result"
    }
   ],
   "source": [
    "data['Loan_Amount_Applied'].describe()"
   ]
  },
  {
   "cell_type": "code",
   "execution_count": 133,
   "metadata": {},
   "outputs": [
    {
     "data": {
      "text/plain": [
       "100000.0"
      ]
     },
     "execution_count": 133,
     "metadata": {},
     "output_type": "execute_result"
    }
   ],
   "source": [
    "data['Loan_Amount_Applied'].median()"
   ]
  },
  {
   "cell_type": "code",
   "execution_count": 134,
   "metadata": {},
   "outputs": [
    {
     "data": {
      "text/html": [
       "<div>\n",
       "<style scoped>\n",
       "    .dataframe tbody tr th:only-of-type {\n",
       "        vertical-align: middle;\n",
       "    }\n",
       "\n",
       "    .dataframe tbody tr th {\n",
       "        vertical-align: top;\n",
       "    }\n",
       "\n",
       "    .dataframe thead th {\n",
       "        text-align: right;\n",
       "    }\n",
       "</style>\n",
       "<table border=\"1\" class=\"dataframe\">\n",
       "  <thead>\n",
       "    <tr style=\"text-align: right;\">\n",
       "      <th></th>\n",
       "      <th>Total</th>\n",
       "      <th>Percent</th>\n",
       "    </tr>\n",
       "  </thead>\n",
       "  <tbody>\n",
       "    <tr>\n",
       "      <th>0.0</th>\n",
       "      <td>67002</td>\n",
       "      <td>98.44</td>\n",
       "    </tr>\n",
       "    <tr>\n",
       "      <th>1.0</th>\n",
       "      <td>1063</td>\n",
       "      <td>1.56</td>\n",
       "    </tr>\n",
       "    <tr>\n",
       "      <th>NaN</th>\n",
       "      <td>1</td>\n",
       "      <td>0.00</td>\n",
       "    </tr>\n",
       "  </tbody>\n",
       "</table>\n",
       "</div>"
      ],
      "text/plain": [
       "     Total  Percent\n",
       "0.0  67002    98.44\n",
       "1.0   1063     1.56\n",
       "NaN      1     0.00"
      ]
     },
     "execution_count": 134,
     "metadata": {},
     "output_type": "execute_result"
    }
   ],
   "source": [
    "#how to check data is imbalanced of not: its an imbalanced dataset\n",
    "percent_value_counts(train, 'Disbursed')"
   ]
  },
  {
   "cell_type": "code",
   "execution_count": 135,
   "metadata": {},
   "outputs": [],
   "source": [
    "#percent_value_counts(train, 'Loan_Amount_Applied')\n",
    "#90% of the data has value less than equal 400000."
   ]
  },
  {
   "cell_type": "code",
   "execution_count": 136,
   "metadata": {},
   "outputs": [
    {
     "data": {
      "text/plain": [
       "Text(0.5, 0, 'Loan_Amount_Applied')"
      ]
     },
     "execution_count": 136,
     "metadata": {},
     "output_type": "execute_result"
    },
    {
     "data": {
      "image/png": "[encoded data removed]",
      "text/plain": [
       "<Figure size 1080x576 with 1 Axes>"
      ]
     },
     "metadata": {
      "needs_background": "light"
     },
     "output_type": "display_data"
    }
   ],
   "source": [
    "fig = plt.figure(figsize=(15,8),)\n",
    "ax=sns.kdeplot(train.loc[(train['Disbursed'] == 0),'Loan_Amount_Applied'] , color='gray',shade=True,label='not disbursed')\n",
    "ax=sns.kdeplot(train.loc[(train['Disbursed'] == 1),'Loan_Amount_Applied'] , color='g',shade=True, label='disbursed')\n",
    "plt.title('Loan_Amount_Applied Disbursed vs Non Disbursed', fontsize = 25)\n",
    "plt.ylabel(\"Frequency of Disbursed\", fontsize = 15)\n",
    "plt.xlabel(\"Loan_Amount_Applied\", fontsize = 15)"
   ]
  },
  {
   "cell_type": "code",
   "execution_count": 137,
   "metadata": {},
   "outputs": [
    {
     "data": {
      "text/plain": [
       "True"
      ]
     },
     "execution_count": 137,
     "metadata": {},
     "output_type": "execute_result"
    }
   ],
   "source": [
    "data['Loan_Amount_Applied'].isnull().any()"
   ]
  },
  {
   "cell_type": "code",
   "execution_count": 138,
   "metadata": {},
   "outputs": [
    {
     "data": {
      "text/plain": [
       "True"
      ]
     },
     "execution_count": 138,
     "metadata": {},
     "output_type": "execute_result"
    }
   ],
   "source": [
    "data['Loan_Tenure_Applied'].isnull().any()"
   ]
  },
  {
   "cell_type": "code",
   "execution_count": 139,
   "metadata": {},
   "outputs": [],
   "source": [
    "#Loan Amount and Tenure Applied\n",
    "#Impute with median because only 111 missing:\n",
    "data['Loan_Amount_Applied'].fillna(data['Loan_Amount_Applied'].median(),inplace=True)\n",
    "data['Loan_Tenure_Applied'].fillna(data['Loan_Tenure_Applied'].median(),inplace=True)"
   ]
  },
  {
   "cell_type": "code",
   "execution_count": 140,
   "metadata": {},
   "outputs": [],
   "source": [
    "#Loan amount and Tenure selected :: isnull treatment after fillna replace."
   ]
  },
  {
   "cell_type": "code",
   "execution_count": 141,
   "metadata": {},
   "outputs": [],
   "source": [
    "#High proportion missing so create a new var whether present or not\n",
    "#data['Loan_Amount_Submitted_Missing'] = data['Loan_Amount_Submitted'].apply(lambda x: 1 if pd.isnull(x) else 0)\n",
    "#data['Loan_Tenure_Submitted_Missing'] = data['Loan_Tenure_Submitted'].apply(lambda x: 1 if pd.isnull(x) else 0)"
   ]
  },
  {
   "cell_type": "code",
   "execution_count": 142,
   "metadata": {},
   "outputs": [],
   "source": [
    "#Remove old vars\n",
    "#data.drop(['Loan_Amount_Submitted','Loan_Tenure_Submitted'],axis=1,inplace=True)"
   ]
  },
  {
   "cell_type": "code",
   "execution_count": 143,
   "metadata": {},
   "outputs": [
    {
     "data": {
      "text/html": [
       "<div>\n",
       "<style scoped>\n",
       "    .dataframe tbody tr th:only-of-type {\n",
       "        vertical-align: middle;\n",
       "    }\n",
       "\n",
       "    .dataframe tbody tr th {\n",
       "        vertical-align: top;\n",
       "    }\n",
       "\n",
       "    .dataframe thead th {\n",
       "        text-align: right;\n",
       "    }\n",
       "</style>\n",
       "<table border=\"1\" class=\"dataframe\">\n",
       "  <thead>\n",
       "    <tr style=\"text-align: right;\">\n",
       "      <th></th>\n",
       "      <th>Total</th>\n",
       "      <th>Percent</th>\n",
       "    </tr>\n",
       "  </thead>\n",
       "  <tbody>\n",
       "    <tr>\n",
       "      <th>0.0</th>\n",
       "      <td>65958</td>\n",
       "      <td>96.9</td>\n",
       "    </tr>\n",
       "    <tr>\n",
       "      <th>1.0</th>\n",
       "      <td>2107</td>\n",
       "      <td>3.1</td>\n",
       "    </tr>\n",
       "    <tr>\n",
       "      <th>NaN</th>\n",
       "      <td>1</td>\n",
       "      <td>0.0</td>\n",
       "    </tr>\n",
       "  </tbody>\n",
       "</table>\n",
       "</div>"
      ],
      "text/plain": [
       "     Total  Percent\n",
       "0.0  65958     96.9\n",
       "1.0   2107      3.1\n",
       "NaN      1      0.0"
      ]
     },
     "execution_count": 143,
     "metadata": {},
     "output_type": "execute_result"
    }
   ],
   "source": [
    "#LoggedIn\n",
    "percent_value_counts(train, 'LoggedIn')"
   ]
  },
  {
   "cell_type": "code",
   "execution_count": 144,
   "metadata": {},
   "outputs": [
    {
     "data": {
      "text/plain": [
       "Text(0.5, 0, 'LoggedIn')"
      ]
     },
     "execution_count": 144,
     "metadata": {},
     "output_type": "execute_result"
    },
    {
     "data": {
      "image/png": "[encoded data removed]",
      "text/plain": [
       "<Figure size 1080x576 with 1 Axes>"
      ]
     },
     "metadata": {
      "needs_background": "light"
     },
     "output_type": "display_data"
    }
   ],
   "source": [
    "fig = plt.figure(figsize=(15,8),)\n",
    "ax=sns.kdeplot(train.loc[(train['Disbursed'] == 0),'LoggedIn'] , color='b',shade=True,label='not disbursed')\n",
    "ax=sns.kdeplot(train.loc[(train['Disbursed'] == 1),'LoggedIn'] , color='g',shade=True, label='disbursed')\n",
    "plt.title('LoggedIn Disbursed vs Non Disbursed', fontsize = 25)\n",
    "plt.ylabel(\"Frequency of Disbursed\", fontsize = 15)\n",
    "plt.xlabel(\"LoggedIn\", fontsize = 15)"
   ]
  },
  {
   "cell_type": "code",
   "execution_count": 145,
   "metadata": {},
   "outputs": [
    {
     "data": {
      "text/html": [
       "<div>\n",
       "<style scoped>\n",
       "    .dataframe tbody tr th:only-of-type {\n",
       "        vertical-align: middle;\n",
       "    }\n",
       "\n",
       "    .dataframe tbody tr th {\n",
       "        vertical-align: top;\n",
       "    }\n",
       "\n",
       "    .dataframe thead th {\n",
       "        text-align: right;\n",
       "    }\n",
       "</style>\n",
       "<table border=\"1\" class=\"dataframe\">\n",
       "  <thead>\n",
       "    <tr style=\"text-align: right;\">\n",
       "      <th></th>\n",
       "      <th>Total</th>\n",
       "      <th>Percent</th>\n",
       "    </tr>\n",
       "  </thead>\n",
       "  <tbody>\n",
       "    <tr>\n",
       "      <th>0.0</th>\n",
       "      <td>103676</td>\n",
       "      <td>98.01</td>\n",
       "    </tr>\n",
       "    <tr>\n",
       "      <th>1.0</th>\n",
       "      <td>2107</td>\n",
       "      <td>1.99</td>\n",
       "    </tr>\n",
       "  </tbody>\n",
       "</table>\n",
       "</div>"
      ],
      "text/plain": [
       "      Total  Percent\n",
       "0.0  103676    98.01\n",
       "1.0    2107     1.99"
      ]
     },
     "execution_count": 145,
     "metadata": {},
     "output_type": "execute_result"
    }
   ],
   "source": [
    "#data['LoggedIn']\n",
    "data['LoggedIn'].fillna(0,inplace=True)\n",
    "percent_value_counts(data,'LoggedIn')"
   ]
  },
  {
   "cell_type": "code",
   "execution_count": 146,
   "metadata": {},
   "outputs": [],
   "source": [
    "#Remove logged-in ***not removing *****\n",
    "#data.drop('LoggedIn',axis=1,inplace=True)"
   ]
  },
  {
   "cell_type": "code",
   "execution_count": 147,
   "metadata": {},
   "outputs": [],
   "source": [
    "#Salary_Account\n",
    "#percent_value_counts(train, 'Salary_Account')"
   ]
  },
  {
   "cell_type": "code",
   "execution_count": 148,
   "metadata": {},
   "outputs": [
    {
     "data": {
      "text/html": [
       "<div>\n",
       "<style scoped>\n",
       "    .dataframe tbody tr th:only-of-type {\n",
       "        vertical-align: middle;\n",
       "    }\n",
       "\n",
       "    .dataframe tbody tr th {\n",
       "        vertical-align: top;\n",
       "    }\n",
       "\n",
       "    .dataframe thead th {\n",
       "        text-align: right;\n",
       "    }\n",
       "</style>\n",
       "<table border=\"1\" class=\"dataframe\">\n",
       "  <thead>\n",
       "    <tr style=\"text-align: right;\">\n",
       "      <th></th>\n",
       "      <th>Total</th>\n",
       "      <th>Percent</th>\n",
       "    </tr>\n",
       "  </thead>\n",
       "  <tbody>\n",
       "    <tr>\n",
       "      <th>HDFC Bank</th>\n",
       "      <td>318</td>\n",
       "      <td>30.40</td>\n",
       "    </tr>\n",
       "    <tr>\n",
       "      <th>ICICI Bank</th>\n",
       "      <td>254</td>\n",
       "      <td>24.28</td>\n",
       "    </tr>\n",
       "    <tr>\n",
       "      <th>Axis Bank</th>\n",
       "      <td>123</td>\n",
       "      <td>11.76</td>\n",
       "    </tr>\n",
       "    <tr>\n",
       "      <th>State Bank of India</th>\n",
       "      <td>91</td>\n",
       "      <td>8.70</td>\n",
       "    </tr>\n",
       "    <tr>\n",
       "      <th>Citibank</th>\n",
       "      <td>58</td>\n",
       "      <td>5.54</td>\n",
       "    </tr>\n",
       "    <tr>\n",
       "      <th>Kotak Bank</th>\n",
       "      <td>33</td>\n",
       "      <td>3.15</td>\n",
       "    </tr>\n",
       "    <tr>\n",
       "      <th>Standard Chartered Bank</th>\n",
       "      <td>23</td>\n",
       "      <td>2.20</td>\n",
       "    </tr>\n",
       "    <tr>\n",
       "      <th>IDBI Bank</th>\n",
       "      <td>14</td>\n",
       "      <td>1.34</td>\n",
       "    </tr>\n",
       "    <tr>\n",
       "      <th>Punjab National Bank</th>\n",
       "      <td>14</td>\n",
       "      <td>1.34</td>\n",
       "    </tr>\n",
       "    <tr>\n",
       "      <th>Indian Bank</th>\n",
       "      <td>10</td>\n",
       "      <td>0.96</td>\n",
       "    </tr>\n",
       "    <tr>\n",
       "      <th>Corporation bank</th>\n",
       "      <td>9</td>\n",
       "      <td>0.86</td>\n",
       "    </tr>\n",
       "    <tr>\n",
       "      <th>HSBC</th>\n",
       "      <td>8</td>\n",
       "      <td>0.76</td>\n",
       "    </tr>\n",
       "    <tr>\n",
       "      <th>Yes Bank</th>\n",
       "      <td>8</td>\n",
       "      <td>0.76</td>\n",
       "    </tr>\n",
       "    <tr>\n",
       "      <th>Canara Bank</th>\n",
       "      <td>7</td>\n",
       "      <td>0.67</td>\n",
       "    </tr>\n",
       "    <tr>\n",
       "      <th>Bank of Baroda</th>\n",
       "      <td>6</td>\n",
       "      <td>0.57</td>\n",
       "    </tr>\n",
       "    <tr>\n",
       "      <th>Oriental Bank of Commerce</th>\n",
       "      <td>6</td>\n",
       "      <td>0.57</td>\n",
       "    </tr>\n",
       "    <tr>\n",
       "      <th>Bank of India</th>\n",
       "      <td>5</td>\n",
       "      <td>0.48</td>\n",
       "    </tr>\n",
       "    <tr>\n",
       "      <th>ING Vysya</th>\n",
       "      <td>5</td>\n",
       "      <td>0.48</td>\n",
       "    </tr>\n",
       "    <tr>\n",
       "      <th>Central Bank of India</th>\n",
       "      <td>4</td>\n",
       "      <td>0.38</td>\n",
       "    </tr>\n",
       "    <tr>\n",
       "      <th>Indian Overseas Bank</th>\n",
       "      <td>4</td>\n",
       "      <td>0.38</td>\n",
       "    </tr>\n",
       "    <tr>\n",
       "      <th>Union Bank of India</th>\n",
       "      <td>4</td>\n",
       "      <td>0.38</td>\n",
       "    </tr>\n",
       "    <tr>\n",
       "      <th>State Bank of Patiala</th>\n",
       "      <td>4</td>\n",
       "      <td>0.38</td>\n",
       "    </tr>\n",
       "    <tr>\n",
       "      <th>State Bank of Hyderabad</th>\n",
       "      <td>4</td>\n",
       "      <td>0.38</td>\n",
       "    </tr>\n",
       "    <tr>\n",
       "      <th>Karnataka Bank</th>\n",
       "      <td>3</td>\n",
       "      <td>0.29</td>\n",
       "    </tr>\n",
       "    <tr>\n",
       "      <th>Bank of Maharasthra</th>\n",
       "      <td>3</td>\n",
       "      <td>0.29</td>\n",
       "    </tr>\n",
       "    <tr>\n",
       "      <th>Allahabad Bank</th>\n",
       "      <td>3</td>\n",
       "      <td>0.29</td>\n",
       "    </tr>\n",
       "    <tr>\n",
       "      <th>UCO Bank</th>\n",
       "      <td>3</td>\n",
       "      <td>0.29</td>\n",
       "    </tr>\n",
       "    <tr>\n",
       "      <th>Syndicate Bank</th>\n",
       "      <td>3</td>\n",
       "      <td>0.29</td>\n",
       "    </tr>\n",
       "    <tr>\n",
       "      <th>The Ratnakar Bank Ltd</th>\n",
       "      <td>3</td>\n",
       "      <td>0.29</td>\n",
       "    </tr>\n",
       "    <tr>\n",
       "      <th>Vijaya Bank</th>\n",
       "      <td>3</td>\n",
       "      <td>0.29</td>\n",
       "    </tr>\n",
       "    <tr>\n",
       "      <th>Andhra Bank</th>\n",
       "      <td>2</td>\n",
       "      <td>0.19</td>\n",
       "    </tr>\n",
       "    <tr>\n",
       "      <th>Saraswat Bank</th>\n",
       "      <td>2</td>\n",
       "      <td>0.19</td>\n",
       "    </tr>\n",
       "    <tr>\n",
       "      <th>Deutsche Bank</th>\n",
       "      <td>2</td>\n",
       "      <td>0.19</td>\n",
       "    </tr>\n",
       "    <tr>\n",
       "      <th>United Bank of India</th>\n",
       "      <td>2</td>\n",
       "      <td>0.19</td>\n",
       "    </tr>\n",
       "    <tr>\n",
       "      <th>Catholic Syrian Bank</th>\n",
       "      <td>1</td>\n",
       "      <td>0.10</td>\n",
       "    </tr>\n",
       "    <tr>\n",
       "      <th>State Bank of Mysore</th>\n",
       "      <td>1</td>\n",
       "      <td>0.10</td>\n",
       "    </tr>\n",
       "    <tr>\n",
       "      <th>Karur Vysya Bank</th>\n",
       "      <td>1</td>\n",
       "      <td>0.10</td>\n",
       "    </tr>\n",
       "    <tr>\n",
       "      <th>Abhyuday Co-op Bank Ltd</th>\n",
       "      <td>1</td>\n",
       "      <td>0.10</td>\n",
       "    </tr>\n",
       "    <tr>\n",
       "      <th>Lakshmi Vilas bank</th>\n",
       "      <td>1</td>\n",
       "      <td>0.10</td>\n",
       "    </tr>\n",
       "  </tbody>\n",
       "</table>\n",
       "</div>"
      ],
      "text/plain": [
       "                           Total  Percent\n",
       "HDFC Bank                    318    30.40\n",
       "ICICI Bank                   254    24.28\n",
       "Axis Bank                    123    11.76\n",
       "State Bank of India           91     8.70\n",
       "Citibank                      58     5.54\n",
       "Kotak Bank                    33     3.15\n",
       "Standard Chartered Bank       23     2.20\n",
       "IDBI Bank                     14     1.34\n",
       "Punjab National Bank          14     1.34\n",
       "Indian Bank                   10     0.96\n",
       "Corporation bank               9     0.86\n",
       "HSBC                           8     0.76\n",
       "Yes Bank                       8     0.76\n",
       "Canara Bank                    7     0.67\n",
       "Bank of Baroda                 6     0.57\n",
       "Oriental Bank of Commerce      6     0.57\n",
       "Bank of India                  5     0.48\n",
       "ING Vysya                      5     0.48\n",
       "Central Bank of India          4     0.38\n",
       "Indian Overseas Bank           4     0.38\n",
       "Union Bank of India            4     0.38\n",
       "State Bank of Patiala          4     0.38\n",
       "State Bank of Hyderabad        4     0.38\n",
       "Karnataka Bank                 3     0.29\n",
       "Bank of Maharasthra            3     0.29\n",
       "Allahabad Bank                 3     0.29\n",
       "UCO Bank                       3     0.29\n",
       "Syndicate Bank                 3     0.29\n",
       "The Ratnakar Bank Ltd          3     0.29\n",
       "Vijaya Bank                    3     0.29\n",
       "Andhra Bank                    2     0.19\n",
       "Saraswat Bank                  2     0.19\n",
       "Deutsche Bank                  2     0.19\n",
       "United Bank of India           2     0.19\n",
       "Catholic Syrian Bank           1     0.10\n",
       "State Bank of Mysore           1     0.10\n",
       "Karur Vysya Bank               1     0.10\n",
       "Abhyuday Co-op Bank Ltd        1     0.10\n",
       "Lakshmi Vilas bank             1     0.10"
      ]
     },
     "execution_count": 148,
     "metadata": {},
     "output_type": "execute_result"
    }
   ],
   "source": [
    "#lets check for which bank there is more disbursed loan(% loan disbursed rate)\n",
    "#train[train['Disbursed'] == 1]['Salary_Account'].value_counts().sort_values()\n",
    "train['salary_account_for_dis'] = train[train['Disbursed'] == 1]['Salary_Account']\n",
    "train_new1 = train[train['salary_account_for_dis'].isnull()== False]\n",
    "train.drop('salary_account_for_dis',axis=1,inplace=True)\n",
    "percent_value_counts(train_new1, 'salary_account_for_dis')\n",
    "\n",
    "#HDFC Bank ICICI Bank Axis Bank State Bank of India Citibank Kotak Bank Standard Chartered Bank IDBI Bank Punjab National Bank"
   ]
  },
  {
   "cell_type": "code",
   "execution_count": 149,
   "metadata": {},
   "outputs": [
    {
     "data": {
      "text/html": [
       "<div>\n",
       "<style scoped>\n",
       "    .dataframe tbody tr th:only-of-type {\n",
       "        vertical-align: middle;\n",
       "    }\n",
       "\n",
       "    .dataframe tbody tr th {\n",
       "        vertical-align: top;\n",
       "    }\n",
       "\n",
       "    .dataframe thead th {\n",
       "        text-align: right;\n",
       "    }\n",
       "</style>\n",
       "<table border=\"1\" class=\"dataframe\">\n",
       "  <thead>\n",
       "    <tr style=\"text-align: right;\">\n",
       "      <th></th>\n",
       "      <th>Total</th>\n",
       "      <th>Percent</th>\n",
       "    </tr>\n",
       "  </thead>\n",
       "  <tbody>\n",
       "    <tr>\n",
       "      <th>HDFC Bank</th>\n",
       "      <td>13636</td>\n",
       "      <td>23.19</td>\n",
       "    </tr>\n",
       "    <tr>\n",
       "      <th>ICICI Bank</th>\n",
       "      <td>10535</td>\n",
       "      <td>17.92</td>\n",
       "    </tr>\n",
       "    <tr>\n",
       "      <th>State Bank of India</th>\n",
       "      <td>9609</td>\n",
       "      <td>16.34</td>\n",
       "    </tr>\n",
       "    <tr>\n",
       "      <th>Axis Bank</th>\n",
       "      <td>6788</td>\n",
       "      <td>11.55</td>\n",
       "    </tr>\n",
       "    <tr>\n",
       "      <th>Citibank</th>\n",
       "      <td>1803</td>\n",
       "      <td>3.07</td>\n",
       "    </tr>\n",
       "    <tr>\n",
       "      <th>Kotak Bank</th>\n",
       "      <td>1583</td>\n",
       "      <td>2.69</td>\n",
       "    </tr>\n",
       "    <tr>\n",
       "      <th>IDBI Bank</th>\n",
       "      <td>1248</td>\n",
       "      <td>2.12</td>\n",
       "    </tr>\n",
       "    <tr>\n",
       "      <th>Punjab National Bank</th>\n",
       "      <td>978</td>\n",
       "      <td>1.66</td>\n",
       "    </tr>\n",
       "    <tr>\n",
       "      <th>Bank of India</th>\n",
       "      <td>911</td>\n",
       "      <td>1.55</td>\n",
       "    </tr>\n",
       "    <tr>\n",
       "      <th>Bank of Baroda</th>\n",
       "      <td>892</td>\n",
       "      <td>1.52</td>\n",
       "    </tr>\n",
       "    <tr>\n",
       "      <th>Canara Bank</th>\n",
       "      <td>768</td>\n",
       "      <td>1.31</td>\n",
       "    </tr>\n",
       "    <tr>\n",
       "      <th>Standard Chartered Bank</th>\n",
       "      <td>765</td>\n",
       "      <td>1.30</td>\n",
       "    </tr>\n",
       "    <tr>\n",
       "      <th>Union Bank of India</th>\n",
       "      <td>746</td>\n",
       "      <td>1.27</td>\n",
       "    </tr>\n",
       "    <tr>\n",
       "      <th>Yes Bank</th>\n",
       "      <td>585</td>\n",
       "      <td>1.00</td>\n",
       "    </tr>\n",
       "    <tr>\n",
       "      <th>ING Vysya</th>\n",
       "      <td>540</td>\n",
       "      <td>0.92</td>\n",
       "    </tr>\n",
       "    <tr>\n",
       "      <th>Corporation bank</th>\n",
       "      <td>536</td>\n",
       "      <td>0.91</td>\n",
       "    </tr>\n",
       "    <tr>\n",
       "      <th>State Bank of Hyderabad</th>\n",
       "      <td>465</td>\n",
       "      <td>0.79</td>\n",
       "    </tr>\n",
       "    <tr>\n",
       "      <th>Indian Overseas Bank</th>\n",
       "      <td>440</td>\n",
       "      <td>0.75</td>\n",
       "    </tr>\n",
       "    <tr>\n",
       "      <th>Indian Bank</th>\n",
       "      <td>438</td>\n",
       "      <td>0.75</td>\n",
       "    </tr>\n",
       "    <tr>\n",
       "      <th>Oriental Bank of Commerce</th>\n",
       "      <td>420</td>\n",
       "      <td>0.71</td>\n",
       "    </tr>\n",
       "    <tr>\n",
       "      <th>Andhra Bank</th>\n",
       "      <td>405</td>\n",
       "      <td>0.69</td>\n",
       "    </tr>\n",
       "    <tr>\n",
       "      <th>IndusInd Bank</th>\n",
       "      <td>402</td>\n",
       "      <td>0.68</td>\n",
       "    </tr>\n",
       "    <tr>\n",
       "      <th>Central Bank of India</th>\n",
       "      <td>342</td>\n",
       "      <td>0.58</td>\n",
       "    </tr>\n",
       "    <tr>\n",
       "      <th>Syndicate Bank</th>\n",
       "      <td>325</td>\n",
       "      <td>0.55</td>\n",
       "    </tr>\n",
       "    <tr>\n",
       "      <th>Bank of Maharasthra</th>\n",
       "      <td>317</td>\n",
       "      <td>0.54</td>\n",
       "    </tr>\n",
       "    <tr>\n",
       "      <th>State Bank of Bikaner &amp; Jaipur</th>\n",
       "      <td>277</td>\n",
       "      <td>0.47</td>\n",
       "    </tr>\n",
       "    <tr>\n",
       "      <th>HSBC</th>\n",
       "      <td>244</td>\n",
       "      <td>0.42</td>\n",
       "    </tr>\n",
       "    <tr>\n",
       "      <th>Karur Vysya Bank</th>\n",
       "      <td>243</td>\n",
       "      <td>0.41</td>\n",
       "    </tr>\n",
       "    <tr>\n",
       "      <th>State Bank of Mysore</th>\n",
       "      <td>206</td>\n",
       "      <td>0.35</td>\n",
       "    </tr>\n",
       "    <tr>\n",
       "      <th>Federal Bank</th>\n",
       "      <td>197</td>\n",
       "      <td>0.34</td>\n",
       "    </tr>\n",
       "    <tr>\n",
       "      <th>Allahabad Bank</th>\n",
       "      <td>197</td>\n",
       "      <td>0.34</td>\n",
       "    </tr>\n",
       "    <tr>\n",
       "      <th>UCO Bank</th>\n",
       "      <td>195</td>\n",
       "      <td>0.33</td>\n",
       "    </tr>\n",
       "    <tr>\n",
       "      <th>Vijaya Bank</th>\n",
       "      <td>191</td>\n",
       "      <td>0.32</td>\n",
       "    </tr>\n",
       "    <tr>\n",
       "      <th>State Bank of Travancore</th>\n",
       "      <td>174</td>\n",
       "      <td>0.30</td>\n",
       "    </tr>\n",
       "    <tr>\n",
       "      <th>Saraswat Bank</th>\n",
       "      <td>161</td>\n",
       "      <td>0.27</td>\n",
       "    </tr>\n",
       "    <tr>\n",
       "      <th>Karnataka Bank</th>\n",
       "      <td>156</td>\n",
       "      <td>0.27</td>\n",
       "    </tr>\n",
       "    <tr>\n",
       "      <th>Dena Bank</th>\n",
       "      <td>151</td>\n",
       "      <td>0.26</td>\n",
       "    </tr>\n",
       "    <tr>\n",
       "      <th>United Bank of India</th>\n",
       "      <td>143</td>\n",
       "      <td>0.24</td>\n",
       "    </tr>\n",
       "    <tr>\n",
       "      <th>State Bank of Patiala</th>\n",
       "      <td>137</td>\n",
       "      <td>0.23</td>\n",
       "    </tr>\n",
       "    <tr>\n",
       "      <th>South Indian Bank</th>\n",
       "      <td>131</td>\n",
       "      <td>0.22</td>\n",
       "    </tr>\n",
       "    <tr>\n",
       "      <th>Abhyuday Co-op Bank Ltd</th>\n",
       "      <td>97</td>\n",
       "      <td>0.16</td>\n",
       "    </tr>\n",
       "    <tr>\n",
       "      <th>Deutsche Bank</th>\n",
       "      <td>93</td>\n",
       "      <td>0.16</td>\n",
       "    </tr>\n",
       "    <tr>\n",
       "      <th>The Ratnakar Bank Ltd</th>\n",
       "      <td>63</td>\n",
       "      <td>0.11</td>\n",
       "    </tr>\n",
       "    <tr>\n",
       "      <th>Tamil Nadu Mercantile Bank</th>\n",
       "      <td>54</td>\n",
       "      <td>0.09</td>\n",
       "    </tr>\n",
       "    <tr>\n",
       "      <th>Punjab &amp; Sind bank</th>\n",
       "      <td>54</td>\n",
       "      <td>0.09</td>\n",
       "    </tr>\n",
       "    <tr>\n",
       "      <th>J&amp;K Bank</th>\n",
       "      <td>50</td>\n",
       "      <td>0.09</td>\n",
       "    </tr>\n",
       "    <tr>\n",
       "      <th>Lakshmi Vilas bank</th>\n",
       "      <td>38</td>\n",
       "      <td>0.06</td>\n",
       "    </tr>\n",
       "    <tr>\n",
       "      <th>Dhanalakshmi Bank Ltd</th>\n",
       "      <td>32</td>\n",
       "      <td>0.05</td>\n",
       "    </tr>\n",
       "    <tr>\n",
       "      <th>State Bank of Indore</th>\n",
       "      <td>17</td>\n",
       "      <td>0.03</td>\n",
       "    </tr>\n",
       "    <tr>\n",
       "      <th>Catholic Syrian Bank</th>\n",
       "      <td>7</td>\n",
       "      <td>0.01</td>\n",
       "    </tr>\n",
       "    <tr>\n",
       "      <th>Bank of Rajasthan</th>\n",
       "      <td>4</td>\n",
       "      <td>0.01</td>\n",
       "    </tr>\n",
       "    <tr>\n",
       "      <th>India Bulls</th>\n",
       "      <td>1</td>\n",
       "      <td>0.00</td>\n",
       "    </tr>\n",
       "  </tbody>\n",
       "</table>\n",
       "</div>"
      ],
      "text/plain": [
       "                                Total  Percent\n",
       "HDFC Bank                       13636    23.19\n",
       "ICICI Bank                      10535    17.92\n",
       "State Bank of India              9609    16.34\n",
       "Axis Bank                        6788    11.55\n",
       "Citibank                         1803     3.07\n",
       "Kotak Bank                       1583     2.69\n",
       "IDBI Bank                        1248     2.12\n",
       "Punjab National Bank              978     1.66\n",
       "Bank of India                     911     1.55\n",
       "Bank of Baroda                    892     1.52\n",
       "Canara Bank                       768     1.31\n",
       "Standard Chartered Bank           765     1.30\n",
       "Union Bank of India               746     1.27\n",
       "Yes Bank                          585     1.00\n",
       "ING Vysya                         540     0.92\n",
       "Corporation bank                  536     0.91\n",
       "State Bank of Hyderabad           465     0.79\n",
       "Indian Overseas Bank              440     0.75\n",
       "Indian Bank                       438     0.75\n",
       "Oriental Bank of Commerce         420     0.71\n",
       "Andhra Bank                       405     0.69\n",
       "IndusInd Bank                     402     0.68\n",
       "Central Bank of India             342     0.58\n",
       "Syndicate Bank                    325     0.55\n",
       "Bank of Maharasthra               317     0.54\n",
       "State Bank of Bikaner & Jaipur    277     0.47\n",
       "HSBC                              244     0.42\n",
       "Karur Vysya Bank                  243     0.41\n",
       "State Bank of Mysore              206     0.35\n",
       "Federal Bank                      197     0.34\n",
       "Allahabad Bank                    197     0.34\n",
       "UCO Bank                          195     0.33\n",
       "Vijaya Bank                       191     0.32\n",
       "State Bank of Travancore          174     0.30\n",
       "Saraswat Bank                     161     0.27\n",
       "Karnataka Bank                    156     0.27\n",
       "Dena Bank                         151     0.26\n",
       "United Bank of India              143     0.24\n",
       "State Bank of Patiala             137     0.23\n",
       "South Indian Bank                 131     0.22\n",
       "Abhyuday Co-op Bank Ltd            97     0.16\n",
       "Deutsche Bank                      93     0.16\n",
       "The Ratnakar Bank Ltd              63     0.11\n",
       "Tamil Nadu Mercantile Bank         54     0.09\n",
       "Punjab & Sind bank                 54     0.09\n",
       "J&K Bank                           50     0.09\n",
       "Lakshmi Vilas bank                 38     0.06\n",
       "Dhanalakshmi Bank Ltd              32     0.05\n",
       "State Bank of Indore               17     0.03\n",
       "Catholic Syrian Bank                7     0.01\n",
       "Bank of Rajasthan                   4     0.01\n",
       "India Bulls                         1     0.00"
      ]
     },
     "execution_count": 149,
     "metadata": {},
     "output_type": "execute_result"
    }
   ],
   "source": [
    "#lets check for which bank there is more disbursed loan(% loan disbursed rate)\n",
    "#train[train['Disbursed'] == 1]['Salary_Account'].value_counts().sort_values()\n",
    "train['salary_account_for_dis'] = train[train['Disbursed'] == 0]['Salary_Account']\n",
    "train_new1 = train[train['salary_account_for_dis'].isnull()== False]\n",
    "train.drop('salary_account_for_dis',axis=1,inplace=True)\n",
    "percent_value_counts(train_new1, 'salary_account_for_dis')"
   ]
  },
  {
   "cell_type": "markdown",
   "metadata": {},
   "source": [
    "Going to replace salary acccount values\n",
    "HDFC Bank : 0 ICICI Bank:1  Axis Bank:2 \n",
    "State Bank of India:3 Citibank:4\n",
    "Kotak Bank:5 Standard Chartered Bank:6\n",
    "IDBI Bank:7 Punjab National Bank:8\n",
    "for other banks:9"
   ]
  },
  {
   "cell_type": "code",
   "execution_count": 150,
   "metadata": {},
   "outputs": [],
   "source": [
    "di = {'HDFC Bank' :0,'ICICI Bank':1,'Axis Bank':2, \n",
    "'State Bank of India':3,'Citibank':4,'Kotak Bank':5,'Standard Chartered Bank':6,\n",
    "'IDBI Bank':7,'Punjab National Bank':8}\n",
    "#for other bank replace it with 9\n",
    "data.replace({'Salary_Account': di},inplace=True)\n",
    "data['Salary_Account'] = data['Salary_Account'].apply(lambda x : x if x in range(0,9) else 9)"
   ]
  },
  {
   "cell_type": "code",
   "execution_count": 151,
   "metadata": {},
   "outputs": [],
   "source": [
    "#Remove salary account\n",
    "#Salary account has mnay banks which have to be manually grouped\n",
    "#data.drop('Salary_Account',axis=1,inplace=True)\n",
    "#Processing_Fee"
   ]
  },
  {
   "cell_type": "code",
   "execution_count": 152,
   "metadata": {},
   "outputs": [],
   "source": [
    "#percent_value_counts(train, 'Processing_Fee')"
   ]
  },
  {
   "cell_type": "code",
   "execution_count": 153,
   "metadata": {},
   "outputs": [
    {
     "data": {
      "text/plain": [
       "Text(0.5, 0, 'Processing_Fee')"
      ]
     },
     "execution_count": 153,
     "metadata": {},
     "output_type": "execute_result"
    },
    {
     "data": {
      "image/png": "[encoded data removed]",
      "text/plain": [
       "<Figure size 1080x576 with 1 Axes>"
      ]
     },
     "metadata": {
      "needs_background": "light"
     },
     "output_type": "display_data"
    }
   ],
   "source": [
    "fig = plt.figure(figsize=(15,8),)\n",
    "ax=sns.kdeplot(train.loc[(train['Disbursed'] == 0),'Processing_Fee'] , color='gray',shade=True,label='not disbursed')\n",
    "ax=sns.kdeplot(train.loc[(train['Disbursed'] == 1),'Processing_Fee'] , color='g',shade=True, label='disbursed')\n",
    "plt.title('Processing_Fee Disbursed vs Non Disbursed', fontsize = 25)\n",
    "plt.ylabel(\"Frequency of Disbursed\", fontsize = 15)\n",
    "plt.xlabel(\"Processing_Fee\", fontsize = 15)"
   ]
  },
  {
   "cell_type": "code",
   "execution_count": 154,
   "metadata": {},
   "outputs": [],
   "source": [
    "train['salary_account_for_dis'] = train[train['Disbursed'] == 0]['Processing_Fee']\n",
    "train_new1 = train[train['salary_account_for_dis'].isnull()== False]\n",
    "train.drop('salary_account_for_dis',axis=1,inplace=True)\n",
    "#percent_value_counts(train_new1, 'salary_account_for_dis')\n"
   ]
  },
  {
   "cell_type": "code",
   "execution_count": 155,
   "metadata": {},
   "outputs": [
    {
     "data": {
      "text/plain": [
       "count    33603.000000\n",
       "mean      5129.520906\n",
       "std       4736.287540\n",
       "min        200.000000\n",
       "25%       2000.000000\n",
       "50%       3900.000000\n",
       "75%       6250.000000\n",
       "max      50000.000000\n",
       "Name: Processing_Fee, dtype: float64"
      ]
     },
     "execution_count": 155,
     "metadata": {},
     "output_type": "execute_result"
    }
   ],
   "source": [
    "data['Processing_Fee'].describe()"
   ]
  },
  {
   "cell_type": "code",
   "execution_count": 156,
   "metadata": {},
   "outputs": [
    {
     "data": {
      "text/plain": [
       "True"
      ]
     },
     "execution_count": 156,
     "metadata": {},
     "output_type": "execute_result"
    }
   ],
   "source": [
    "# disbursed 1000,1500,1999,2000,3000,4000,4500,5000,6000,8000,10000,others\n",
    "data['Processing_Fee'].isnull().any()"
   ]
  },
  {
   "cell_type": "code",
   "execution_count": 157,
   "metadata": {},
   "outputs": [],
   "source": [
    "data['Processing_Fee'].fillna(data['Processing_Fee'].median(),inplace=True)"
   ]
  },
  {
   "cell_type": "code",
   "execution_count": 158,
   "metadata": {},
   "outputs": [
    {
     "data": {
      "text/plain": [
       "0    5\n",
       "1    5\n",
       "2    5\n",
       "3    5\n",
       "4    5\n",
       "Name: Processing_Fee_BINNED, dtype: category\n",
       "Categories (12, int64): [0 < 1 < 2 < 3 ... 8 < 9 < 10 < 11]"
      ]
     },
     "execution_count": 158,
     "metadata": {},
     "output_type": "execute_result"
    }
   ],
   "source": [
    "data['Processing_Fee']= data['Processing_Fee'].apply(lambda x: 0 if pd.isnull(x) else x)\n",
    "bins = [0,1000,1500,1999,2000,3000,4000,4500,5000,6000,8000,10000,50001]\n",
    "labels = [0,1,2,3,4,5,6,7,8,9,10,11]\n",
    "data['Processing_Fee_BINNED'] = pd.cut(data['Processing_Fee'], bins=bins, labels=labels) \n",
    "data.drop('Processing_Fee',axis=1,inplace=True)\n",
    "data['Processing_Fee_BINNED'].head(5)   "
   ]
  },
  {
   "cell_type": "code",
   "execution_count": 159,
   "metadata": {},
   "outputs": [
    {
     "data": {
      "text/html": [
       "<div>\n",
       "<style scoped>\n",
       "    .dataframe tbody tr th:only-of-type {\n",
       "        vertical-align: middle;\n",
       "    }\n",
       "\n",
       "    .dataframe tbody tr th {\n",
       "        vertical-align: top;\n",
       "    }\n",
       "\n",
       "    .dataframe thead th {\n",
       "        text-align: right;\n",
       "    }\n",
       "</style>\n",
       "<table border=\"1\" class=\"dataframe\">\n",
       "  <thead>\n",
       "    <tr style=\"text-align: right;\">\n",
       "      <th></th>\n",
       "      <th>Total</th>\n",
       "      <th>Percent</th>\n",
       "    </tr>\n",
       "  </thead>\n",
       "  <tbody>\n",
       "    <tr>\n",
       "      <th>S133</th>\n",
       "      <td>29399</td>\n",
       "      <td>43.88</td>\n",
       "    </tr>\n",
       "    <tr>\n",
       "      <th>S122</th>\n",
       "      <td>19248</td>\n",
       "      <td>28.73</td>\n",
       "    </tr>\n",
       "    <tr>\n",
       "      <th>S159</th>\n",
       "      <td>5556</td>\n",
       "      <td>8.29</td>\n",
       "    </tr>\n",
       "    <tr>\n",
       "      <th>S143</th>\n",
       "      <td>4240</td>\n",
       "      <td>6.33</td>\n",
       "    </tr>\n",
       "    <tr>\n",
       "      <th>S127</th>\n",
       "      <td>1917</td>\n",
       "      <td>2.86</td>\n",
       "    </tr>\n",
       "    <tr>\n",
       "      <th>S137</th>\n",
       "      <td>1723</td>\n",
       "      <td>2.57</td>\n",
       "    </tr>\n",
       "    <tr>\n",
       "      <th>S134</th>\n",
       "      <td>1254</td>\n",
       "      <td>1.87</td>\n",
       "    </tr>\n",
       "    <tr>\n",
       "      <th>S161</th>\n",
       "      <td>767</td>\n",
       "      <td>1.14</td>\n",
       "    </tr>\n",
       "    <tr>\n",
       "      <th>S151</th>\n",
       "      <td>716</td>\n",
       "      <td>1.07</td>\n",
       "    </tr>\n",
       "    <tr>\n",
       "      <th>S157</th>\n",
       "      <td>646</td>\n",
       "      <td>0.96</td>\n",
       "    </tr>\n",
       "    <tr>\n",
       "      <th>S153</th>\n",
       "      <td>493</td>\n",
       "      <td>0.74</td>\n",
       "    </tr>\n",
       "    <tr>\n",
       "      <th>S156</th>\n",
       "      <td>308</td>\n",
       "      <td>0.46</td>\n",
       "    </tr>\n",
       "    <tr>\n",
       "      <th>S144</th>\n",
       "      <td>297</td>\n",
       "      <td>0.44</td>\n",
       "    </tr>\n",
       "    <tr>\n",
       "      <th>S158</th>\n",
       "      <td>207</td>\n",
       "      <td>0.31</td>\n",
       "    </tr>\n",
       "    <tr>\n",
       "      <th>S123</th>\n",
       "      <td>73</td>\n",
       "      <td>0.11</td>\n",
       "    </tr>\n",
       "    <tr>\n",
       "      <th>S141</th>\n",
       "      <td>56</td>\n",
       "      <td>0.08</td>\n",
       "    </tr>\n",
       "    <tr>\n",
       "      <th>S162</th>\n",
       "      <td>36</td>\n",
       "      <td>0.05</td>\n",
       "    </tr>\n",
       "    <tr>\n",
       "      <th>S124</th>\n",
       "      <td>24</td>\n",
       "      <td>0.04</td>\n",
       "    </tr>\n",
       "    <tr>\n",
       "      <th>S160</th>\n",
       "      <td>10</td>\n",
       "      <td>0.01</td>\n",
       "    </tr>\n",
       "    <tr>\n",
       "      <th>S150</th>\n",
       "      <td>10</td>\n",
       "      <td>0.01</td>\n",
       "    </tr>\n",
       "    <tr>\n",
       "      <th>S155</th>\n",
       "      <td>4</td>\n",
       "      <td>0.01</td>\n",
       "    </tr>\n",
       "    <tr>\n",
       "      <th>S129</th>\n",
       "      <td>3</td>\n",
       "      <td>0.00</td>\n",
       "    </tr>\n",
       "    <tr>\n",
       "      <th>S139</th>\n",
       "      <td>3</td>\n",
       "      <td>0.00</td>\n",
       "    </tr>\n",
       "    <tr>\n",
       "      <th>S138</th>\n",
       "      <td>3</td>\n",
       "      <td>0.00</td>\n",
       "    </tr>\n",
       "    <tr>\n",
       "      <th>S136</th>\n",
       "      <td>3</td>\n",
       "      <td>0.00</td>\n",
       "    </tr>\n",
       "    <tr>\n",
       "      <th>S135</th>\n",
       "      <td>2</td>\n",
       "      <td>0.00</td>\n",
       "    </tr>\n",
       "    <tr>\n",
       "      <th>S125</th>\n",
       "      <td>1</td>\n",
       "      <td>0.00</td>\n",
       "    </tr>\n",
       "    <tr>\n",
       "      <th>S154</th>\n",
       "      <td>1</td>\n",
       "      <td>0.00</td>\n",
       "    </tr>\n",
       "    <tr>\n",
       "      <th>S130</th>\n",
       "      <td>1</td>\n",
       "      <td>0.00</td>\n",
       "    </tr>\n",
       "    <tr>\n",
       "      <th>S140</th>\n",
       "      <td>1</td>\n",
       "      <td>0.00</td>\n",
       "    </tr>\n",
       "  </tbody>\n",
       "</table>\n",
       "</div>"
      ],
      "text/plain": [
       "      Total  Percent\n",
       "S133  29399    43.88\n",
       "S122  19248    28.73\n",
       "S159   5556     8.29\n",
       "S143   4240     6.33\n",
       "S127   1917     2.86\n",
       "S137   1723     2.57\n",
       "S134   1254     1.87\n",
       "S161    767     1.14\n",
       "S151    716     1.07\n",
       "S157    646     0.96\n",
       "S153    493     0.74\n",
       "S156    308     0.46\n",
       "S144    297     0.44\n",
       "S158    207     0.31\n",
       "S123     73     0.11\n",
       "S141     56     0.08\n",
       "S162     36     0.05\n",
       "S124     24     0.04\n",
       "S160     10     0.01\n",
       "S150     10     0.01\n",
       "S155      4     0.01\n",
       "S129      3     0.00\n",
       "S139      3     0.00\n",
       "S138      3     0.00\n",
       "S136      3     0.00\n",
       "S135      2     0.00\n",
       "S125      1     0.00\n",
       "S154      1     0.00\n",
       "S130      1     0.00\n",
       "S140      1     0.00"
      ]
     },
     "execution_count": 159,
     "metadata": {},
     "output_type": "execute_result"
    }
   ],
   "source": [
    "#data['Source'].value_counts()\n",
    "#train['Source_for_dis'] = train[train['Disbursed'] == 1]['Source']\n",
    "#train_new1 = train[train['Source_for_dis'].isnull()== False]\n",
    "#train.drop('Source_for_dis',axis=1,inplace=True)\n",
    "#percent_value_counts(train_new1, 'Source_for_dis')\n",
    "#'S133','S122','S143','S134','S159','S127'\n",
    "train['Source_for_dis'] = train[train['Disbursed'] == 0]['Source']\n",
    "train_new1 = train[train['Source_for_dis'].isnull()== False]\n",
    "train.drop('Source_for_dis',axis=1,inplace=True)\n",
    "percent_value_counts(train_new1, 'Source_for_dis')"
   ]
  },
  {
   "cell_type": "code",
   "execution_count": 160,
   "metadata": {},
   "outputs": [
    {
     "data": {
      "text/html": [
       "<div>\n",
       "<style scoped>\n",
       "    .dataframe tbody tr th:only-of-type {\n",
       "        vertical-align: middle;\n",
       "    }\n",
       "\n",
       "    .dataframe tbody tr th {\n",
       "        vertical-align: top;\n",
       "    }\n",
       "\n",
       "    .dataframe thead th {\n",
       "        text-align: right;\n",
       "    }\n",
       "</style>\n",
       "<table border=\"1\" class=\"dataframe\">\n",
       "  <thead>\n",
       "    <tr style=\"text-align: right;\">\n",
       "      <th></th>\n",
       "      <th>Total</th>\n",
       "      <th>Percent</th>\n",
       "    </tr>\n",
       "  </thead>\n",
       "  <tbody>\n",
       "    <tr>\n",
       "      <th>0</th>\n",
       "      <td>42900</td>\n",
       "      <td>40.55</td>\n",
       "    </tr>\n",
       "    <tr>\n",
       "      <th>1</th>\n",
       "      <td>36294</td>\n",
       "      <td>34.31</td>\n",
       "    </tr>\n",
       "    <tr>\n",
       "      <th>4</th>\n",
       "      <td>7999</td>\n",
       "      <td>7.56</td>\n",
       "    </tr>\n",
       "    <tr>\n",
       "      <th>7</th>\n",
       "      <td>7746</td>\n",
       "      <td>7.32</td>\n",
       "    </tr>\n",
       "    <tr>\n",
       "      <th>2</th>\n",
       "      <td>6140</td>\n",
       "      <td>5.80</td>\n",
       "    </tr>\n",
       "    <tr>\n",
       "      <th>5</th>\n",
       "      <td>2804</td>\n",
       "      <td>2.65</td>\n",
       "    </tr>\n",
       "    <tr>\n",
       "      <th>3</th>\n",
       "      <td>1900</td>\n",
       "      <td>1.80</td>\n",
       "    </tr>\n",
       "  </tbody>\n",
       "</table>\n",
       "</div>"
      ],
      "text/plain": [
       "   Total  Percent\n",
       "0  42900    40.55\n",
       "1  36294    34.31\n",
       "4   7999     7.56\n",
       "7   7746     7.32\n",
       "2   6140     5.80\n",
       "5   2804     2.65\n",
       "3   1900     1.80"
      ]
     },
     "execution_count": 160,
     "metadata": {},
     "output_type": "execute_result"
    }
   ],
   "source": [
    "di = {'S133':0,'S122':1,'S143':2,'S134':3,'S159':4,'S127':5}\n",
    "#for other bank replace it with 9\n",
    "data.replace({'Source': di},inplace=True)\n",
    "data['Source'] = data['Source'].apply(lambda x : x if x in range(0,6) else 7)\n",
    "#'S133','S122','S143','S134','S159','S127'\n",
    "percent_value_counts(data, 'Source')"
   ]
  },
  {
   "cell_type": "code",
   "execution_count": 161,
   "metadata": {},
   "outputs": [
    {
     "data": {
      "text/html": [
       "<div>\n",
       "<style scoped>\n",
       "    .dataframe tbody tr th:only-of-type {\n",
       "        vertical-align: middle;\n",
       "    }\n",
       "\n",
       "    .dataframe tbody tr th {\n",
       "        vertical-align: top;\n",
       "    }\n",
       "\n",
       "    .dataframe thead th {\n",
       "        text-align: right;\n",
       "    }\n",
       "</style>\n",
       "<table border=\"1\" class=\"dataframe\">\n",
       "  <thead>\n",
       "    <tr style=\"text-align: right;\">\n",
       "      <th></th>\n",
       "      <th>Total</th>\n",
       "      <th>Percent</th>\n",
       "    </tr>\n",
       "  </thead>\n",
       "  <tbody>\n",
       "    <tr>\n",
       "      <th>3.0</th>\n",
       "      <td>29761</td>\n",
       "      <td>28.13</td>\n",
       "    </tr>\n",
       "    <tr>\n",
       "      <th>1.0</th>\n",
       "      <td>29639</td>\n",
       "      <td>28.02</td>\n",
       "    </tr>\n",
       "    <tr>\n",
       "      <th>5.0</th>\n",
       "      <td>25054</td>\n",
       "      <td>23.68</td>\n",
       "    </tr>\n",
       "    <tr>\n",
       "      <th>2.0</th>\n",
       "      <td>8481</td>\n",
       "      <td>8.02</td>\n",
       "    </tr>\n",
       "    <tr>\n",
       "      <th>4.0</th>\n",
       "      <td>8142</td>\n",
       "      <td>7.70</td>\n",
       "    </tr>\n",
       "    <tr>\n",
       "      <th>0.0</th>\n",
       "      <td>2566</td>\n",
       "      <td>2.43</td>\n",
       "    </tr>\n",
       "    <tr>\n",
       "      <th>7.0</th>\n",
       "      <td>1875</td>\n",
       "      <td>1.77</td>\n",
       "    </tr>\n",
       "    <tr>\n",
       "      <th>6.0</th>\n",
       "      <td>264</td>\n",
       "      <td>0.25</td>\n",
       "    </tr>\n",
       "    <tr>\n",
       "      <th>NaN</th>\n",
       "      <td>1</td>\n",
       "      <td>0.00</td>\n",
       "    </tr>\n",
       "  </tbody>\n",
       "</table>\n",
       "</div>"
      ],
      "text/plain": [
       "     Total  Percent\n",
       "3.0  29761    28.13\n",
       "1.0  29639    28.02\n",
       "5.0  25054    23.68\n",
       "2.0   8481     8.02\n",
       "4.0   8142     7.70\n",
       "0.0   2566     2.43\n",
       "7.0   1875     1.77\n",
       "6.0    264     0.25\n",
       "NaN      1     0.00"
      ]
     },
     "execution_count": 161,
     "metadata": {},
     "output_type": "execute_result"
    }
   ],
   "source": [
    "percent_value_counts(data, 'Var4')"
   ]
  },
  {
   "cell_type": "code",
   "execution_count": 162,
   "metadata": {},
   "outputs": [
    {
     "data": {
      "text/html": [
       "<div>\n",
       "<style scoped>\n",
       "    .dataframe tbody tr th:only-of-type {\n",
       "        vertical-align: middle;\n",
       "    }\n",
       "\n",
       "    .dataframe tbody tr th {\n",
       "        vertical-align: top;\n",
       "    }\n",
       "\n",
       "    .dataframe thead th {\n",
       "        text-align: right;\n",
       "    }\n",
       "</style>\n",
       "<table border=\"1\" class=\"dataframe\">\n",
       "  <thead>\n",
       "    <tr style=\"text-align: right;\">\n",
       "      <th></th>\n",
       "      <th>Total</th>\n",
       "      <th>Percent</th>\n",
       "    </tr>\n",
       "  </thead>\n",
       "  <tbody>\n",
       "    <tr>\n",
       "      <th>B</th>\n",
       "      <td>53481</td>\n",
       "      <td>50.56</td>\n",
       "    </tr>\n",
       "    <tr>\n",
       "      <th>G</th>\n",
       "      <td>28383</td>\n",
       "      <td>26.83</td>\n",
       "    </tr>\n",
       "    <tr>\n",
       "      <th>C</th>\n",
       "      <td>20366</td>\n",
       "      <td>19.25</td>\n",
       "    </tr>\n",
       "    <tr>\n",
       "      <th>E</th>\n",
       "      <td>1855</td>\n",
       "      <td>1.75</td>\n",
       "    </tr>\n",
       "    <tr>\n",
       "      <th>D</th>\n",
       "      <td>918</td>\n",
       "      <td>0.87</td>\n",
       "    </tr>\n",
       "    <tr>\n",
       "      <th>F</th>\n",
       "      <td>770</td>\n",
       "      <td>0.73</td>\n",
       "    </tr>\n",
       "    <tr>\n",
       "      <th>A</th>\n",
       "      <td>9</td>\n",
       "      <td>0.01</td>\n",
       "    </tr>\n",
       "    <tr>\n",
       "      <th>NaN</th>\n",
       "      <td>1</td>\n",
       "      <td>0.00</td>\n",
       "    </tr>\n",
       "  </tbody>\n",
       "</table>\n",
       "</div>"
      ],
      "text/plain": [
       "     Total  Percent\n",
       "B    53481    50.56\n",
       "G    28383    26.83\n",
       "C    20366    19.25\n",
       "E     1855     1.75\n",
       "D      918     0.87\n",
       "F      770     0.73\n",
       "A        9     0.01\n",
       "NaN      1     0.00"
      ]
     },
     "execution_count": 162,
     "metadata": {},
     "output_type": "execute_result"
    }
   ],
   "source": [
    "percent_value_counts(data, 'Var2')"
   ]
  },
  {
   "cell_type": "code",
   "execution_count": 163,
   "metadata": {},
   "outputs": [
    {
     "data": {
      "text/plain": [
       "Disbursed                       37718\n",
       "Processing_Fee_BINNED               0\n",
       "Interest_Rate_BINNED                0\n",
       "Filled_Form                         0\n",
       "Gender                              0\n",
       "Loan_Amount_Applied                 0\n",
       "Loan_Tenure_Applied                 0\n",
       "Loan_Tenure_Submitted               0\n",
       "LoggedIn                            0\n",
       "Mobile_Verified                     0\n",
       "Monthly_Income                      0\n",
       "Salary_Account                      0\n",
       "Source                              0\n",
       "Var1                                0\n",
       "Var2                                0\n",
       "Var4                                0\n",
       "Var5                                0\n",
       "Age                                 0\n",
       "Loan_Amount_Submitted_BINNED        0\n",
       "EMI_Loan_Submitted_BINNED           0\n",
       "Existing_EMI_BINNED                 0\n",
       "Device_Type                         0\n",
       "dtype: int64"
      ]
     },
     "execution_count": 163,
     "metadata": {},
     "output_type": "execute_result"
    }
   ],
   "source": [
    "#Final Data\n",
    "data['Var4'].fillna(data['Var4'].median(),inplace=True)\n",
    "data['Var2'].fillna('B',inplace=True)\n",
    "data.apply(lambda x: sum(x.isnull())).sort_values(ascending=False)"
   ]
  },
  {
   "cell_type": "code",
   "execution_count": 164,
   "metadata": {},
   "outputs": [
    {
     "data": {
      "text/plain": [
       "Device_Type                       object\n",
       "Disbursed                        float64\n",
       "Filled_Form                       object\n",
       "Gender                            object\n",
       "Loan_Amount_Applied              float64\n",
       "Loan_Tenure_Applied              float64\n",
       "Loan_Tenure_Submitted            float64\n",
       "LoggedIn                         float64\n",
       "Mobile_Verified                   object\n",
       "Monthly_Income                     int64\n",
       "Salary_Account                     int64\n",
       "Source                             int64\n",
       "Var1                              object\n",
       "Var2                              object\n",
       "Var4                             float64\n",
       "Var5                               int64\n",
       "Age                                int64\n",
       "Loan_Amount_Submitted_BINNED    category\n",
       "EMI_Loan_Submitted_BINNED       category\n",
       "Existing_EMI_BINNED             category\n",
       "Interest_Rate_BINNED            category\n",
       "Processing_Fee_BINNED           category\n",
       "dtype: object"
      ]
     },
     "execution_count": 164,
     "metadata": {},
     "output_type": "execute_result"
    }
   ],
   "source": [
    "data.dtypes"
   ]
  },
  {
   "cell_type": "code",
   "execution_count": 165,
   "metadata": {},
   "outputs": [],
   "source": [
    "#Numerical coding\n",
    "from sklearn.preprocessing import LabelEncoder\n",
    "le = LabelEncoder()\n",
    "var_to_encode = ['Device_Type','Filled_Form','Gender','Var1','Var2','Mobile_Verified']\n",
    "for col in var_to_encode:\n",
    "    data[col] = le.fit_transform(data[col])"
   ]
  },
  {
   "cell_type": "code",
   "execution_count": 166,
   "metadata": {},
   "outputs": [],
   "source": [
    "#separate train & test \n",
    "train_data = data[:68066]\n",
    "test_data = data[-37717:]"
   ]
  },
  {
   "cell_type": "code",
   "execution_count": 171,
   "metadata": {},
   "outputs": [
    {
     "name": "stdout",
     "output_type": "stream",
     "text": [
      "<class 'pandas.core.frame.DataFrame'>\n",
      "RangeIndex: 68066 entries, 0 to 68065\n",
      "Data columns (total 22 columns):\n",
      "Device_Type                     68066 non-null int32\n",
      "Disbursed                       68065 non-null float64\n",
      "Filled_Form                     68066 non-null int32\n",
      "Gender                          68066 non-null int32\n",
      "Loan_Amount_Applied             68066 non-null float64\n",
      "Loan_Tenure_Applied             68066 non-null float64\n",
      "Loan_Tenure_Submitted           68066 non-null float64\n",
      "LoggedIn                        68066 non-null float64\n",
      "Mobile_Verified                 68066 non-null int32\n",
      "Monthly_Income                  68066 non-null int64\n",
      "Salary_Account                  68066 non-null int64\n",
      "Source                          68066 non-null int64\n",
      "Var1                            68066 non-null int32\n",
      "Var2                            68066 non-null int32\n",
      "Var4                            68066 non-null float64\n",
      "Var5                            68066 non-null int64\n",
      "Age                             68066 non-null int64\n",
      "Loan_Amount_Submitted_BINNED    68066 non-null category\n",
      "EMI_Loan_Submitted_BINNED       68066 non-null category\n",
      "Existing_EMI_BINNED             68066 non-null category\n",
      "Interest_Rate_BINNED            68066 non-null category\n",
      "Processing_Fee_BINNED           68066 non-null category\n",
      "dtypes: category(5), float64(6), int32(6), int64(5)\n",
      "memory usage: 7.6 MB\n"
     ]
    }
   ],
   "source": [
    "train_data.info()"
   ]
  },
  {
   "cell_type": "code",
   "execution_count": 169,
   "metadata": {},
   "outputs": [
    {
     "name": "stderr",
     "output_type": "stream",
     "text": [
      "C:\\Users\\ac36345\\AppData\\Local\\Continuum\\anaconda3\\lib\\site-packages\\pandas\\core\\frame.py:3940: SettingWithCopyWarning: \n",
      "A value is trying to be set on a copy of a slice from a DataFrame\n",
      "\n",
      "See the caveats in the documentation: http://pandas.pydata.org/pandas-docs/stable/indexing.html#indexing-view-versus-copy\n",
      "  errors=errors)\n"
     ]
    }
   ],
   "source": [
    "#One hot coding\n",
    "#data = pd.get_dummies(data, columns=var_to_encode)\n",
    "#data.columns\n",
    "\n",
    "#train.drop('source',axis=1,inplace=True)\n",
    "#test.drop(['source','Disbursed'],axis=1,inplace=True)\n",
    "test_data.drop('Disbursed',axis=1,inplace=True)\n",
    "train_data.dropna(axis=0,inplace=True)"
   ]
  },
  {
   "cell_type": "code",
   "execution_count": 170,
   "metadata": {},
   "outputs": [],
   "source": [
    "train_data.to_csv('C:\\\\Users\\\\ac36345\\\\Desktop\\\\nlp code1\\\\Train_data.csv',index=False)\n",
    "test_data.to_csv('C:\\\\Users\\\\ac36345\\\\Desktop\\\\nlp code1\\\\Test_data.csv',index=False)"
   ]
  },
  {
   "cell_type": "code",
   "execution_count": null,
   "metadata": {},
   "outputs": [],
   "source": []
  }
 ],
 "metadata": {
  "kernelspec": {
   "display_name": "Python 3",
   "language": "python",
   "name": "python3"
  },
  "language_info": {
   "codemirror_mode": {
    "name": "ipython",
    "version": 3
   },
   "file_extension": ".py",
   "mimetype": "text/x-python",
   "name": "python",
   "nbconvert_exporter": "python",
   "pygments_lexer": "ipython3",
   "version": "3.7.3"
  }
 },
 "nbformat": 4,
 "nbformat_minor": 2
}
