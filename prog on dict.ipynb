{
 "cells": [
  {
   "cell_type": "code",
   "execution_count": 3,
   "metadata": {},
   "outputs": [
    {
     "name": "stdout",
     "output_type": "stream",
     "text": [
      "{} {7: 8, 11: 12}\n"
     ]
    }
   ],
   "source": [
    "#dict --key should be immutable type(as it works on hash value list is unhashable),unordered\n",
    "#clear,del,popitem\n",
    "d1={1:2,3:4,5:6}\n",
    "d2={7:8,9:10,11:12,13:14}\n",
    "d1.clear()\n",
    "d2.popitem()\n",
    "del d2[9]\n",
    "print(d1,d2)"
   ]
  },
  {
   "cell_type": "code",
   "execution_count": 4,
   "metadata": {},
   "outputs": [
    {
     "name": "stdout",
     "output_type": "stream",
     "text": [
      "2074569024640 2074569264944\n",
      "8 ** dict_items([(7, 8), (11, 12)]) ** dict_keys([7, 11]) ** dict_values([8, 12])\n",
      "8 0\n"
     ]
    }
   ],
   "source": [
    "d3=d2.copy()\n",
    "print(id(d2),id(d3))\n",
    "print(d3.get(7),'**',d3.items(),'**',d3.keys(),'**',d3.values())\n",
    "print(d2.get(7,0),d2.get(13,0))"
   ]
  },
  {
   "cell_type": "code",
   "execution_count": 3,
   "metadata": {},
   "outputs": [
    {
     "data": {
      "text/plain": [
       "8"
      ]
     },
     "execution_count": 3,
     "metadata": {},
     "output_type": "execute_result"
    }
   ],
   "source": [
    "d2.setdefault(7)"
   ]
  },
  {
   "cell_type": "code",
   "execution_count": 3,
   "metadata": {},
   "outputs": [
    {
     "name": "stdout",
     "output_type": "stream",
     "text": [
      "[(1, 6), (3, 3), (4, 8)] [(2, 2), (4, 4), (5, 5)]\n"
     ]
    }
   ],
   "source": [
    "#zip in dict(zip(d1,d2) gives key zip)\n",
    "d1={1:2,3:4,4:5}\n",
    "d2={6:2,3:4,8:5}\n",
    "d3={9:2,10:4,11:5}\n",
    "print(list(zip(d1,d2)),list(zip(d1.values(),d2.values())))"
   ]
  },
  {
   "cell_type": "code",
   "execution_count": 4,
   "metadata": {},
   "outputs": [
    {
     "data": {
      "text/plain": [
       "{1: 2, 3: 4, 4: 5, 6: 2, 8: 5, 9: 2, 10: 4, 11: 5}"
      ]
     },
     "execution_count": 4,
     "metadata": {},
     "output_type": "execute_result"
    }
   ],
   "source": [
    "#concat two or more dictionary\n",
    "d1.update(d2)\n",
    "d1.update(d3)\n",
    "d1"
   ]
  },
  {
   "cell_type": "code",
   "execution_count": 13,
   "metadata": {},
   "outputs": [
    {
     "name": "stdout",
     "output_type": "stream",
     "text": [
      "{2: 'b', 3: 'c', 4: 'D', 5: 'e', 6: 'f'} sum: 20 15\n"
     ]
    }
   ],
   "source": [
    "#dictionary:\n",
    "d ={1:'a',2:'b',3:'c',4:\"D\",5:\"e\",6:\"f\"}\n",
    "#del d to delete entire dict d no empty d remains here\n",
    "#d.clear() -- deletes all the key value and makes a empty dict ---del and clear work for list as well\n",
    "del d[1]\n",
    "print(d,'sum:',sum(d),sum(range(1,6)))# gives key sum for dict"
   ]
  },
  {
   "cell_type": "code",
   "execution_count": 6,
   "metadata": {},
   "outputs": [
    {
     "data": {
      "text/plain": [
       "['1', '2', '3']"
      ]
     },
     "execution_count": 6,
     "metadata": {},
     "output_type": "execute_result"
    }
   ],
   "source": [
    "a='213'\n",
    "sorted(a)"
   ]
  },
  {
   "cell_type": "code",
   "execution_count": 9,
   "metadata": {},
   "outputs": [
    {
     "name": "stdout",
     "output_type": "stream",
     "text": [
      "[(1, 'd'), (2, 'a'), (3, 'e'), (4, 'b'), (5, 'g'), (6, 'h'), (7, 'f'), (8, 'c')]\n",
      "[(2, 'a'), (4, 'b'), (8, 'c'), (1, 'd'), (3, 'e'), (7, 'f'), (5, 'g'), (6, 'h')]\n"
     ]
    }
   ],
   "source": [
    "#sorting dict values no sort function only sorted works\n",
    "#normally it get sorted on keys\n",
    "sorted(d.items())\n",
    "\n",
    "d={2:'a',4:'b',8:'c',1:'d',3:'e',7:'f',5:'g',6:'h'}\n",
    "#based on key\n",
    "print(sorted(d.items(), key = \n",
    "             lambda kv:(kv[0], kv[1])))  \n",
    "\n",
    "#based on values\n",
    "print(sorted(d.items(), key = \n",
    "             lambda kv:(kv[1], kv[0])))  "
   ]
  },
  {
   "cell_type": "code",
   "execution_count": 10,
   "metadata": {},
   "outputs": [
    {
     "data": {
      "text/plain": [
       "{'r': 'd'}"
      ]
     },
     "execution_count": 10,
     "metadata": {},
     "output_type": "execute_result"
    }
   ],
   "source": [
    "test_dict = {'q':'a','w':'b','e':'c','r':'d'}\n",
    "test_suf = 'd'\n",
    "res = dict(filter(lambda item: item[1].endswith(test_suf), test_dict.items())) \n",
    "res"
   ]
  },
  {
   "cell_type": "code",
   "execution_count": 13,
   "metadata": {},
   "outputs": [],
   "source": [
    "#endswith uses\n",
    "K=1\n",
    "res = {key:val for key, val in test_dict.items() if key.endswith(test_suf)} \n",
    "res = dict(filter(lambda item: item[0].endswith(test_suf), test_dict.items())) \n",
    "#key value decrease\n",
    "test_dict['best'] = test_dict.get('best', 0) - K "
   ]
  },
  {
   "cell_type": "code",
   "execution_count": 2,
   "metadata": {},
   "outputs": [
    {
     "name": "stdout",
     "output_type": "stream",
     "text": [
      "True\n",
      "False\n"
     ]
    }
   ],
   "source": [
    "#use of any and all\n",
    "test_dict = {'gfg' : 8, 'is' : 8, 'best' : 8} \n",
    "K=8\n",
    "res = all(x == K for x in test_dict.values()) \n",
    "print(res)\n",
    "\n",
    "test_dict = {'gfg' : 8, 'is' : 8, 'best' : 8} \n",
    "K=9\n",
    "res = any(x == K for x in test_dict.values()) \n",
    "print(res)"
   ]
  },
  {
   "cell_type": "code",
   "execution_count": 16,
   "metadata": {},
   "outputs": [
    {
     "data": {
      "text/plain": [
       "4"
      ]
     },
     "execution_count": 16,
     "metadata": {},
     "output_type": "execute_result"
    }
   ],
   "source": [
    "a=[2,3,4,5,'q']\n",
    "sum(isinstance(i,int) for i in a)"
   ]
  },
  {
   "cell_type": "code",
   "execution_count": 1,
   "metadata": {},
   "outputs": [
    {
     "name": "stdout",
     "output_type": "stream",
     "text": [
      "0 1\n",
      "1 2\n",
      "2 3\n"
     ]
    }
   ],
   "source": [
    "a=[1,2,3]\n",
    "for i,j in enumerate(a):\n",
    "    print(i,j)"
   ]
  },
  {
   "cell_type": "code",
   "execution_count": 6,
   "metadata": {},
   "outputs": [
    {
     "data": {
      "text/plain": [
       "{'gfg': 64, 'is': 64, 'best': 64}"
      ]
     },
     "execution_count": 6,
     "metadata": {},
     "output_type": "execute_result"
    }
   ],
   "source": [
    "#multiply value of two dict\n",
    "test_dict1 = {'gfg' : 8, 'is' : 8, 'best' : 8} \n",
    "test_dict2 = {'gfg' : 8, 'is' : 8, 'best' : 8} \n",
    "\n",
    "res = {key: test_dict2[key] * test_dict1.get(key, 0)  \n",
    "                       for key in test_dict2.keys()} \n",
    "res"
   ]
  },
  {
   "cell_type": "code",
   "execution_count": 6,
   "metadata": {},
   "outputs": [
    {
     "name": "stdout",
     "output_type": "stream",
     "text": [
      "The original dictionary is : {'gfg': (5, 6, 1), 'is': (8, 3, 2), 'best': (1, 4, 9)}\n",
      "The summation from each index is : (14, 13, 12)\n"
     ]
    }
   ],
   "source": [
    "#nice prog\n",
    "test_dict = {'gfg' : (5, 6, 1), 'is' : (8, 3, 2), 'best' : (1, 4, 9)} \n",
    "  \n",
    "# printing original dictionary \n",
    "print(\"The original dictionary is : \" + str(test_dict)) \n",
    "  \n",
    "# Summation of tuple dictionary values \n",
    "# Using tuple() + sum() + zip() + values() \n",
    "res = tuple(sum(x) for x in zip(*test_dict.values())) \n",
    "  \n",
    "# printing result \n",
    "print(\"The summation from each index is : \" + str(res)) "
   ]
  },
  {
   "cell_type": "code",
   "execution_count": 1,
   "metadata": {},
   "outputs": [
    {
     "name": "stdout",
     "output_type": "stream",
     "text": [
      "{('best', 3), ('good', 3)}\n",
      "The number of uncommon items are : 1\n"
     ]
    }
   ],
   "source": [
    "test_dict1 = {'gfg' : 1, 'is' : 2, 'best' : 3} \n",
    "test_dict2 = {'gfg' : 1, 'is' : 2, 'good' : 3} \n",
    "res = set(test_dict1.items()) ^ set(test_dict2.items()) \n",
    "print(res)\n",
    "  \n",
    "# printing result \n",
    "print(\"The number of uncommon items are : \" + str(len(test_dict1) - len(res))) "
   ]
  },
  {
   "cell_type": "code",
   "execution_count": 1,
   "metadata": {},
   "outputs": [],
   "source": [
    "k = ['a','b','c','d']\n",
    "v = [7,8,5,9]\n"
   ]
  },
  {
   "cell_type": "code",
   "execution_count": 6,
   "metadata": {},
   "outputs": [
    {
     "name": "stdout",
     "output_type": "stream",
     "text": [
      "{'a': 7, 'b': 8, 'c': 5, 'd': 9}\n"
     ]
    }
   ],
   "source": [
    "dic = {}\n",
    "for i,j in zip(k,v):\n",
    "    dic[i]=j\n",
    "print(dic)"
   ]
  },
  {
   "cell_type": "code",
   "execution_count": 7,
   "metadata": {},
   "outputs": [
    {
     "data": {
      "text/plain": [
       "5"
      ]
     },
     "execution_count": 7,
     "metadata": {},
     "output_type": "execute_result"
    }
   ],
   "source": [
    "min(dic.values()) "
   ]
  },
  {
   "cell_type": "code",
   "execution_count": null,
   "metadata": {},
   "outputs": [],
   "source": []
  }
 ],
 "metadata": {
  "kernelspec": {
   "display_name": "Python 3",
   "language": "python",
   "name": "python3"
  },
  "language_info": {
   "codemirror_mode": {
    "name": "ipython",
    "version": 3
   },
   "file_extension": ".py",
   "mimetype": "text/x-python",
   "name": "python",
   "nbconvert_exporter": "python",
   "pygments_lexer": "ipython3",
   "version": "3.7.3"
  }
 },
 "nbformat": 4,
 "nbformat_minor": 2
}
