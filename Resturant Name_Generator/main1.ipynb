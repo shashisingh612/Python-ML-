{
 "cells": [
  {
   "cell_type": "code",
   "execution_count": 4,
   "id": "bf38cbc2-975f-4fd1-b64a-91005c92b33a",
   "metadata": {},
   "outputs": [
    {
     "name": "stderr",
     "output_type": "stream",
     "text": [
      "2024-04-04 11:34:14.265 \n",
      "  \u001b[33m\u001b[1mWarning:\u001b[0m to view this Streamlit app on a browser, run it with the following\n",
      "  command:\n",
      "\n",
      "    streamlit run C:\\Users\\admin\\anaconda3\\Lib\\site-packages\\ipykernel_launcher.py [ARGUMENTS]\n"
     ]
    }
   ],
   "source": [
    "import os\n",
    "import streamlit as st\n",
    "import langchain_helper\n",
    "\n",
    "st.title(\"Restaurant Name Generator\")\n",
    "\n",
    "st.caption(\"This is a simple website created by Shashi. Based on the cuisine selected, it generates name of restaurants and respective menus. This is implemented in Langchain and uses OpenAI Large Language Models (LLMs)\",\n",
    "           unsafe_allow_html=False, help=None)\n",
    "\n",
    "\n",
    "## cuisine = st.sidebar.selectbox(\"Pick a cuisine\", (\"Indian\",\"Italian\",\"American\",\"Chinese\",\"Japanese\", \"Korean\",\"Thai\",\"Mexican\"))\n",
    "\n",
    "cuisine = st.text_input(\"Pick a Cuisine\", value=\"\", max_chars=None, key=None, type=\"default\")\n",
    "\n",
    "image_name = cuisine.lower()+\".png\"\n",
    "\n",
    "\n",
    "if cuisine:\n",
    "    response = langchain_helper.generate_restaurant_name_and_items(cuisine)\n",
    "    st.header(str(response['restaurant_name']))\n",
    "    if os.path.exists(image_name):\n",
    "        st.image(str(image_name), caption='Bob Apetit', width=300)\n",
    "    else:\n",
    "        st.image(str(\"bon-appetit.png\"), width=300)\n",
    "    menu_items = response['menu_items'].strip().split(',')\n",
    "    st.write(\"**Menu Items**\")\n",
    "    for item in menu_items:\n",
    "        st.write(item)"
   ]
  },
  {
   "cell_type": "code",
   "execution_count": null,
   "id": "e4d41ffd-554f-420d-9da4-1dd9ac0c9821",
   "metadata": {},
   "outputs": [],
   "source": []
  }
 ],
 "metadata": {
  "kernelspec": {
   "display_name": "Python 3 (ipykernel)",
   "language": "python",
   "name": "python3"
  },
  "language_info": {
   "codemirror_mode": {
    "name": "ipython",
    "version": 3
   },
   "file_extension": ".py",
   "mimetype": "text/x-python",
   "name": "python",
   "nbconvert_exporter": "python",
   "pygments_lexer": "ipython3",
   "version": "3.11.7"
  }
 },
 "nbformat": 4,
 "nbformat_minor": 5
}
