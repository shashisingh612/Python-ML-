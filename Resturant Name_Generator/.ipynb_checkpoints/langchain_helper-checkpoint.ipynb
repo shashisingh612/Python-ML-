{
 "cells": [
  {
   "cell_type": "code",
   "execution_count": 3,
   "id": "ca93df62-9f30-4ce7-9c3d-48af4b2e1ec6",
   "metadata": {},
   "outputs": [
    {
     "ename": "ModuleNotFoundError",
     "evalue": "No module named 'secret_key'",
     "output_type": "error",
     "traceback": [
      "\u001b[1;31m---------------------------------------------------------------------------\u001b[0m",
      "\u001b[1;31mModuleNotFoundError\u001b[0m                       Traceback (most recent call last)",
      "Cell \u001b[1;32mIn[3], line 1\u001b[0m\n\u001b[1;32m----> 1\u001b[0m \u001b[38;5;28;01mimport\u001b[39;00m \u001b[38;5;21;01msecret_key\u001b[39;00m\n\u001b[0;32m      2\u001b[0m \u001b[38;5;28;01mimport\u001b[39;00m \u001b[38;5;21;01mstreamlit\u001b[39;00m \u001b[38;5;28;01mas\u001b[39;00m \u001b[38;5;21;01mst\u001b[39;00m\n\u001b[0;32m      3\u001b[0m \u001b[38;5;28;01mimport\u001b[39;00m \u001b[38;5;21;01mos\u001b[39;00m\n",
      "\u001b[1;31mModuleNotFoundError\u001b[0m: No module named 'secret_key'"
     ]
    }
   ],
   "source": [
    "import secret_key\n",
    "import streamlit as st\n",
    "import os\n",
    "from langchain.llms import OpenAI\n",
    "\n",
    "from langchain.prompts import PromptTemplate\n",
    "from langchain.chains import LLMChain\n",
    "\n",
    "def generate_restaurant_name_and_items(cuisine):\n",
    "\n",
    "    os.environ['OPENAI_API_KEY']= st.secrets[\"api_key\"]\n",
    "    llm = OpenAI(temperature=0.9)\n",
    "\n",
    "    prompt_template_name = PromptTemplate(\n",
    "        input_variables = ['cuisine'],\n",
    "        template = \"I want to open a restaurant for {cuisine} food. Please suggest only one fancy name \"\n",
    "    )\n",
    "\n",
    "    name_chain = LLMChain(llm=llm, prompt=prompt_template_name, output_key=\"restaurant_name\")\n",
    "\n",
    "    prompt_template_items = PromptTemplate(\n",
    "        input_variables = ['restaurant_name'],\n",
    "        template = \"Suggest some menu items for {restaurant_name}. Return it in tabular form with 10 rows and 2 columns, name and description\"\n",
    "    )\n",
    "    food_item_chain = LLMChain(llm=llm, prompt=prompt_template_items, output_key = \"menu_items\")\n",
    "\n",
    "    from langchain.chains import SequentialChain\n",
    "\n",
    "    chain = SequentialChain(\n",
    "        chains= [name_chain, food_item_chain],\n",
    "        input_variables = ['cuisine'],\n",
    "        output_variables = ['restaurant_name','menu_items']\n",
    "    )\n",
    "\n",
    "    return(chain({'cuisine' :cuisine}))"
   ]
  },
  {
   "cell_type": "code",
   "execution_count": null,
   "id": "041825c5-dbee-478b-9577-2b363146a2a0",
   "metadata": {},
   "outputs": [],
   "source": []
  }
 ],
 "metadata": {
  "kernelspec": {
   "display_name": "Python 3 (ipykernel)",
   "language": "python",
   "name": "python3"
  },
  "language_info": {
   "codemirror_mode": {
    "name": "ipython",
    "version": 3
   },
   "file_extension": ".py",
   "mimetype": "text/x-python",
   "name": "python",
   "nbconvert_exporter": "python",
   "pygments_lexer": "ipython3",
   "version": "3.11.7"
  }
 },
 "nbformat": 4,
 "nbformat_minor": 5
}
