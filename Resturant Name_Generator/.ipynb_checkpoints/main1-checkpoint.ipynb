{
 "cells": [
  {
   "cell_type": "code",
   "execution_count": 2,
   "id": "bf38cbc2-975f-4fd1-b64a-91005c92b33a",
   "metadata": {},
   "outputs": [
    {
     "ename": "ModuleNotFoundError",
     "evalue": "No module named 'langchain_helper'",
     "output_type": "error",
     "traceback": [
      "\u001b[1;31m---------------------------------------------------------------------------\u001b[0m",
      "\u001b[1;31mModuleNotFoundError\u001b[0m                       Traceback (most recent call last)",
      "Cell \u001b[1;32mIn[2], line 3\u001b[0m\n\u001b[0;32m      1\u001b[0m \u001b[38;5;28;01mimport\u001b[39;00m \u001b[38;5;21;01mos\u001b[39;00m\n\u001b[0;32m      2\u001b[0m \u001b[38;5;28;01mimport\u001b[39;00m \u001b[38;5;21;01mstreamlit\u001b[39;00m \u001b[38;5;28;01mas\u001b[39;00m \u001b[38;5;21;01mst\u001b[39;00m\n\u001b[1;32m----> 3\u001b[0m \u001b[38;5;28;01mimport\u001b[39;00m \u001b[38;5;21;01mlangchain_helper\u001b[39;00m\n\u001b[0;32m      5\u001b[0m st\u001b[38;5;241m.\u001b[39mtitle(\u001b[38;5;124m\"\u001b[39m\u001b[38;5;124mRestaurant Name Generator\u001b[39m\u001b[38;5;124m\"\u001b[39m)\n\u001b[0;32m      7\u001b[0m st\u001b[38;5;241m.\u001b[39mcaption(\u001b[38;5;124m\"\u001b[39m\u001b[38;5;124mThis is a simple website created by Shashi. Based on the cuisine selected, it generates name of restaurants and respective menus. This is implemented in Langchain and uses OpenAI Large Language Models (LLMs)\u001b[39m\u001b[38;5;124m\"\u001b[39m,\n\u001b[0;32m      8\u001b[0m            unsafe_allow_html\u001b[38;5;241m=\u001b[39m\u001b[38;5;28;01mFalse\u001b[39;00m, help\u001b[38;5;241m=\u001b[39m\u001b[38;5;28;01mNone\u001b[39;00m)\n",
      "\u001b[1;31mModuleNotFoundError\u001b[0m: No module named 'langchain_helper'"
     ]
    }
   ],
   "source": [
    "import os\n",
    "import streamlit as st\n",
    "import langchain_helper\n",
    "\n",
    "st.title(\"Restaurant Name Generator\")\n",
    "\n",
    "st.caption(\"This is a simple website created by Shashi. Based on the cuisine selected, it generates name of restaurants and respective menus. This is implemented in Langchain and uses OpenAI Large Language Models (LLMs)\",\n",
    "           unsafe_allow_html=False, help=None)\n",
    "\n",
    "\n",
    "## cuisine = st.sidebar.selectbox(\"Pick a cuisine\", (\"Indian\",\"Italian\",\"American\",\"Chinese\",\"Japanese\", \"Korean\",\"Thai\",\"Mexican\"))\n",
    "\n",
    "cuisine = st.text_input(\"Pick a Cuisine\", value=\"\", max_chars=None, key=None, type=\"default\")\n",
    "\n",
    "image_name = cuisine.lower()+\".png\"\n",
    "\n",
    "\n",
    "if cuisine:\n",
    "    response = langchain_helper.generate_restaurant_name_and_items(cuisine)\n",
    "    st.header(str(response['restaurant_name']))\n",
    "    if os.path.exists(image_name):\n",
    "        st.image(str(image_name), caption='Bob Apetit', width=300)\n",
    "    else:\n",
    "        st.image(str(\"bon-appetit.png\"), width=300)\n",
    "    menu_items = response['menu_items'].strip().split(',')\n",
    "    st.write(\"**Menu Items**\")\n",
    "    for item in menu_items:\n",
    "        st.write(item)"
   ]
  },
  {
   "cell_type": "code",
   "execution_count": null,
   "id": "82559d36-ec0d-40e9-95ba-e691d85550d7",
   "metadata": {},
   "outputs": [],
   "source": []
  },
  {
   "cell_type": "code",
   "execution_count": null,
   "id": "e4d41ffd-554f-420d-9da4-1dd9ac0c9821",
   "metadata": {},
   "outputs": [],
   "source": []
  }
 ],
 "metadata": {
  "kernelspec": {
   "display_name": "Python 3 (ipykernel)",
   "language": "python",
   "name": "python3"
  },
  "language_info": {
   "codemirror_mode": {
    "name": "ipython",
    "version": 3
   },
   "file_extension": ".py",
   "mimetype": "text/x-python",
   "name": "python",
   "nbconvert_exporter": "python",
   "pygments_lexer": "ipython3",
   "version": "3.11.7"
  }
 },
 "nbformat": 4,
 "nbformat_minor": 5
}
