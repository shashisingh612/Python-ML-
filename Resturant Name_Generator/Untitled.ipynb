{
 "cells": [
  {
   "cell_type": "code",
   "execution_count": 1,
   "id": "edb7f179-dff6-48bc-aff2-8c1258e9684c",
   "metadata": {},
   "outputs": [],
   "source": [
    "%run secret_key.py"
   ]
  },
  {
   "cell_type": "code",
   "execution_count": null,
   "id": "bac9d23e-2146-4818-bcc1-b7ed36b5a58e",
   "metadata": {},
   "outputs": [],
   "source": [
    "%run langchain_helper.py"
   ]
  },
  {
   "cell_type": "code",
   "execution_count": null,
   "id": "266262ad-cdf9-4ef1-9f4f-e6762c03df04",
   "metadata": {},
   "outputs": [],
   "source": []
  }
 ],
 "metadata": {
  "kernelspec": {
   "display_name": "Python 3 (ipykernel)",
   "language": "python",
   "name": "python3"
  },
  "language_info": {
   "codemirror_mode": {
    "name": "ipython",
    "version": 3
   },
   "file_extension": ".py",
   "mimetype": "text/x-python",
   "name": "python",
   "nbconvert_exporter": "python",
   "pygments_lexer": "ipython3",
   "version": "3.11.7"
  }
 },
 "nbformat": 4,
 "nbformat_minor": 5
}
