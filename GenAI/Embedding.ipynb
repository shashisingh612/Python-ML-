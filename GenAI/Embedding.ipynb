{
 "cells": [
  {
   "cell_type": "code",
   "execution_count": null,
   "id": "c197c085-43a5-4077-b30f-9e0cad899327",
   "metadata": {},
   "outputs": [],
   "source": [
    "import numpy as np\n",
    "from openai import OpenAI\n",
    "\n",
    "client = OpenAI()\n",
    "\n",
    "prompt = input(\"Enter a string to create an embedding vector for: \")\n",
    "response = client.embeddings.create(\n",
    "\tinput = prompt,\n",
    "\tmodel = \"text-embedding-ada-002\")\n",
    "\n",
    "print(\"\\n\")\t\n",
    "print(response)\n",
    "\n",
    "print(\"\\nLet's find the similarity score between 'potato' and 'rhubarb'.\")\n",
    "\n",
    "response = client.embeddings.create(\n",
    "\tinput=[\"potato\", \"rhubarb\"],\n",
    "\tmodel=\"text-embedding-ada-002\")\n",
    "\t\n",
    "potato = response.data[0].embedding\n",
    "rhubarb = response.data[1].embedding\n",
    "\n",
    "simScore = np.dot(potato, rhubarb)\n",
    "\n",
    "print(\"\\nScore is \" + str(simScore) + \"\\n\")\n",
    "\n",
    "print(\"How about 'potato' and 'The starship Enterprise'\")\n",
    "\n",
    "response = client.embeddings.create(\n",
    "\tinput=[\"potato\", \"The starship Enterprise\"],\n",
    "\tmodel=\"text-embedding-ada-002\")\n",
    "\t\n",
    "potato = response.data[0].embedding\n",
    "enterprise = response.data[1].embedding\n",
    "\n",
    "simScore = np.dot(potato, enterprise)\n",
    "\n",
    "print(\"\\nScore is \" + str(simScore) + \"\\n\")\n",
    "\n"
   ]
  }
 ],
 "metadata": {
  "kernelspec": {
   "display_name": "Python 3 (ipykernel)",
   "language": "python",
   "name": "python3"
  },
  "language_info": {
   "codemirror_mode": {
    "name": "ipython",
    "version": 3
   },
   "file_extension": ".py",
   "mimetype": "text/x-python",
   "name": "python",
   "nbconvert_exporter": "python",
   "pygments_lexer": "ipython3",
   "version": "3.11.7"
  }
 },
 "nbformat": 4,
 "nbformat_minor": 5
}
