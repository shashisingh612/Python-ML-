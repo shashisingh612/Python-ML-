{
 "cells": [
  {
   "cell_type": "code",
   "execution_count": 1,
   "id": "edb7f179-dff6-48bc-aff2-8c1258e9684c",
   "metadata": {},
   "outputs": [],
   "source": [
    "%run secret_key.py"
   ]
  },
  {
   "cell_type": "code",
   "execution_count": 2,
   "id": "bac9d23e-2146-4818-bcc1-b7ed36b5a58e",
   "metadata": {},
   "outputs": [],
   "source": [
    "%run langchain_helper.py"
   ]
  },
  {
   "cell_type": "code",
   "execution_count": 3,
   "id": "266262ad-cdf9-4ef1-9f4f-e6762c03df04",
   "metadata": {},
   "outputs": [
    {
     "name": "stderr",
     "output_type": "stream",
     "text": [
      "2024-04-05 12:38:27.806 \n",
      "  \u001b[33m\u001b[1mWarning:\u001b[0m to view this Streamlit app on a browser, run it with the following\n",
      "  command:\n",
      "\n",
      "    streamlit run main.py [ARGUMENTS]\n"
     ]
    }
   ],
   "source": [
    "%run main.py"
   ]
  },
  {
   "cell_type": "code",
   "execution_count": null,
   "id": "f410a5bf-ee4f-4cbe-820c-d0ab695e432b",
   "metadata": {},
   "outputs": [],
   "source": []
  }
 ],
 "metadata": {
  "kernelspec": {
   "display_name": "Python 3 (ipykernel)",
   "language": "python",
   "name": "python3"
  },
  "language_info": {
   "codemirror_mode": {
    "name": "ipython",
    "version": 3
   },
   "file_extension": ".py",
   "mimetype": "text/x-python",
   "name": "python",
   "nbconvert_exporter": "python",
   "pygments_lexer": "ipython3",
   "version": "3.11.7"
  }
 },
 "nbformat": 4,
 "nbformat_minor": 5
}
