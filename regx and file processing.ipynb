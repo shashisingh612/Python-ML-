{
 "cells": [
  {
   "cell_type": "code",
   "execution_count": null,
   "metadata": {},
   "outputs": [],
   "source": [
    "[.->] --character set\n",
    ". - 1 char\n",
    "? - 0/1\n",
    "+ - 1 or more \n",
    "[^0-9a-zA-Z] --any char from set\n",
    "{3}--exactly 3 times\n",
    "(r|rs|rst ) -group\n",
    "match -- matches on the begnin\n",
    "findall -return list of all match\n",
    "search trough all -- but only return first"
   ]
  },
  {
   "cell_type": "code",
   "execution_count": 2,
   "metadata": {},
   "outputs": [
    {
     "data": {
      "text/plain": [
       "['415-555-4242']"
      ]
     },
     "execution_count": 2,
     "metadata": {},
     "output_type": "execute_result"
    }
   ],
   "source": [
    "import re\n",
    "mo ='My number is 415-555-4242.' \n",
    "pattern2 = re.compile(r'\\d{3}-\\d{3}-\\d{4}') \n",
    "pattern2.findall(mo)\n"
   ]
  },
  {
   "cell_type": "code",
   "execution_count": null,
   "metadata": {},
   "outputs": [],
   "source": [
    "re.compile(r'\\d{3}-d{3}')"
   ]
  },
  {
   "cell_type": "code",
   "execution_count": 13,
   "metadata": {},
   "outputs": [
    {
     "data": {
      "text/plain": [
       "['Batman', 'Tina Fey']"
      ]
     },
     "execution_count": 13,
     "metadata": {},
     "output_type": "execute_result"
    }
   ],
   "source": [
    "heroRegex = re.compile (r'Batman|Tina Fey') \n",
    "mo1 = heroRegex.findall('Batman and Tina Fey.') \n",
    "mo1"
   ]
  },
  {
   "cell_type": "code",
   "execution_count": 12,
   "metadata": {},
   "outputs": [
    {
     "name": "stdout",
     "output_type": "stream",
     "text": [
      "TP\n"
     ]
    },
    {
     "ename": "AttributeError",
     "evalue": "'NoneType' object has no attribute 'group'",
     "output_type": "error",
     "traceback": [
      "\u001b[1;31m---------------------------------------------------------------------------\u001b[0m",
      "\u001b[1;31mAttributeError\u001b[0m                            Traceback (most recent call last)",
      "\u001b[1;32m<ipython-input-12-57ba82c7707c>\u001b[0m in \u001b[0;36m<module>\u001b[1;34m\u001b[0m\n\u001b[0;32m      4\u001b[0m \u001b[0mprint\u001b[0m\u001b[1;33m(\u001b[0m\u001b[0mresult\u001b[0m\u001b[1;33m.\u001b[0m\u001b[0mgroup\u001b[0m\u001b[1;33m(\u001b[0m\u001b[1;36m0\u001b[0m\u001b[1;33m)\u001b[0m\u001b[1;33m)\u001b[0m\u001b[1;33m\u001b[0m\u001b[1;33m\u001b[0m\u001b[0m\n\u001b[0;32m      5\u001b[0m \u001b[0mresult\u001b[0m \u001b[1;33m=\u001b[0m \u001b[0mre\u001b[0m\u001b[1;33m.\u001b[0m\u001b[0mmatch\u001b[0m\u001b[1;33m(\u001b[0m\u001b[1;34mr'Tutorials'\u001b[0m\u001b[1;33m,\u001b[0m \u001b[1;34m'TP Tutorials Point Tu TP'\u001b[0m\u001b[1;33m)\u001b[0m\u001b[1;33m\u001b[0m\u001b[1;33m\u001b[0m\u001b[0m\n\u001b[1;32m----> 6\u001b[1;33m \u001b[0mprint\u001b[0m\u001b[1;33m(\u001b[0m\u001b[0mresult\u001b[0m\u001b[1;33m.\u001b[0m\u001b[0mgroup\u001b[0m\u001b[1;33m(\u001b[0m\u001b[1;36m0\u001b[0m\u001b[1;33m)\u001b[0m\u001b[1;33m)\u001b[0m\u001b[1;33m\u001b[0m\u001b[1;33m\u001b[0m\u001b[0m\n\u001b[0m",
      "\u001b[1;31mAttributeError\u001b[0m: 'NoneType' object has no attribute 'group'"
     ]
    }
   ],
   "source": [
    "#diff bet findall(list) search(like match but it search throughout the string  till the first match) match(look only at the begning)\n",
    "import re\n",
    "result = re.match(r'TP', 'TP Tutorials Point Tu TP')\n",
    "print(result.group(0))\n",
    "result = re.match(r'Tutorials', 'TP Tutorials Point Tu TP')\n",
    "print(result.group(0))"
   ]
  },
  {
   "cell_type": "code",
   "execution_count": 13,
   "metadata": {},
   "outputs": [
    {
     "name": "stdout",
     "output_type": "stream",
     "text": [
      "Tutorials\n",
      "Point\n"
     ]
    },
    {
     "ename": "IndexError",
     "evalue": "no such group",
     "output_type": "error",
     "traceback": [
      "\u001b[1;31m---------------------------------------------------------------------------\u001b[0m",
      "\u001b[1;31mIndexError\u001b[0m                                Traceback (most recent call last)",
      "\u001b[1;32m<ipython-input-13-899f387a25c1>\u001b[0m in \u001b[0;36m<module>\u001b[1;34m\u001b[0m\n\u001b[0;32m      5\u001b[0m \u001b[0mprint\u001b[0m\u001b[1;33m(\u001b[0m\u001b[0mresult\u001b[0m\u001b[1;33m.\u001b[0m\u001b[0mgroup\u001b[0m\u001b[1;33m(\u001b[0m\u001b[1;36m0\u001b[0m\u001b[1;33m)\u001b[0m\u001b[1;33m)\u001b[0m\u001b[1;33m\u001b[0m\u001b[1;33m\u001b[0m\u001b[0m\n\u001b[0;32m      6\u001b[0m \u001b[0mresult\u001b[0m \u001b[1;33m=\u001b[0m \u001b[0mre\u001b[0m\u001b[1;33m.\u001b[0m\u001b[0msearch\u001b[0m\u001b[1;33m(\u001b[0m\u001b[1;34mr'Tutorials'\u001b[0m\u001b[1;33m,\u001b[0m \u001b[1;34m'TP Tutorials Point Tutorials TP'\u001b[0m\u001b[1;33m)\u001b[0m\u001b[1;33m\u001b[0m\u001b[1;33m\u001b[0m\u001b[0m\n\u001b[1;32m----> 7\u001b[1;33m \u001b[0mprint\u001b[0m\u001b[1;33m(\u001b[0m\u001b[0mresult\u001b[0m\u001b[1;33m.\u001b[0m\u001b[0mgroup\u001b[0m\u001b[1;33m(\u001b[0m\u001b[1;36m1\u001b[0m\u001b[1;33m)\u001b[0m\u001b[1;33m)\u001b[0m\u001b[1;33m\u001b[0m\u001b[1;33m\u001b[0m\u001b[0m\n\u001b[0m",
      "\u001b[1;31mIndexError\u001b[0m: no such group"
     ]
    }
   ],
   "source": [
    "import re\n",
    "result = re.search(r'Tutorials', 'TP Tutorials Point TP')\n",
    "print(result.group(0))\n",
    "result = re.search(r'Point', 'TP Tutorials Point TP')\n",
    "print(result.group(0))\n",
    "result = re.search(r'Tutorials', 'TP Tutorials Point Tutorials TP')\n",
    "print(result.group(1))"
   ]
  },
  {
   "cell_type": "code",
   "execution_count": 20,
   "metadata": {},
   "outputs": [
    {
     "name": "stdout",
     "output_type": "stream",
     "text": [
      "['TP', 'TP']\n",
      "['Tutorials', 'Tutorials', 'Tutorials', 'Tutorials']\n"
     ]
    }
   ],
   "source": [
    "import re\n",
    "result = re.findall(r'TP', 'TP Tutorials Point TP  Tutorials Tutorials Tutorials')\n",
    "print(result)\n",
    "result = re.findall(r'Tutorials', 'TP Tutorials Point TP  Tutorials Tutorials Tutorials')\n",
    "print(result)"
   ]
  },
  {
   "cell_type": "code",
   "execution_count": 8,
   "metadata": {},
   "outputs": [
    {
     "data": {
      "text/plain": [
       "['shashiuitee@gmail.com']"
      ]
     },
     "execution_count": 8,
     "metadata": {},
     "output_type": "execute_result"
    }
   ],
   "source": [
    "import re\n",
    "pattern = re.compile(r'\\d\\d\\d.\\d\\d\\d.\\d\\d\\d\\d')\n",
    "pattern2 = re.compile(r'[\\w]+@[\\w]+\\.com')  #email ####################################################\n",
    "pattern4=r'^blog/(?P<slug>[-\\w]+)-(?P<pk>\\d+)/$'    #primary key\n",
    "pattern1 = re.compile(r'\\d{3}.\\d{3}.\\d{4}') #\n",
    "#d1=pd.read_csv(\"C:\\\\Users\\\\ac36345\\\\Desktop\\\\redata.txt\",delimiter='\\t')\n",
    "st='my email is shashiuitee@gmail.com'\n",
    "a='my no is 865.368.8116'\n",
    "pattern2.findall(st)\n",
    "#pattern1.findall(a)"
   ]
  },
  {
   "cell_type": "code",
   "execution_count": 29,
   "metadata": {},
   "outputs": [
    {
     "name": "stdout",
     "output_type": "stream",
     "text": [
      "String after Consecutive Swapping : safdhgkj\n"
     ]
    }
   ],
   "source": [
    "import re\n",
    "test_str = 'asdfghjk'\n",
    "res = re.sub(r'(.)(.)', r'\\2\\1', test_str) \n",
    "# printing result \n",
    "print(\"String after Consecutive Swapping : \" + str(res)) "
   ]
  },
  {
   "cell_type": "code",
   "execution_count": null,
   "metadata": {},
   "outputs": [],
   "source": [
    "#regular expression----\n",
    "import re\n",
    "pattern = re.compile('abc')\n",
    "a='abc234rtabc'\n",
    "matchs = pattern.finditer(a)\n",
    "for match in matchs:\n",
    "    print(match)\n",
    "print(pattern.match(a),pattern.findall(a),pattern.search(a))\n",
    "#match gives first match position and world\n",
    "#findall give all find elements\n",
    "#search --first position and element"
   ]
  },
  {
   "cell_type": "code",
   "execution_count": 21,
   "metadata": {},
   "outputs": [
    {
     "name": "stdout",
     "output_type": "stream",
     "text": [
      "<re.Match object; span=(17, 21), match='girl'>\n"
     ]
    }
   ],
   "source": [
    "a='shashi is a good girl & new girl'\n",
    "pattern =re.compile('girl',re.I)\n",
    "match = pattern.search(a)\n",
    "print(match)"
   ]
  },
  {
   "cell_type": "code",
   "execution_count": 10,
   "metadata": {},
   "outputs": [
    {
     "name": "stdout",
     "output_type": "stream",
     "text": [
      "sha shi 865-368-8116 shashiuitee@gmail.com\n",
      "sha shi 865-368-8117 shashiuitee@gmail.com\n",
      "\n",
      "shashi 865-368-8118 shashiuitee@gmail.com\n",
      "shashi 865-368-8119 shashiuitee@gmail.com\n",
      "\n",
      "\n",
      "shashi 865-368-8112 shashi.singh91@outlook.com\n",
      "shashi 865-368-8113 shashiuitee@gmail.com\n",
      "\n"
     ]
    }
   ],
   "source": [
    "with open(\"C:\\\\Users\\\\ac36345\\\\Desktop\\\\newtestdata\\\\redata.txt\",'r',encoding='utf-8') as f:\n",
    "    data = f.read()\n",
    "    print(data)\n",
    "#all data as one string '    '"
   ]
  },
  {
   "cell_type": "code",
   "execution_count": 17,
   "metadata": {},
   "outputs": [
    {
     "name": "stdout",
     "output_type": "stream",
     "text": [
      "sha shi 865-368-8116 shashiuitee@gmail.com\n"
     ]
    }
   ],
   "source": [
    "with open(\"C:\\\\Users\\\\ac36345\\\\Desktop\\\\newtestdata\\\\redata.txt\",'r',encoding='utf-8') as f:\n",
    "    data = f.readline()\n",
    "    data= data.strip()\n",
    "    print(data)\n",
    "#one line in one string"
   ]
  },
  {
   "cell_type": "code",
   "execution_count": 20,
   "metadata": {},
   "outputs": [
    {
     "name": "stdout",
     "output_type": "stream",
     "text": [
      "['sha shi 865-368-8116 shashiuitee@gmail.com\\n', 'sha shi 865-368-8117 shashiuitee@gmail.com\\n', '\\n', 'shashi 865-368-8118 shashiuitee@gmail.com\\n', 'shashi 865-368-8119 shashiuitee@gmail.com\\n', '\\n', '\\n', 'shashi 865-368-8112 shashi.singh91@outlook.com\\n', 'shashi 865-368-8113 shashiuitee@gmail.com\\n']\n"
     ]
    }
   ],
   "source": [
    "with open(\"C:\\\\Users\\\\ac36345\\\\Desktop\\\\newtestdata\\\\redata.txt\",'r',encoding='utf-8') as f:\n",
    "    data = f.readlines()\n",
    "    print(data)\n",
    "    \n",
    "#each line in a list of strings"
   ]
  },
  {
   "cell_type": "code",
   "execution_count": 22,
   "metadata": {},
   "outputs": [
    {
     "name": "stdout",
     "output_type": "stream",
     "text": [
      "<re.Match object; span=(8, 20), match='865-368-8116'>\n",
      "<re.Match object; span=(51, 63), match='865-368-8117'>\n",
      "<re.Match object; span=(94, 106), match='865-368-8118'>\n",
      "<re.Match object; span=(136, 148), match='865-368-8119'>\n",
      "<re.Match object; span=(180, 192), match='865-368-8112'>\n",
      "<re.Match object; span=(227, 239), match='865-368-8113'>\n",
      "<re.Match object; span=(21, 42), match='shashiuitee@gmail.com'>\n",
      "<re.Match object; span=(64, 85), match='shashiuitee@gmail.com'>\n",
      "<re.Match object; span=(107, 128), match='shashiuitee@gmail.com'>\n",
      "<re.Match object; span=(149, 170), match='shashiuitee@gmail.com'>\n",
      "<re.Match object; span=(200, 219), match='singh91@outlook.com'>\n",
      "<re.Match object; span=(240, 261), match='shashiuitee@gmail.com'>\n",
      "<re.Match object; span=(8, 20), match='865-368-8116'>\n",
      "<re.Match object; span=(51, 63), match='865-368-8117'>\n",
      "<re.Match object; span=(94, 106), match='865-368-8118'>\n",
      "<re.Match object; span=(136, 148), match='865-368-8119'>\n",
      "<re.Match object; span=(180, 192), match='865-368-8112'>\n",
      "<re.Match object; span=(227, 239), match='865-368-8113'>\n"
     ]
    }
   ],
   "source": [
    "with open(\"C:\\\\Users\\\\ac36345\\\\Desktop\\\\newtestdata\\\\redata.txt\",'r',encoding='utf-8') as f:\n",
    "    data = f.read()\n",
    "    #print(data)\n",
    "    matches = pattern1.finditer(data) \n",
    "    for match in matches:\n",
    "        print(match)\n",
    "    matches = pattern2.finditer(data) \n",
    "    for match in matches:\n",
    "        print(match)\n",
    "    matches = pattern.finditer(data) \n",
    "    for match in matches:\n",
    "        print(match)\n",
    "    "
   ]
  },
  {
   "cell_type": "code",
   "execution_count": 25,
   "metadata": {},
   "outputs": [
    {
     "name": "stdout",
     "output_type": "stream",
     "text": [
      " shashi  is a not  bad  girl \n",
      "shashi  is a not  bad  girl\n",
      "shashi is a not bad girl\n",
      "['shashi', 'is', 'a', 'not', 'bad', 'girl']\n",
      "shashi is a not bad girl\n"
     ]
    },
    {
     "data": {
      "text/plain": [
       "'shashiisanotbadgirl'"
      ]
     },
     "execution_count": 25,
     "metadata": {},
     "output_type": "execute_result"
    }
   ],
   "source": [
    "#data and space cleaning steps\n",
    "a =' shashi  is a not  bad  girl '\n",
    "print(a)\n",
    "a=a.strip()\n",
    "print(a)\n",
    "a = a.replace('  ',' ')\n",
    "print(a)\n",
    "b = a.split(' ')\n",
    "print(b)\n",
    "c=' '.join(b)\n",
    "print(c)\n",
    "\n",
    "import re\n",
    "re.sub(r'\\s+', '',a)"
   ]
  },
  {
   "cell_type": "code",
   "execution_count": 24,
   "metadata": {},
   "outputs": [
    {
     "name": "stdout",
     "output_type": "stream",
     "text": [
      "None\n",
      "<re.Match object; span=(27, 39), match='865-368-8116'>\n",
      "['865-368-8116', '798-066-8931']\n",
      "['my', 'name', 'shashi', 'my', 'shashi']\n",
      "['shashiuitee@gmail.com']\n",
      "hssaih\n"
     ]
    }
   ],
   "source": [
    "import re\n",
    "pattern1 = re.compile(r'\\d{3}-\\d{3}-\\d{4}')\n",
    "pattern2 = re.compile(r'my|name|shashi')\n",
    "pattern3=re.compile(r'[a-z0-9]+@[a-z0-9]+.com')\n",
    "st='my name is shashi my phone 865-368-8116 & 798-066-8931 shashiuitee@gmail.com'\n",
    "print(pattern1.match(st))\n",
    "print(pattern1.search(st))\n",
    "print(pattern1.findall(st))\n",
    "print(pattern2.findall(st))\n",
    "print(pattern3.findall(st))\n",
    "print(re.sub(r'(.)(.)',r'\\2\\1','shashi')) #alter subcequent letters"
   ]
  },
  {
   "cell_type": "code",
   "execution_count": 29,
   "metadata": {},
   "outputs": [
    {
     "ename": "SyntaxError",
     "evalue": "invalid syntax (<ipython-input-29-9bd4654b5372>, line 2)",
     "output_type": "error",
     "traceback": [
      "\u001b[1;36m  File \u001b[1;32m\"<ipython-input-29-9bd4654b5372>\"\u001b[1;36m, line \u001b[1;32m2\u001b[0m\n\u001b[1;33m    (?P<pk>\\d+)\u001b[0m\n\u001b[1;37m     ^\u001b[0m\n\u001b[1;31mSyntaxError\u001b[0m\u001b[1;31m:\u001b[0m invalid syntax\n"
     ]
    }
   ],
   "source": [
    "pattern4=r'^blog/(?P<slug>[-\\w]+)-(?P<pk>\\d+)/$'    #primary key\n",
    "(?P<pk>\\d+)\n",
    "p1=re.compile(r'?<name>[a-z]+')\n",
    "p1.findall('my name:nisha and name:shashi')"
   ]
  },
  {
   "cell_type": "code",
   "execution_count": 44,
   "metadata": {},
   "outputs": [
    {
     "name": "stdout",
     "output_type": "stream",
     "text": [
      "done\n"
     ]
    },
    {
     "ename": "TypeError",
     "evalue": "can only concatenate str (not \"int\") to str",
     "output_type": "error",
     "traceback": [
      "\u001b[1;31m---------------------------------------------------------------------------\u001b[0m",
      "\u001b[1;31mTypeError\u001b[0m                                 Traceback (most recent call last)",
      "\u001b[1;32m<ipython-input-44-1d8dcb01d5fd>\u001b[0m in \u001b[0;36m<module>\u001b[1;34m\u001b[0m\n\u001b[0;32m      5\u001b[0m \u001b[1;32mfor\u001b[0m \u001b[0mi\u001b[0m \u001b[1;32min\u001b[0m \u001b[0ma\u001b[0m\u001b[1;33m:\u001b[0m\u001b[1;33m\u001b[0m\u001b[1;33m\u001b[0m\u001b[0m\n\u001b[0;32m      6\u001b[0m     \u001b[1;32mtry\u001b[0m\u001b[1;33m:\u001b[0m\u001b[1;33m\u001b[0m\u001b[1;33m\u001b[0m\u001b[0m\n\u001b[1;32m----> 7\u001b[1;33m         \u001b[0mc\u001b[0m\u001b[1;33m=\u001b[0m\u001b[1;34m'a'\u001b[0m\u001b[1;33m+\u001b[0m\u001b[1;36m1\u001b[0m\u001b[1;33m\u001b[0m\u001b[1;33m\u001b[0m\u001b[0m\n\u001b[0m\u001b[0;32m      8\u001b[0m     \u001b[1;32mexcept\u001b[0m \u001b[0mNameError\u001b[0m\u001b[1;33m:\u001b[0m\u001b[1;33m\u001b[0m\u001b[1;33m\u001b[0m\u001b[0m\n\u001b[0;32m      9\u001b[0m         \u001b[1;32mpass\u001b[0m\u001b[1;33m\u001b[0m\u001b[1;33m\u001b[0m\u001b[0m\n",
      "\u001b[1;31mTypeError\u001b[0m: can only concatenate str (not \"int\") to str"
     ]
    }
   ],
   "source": [
    "#if except/else (if except does not occur then it will execute else)\n",
    "#finally will always execute\n",
    "#pass\n",
    "a=[1,2,3,4]\n",
    "for i in a:\n",
    "    try:\n",
    "        c='a'+1\n",
    "    except NameError:\n",
    "        pass\n",
    "        print('cannot open')\n",
    "    else:\n",
    "        print('else')\n",
    "    finally:\n",
    "        print('done')"
   ]
  },
  {
   "cell_type": "code",
   "execution_count": null,
   "metadata": {},
   "outputs": [],
   "source": []
  }
 ],
 "metadata": {
  "kernelspec": {
   "display_name": "Python 3 (ipykernel)",
   "language": "python",
   "name": "python3"
  },
  "language_info": {
   "codemirror_mode": {
    "name": "ipython",
    "version": 3
   },
   "file_extension": ".py",
   "mimetype": "text/x-python",
   "name": "python",
   "nbconvert_exporter": "python",
   "pygments_lexer": "ipython3",
   "version": "3.11.5"
  }
 },
 "nbformat": 4,
 "nbformat_minor": 2
}
