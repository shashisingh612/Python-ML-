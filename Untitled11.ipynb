{
 "cells": [
  {
   "cell_type": "code",
   "execution_count": 11,
   "metadata": {},
   "outputs": [],
   "source": [
    "import random\n",
    "a=[0,1,2,3,4,5]"
   ]
  },
  {
   "cell_type": "code",
   "execution_count": 14,
   "metadata": {},
   "outputs": [
    {
     "name": "stdout",
     "output_type": "stream",
     "text": [
      "1\n",
      "1\n",
      "1\n",
      "1\n",
      "1\n",
      "1\n"
     ]
    }
   ],
   "source": [
    "for i in a:\n",
    "    print(a[1])\n"
   ]
  },
  {
   "cell_type": "code",
   "execution_count": null,
   "metadata": {},
   "outputs": [],
   "source": [
    "   *\n",
    "  ***\n",
    " *****\n",
    "*******"
   ]
  },
  {
   "cell_type": "code",
   "execution_count": 23,
   "metadata": {},
   "outputs": [
    {
     "name": "stdout",
     "output_type": "stream",
     "text": [
      "             *\n",
      "            ***\n",
      "           *****\n",
      "          *******\n",
      "         *********\n",
      "        ***********\n",
      "       *************\n",
      "      ***************\n",
      "     *****************\n",
      "    *******************\n",
      "   *********************\n",
      "  ***********************\n",
      " *************************\n",
      "***************************\n"
     ]
    }
   ],
   "source": [
    "def tri_fun(n):\n",
    "    no = 2*(n-1) + 1\n",
    "    space = no//2\n",
    "    for i in range(n):\n",
    "        print(space*' '+'*'*(2*i+1))\n",
    "        space=space-1\n",
    "tri_fun(14)\n",
    "    "
   ]
  },
  {
   "cell_type": "code",
   "execution_count": null,
   "metadata": {},
   "outputs": [],
   "source": [
    "0,1,1,2,3,5,8"
   ]
  },
  {
   "cell_type": "code",
   "execution_count": 37,
   "metadata": {},
   "outputs": [
    {
     "name": "stdout",
     "output_type": "stream",
     "text": [
      "0\n",
      "1\n",
      "1\n",
      "2\n",
      "4\n",
      "8\n"
     ]
    }
   ],
   "source": [
    "def fib(n):\n",
    "    for i in range(n):\n",
    "        a=[]\n",
    "        if i==0:\n",
    "            tnext=0\n",
    "        elif i ==1 or i==2:\n",
    "            tnext=1\n",
    "        else:\n",
    "            tnext = tprevious + tnext\n",
    "        tprevious = tnext\n",
    "        print(tnext)\n",
    "       # a.append(tnext)\n",
    "    #print(a)\n",
    "    return a\n",
    "result=fib(6)\n",
    "#print(result)\n",
    "        "
   ]
  },
  {
   "cell_type": "code",
   "execution_count": null,
   "metadata": {},
   "outputs": [],
   "source": [
    "1,2,3,4,5,6,7,8,9,10"
   ]
  },
  {
   "cell_type": "code",
   "execution_count": 47,
   "metadata": {},
   "outputs": [
    {
     "name": "stdout",
     "output_type": "stream",
     "text": [
      "2 is prime\n",
      "3 is prime\n",
      "4 is not a prime\n",
      "5 is prime\n",
      "6 is not a prime\n",
      "7 is prime\n",
      "8 is not a prime\n",
      "9 is not a prime\n",
      "10 is not a prime\n",
      "11 is prime\n",
      "12 is not a prime\n",
      "13 is prime\n",
      "14 is not a prime\n",
      "15 is not a prime\n"
     ]
    }
   ],
   "source": [
    "for i in range(2,16):\n",
    "    for j in range(2,i):\n",
    "        if i%j==0:\n",
    "            print(i,'is not a prime')\n",
    "            break\n",
    "    else:\n",
    "        print(i,'is prime')\n",
    "#print(i,'is prime')    "
   ]
  },
  {
   "cell_type": "code",
   "execution_count": 48,
   "metadata": {},
   "outputs": [
    {
     "data": {
      "text/plain": [
       "[4, 3, 2, 1]"
      ]
     },
     "execution_count": 48,
     "metadata": {},
     "output_type": "execute_result"
    }
   ],
   "source": [
    "a=[1,2,3,4]\n",
    "a[::-1]"
   ]
  },
  {
   "cell_type": "code",
   "execution_count": 54,
   "metadata": {},
   "outputs": [
    {
     "name": "stdout",
     "output_type": "stream",
     "text": [
      "644\n"
     ]
    }
   ],
   "source": [
    "with open('C:\\\\Users\\\\ac36345\\\\Documents\\\\DATA.txt') as f:\n",
    "    count=0\n",
    "    #text=f.read()\n",
    "    count = sum(1 for line in f for character in line if character.isupper())\n",
    "    #for character in text:\n",
    "     #   if character.isupper():\n",
    "      #      count +=1\n",
    "print(count)"
   ]
  },
  {
   "cell_type": "code",
   "execution_count": 57,
   "metadata": {},
   "outputs": [
    {
     "name": "stdout",
     "output_type": "stream",
     "text": [
      "[1, 4, 0, 6, 9] [0, 1, 4, 6, 9]\n"
     ]
    }
   ],
   "source": [
    "list = [\"1\", \"4\", \"0\", \"6\", \"9\"]\n",
    "list = [int(i) for i in list]\n",
    "#list.sort()\n",
    "a=sorted(list)\n",
    "print (list,a)"
   ]
  },
  {
   "cell_type": "code",
   "execution_count": 60,
   "metadata": {},
   "outputs": [
    {
     "data": {
      "text/plain": [
       "6"
      ]
     },
     "execution_count": 60,
     "metadata": {},
     "output_type": "execute_result"
    }
   ],
   "source": [
    "sum((1,2,3))"
   ]
  },
  {
   "cell_type": "code",
   "execution_count": 61,
   "metadata": {},
   "outputs": [],
   "source": [
    "a=range(10)"
   ]
  },
  {
   "cell_type": "code",
   "execution_count": 62,
   "metadata": {},
   "outputs": [
    {
     "data": {
      "text/plain": [
       "range(0, 10)"
      ]
     },
     "execution_count": 62,
     "metadata": {},
     "output_type": "execute_result"
    }
   ],
   "source": [
    "a"
   ]
  },
  {
   "cell_type": "code",
   "execution_count": null,
   "metadata": {},
   "outputs": [],
   "source": [
    "from bs4 import BeautifulSoup\n",
    " \n",
    "import requests\n",
    "import sys\n",
    " \n",
    "url = '<a href=\"http://www.imdb.com/chart/top\">http://www.imdb.com/chart/top</a>'\n",
    "response = requests.get(url)\n",
    "soup = BeautifulSoup(response.text)\n",
    "tr = soup.findChildren(\"tr\")\n",
    "tr = iter(tr)\n",
    "next(tr)\n",
    " \n",
    "for movie in tr:\n",
    "title = movie.find('td', {'class': 'titleColumn'} ).find('a').contents[0]\n",
    "year = movie.find('td', {'class': 'titleColumn'} ).find('span', {'class': 'secondaryInfo'}).contents[0]\n",
    "rating = movie.find('td', {'class': 'ratingColumn imdbRating'} ).find('strong').contents[0]\n",
    "row = title + ' - ' + year + ' ' + ' ' + rating\n",
    " \n",
    "print(row)"
   ]
  },
  {
   "cell_type": "code",
   "execution_count": null,
   "metadata": {},
   "outputs": [],
   "source": [
    "import urllib.request\n",
    "urllib.request.urlretrieve(\"URL\", \"local-filename.jpg\")"
   ]
  },
  {
   "cell_type": "code",
   "execution_count": 63,
   "metadata": {},
   "outputs": [
    {
     "name": "stdout",
     "output_type": "stream",
     "text": [
      "[4 3 1]\n"
     ]
    }
   ],
   "source": [
    "import numpy as np\n",
    "arr = np.array([1, 3, 2, 4, 5])\n",
    "print(arr.argsort()[-3:][::-1])"
   ]
  },
  {
   "cell_type": "code",
   "execution_count": null,
   "metadata": {},
   "outputs": [],
   "source": [
    "import numpy as np\n",
    "a = np.array([1,2,3,4,5])\n",
    "p = np.percentile(a, 50) #Returns 50th percentile, e.g. median\n",
    "print(p)"
   ]
  }
 ],
 "metadata": {
  "kernelspec": {
   "display_name": "Python 3",
   "language": "python",
   "name": "python3"
  },
  "language_info": {
   "codemirror_mode": {
    "name": "ipython",
    "version": 3
   },
   "file_extension": ".py",
   "mimetype": "text/x-python",
   "name": "python",
   "nbconvert_exporter": "python",
   "pygments_lexer": "ipython3",
   "version": "3.7.3"
  }
 },
 "nbformat": 4,
 "nbformat_minor": 2
}
